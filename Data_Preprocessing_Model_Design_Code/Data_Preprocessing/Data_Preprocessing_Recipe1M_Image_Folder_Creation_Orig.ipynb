{
  "cells": [
    {
      "cell_type": "code",
      "source": [
        "import pandas as pd\n",
        "import numpy as np\n",
        "import re\n",
        "import os\n",
        "import shutil\n",
        "\n",
        "import warnings\n",
        "warnings.filterwarnings(\"ignore\")"
      ],
      "outputs": [],
      "execution_count": 1,
      "metadata": {
        "gather": {
          "logged": 1708190742224
        }
      },
      "id": "473865af"
    },
    {
      "cell_type": "code",
      "source": [
        "import os\n",
        "print(os.getcwd())\n"
      ],
      "outputs": [
        {
          "output_type": "stream",
          "name": "stdout",
          "text": "/mnt/batch/tasks/shared/LS_root/mounts/clusters/ykb65841/code/Users/ykb6584\n"
        }
      ],
      "execution_count": 2,
      "metadata": {
        "jupyter": {
          "source_hidden": false,
          "outputs_hidden": false
        },
        "nteract": {
          "transient": {
            "deleting": false
          }
        },
        "gather": {
          "logged": 1708190750182
        }
      },
      "id": "bf709be9-f033-45e3-b6f5-252ec3711472"
    },
    {
      "cell_type": "code",
      "source": [
        "data = pd.read_csv(\"/mnt/batch/tasks/shared/LS_root/mounts/clusters/ykb65841/code/Users/ykb6584/merged_layer1_and_layer2.csv\")"
      ],
      "outputs": [],
      "execution_count": 3,
      "metadata": {
        "gather": {
          "logged": 1708190788087
        }
      },
      "id": "7197215d"
    },
    {
      "cell_type": "code",
      "source": [
        "data.head()"
      ],
      "outputs": [
        {
          "output_type": "execute_result",
          "execution_count": 6,
          "data": {
            "text/plain": "   Unnamed: 0          ID                                         food_title  \\\n0           0  00003a70b1                          Crunchy Onion Potato Bake   \n1           1  000075604a                    Kombu Tea Grilled Chicken Thigh   \n2           2  00007bfd16                       Strawberry Rhubarb Dump Cake   \n3           3  000095fc1d                                    Yogurt Parfaits   \n4           4  0000b1e2b5  Fennel-Rubbed Pork Tenderloin with Roasted Fen...   \n\n  partition                                         recipe_url  \\\n0      test  http://www.food.com/recipe/crunchy-onion-potat...   \n1     train  https://cookpad.com/us/recipes/150100-kombu-te...   \n2     train  http://www.food.com/recipe/strawberry-rhubarb-...   \n3     train  http://tastykitchen.com/recipes/breakfastbrunc...   \n4     train  http://www.epicurious.com/recipes/food/views/f...   \n\n                                         ingredients  \\\n0  2 12 cups milk /t 1 12 cups water /t 14 cup bu...   \n1  2 Chicken thighs /t 2 tsp Kombu tea /t 1 White...   \n2  6 -8 cups fresh rhubarb, or /t 6 -8 cups froze...   \n3  8 ounces, weight Light Fat Free Vanilla Yogurt...   \n4  1 teaspoon fennel seeds /t 1 pound pork tender...   \n\n                                        instructions  \\\n0  Preheat oven to 350 degrees Fahrenheit. /t Spr...   \n1  Pierce the skin of the chicken with a fork or ...   \n2  Put ingredients in a buttered 9 x 12 x 2-inch ...   \n3           Layer all ingredients in a serving dish.   \n4  Preheat oven to 350F with rack in middle. /t C...   \n\n                                           images_id  \\\n0  3e233001e2.jpg /t 7f749987f9.jpg /t aaf6b2dcd3...   \n1                                     6bdca6e490.jpg   \n2                   6409eab844.jpg /t f7cb3de295.jpg   \n3                                     a1374cdd98.jpg   \n4                                     cb1a684683.jpg   \n\n                                          images_url  \n0  http://img.sndimg.com/food/image/upload/w_512,...  \n1  https://img-global.cpcdn.com/001_recipes/58069...  \n2  http://img.sndimg.com/food/image/upload/w_512,...  \n3  http://tastykitchen.com/recipes/wp-content/upl...  \n4  http://assets.epicurious.com/photos/5609a4d662...  ",
            "text/html": "<div>\n<style scoped>\n    .dataframe tbody tr th:only-of-type {\n        vertical-align: middle;\n    }\n\n    .dataframe tbody tr th {\n        vertical-align: top;\n    }\n\n    .dataframe thead th {\n        text-align: right;\n    }\n</style>\n<table border=\"1\" class=\"dataframe\">\n  <thead>\n    <tr style=\"text-align: right;\">\n      <th></th>\n      <th>Unnamed: 0</th>\n      <th>ID</th>\n      <th>food_title</th>\n      <th>partition</th>\n      <th>recipe_url</th>\n      <th>ingredients</th>\n      <th>instructions</th>\n      <th>images_id</th>\n      <th>images_url</th>\n    </tr>\n  </thead>\n  <tbody>\n    <tr>\n      <th>0</th>\n      <td>0</td>\n      <td>00003a70b1</td>\n      <td>Crunchy Onion Potato Bake</td>\n      <td>test</td>\n      <td>http://www.food.com/recipe/crunchy-onion-potat...</td>\n      <td>2 12 cups milk /t 1 12 cups water /t 14 cup bu...</td>\n      <td>Preheat oven to 350 degrees Fahrenheit. /t Spr...</td>\n      <td>3e233001e2.jpg /t 7f749987f9.jpg /t aaf6b2dcd3...</td>\n      <td>http://img.sndimg.com/food/image/upload/w_512,...</td>\n    </tr>\n    <tr>\n      <th>1</th>\n      <td>1</td>\n      <td>000075604a</td>\n      <td>Kombu Tea Grilled Chicken Thigh</td>\n      <td>train</td>\n      <td>https://cookpad.com/us/recipes/150100-kombu-te...</td>\n      <td>2 Chicken thighs /t 2 tsp Kombu tea /t 1 White...</td>\n      <td>Pierce the skin of the chicken with a fork or ...</td>\n      <td>6bdca6e490.jpg</td>\n      <td>https://img-global.cpcdn.com/001_recipes/58069...</td>\n    </tr>\n    <tr>\n      <th>2</th>\n      <td>2</td>\n      <td>00007bfd16</td>\n      <td>Strawberry Rhubarb Dump Cake</td>\n      <td>train</td>\n      <td>http://www.food.com/recipe/strawberry-rhubarb-...</td>\n      <td>6 -8 cups fresh rhubarb, or /t 6 -8 cups froze...</td>\n      <td>Put ingredients in a buttered 9 x 12 x 2-inch ...</td>\n      <td>6409eab844.jpg /t f7cb3de295.jpg</td>\n      <td>http://img.sndimg.com/food/image/upload/w_512,...</td>\n    </tr>\n    <tr>\n      <th>3</th>\n      <td>3</td>\n      <td>000095fc1d</td>\n      <td>Yogurt Parfaits</td>\n      <td>train</td>\n      <td>http://tastykitchen.com/recipes/breakfastbrunc...</td>\n      <td>8 ounces, weight Light Fat Free Vanilla Yogurt...</td>\n      <td>Layer all ingredients in a serving dish.</td>\n      <td>a1374cdd98.jpg</td>\n      <td>http://tastykitchen.com/recipes/wp-content/upl...</td>\n    </tr>\n    <tr>\n      <th>4</th>\n      <td>4</td>\n      <td>0000b1e2b5</td>\n      <td>Fennel-Rubbed Pork Tenderloin with Roasted Fen...</td>\n      <td>train</td>\n      <td>http://www.epicurious.com/recipes/food/views/f...</td>\n      <td>1 teaspoon fennel seeds /t 1 pound pork tender...</td>\n      <td>Preheat oven to 350F with rack in middle. /t C...</td>\n      <td>cb1a684683.jpg</td>\n      <td>http://assets.epicurious.com/photos/5609a4d662...</td>\n    </tr>\n  </tbody>\n</table>\n</div>"
          },
          "metadata": {}
        }
      ],
      "execution_count": 6,
      "metadata": {
        "gather": {
          "logged": 1706891925238
        }
      },
      "id": "02545d65"
    },
    {
      "cell_type": "code",
      "source": [
        "data.columns"
      ],
      "outputs": [
        {
          "output_type": "execute_result",
          "execution_count": 7,
          "data": {
            "text/plain": "Index(['Unnamed: 0', 'ID', 'food_title', 'partition', 'recipe_url',\n       'ingredients', 'instructions', 'images_id', 'images_url'],\n      dtype='object')"
          },
          "metadata": {}
        }
      ],
      "execution_count": 7,
      "metadata": {
        "jupyter": {
          "source_hidden": false,
          "outputs_hidden": false
        },
        "nteract": {
          "transient": {
            "deleting": false
          }
        },
        "gather": {
          "logged": 1706891929780
        }
      },
      "id": "2282ed7c-7c34-4880-9621-db2a02d43bde"
    },
    {
      "cell_type": "code",
      "source": [
        "data.drop(['Unnamed: 0', 'recipe_url','ingredients', 'instructions', 'images_url'],inplace=True,axis=1)"
      ],
      "outputs": [],
      "execution_count": 8,
      "metadata": {
        "jupyter": {
          "source_hidden": false,
          "outputs_hidden": false
        },
        "nteract": {
          "transient": {
            "deleting": false
          }
        },
        "gather": {
          "logged": 1706892033524
        }
      },
      "id": "21baa1bf-7c57-4b0d-839d-86ecaa302614"
    },
    {
      "cell_type": "code",
      "source": [
        "data.columns"
      ],
      "outputs": [
        {
          "output_type": "execute_result",
          "execution_count": 9,
          "data": {
            "text/plain": "Index(['ID', 'food_title', 'partition', 'images_id'], dtype='object')"
          },
          "metadata": {}
        }
      ],
      "execution_count": 9,
      "metadata": {
        "jupyter": {
          "source_hidden": false,
          "outputs_hidden": false
        },
        "nteract": {
          "transient": {
            "deleting": false
          }
        },
        "gather": {
          "logged": 1706892036503
        }
      },
      "id": "4d7d0c49-5c6a-493f-9e0c-10ea6cbbbecd"
    },
    {
      "cell_type": "code",
      "source": [
        "data.head()"
      ],
      "outputs": [
        {
          "output_type": "execute_result",
          "execution_count": 10,
          "data": {
            "text/plain": "           ID                                         food_title partition  \\\n0  00003a70b1                          Crunchy Onion Potato Bake      test   \n1  000075604a                    Kombu Tea Grilled Chicken Thigh     train   \n2  00007bfd16                       Strawberry Rhubarb Dump Cake     train   \n3  000095fc1d                                    Yogurt Parfaits     train   \n4  0000b1e2b5  Fennel-Rubbed Pork Tenderloin with Roasted Fen...     train   \n\n                                           images_id  \n0  3e233001e2.jpg /t 7f749987f9.jpg /t aaf6b2dcd3...  \n1                                     6bdca6e490.jpg  \n2                   6409eab844.jpg /t f7cb3de295.jpg  \n3                                     a1374cdd98.jpg  \n4                                     cb1a684683.jpg  ",
            "text/html": "<div>\n<style scoped>\n    .dataframe tbody tr th:only-of-type {\n        vertical-align: middle;\n    }\n\n    .dataframe tbody tr th {\n        vertical-align: top;\n    }\n\n    .dataframe thead th {\n        text-align: right;\n    }\n</style>\n<table border=\"1\" class=\"dataframe\">\n  <thead>\n    <tr style=\"text-align: right;\">\n      <th></th>\n      <th>ID</th>\n      <th>food_title</th>\n      <th>partition</th>\n      <th>images_id</th>\n    </tr>\n  </thead>\n  <tbody>\n    <tr>\n      <th>0</th>\n      <td>00003a70b1</td>\n      <td>Crunchy Onion Potato Bake</td>\n      <td>test</td>\n      <td>3e233001e2.jpg /t 7f749987f9.jpg /t aaf6b2dcd3...</td>\n    </tr>\n    <tr>\n      <th>1</th>\n      <td>000075604a</td>\n      <td>Kombu Tea Grilled Chicken Thigh</td>\n      <td>train</td>\n      <td>6bdca6e490.jpg</td>\n    </tr>\n    <tr>\n      <th>2</th>\n      <td>00007bfd16</td>\n      <td>Strawberry Rhubarb Dump Cake</td>\n      <td>train</td>\n      <td>6409eab844.jpg /t f7cb3de295.jpg</td>\n    </tr>\n    <tr>\n      <th>3</th>\n      <td>000095fc1d</td>\n      <td>Yogurt Parfaits</td>\n      <td>train</td>\n      <td>a1374cdd98.jpg</td>\n    </tr>\n    <tr>\n      <th>4</th>\n      <td>0000b1e2b5</td>\n      <td>Fennel-Rubbed Pork Tenderloin with Roasted Fen...</td>\n      <td>train</td>\n      <td>cb1a684683.jpg</td>\n    </tr>\n  </tbody>\n</table>\n</div>"
          },
          "metadata": {}
        }
      ],
      "execution_count": 10,
      "metadata": {
        "jupyter": {
          "source_hidden": false,
          "outputs_hidden": false
        },
        "nteract": {
          "transient": {
            "deleting": false
          }
        },
        "gather": {
          "logged": 1706892039684
        }
      },
      "id": "2a1e6339-f747-41ff-9377-2756a98006b6"
    },
    {
      "cell_type": "code",
      "source": [
        "data['partition'].value_counts()"
      ],
      "outputs": [
        {
          "output_type": "execute_result",
          "execution_count": 11,
          "data": {
            "text/plain": "partition\ntrain    281598\ntest      60740\nval       60422\nName: count, dtype: int64"
          },
          "metadata": {}
        }
      ],
      "execution_count": 11,
      "metadata": {
        "jupyter": {
          "source_hidden": false,
          "outputs_hidden": false
        },
        "nteract": {
          "transient": {
            "deleting": false
          }
        },
        "gather": {
          "logged": 1706892043117
        }
      },
      "id": "6afd2b6a-8dd7-422f-b2ce-4cd989911b2f"
    },
    {
      "cell_type": "code",
      "source": [],
      "outputs": [],
      "execution_count": null,
      "metadata": {
        "jupyter": {
          "source_hidden": false,
          "outputs_hidden": false
        },
        "nteract": {
          "transient": {
            "deleting": false
          }
        }
      },
      "id": "52e7a9c7-f8c6-4ba7-b91d-b2f20828a068"
    },
    {
      "cell_type": "code",
      "source": [
        "data_train=data.loc[data['partition']=='train']\n",
        "data_test=data.loc[data['partition']=='test']\n",
        "data_val=data.loc[data['partition']=='val']"
      ],
      "outputs": [],
      "execution_count": 12,
      "metadata": {
        "jupyter": {
          "source_hidden": false,
          "outputs_hidden": false
        },
        "nteract": {
          "transient": {
            "deleting": false
          }
        },
        "gather": {
          "logged": 1706892046850
        }
      },
      "id": "0af1fef6-7749-4c8d-b23a-b13d076ea899"
    },
    {
      "cell_type": "code",
      "source": [
        "data_train.reset_index(inplace=True,drop=True)\n",
        "data_test.reset_index(inplace=True,drop=True)\n",
        "data_val.reset_index(inplace=True,drop=True)\n",
        "data_train.shape,data_test.shape,data_val.shape"
      ],
      "outputs": [
        {
          "output_type": "execute_result",
          "execution_count": 13,
          "data": {
            "text/plain": "((281598, 4), (60740, 4), (60422, 4))"
          },
          "metadata": {}
        }
      ],
      "execution_count": 13,
      "metadata": {
        "jupyter": {
          "source_hidden": false,
          "outputs_hidden": false
        },
        "nteract": {
          "transient": {
            "deleting": false
          }
        },
        "gather": {
          "logged": 1706892050794
        }
      },
      "id": "380c6887-5e4c-4114-9a70-07e2fb5a8f5f"
    },
    {
      "cell_type": "code",
      "source": [],
      "outputs": [],
      "execution_count": null,
      "metadata": {
        "jupyter": {
          "source_hidden": false,
          "outputs_hidden": false
        },
        "nteract": {
          "transient": {
            "deleting": false
          }
        }
      },
      "id": "b8b5191e-9547-4bbd-b36a-6cfe7d2227ef"
    },
    {
      "cell_type": "markdown",
      "source": [],
      "metadata": {
        "nteract": {
          "transient": {
            "deleting": false
          }
        }
      },
      "id": "9296db79-076e-4934-9624-729cdd30b0a3"
    },
    {
      "cell_type": "code",
      "source": [
        "def duplicate_check(df):\n",
        "   # Check for duplicates in 'food_title' column\n",
        "    duplicates = df[df.duplicated('food_title')]\n",
        "    if duplicates.empty:\n",
        "        print(\"No duplicates found in the 'food_title' column.\")\n",
        "    else:\n",
        "        print(\"Duplicates found in the 'food_title' column:\")\n",
        "        print(duplicates) "
      ],
      "outputs": [],
      "execution_count": 14,
      "metadata": {
        "jupyter": {
          "source_hidden": false,
          "outputs_hidden": false
        },
        "nteract": {
          "transient": {
            "deleting": false
          }
        },
        "gather": {
          "logged": 1706892054092
        }
      },
      "id": "86e5457f-188d-4472-8e22-1371bbe8ecc9"
    },
    {
      "cell_type": "code",
      "source": [
        "duplicate_check(data_train)"
      ],
      "outputs": [
        {
          "output_type": "stream",
          "name": "stdout",
          "text": "Duplicates found in the 'food_title' column:\n                ID                     food_title partition  \\\n569     00815ae6b9                Stuffed peppers     train   \n982     00dc595d6f                 Zucchini Cakes     train   \n1075    00f3548694              Black Bean Hummus     train   \n1534    0152f86662      Mediterranean Pasta Salad     train   \n1650    016daca2b4            Buttermilk Pancakes     train   \n...            ...                            ...       ...   \n281566  fff5d58cfa  Almond Brown Sugar Pound Cake     train   \n281570  fff707d354         Orange Cranberry Bread     train   \n281577  fff9cafaa6             French Bread Rolls     train   \n281578  fffa1e5066            Ham and Potato Soup     train   \n281581  fffa86ca61         Chicken Soup with Rice     train   \n\n                               images_id  \n569                       9e29fd6934.jpg  \n982     8197c9c375.jpg /t 85973e5ad5.jpg  \n1075                      1abb4e83d0.jpg  \n1534                      bf175369c2.jpg  \n1650    00683e7e66.jpg /t acbfa9dffa.jpg  \n...                                  ...  \n281566                    be066c3c53.jpg  \n281570                    885fc26418.jpg  \n281577                    4e79db9632.jpg  \n281578                    4179262497.jpg  \n281581                    deb8205e6e.jpg  \n\n[35588 rows x 4 columns]\n"
        }
      ],
      "execution_count": 15,
      "metadata": {
        "jupyter": {
          "source_hidden": false,
          "outputs_hidden": false
        },
        "nteract": {
          "transient": {
            "deleting": false
          }
        },
        "gather": {
          "logged": 1706892059036
        }
      },
      "id": "aac9dbc5-1330-4b86-94d4-98684a78f50a"
    },
    {
      "cell_type": "code",
      "source": [
        "data_train.loc[data_train['food_title']=='Stuffed peppers']"
      ],
      "outputs": [
        {
          "output_type": "execute_result",
          "execution_count": 16,
          "data": {
            "text/plain": "                ID       food_title partition  \\\n43      000a1936a3  Stuffed peppers     train   \n569     00815ae6b9  Stuffed peppers     train   \n99285   5a2cbb545a  Stuffed peppers     train   \n101387  5c18551c19  Stuffed peppers     train   \n139728  7f1231a49d  Stuffed peppers     train   \n242096  dc3646e49f  Stuffed peppers     train   \n261694  edee8da6de  Stuffed peppers     train   \n\n                                                images_id  \n43                                         33df1c1c41.jpg  \n569                                        9e29fd6934.jpg  \n99285                                      8f1d47384d.jpg  \n101387  1bd219d8b6.jpg /t 1ce9bab996.jpg /t 32673d5cd9...  \n139728                                     7a228f830f.jpg  \n242096                                     5d29031ccb.jpg  \n261694                                     1ee4ee7199.jpg  ",
            "text/html": "<div>\n<style scoped>\n    .dataframe tbody tr th:only-of-type {\n        vertical-align: middle;\n    }\n\n    .dataframe tbody tr th {\n        vertical-align: top;\n    }\n\n    .dataframe thead th {\n        text-align: right;\n    }\n</style>\n<table border=\"1\" class=\"dataframe\">\n  <thead>\n    <tr style=\"text-align: right;\">\n      <th></th>\n      <th>ID</th>\n      <th>food_title</th>\n      <th>partition</th>\n      <th>images_id</th>\n    </tr>\n  </thead>\n  <tbody>\n    <tr>\n      <th>43</th>\n      <td>000a1936a3</td>\n      <td>Stuffed peppers</td>\n      <td>train</td>\n      <td>33df1c1c41.jpg</td>\n    </tr>\n    <tr>\n      <th>569</th>\n      <td>00815ae6b9</td>\n      <td>Stuffed peppers</td>\n      <td>train</td>\n      <td>9e29fd6934.jpg</td>\n    </tr>\n    <tr>\n      <th>99285</th>\n      <td>5a2cbb545a</td>\n      <td>Stuffed peppers</td>\n      <td>train</td>\n      <td>8f1d47384d.jpg</td>\n    </tr>\n    <tr>\n      <th>101387</th>\n      <td>5c18551c19</td>\n      <td>Stuffed peppers</td>\n      <td>train</td>\n      <td>1bd219d8b6.jpg /t 1ce9bab996.jpg /t 32673d5cd9...</td>\n    </tr>\n    <tr>\n      <th>139728</th>\n      <td>7f1231a49d</td>\n      <td>Stuffed peppers</td>\n      <td>train</td>\n      <td>7a228f830f.jpg</td>\n    </tr>\n    <tr>\n      <th>242096</th>\n      <td>dc3646e49f</td>\n      <td>Stuffed peppers</td>\n      <td>train</td>\n      <td>5d29031ccb.jpg</td>\n    </tr>\n    <tr>\n      <th>261694</th>\n      <td>edee8da6de</td>\n      <td>Stuffed peppers</td>\n      <td>train</td>\n      <td>1ee4ee7199.jpg</td>\n    </tr>\n  </tbody>\n</table>\n</div>"
          },
          "metadata": {}
        }
      ],
      "execution_count": 16,
      "metadata": {
        "jupyter": {
          "source_hidden": false,
          "outputs_hidden": false
        },
        "nteract": {
          "transient": {
            "deleting": false
          }
        },
        "gather": {
          "logged": 1706892064734
        }
      },
      "id": "ee916db4-b781-463e-8188-5e7571ab5cfa"
    },
    {
      "cell_type": "code",
      "source": [
        "duplicate_check(data_test)\n"
      ],
      "outputs": [
        {
          "output_type": "stream",
          "name": "stdout",
          "text": "Duplicates found in the 'food_title' column:\n               ID                    food_title partition  \\\n1463   067675d511                   Gingersnaps      test   \n1601   07099dbc63            Pumpkin Eggnog Pie      test   \n1890   082fbc270b               Apple Pie Bread      test   \n1901   08374ae972                 Apple Crumble      test   \n2436   0a54af44bb  Grilled Greek Chicken Kabobs      test   \n...           ...                           ...       ...   \n60704  ffd2a773c0       Mashed Potato Casserole      test   \n60707  ffd473d498              Mini Me Sandwich      test   \n60713  ffd773c753               Fluffy Pancakes      test   \n60728  ffefc5b152  Irish Cream Chocolate Mousse      test   \n60736  fffb4f3e7b             Easy Olive Spread      test   \n\n                                               images_id  \n1463                    48fd91ab55.jpg /t 9fd9d5d40d.jpg  \n1601   4227324fed.jpg /t 904b8dc2da.jpg /t 9bd77a6adb...  \n1890   49a653c81b.jpg /t 578c7cec48.jpg /t a73be8c851...  \n1901                                      72ad980b84.jpg  \n2436                                      2a9b11e70c.jpg  \n...                                                  ...  \n60704                                     265bb910fa.jpg  \n60707                                     9e2c29b55e.jpg  \n60713  054dc4bece.jpg /t 1530ea5606.jpg /t e506581b06...  \n60728                                     d3f5f2c14c.jpg  \n60736                                     dd7cdc4b69.jpg  \n\n[3180 rows x 4 columns]\n"
        }
      ],
      "execution_count": 17,
      "metadata": {
        "jupyter": {
          "source_hidden": false,
          "outputs_hidden": false
        },
        "nteract": {
          "transient": {
            "deleting": false
          }
        },
        "gather": {
          "logged": 1706892070600
        }
      },
      "id": "968a5c46-372c-49f1-8018-194d9b5bac54"
    },
    {
      "cell_type": "code",
      "source": [
        "duplicate_check(data_val)"
      ],
      "outputs": [
        {
          "output_type": "stream",
          "name": "stdout",
          "text": "Duplicates found in the 'food_title' column:\n               ID                food_title partition  \\\n1003   04369b228b         Blueberry Muffins       val   \n1165   04d7578e1a           Pumpkin Muffins       val   \n1278   0551fb7116         Blueberry Muffins       val   \n1477   061d0f46bb              Deviled Eggs       val   \n1551   0670e601f2              Deviled Eggs       val   \n...           ...                       ...       ...   \n60366  ffc6393b53              Brownie Pops       val   \n60377  ffcdf346f2      Homemade Pizza Dough       val   \n60389  ffdd35030d      Healthy Banana Bread       val   \n60390  ffe025dded  Bread and Butter Pudding       val   \n60412  fff9833954     Blackened Green Beans       val   \n\n                                               images_id  \n1003   94fe501aed.jpg /t c29dd203f4.jpg /t d0c5643e18...  \n1165                                      310cb1edc5.jpg  \n1278                                      db897f0617.jpg  \n1477                    54394002c0.jpg /t 65caa5760c.jpg  \n1551   6412b08b24.jpg /t 64a1a842d6.jpg /t 703b44f40b...  \n...                                                  ...  \n60366                                     1488173b79.jpg  \n60377                                     59c33cb875.jpg  \n60389                                     90048aaacc.jpg  \n60390                                     7110565e70.jpg  \n60412                                     9ec9d30e6f.jpg  \n\n[3193 rows x 4 columns]\n"
        }
      ],
      "execution_count": 18,
      "metadata": {
        "jupyter": {
          "source_hidden": false,
          "outputs_hidden": false
        },
        "nteract": {
          "transient": {
            "deleting": false
          }
        },
        "gather": {
          "logged": 1706892074778
        }
      },
      "id": "dc67cf80-4b9c-4872-97a5-2cf9e85edb3f"
    },
    {
      "cell_type": "code",
      "source": [
        "data_val[data_val['food_title']=='Homemade Pizza Dough']"
      ],
      "outputs": [
        {
          "output_type": "execute_result",
          "execution_count": 19,
          "data": {
            "text/plain": "               ID            food_title partition       images_id\n24341  66c072d3e8  Homemade Pizza Dough       val  a21d9cff4c.jpg\n60377  ffcdf346f2  Homemade Pizza Dough       val  59c33cb875.jpg",
            "text/html": "<div>\n<style scoped>\n    .dataframe tbody tr th:only-of-type {\n        vertical-align: middle;\n    }\n\n    .dataframe tbody tr th {\n        vertical-align: top;\n    }\n\n    .dataframe thead th {\n        text-align: right;\n    }\n</style>\n<table border=\"1\" class=\"dataframe\">\n  <thead>\n    <tr style=\"text-align: right;\">\n      <th></th>\n      <th>ID</th>\n      <th>food_title</th>\n      <th>partition</th>\n      <th>images_id</th>\n    </tr>\n  </thead>\n  <tbody>\n    <tr>\n      <th>24341</th>\n      <td>66c072d3e8</td>\n      <td>Homemade Pizza Dough</td>\n      <td>val</td>\n      <td>a21d9cff4c.jpg</td>\n    </tr>\n    <tr>\n      <th>60377</th>\n      <td>ffcdf346f2</td>\n      <td>Homemade Pizza Dough</td>\n      <td>val</td>\n      <td>59c33cb875.jpg</td>\n    </tr>\n  </tbody>\n</table>\n</div>"
          },
          "metadata": {}
        }
      ],
      "execution_count": 19,
      "metadata": {
        "gather": {
          "logged": 1706892083922
        }
      },
      "id": "85f36be9"
    },
    {
      "cell_type": "code",
      "source": [
        "# List of columns to drop\n",
        "#columns_to_drop = ['ID', 'partition']\n",
        "\n",
        "# Drop specified columns\n",
        "#data_test = data_test.drop(columns=columns_to_drop)"
      ],
      "outputs": [],
      "execution_count": 10,
      "metadata": {},
      "id": "a6769ad7"
    },
    {
      "cell_type": "code",
      "source": [
        "def modify_merge(data):\n",
        "    data['images_id'] = data['images_id'].str.replace('/t', ',')\n",
        "    # Group by 'food_title' and aggregate 'images_id' by combining them\n",
        "    df_merged = data.groupby('food_title', as_index=False).agg({\n",
        "            'images_id': ','.join  # Combine 'images_id' using a comma\n",
        "                })\n",
        "    return df_merged        "
      ],
      "outputs": [],
      "execution_count": 20,
      "metadata": {
        "gather": {
          "logged": 1706892088437
        }
      },
      "id": "dc7ca5ea"
    },
    {
      "cell_type": "code",
      "source": [
        "df_train=modify_merge(data_train)\n",
        "df_test=modify_merge(data_test)\n",
        "df_val=modify_merge(data_val)\n"
      ],
      "outputs": [],
      "execution_count": 21,
      "metadata": {
        "jupyter": {
          "source_hidden": false,
          "outputs_hidden": false
        },
        "nteract": {
          "transient": {
            "deleting": false
          }
        },
        "gather": {
          "logged": 1706892100655
        }
      },
      "id": "9a13de98-5f62-4d4f-93b7-f6418c47f51b"
    },
    {
      "cell_type": "code",
      "source": [
        "duplicate_check(df_val)"
      ],
      "outputs": [
        {
          "output_type": "stream",
          "name": "stdout",
          "text": "No duplicates found in the 'food_title' column.\n"
        }
      ],
      "execution_count": 22,
      "metadata": {
        "jupyter": {
          "source_hidden": false,
          "outputs_hidden": false
        },
        "nteract": {
          "transient": {
            "deleting": false
          }
        },
        "gather": {
          "logged": 1706892104102
        }
      },
      "id": "ee9c5561-229a-4b2c-8ac4-2b1aceedb399"
    },
    {
      "cell_type": "code",
      "source": [
        "duplicate_check(df_train)"
      ],
      "outputs": [
        {
          "output_type": "stream",
          "name": "stdout",
          "text": "No duplicates found in the 'food_title' column.\n"
        }
      ],
      "execution_count": 24,
      "metadata": {
        "jupyter": {
          "source_hidden": false,
          "outputs_hidden": false
        },
        "nteract": {
          "transient": {
            "deleting": false
          }
        },
        "gather": {
          "logged": 1706892131685
        }
      },
      "id": "864ce6c4-c3c7-48cc-9800-e00faef59e14"
    },
    {
      "cell_type": "code",
      "source": [
        "duplicate_check(df_test)"
      ],
      "outputs": [
        {
          "output_type": "stream",
          "name": "stdout",
          "text": "No duplicates found in the 'food_title' column.\n"
        }
      ],
      "execution_count": 25,
      "metadata": {
        "jupyter": {
          "source_hidden": false,
          "outputs_hidden": false
        },
        "nteract": {
          "transient": {
            "deleting": false
          }
        },
        "gather": {
          "logged": 1706892134141
        }
      },
      "id": "c5497a03-5bf4-4147-a181-b04da0033138"
    },
    {
      "cell_type": "code",
      "source": [
        "df_train.head()"
      ],
      "outputs": [
        {
          "output_type": "execute_result",
          "execution_count": 26,
          "data": {
            "text/plain": "                                  food_title  \\\n0                                 \" \" Recipe   \n1  \" Add Anything\" French Rolls or Baguettes   \n2                \" Add in Anything\" Muffins!   \n3               \" All In\" Meatless Mincemeat   \n4                      \" Angel Lush Trifle \"   \n\n                                           images_id  \n0                                     02afdb4c71.jpg  \n1                                     ad700e97ba.jpg  \n2  35939afa42.jpg , 4f5bfd3cd4.jpg , 92abacbafe.j...  \n3                    0b26d6c143.jpg , d8ecad8bd4.jpg  \n4                                     2fc5601160.jpg  ",
            "text/html": "<div>\n<style scoped>\n    .dataframe tbody tr th:only-of-type {\n        vertical-align: middle;\n    }\n\n    .dataframe tbody tr th {\n        vertical-align: top;\n    }\n\n    .dataframe thead th {\n        text-align: right;\n    }\n</style>\n<table border=\"1\" class=\"dataframe\">\n  <thead>\n    <tr style=\"text-align: right;\">\n      <th></th>\n      <th>food_title</th>\n      <th>images_id</th>\n    </tr>\n  </thead>\n  <tbody>\n    <tr>\n      <th>0</th>\n      <td>\" \" Recipe</td>\n      <td>02afdb4c71.jpg</td>\n    </tr>\n    <tr>\n      <th>1</th>\n      <td>\" Add Anything\" French Rolls or Baguettes</td>\n      <td>ad700e97ba.jpg</td>\n    </tr>\n    <tr>\n      <th>2</th>\n      <td>\" Add in Anything\" Muffins!</td>\n      <td>35939afa42.jpg , 4f5bfd3cd4.jpg , 92abacbafe.j...</td>\n    </tr>\n    <tr>\n      <th>3</th>\n      <td>\" All In\" Meatless Mincemeat</td>\n      <td>0b26d6c143.jpg , d8ecad8bd4.jpg</td>\n    </tr>\n    <tr>\n      <th>4</th>\n      <td>\" Angel Lush Trifle \"</td>\n      <td>2fc5601160.jpg</td>\n    </tr>\n  </tbody>\n</table>\n</div>"
          },
          "metadata": {}
        }
      ],
      "execution_count": 26,
      "metadata": {
        "jupyter": {
          "source_hidden": false,
          "outputs_hidden": false
        },
        "nteract": {
          "transient": {
            "deleting": false
          }
        },
        "gather": {
          "logged": 1706892136913
        }
      },
      "id": "7b9ee652-9012-4e96-9ff2-9dc5a5aca9f1"
    },
    {
      "cell_type": "code",
      "source": [
        "df_test.head()"
      ],
      "outputs": [
        {
          "output_type": "execute_result",
          "execution_count": 27,
          "data": {
            "text/plain": "                                    food_title  \\\n0         \" Ant\" Kelly's London Broil Marinade   \n1                \" Atkins Friendly\" Cheesecake   \n2       \" Better Than Cinnabon\" Cinnamon Rolls   \n3  \" Blueberry Muffins \" ( made with splenda )   \n4                        \" CANDY APPLE JELLY \"   \n\n                                           images_id  \n0  09b510fc07.jpg , 1714261c9a.jpg , 6a57558123.j...  \n1                                     e07ce12b97.jpg  \n2                                     496bc7a5c6.jpg  \n3   38f4d0a545.jpg , bcefc7a187.jpg , e73e35bf0d.jpg  \n4                                     2a3003c985.jpg  ",
            "text/html": "<div>\n<style scoped>\n    .dataframe tbody tr th:only-of-type {\n        vertical-align: middle;\n    }\n\n    .dataframe tbody tr th {\n        vertical-align: top;\n    }\n\n    .dataframe thead th {\n        text-align: right;\n    }\n</style>\n<table border=\"1\" class=\"dataframe\">\n  <thead>\n    <tr style=\"text-align: right;\">\n      <th></th>\n      <th>food_title</th>\n      <th>images_id</th>\n    </tr>\n  </thead>\n  <tbody>\n    <tr>\n      <th>0</th>\n      <td>\" Ant\" Kelly's London Broil Marinade</td>\n      <td>09b510fc07.jpg , 1714261c9a.jpg , 6a57558123.j...</td>\n    </tr>\n    <tr>\n      <th>1</th>\n      <td>\" Atkins Friendly\" Cheesecake</td>\n      <td>e07ce12b97.jpg</td>\n    </tr>\n    <tr>\n      <th>2</th>\n      <td>\" Better Than Cinnabon\" Cinnamon Rolls</td>\n      <td>496bc7a5c6.jpg</td>\n    </tr>\n    <tr>\n      <th>3</th>\n      <td>\" Blueberry Muffins \" ( made with splenda )</td>\n      <td>38f4d0a545.jpg , bcefc7a187.jpg , e73e35bf0d.jpg</td>\n    </tr>\n    <tr>\n      <th>4</th>\n      <td>\" CANDY APPLE JELLY \"</td>\n      <td>2a3003c985.jpg</td>\n    </tr>\n  </tbody>\n</table>\n</div>"
          },
          "metadata": {}
        }
      ],
      "execution_count": 27,
      "metadata": {
        "gather": {
          "logged": 1706892140570
        }
      },
      "id": "b1b0f72e"
    },
    {
      "cell_type": "code",
      "source": [
        "df_val[df_val['food_title']=='Homemade Pizza Dough']"
      ],
      "outputs": [
        {
          "output_type": "execute_result",
          "execution_count": 28,
          "data": {
            "text/plain": "                 food_title                      images_id\n26556  Homemade Pizza Dough  a21d9cff4c.jpg,59c33cb875.jpg",
            "text/html": "<div>\n<style scoped>\n    .dataframe tbody tr th:only-of-type {\n        vertical-align: middle;\n    }\n\n    .dataframe tbody tr th {\n        vertical-align: top;\n    }\n\n    .dataframe thead th {\n        text-align: right;\n    }\n</style>\n<table border=\"1\" class=\"dataframe\">\n  <thead>\n    <tr style=\"text-align: right;\">\n      <th></th>\n      <th>food_title</th>\n      <th>images_id</th>\n    </tr>\n  </thead>\n  <tbody>\n    <tr>\n      <th>26556</th>\n      <td>Homemade Pizza Dough</td>\n      <td>a21d9cff4c.jpg,59c33cb875.jpg</td>\n    </tr>\n  </tbody>\n</table>\n</div>"
          },
          "metadata": {}
        }
      ],
      "execution_count": 28,
      "metadata": {
        "jupyter": {
          "source_hidden": false,
          "outputs_hidden": false
        },
        "nteract": {
          "transient": {
            "deleting": false
          }
        },
        "gather": {
          "logged": 1706892143277
        }
      },
      "id": "5cb3c191-3112-4d0a-a541-106a6541906a"
    },
    {
      "cell_type": "code",
      "source": [
        "df_train.loc[df_train['food_title']=='Stuffed peppers']"
      ],
      "outputs": [
        {
          "output_type": "execute_result",
          "execution_count": 29,
          "data": {
            "text/plain": "             food_title                                          images_id\n214251  Stuffed peppers  33df1c1c41.jpg,9e29fd6934.jpg,8f1d47384d.jpg,1...",
            "text/html": "<div>\n<style scoped>\n    .dataframe tbody tr th:only-of-type {\n        vertical-align: middle;\n    }\n\n    .dataframe tbody tr th {\n        vertical-align: top;\n    }\n\n    .dataframe thead th {\n        text-align: right;\n    }\n</style>\n<table border=\"1\" class=\"dataframe\">\n  <thead>\n    <tr style=\"text-align: right;\">\n      <th></th>\n      <th>food_title</th>\n      <th>images_id</th>\n    </tr>\n  </thead>\n  <tbody>\n    <tr>\n      <th>214251</th>\n      <td>Stuffed peppers</td>\n      <td>33df1c1c41.jpg,9e29fd6934.jpg,8f1d47384d.jpg,1...</td>\n    </tr>\n  </tbody>\n</table>\n</div>"
          },
          "metadata": {}
        }
      ],
      "execution_count": 29,
      "metadata": {
        "jupyter": {
          "source_hidden": false,
          "outputs_hidden": false
        },
        "nteract": {
          "transient": {
            "deleting": false
          }
        },
        "gather": {
          "logged": 1706892146412
        }
      },
      "id": "7831b79f-7b14-4123-b69c-06efffead6ac"
    },
    {
      "cell_type": "code",
      "source": [
        "list(df_train['images_id'].loc[df_train['food_title']=='Stuffed peppers'])"
      ],
      "outputs": [
        {
          "output_type": "execute_result",
          "execution_count": 30,
          "data": {
            "text/plain": "['33df1c1c41.jpg,9e29fd6934.jpg,8f1d47384d.jpg,1bd219d8b6.jpg , 1ce9bab996.jpg , 32673d5cd9.jpg , 37b69f6cd3.jpg , 4dcd659428.jpg , 74567732f1.jpg , 808b3cc29d.jpg , 848e3a0d59.jpg , 8d3cc60da7.jpg , 8f770a68ad.jpg , a368308daa.jpg , b2ebc3853d.jpg , db5546849f.jpg , de258b6ae5.jpg , e3085b560b.jpg , e8e7bbe1bd.jpg,7a228f830f.jpg,5d29031ccb.jpg,1ee4ee7199.jpg']"
          },
          "metadata": {}
        }
      ],
      "execution_count": 30,
      "metadata": {
        "gather": {
          "logged": 1706892149012
        }
      },
      "id": "9b3f32d7"
    },
    {
      "cell_type": "code",
      "source": [
        "df_train.reset_index(inplace=True,drop=True)\n",
        "df_test.reset_index(inplace=True,drop=True)\n",
        "df_val.reset_index(inplace=True,drop=True)\n",
        "df_train.shape,df_test.shape,df_val.shape"
      ],
      "outputs": [
        {
          "output_type": "execute_result",
          "execution_count": 31,
          "data": {
            "text/plain": "((246010, 2), (57560, 2), (57229, 2))"
          },
          "metadata": {}
        }
      ],
      "execution_count": 31,
      "metadata": {
        "jupyter": {
          "source_hidden": false,
          "outputs_hidden": false
        },
        "nteract": {
          "transient": {
            "deleting": false
          }
        },
        "gather": {
          "logged": 1706892154156
        }
      },
      "id": "f0d7521d-4c12-42ff-8952-41c5f364a712"
    },
    {
      "cell_type": "code",
      "source": [
        "data.loc[data['food_title']=='\" \" Recipe']"
      ],
      "outputs": [
        {
          "output_type": "execute_result",
          "execution_count": 32,
          "data": {
            "text/plain": "                ID  food_title partition       images_id\n193698  7b372faa16  \" \" Recipe     train  02afdb4c71.jpg",
            "text/html": "<div>\n<style scoped>\n    .dataframe tbody tr th:only-of-type {\n        vertical-align: middle;\n    }\n\n    .dataframe tbody tr th {\n        vertical-align: top;\n    }\n\n    .dataframe thead th {\n        text-align: right;\n    }\n</style>\n<table border=\"1\" class=\"dataframe\">\n  <thead>\n    <tr style=\"text-align: right;\">\n      <th></th>\n      <th>ID</th>\n      <th>food_title</th>\n      <th>partition</th>\n      <th>images_id</th>\n    </tr>\n  </thead>\n  <tbody>\n    <tr>\n      <th>193698</th>\n      <td>7b372faa16</td>\n      <td>\" \" Recipe</td>\n      <td>train</td>\n      <td>02afdb4c71.jpg</td>\n    </tr>\n  </tbody>\n</table>\n</div>"
          },
          "metadata": {}
        }
      ],
      "execution_count": 32,
      "metadata": {
        "jupyter": {
          "source_hidden": false,
          "outputs_hidden": false
        },
        "nteract": {
          "transient": {
            "deleting": false
          }
        },
        "gather": {
          "logged": 1706892157483
        }
      },
      "id": "e59cbac9-a783-4cbd-8001-478e0a8d832b"
    },
    {
      "cell_type": "code",
      "source": [
        "df_train.head()"
      ],
      "outputs": [
        {
          "output_type": "execute_result",
          "execution_count": 33,
          "data": {
            "text/plain": "                                  food_title  \\\n0                                 \" \" Recipe   \n1  \" Add Anything\" French Rolls or Baguettes   \n2                \" Add in Anything\" Muffins!   \n3               \" All In\" Meatless Mincemeat   \n4                      \" Angel Lush Trifle \"   \n\n                                           images_id  \n0                                     02afdb4c71.jpg  \n1                                     ad700e97ba.jpg  \n2  35939afa42.jpg , 4f5bfd3cd4.jpg , 92abacbafe.j...  \n3                    0b26d6c143.jpg , d8ecad8bd4.jpg  \n4                                     2fc5601160.jpg  ",
            "text/html": "<div>\n<style scoped>\n    .dataframe tbody tr th:only-of-type {\n        vertical-align: middle;\n    }\n\n    .dataframe tbody tr th {\n        vertical-align: top;\n    }\n\n    .dataframe thead th {\n        text-align: right;\n    }\n</style>\n<table border=\"1\" class=\"dataframe\">\n  <thead>\n    <tr style=\"text-align: right;\">\n      <th></th>\n      <th>food_title</th>\n      <th>images_id</th>\n    </tr>\n  </thead>\n  <tbody>\n    <tr>\n      <th>0</th>\n      <td>\" \" Recipe</td>\n      <td>02afdb4c71.jpg</td>\n    </tr>\n    <tr>\n      <th>1</th>\n      <td>\" Add Anything\" French Rolls or Baguettes</td>\n      <td>ad700e97ba.jpg</td>\n    </tr>\n    <tr>\n      <th>2</th>\n      <td>\" Add in Anything\" Muffins!</td>\n      <td>35939afa42.jpg , 4f5bfd3cd4.jpg , 92abacbafe.j...</td>\n    </tr>\n    <tr>\n      <th>3</th>\n      <td>\" All In\" Meatless Mincemeat</td>\n      <td>0b26d6c143.jpg , d8ecad8bd4.jpg</td>\n    </tr>\n    <tr>\n      <th>4</th>\n      <td>\" Angel Lush Trifle \"</td>\n      <td>2fc5601160.jpg</td>\n    </tr>\n  </tbody>\n</table>\n</div>"
          },
          "metadata": {}
        }
      ],
      "execution_count": 33,
      "metadata": {
        "gather": {
          "logged": 1706892160985
        }
      },
      "id": "fd6dee95"
    },
    {
      "cell_type": "code",
      "source": [
        "df_temp=df_train"
      ],
      "outputs": [],
      "execution_count": 67,
      "metadata": {
        "jupyter": {
          "source_hidden": false,
          "outputs_hidden": false
        },
        "nteract": {
          "transient": {
            "deleting": false
          }
        },
        "gather": {
          "logged": 1706888164411
        }
      },
      "id": "a415ece3-86ac-4e5a-a8a8-74331dfc71e4"
    },
    {
      "cell_type": "code",
      "source": [
        "def image_count(df_merged):\n",
        "    df_merged['image_count'] = df_merged['images_id'].apply(lambda x: len(x.split(',')) if pd.notna(x) else 0)\n",
        "    df_merged = df_merged.sort_values(by='image_count', ascending=False)\n",
        "    return df_merged"
      ],
      "outputs": [],
      "execution_count": 34,
      "metadata": {
        "jupyter": {
          "source_hidden": false,
          "outputs_hidden": false
        },
        "nteract": {
          "transient": {
            "deleting": false
          }
        },
        "gather": {
          "logged": 1706892166214
        }
      },
      "id": "ee92f400-19dd-4a6a-9117-5b6079881e88"
    },
    {
      "cell_type": "code",
      "source": [
        "df_train=image_count(df_train)\n",
        "df_test=image_count(df_test)\n",
        "df_val=image_count(df_val)"
      ],
      "outputs": [],
      "execution_count": 35,
      "metadata": {
        "jupyter": {
          "source_hidden": false,
          "outputs_hidden": false
        },
        "nteract": {
          "transient": {
            "deleting": false
          }
        },
        "gather": {
          "logged": 1706892168928
        }
      },
      "id": "8fa15fe6-cbc4-499a-a1e8-ecf7f05a8833"
    },
    {
      "cell_type": "code",
      "source": [
        "df_test.head()"
      ],
      "outputs": [
        {
          "output_type": "execute_result",
          "execution_count": 36,
          "data": {
            "text/plain": "                       food_title  \\\n4124         Banana Crumb Muffins   \n50248          Sugar Cookie Icing   \n11001          Chicken Pot Pie IX   \n21016             Fluffy Pancakes   \n34343  Mrs. Sigg's Snickerdoodles   \n\n                                               images_id  image_count  \n4124   00388793f8.jpg , 006c367195.jpg , 00ccb25e8b.j...         1035  \n50248  001a132a3f.jpg , 00308d461e.jpg , 0037c4535d.j...          966  \n11001  001defbf8b.jpg , 00305aa742.jpg , 007e8b9a7c.j...          800  \n21016  027d79604e.jpg , 0388ade68b.jpg , 13a63374cb.j...          702  \n34343  002e327a8b.jpg , 007a047685.jpg , 01bfdd510a.j...          386  ",
            "text/html": "<div>\n<style scoped>\n    .dataframe tbody tr th:only-of-type {\n        vertical-align: middle;\n    }\n\n    .dataframe tbody tr th {\n        vertical-align: top;\n    }\n\n    .dataframe thead th {\n        text-align: right;\n    }\n</style>\n<table border=\"1\" class=\"dataframe\">\n  <thead>\n    <tr style=\"text-align: right;\">\n      <th></th>\n      <th>food_title</th>\n      <th>images_id</th>\n      <th>image_count</th>\n    </tr>\n  </thead>\n  <tbody>\n    <tr>\n      <th>4124</th>\n      <td>Banana Crumb Muffins</td>\n      <td>00388793f8.jpg , 006c367195.jpg , 00ccb25e8b.j...</td>\n      <td>1035</td>\n    </tr>\n    <tr>\n      <th>50248</th>\n      <td>Sugar Cookie Icing</td>\n      <td>001a132a3f.jpg , 00308d461e.jpg , 0037c4535d.j...</td>\n      <td>966</td>\n    </tr>\n    <tr>\n      <th>11001</th>\n      <td>Chicken Pot Pie IX</td>\n      <td>001defbf8b.jpg , 00305aa742.jpg , 007e8b9a7c.j...</td>\n      <td>800</td>\n    </tr>\n    <tr>\n      <th>21016</th>\n      <td>Fluffy Pancakes</td>\n      <td>027d79604e.jpg , 0388ade68b.jpg , 13a63374cb.j...</td>\n      <td>702</td>\n    </tr>\n    <tr>\n      <th>34343</th>\n      <td>Mrs. Sigg's Snickerdoodles</td>\n      <td>002e327a8b.jpg , 007a047685.jpg , 01bfdd510a.j...</td>\n      <td>386</td>\n    </tr>\n  </tbody>\n</table>\n</div>"
          },
          "metadata": {}
        }
      ],
      "execution_count": 36,
      "metadata": {
        "jupyter": {
          "source_hidden": false,
          "outputs_hidden": false
        },
        "nteract": {
          "transient": {
            "deleting": false
          }
        },
        "gather": {
          "logged": 1706892171516
        }
      },
      "id": "4f0596aa-b8b4-4a0d-ac84-32c5c033cf5c"
    },
    {
      "cell_type": "code",
      "source": [
        "df_train.head()"
      ],
      "outputs": [
        {
          "output_type": "execute_result",
          "execution_count": 37,
          "data": {
            "text/plain": "                           food_title  \\\n224015  The Best Rolled Sugar Cookies   \n137326            Marshmallow Fondant   \n7122        Apple Pie by Grandma Ople   \n226242   To Die For Blueberry Muffins   \n39868   Chantal's New York Cheesecake   \n\n                                                images_id  image_count  \n224015  0037563ca4.jpg , 003b92c18f.jpg , 0068f4dd6a.j...         1647  \n137326  0008000c98.jpg , 001689aa9d.jpg , 001c9165c6.j...         1540  \n7122    001df0cb78.jpg , 0099f126e8.jpg , 00b685903b.j...         1325  \n226242  001ea74601.jpg , 0049a29b83.jpg , 0084dedc7c.j...          997  \n39868   000ebb143a.jpg , 00a4180adf.jpg , 01175d4ff8.j...          742  ",
            "text/html": "<div>\n<style scoped>\n    .dataframe tbody tr th:only-of-type {\n        vertical-align: middle;\n    }\n\n    .dataframe tbody tr th {\n        vertical-align: top;\n    }\n\n    .dataframe thead th {\n        text-align: right;\n    }\n</style>\n<table border=\"1\" class=\"dataframe\">\n  <thead>\n    <tr style=\"text-align: right;\">\n      <th></th>\n      <th>food_title</th>\n      <th>images_id</th>\n      <th>image_count</th>\n    </tr>\n  </thead>\n  <tbody>\n    <tr>\n      <th>224015</th>\n      <td>The Best Rolled Sugar Cookies</td>\n      <td>0037563ca4.jpg , 003b92c18f.jpg , 0068f4dd6a.j...</td>\n      <td>1647</td>\n    </tr>\n    <tr>\n      <th>137326</th>\n      <td>Marshmallow Fondant</td>\n      <td>0008000c98.jpg , 001689aa9d.jpg , 001c9165c6.j...</td>\n      <td>1540</td>\n    </tr>\n    <tr>\n      <th>7122</th>\n      <td>Apple Pie by Grandma Ople</td>\n      <td>001df0cb78.jpg , 0099f126e8.jpg , 00b685903b.j...</td>\n      <td>1325</td>\n    </tr>\n    <tr>\n      <th>226242</th>\n      <td>To Die For Blueberry Muffins</td>\n      <td>001ea74601.jpg , 0049a29b83.jpg , 0084dedc7c.j...</td>\n      <td>997</td>\n    </tr>\n    <tr>\n      <th>39868</th>\n      <td>Chantal's New York Cheesecake</td>\n      <td>000ebb143a.jpg , 00a4180adf.jpg , 01175d4ff8.j...</td>\n      <td>742</td>\n    </tr>\n  </tbody>\n</table>\n</div>"
          },
          "metadata": {}
        }
      ],
      "execution_count": 37,
      "metadata": {
        "jupyter": {
          "source_hidden": false,
          "outputs_hidden": false
        },
        "nteract": {
          "transient": {
            "deleting": false
          }
        },
        "gather": {
          "logged": 1706892174301
        }
      },
      "id": "d1872cbf-9064-4564-8171-4fb6be36881b"
    },
    {
      "cell_type": "code",
      "source": [
        "df_val.head()"
      ],
      "outputs": [
        {
          "output_type": "execute_result",
          "execution_count": 38,
          "data": {
            "text/plain": "                                       food_title  \\\n5344                  Best Chocolate Chip Cookies   \n5321   Best Big, Fat, Chewy Chocolate Chip Cookie   \n53135                     Too Much Chocolate Cake   \n7827                            Buttercream Icing   \n43283                  Rolled Buttercream Fondant   \n\n                                               images_id  image_count  \n5344   00011ef4c3.jpg , 0021833df3.jpg , 00baed5d92.j...          991  \n5321   0000d643c9.jpg , 00253e2e7b.jpg , 002958c0e0.j...          921  \n53135  00117647ef.jpg , 00547ec935.jpg , 014382d3bb.j...          742  \n7827   005645da6f.jpg , 00893578e7.jpg , 0127631bb2.j...          533  \n43283  000b5bafbd.jpg , 0031302660.jpg , 00c7984387.j...          435  ",
            "text/html": "<div>\n<style scoped>\n    .dataframe tbody tr th:only-of-type {\n        vertical-align: middle;\n    }\n\n    .dataframe tbody tr th {\n        vertical-align: top;\n    }\n\n    .dataframe thead th {\n        text-align: right;\n    }\n</style>\n<table border=\"1\" class=\"dataframe\">\n  <thead>\n    <tr style=\"text-align: right;\">\n      <th></th>\n      <th>food_title</th>\n      <th>images_id</th>\n      <th>image_count</th>\n    </tr>\n  </thead>\n  <tbody>\n    <tr>\n      <th>5344</th>\n      <td>Best Chocolate Chip Cookies</td>\n      <td>00011ef4c3.jpg , 0021833df3.jpg , 00baed5d92.j...</td>\n      <td>991</td>\n    </tr>\n    <tr>\n      <th>5321</th>\n      <td>Best Big, Fat, Chewy Chocolate Chip Cookie</td>\n      <td>0000d643c9.jpg , 00253e2e7b.jpg , 002958c0e0.j...</td>\n      <td>921</td>\n    </tr>\n    <tr>\n      <th>53135</th>\n      <td>Too Much Chocolate Cake</td>\n      <td>00117647ef.jpg , 00547ec935.jpg , 014382d3bb.j...</td>\n      <td>742</td>\n    </tr>\n    <tr>\n      <th>7827</th>\n      <td>Buttercream Icing</td>\n      <td>005645da6f.jpg , 00893578e7.jpg , 0127631bb2.j...</td>\n      <td>533</td>\n    </tr>\n    <tr>\n      <th>43283</th>\n      <td>Rolled Buttercream Fondant</td>\n      <td>000b5bafbd.jpg , 0031302660.jpg , 00c7984387.j...</td>\n      <td>435</td>\n    </tr>\n  </tbody>\n</table>\n</div>"
          },
          "metadata": {}
        }
      ],
      "execution_count": 38,
      "metadata": {
        "jupyter": {
          "source_hidden": false,
          "outputs_hidden": false
        },
        "nteract": {
          "transient": {
            "deleting": false
          }
        },
        "gather": {
          "logged": 1706892177107
        }
      },
      "id": "3e12a4fd-472a-493c-b03d-40d6ca88111d"
    },
    {
      "cell_type": "code",
      "source": [
        "len(df_train[df_train.image_count>=300])"
      ],
      "outputs": [
        {
          "output_type": "execute_result",
          "execution_count": 39,
          "data": {
            "text/plain": "45"
          },
          "metadata": {}
        }
      ],
      "execution_count": 39,
      "metadata": {
        "jupyter": {
          "source_hidden": false,
          "outputs_hidden": false
        },
        "nteract": {
          "transient": {
            "deleting": false
          }
        },
        "gather": {
          "logged": 1706892179902
        }
      },
      "id": "79e1731c-4920-48c3-a009-60b418ca80fb"
    },
    {
      "cell_type": "code",
      "source": [
        "df_train[df_train.image_count>=300]"
      ],
      "outputs": [],
      "execution_count": null,
      "metadata": {
        "jupyter": {
          "source_hidden": false,
          "outputs_hidden": false
        },
        "nteract": {
          "transient": {
            "deleting": false
          }
        }
      },
      "id": "43242589-9808-479a-9b7c-baeb58c4a20d"
    },
    {
      "cell_type": "code",
      "source": [
        "# Assuming df_train is your DataFrame\n",
        "filtered_df = df_train[df_train['image_count'] >= 300]\n",
        "\n",
        "# Extract food_title values from the filtered DataFrame and store in a list\n",
        "food_title_list = filtered_df['food_title'].tolist()\n",
        "\n",
        "# Print or use the food_title_list as needed\n",
        "print(food_title_list)\n"
      ],
      "outputs": [
        {
          "output_type": "stream",
          "name": "stdout",
          "text": "['The Best Rolled Sugar Cookies', 'Marshmallow Fondant', 'Apple Pie by Grandma Ople', 'To Die For Blueberry Muffins', \"Chantal's New York Cheesecake\", 'Cake Balls', 'Clone of a Cinnabon', 'Banana Banana Bread', \"World's Best Lasagna\", 'Carrot Cake III', 'Award Winning Soft Chocolate Chip Cookies', 'Bomb Ass Potatoes', 'Amish White Bread', 'Bacon Wrapped Chicken Breast', 'White Chocolate Raspberry Cheesecake', 'Parmesan Chicken Squares', 'Good Old Fashioned Pancakes', 'Easy Sugar Cookies', 'Best Brownies', 'Cajun Chicken Pasta', 'Delicious Ham and Potato Soup', 'Chicken Parmesan', 'Peanut Butter Cup Cookies', 'Downeast Maine Pumpkin Bread', 'Black Magic Cake', \"Rick's Special Buttercream Frosting\", 'Cream Cheese Frosting II', 'Special Buttercream Frosting', \"Grandma's Lemon Meringue Pie\", 'Simple White Cake', 'Big Soft Ginger Cookies', 'Easy OREO Truffles', 'Soft Oatmeal Cookies', 'Tiramisu Layer Cake', 'Baked MAC and Cheese', 'Ninety Minute Cinnamon Rolls', 'Bread Pudding II', \"Spooky Witches' Fingers\", 'Easy Chicken with Broccoli', \"Mom's Zucchini Bread\", 'Chicken Cordon Bleu II', 'Sweet, Sticky and Spicy Chicken', 'Red Velvet Cupcakes', 'Broiled Tilapia Parmesan', 'Alfredo Sauce']\n"
        }
      ],
      "execution_count": 40,
      "metadata": {
        "jupyter": {
          "source_hidden": false,
          "outputs_hidden": false
        },
        "nteract": {
          "transient": {
            "deleting": false
          }
        },
        "gather": {
          "logged": 1706892185906
        }
      },
      "id": "919a010d-5759-4a41-bdd1-9b15259ad3c5"
    },
    {
      "cell_type": "code",
      "source": [
        "# Assuming food_title_list is the list obtained from df_train\n",
        "# Assuming df_val and df_test are your other DataFrames\n",
        "\n",
        "# Check if the values in food_title_list exist in df_val\n",
        "#matching_val = df_val[df_val['food_title'].isin(food_title_list)]\n",
        "\n",
        "# Check if the values in food_title_list exist in df_test\n",
        "#matching_test = df_test[df_test['food_title'].isin(food_title_list)]\n",
        "\n",
        "# Print or use the matching DataFrames as needed\n",
        "#print(\"Matching values in df_val:\")\n",
        "#print(matching_val)\n",
        "\n",
        "#print(\"\\nMatching values in df_test:\")\n",
        "#print(matching_test)\n"
      ],
      "outputs": [],
      "execution_count": 87,
      "metadata": {
        "jupyter": {
          "source_hidden": false,
          "outputs_hidden": false
        },
        "nteract": {
          "transient": {
            "deleting": false
          }
        },
        "gather": {
          "logged": 1706889044858
        }
      },
      "id": "7414d108-7fbc-4a61-8a11-a9885824f982"
    },
    {
      "cell_type": "code",
      "source": [
        "# Assuming food_title_list is the list obtained from df_train\n",
        "# Assuming df_val and df_test are your other DataFrames\n",
        "\n",
        "# Check if the values in food_title_list exist in df_val\n",
        "matching_val = df_val[df_val['food_title'].isin(food_title_list)]['food_title'].tolist()\n",
        "\n",
        "# Check if the values in food_title_list exist in df_test\n",
        "matching_test = df_test[df_test['food_title'].isin(food_title_list)]['food_title'].tolist()\n",
        "\n",
        "# Print matching and non-matching food_title values\n",
        "print(\"Matching values in df_val:\")\n",
        "print(matching_val)\n",
        "\n",
        "non_matching_val = list(set(food_title_list) - set(matching_val))\n",
        "print(\"\\nNon-matching values in df_val:\")\n",
        "print(non_matching_val)\n",
        "\n",
        "print(\"\\nMatching values in df_test:\")\n",
        "print(matching_test)\n",
        "\n",
        "non_matching_test = list(set(food_title_list) - set(matching_test))\n",
        "print(\"\\nNon-matching values in df_test:\")\n",
        "print(non_matching_test)\n"
      ],
      "outputs": [
        {
          "output_type": "stream",
          "name": "stdout",
          "text": "Matching values in df_val:\n['Red Velvet Cupcakes', 'Marshmallow Fondant', 'Easy Sugar Cookies', 'Cajun Chicken Pasta', 'Chicken Parmesan', 'White Chocolate Raspberry Cheesecake', \"World's Best Lasagna\", 'The Best Rolled Sugar Cookies', 'Alfredo Sauce', 'Apple Pie by Grandma Ople', 'Black Magic Cake', \"Mom's Zucchini Bread\", 'Award Winning Soft Chocolate Chip Cookies', 'Peanut Butter Cup Cookies', 'Soft Oatmeal Cookies', 'Easy OREO Truffles']\n\nNon-matching values in df_val:\n['Easy Chicken with Broccoli', 'Amish White Bread', 'Parmesan Chicken Squares', 'Delicious Ham and Potato Soup', 'Cake Balls', 'Tiramisu Layer Cake', 'Bacon Wrapped Chicken Breast', 'Bread Pudding II', 'Big Soft Ginger Cookies', 'Chicken Cordon Bleu II', \"Spooky Witches' Fingers\", 'Best Brownies', 'Good Old Fashioned Pancakes', 'Ninety Minute Cinnamon Rolls', 'Clone of a Cinnabon', \"Chantal's New York Cheesecake\", 'Carrot Cake III', \"Grandma's Lemon Meringue Pie\", 'Special Buttercream Frosting', 'Baked MAC and Cheese', 'Bomb Ass Potatoes', \"Rick's Special Buttercream Frosting\", 'Simple White Cake', 'Cream Cheese Frosting II', 'Sweet, Sticky and Spicy Chicken', 'To Die For Blueberry Muffins', 'Downeast Maine Pumpkin Bread', 'Broiled Tilapia Parmesan', 'Banana Banana Bread']\n\nMatching values in df_test:\n['Cajun Chicken Pasta', 'Marshmallow Fondant', 'Chicken Parmesan', 'Red Velvet Cupcakes', \"Grandma's Lemon Meringue Pie\", 'Broiled Tilapia Parmesan', 'White Chocolate Raspberry Cheesecake', 'Best Brownies', 'Award Winning Soft Chocolate Chip Cookies', 'Alfredo Sauce', 'Cake Balls', 'Easy OREO Truffles']\n\nNon-matching values in df_test:\n['Easy Chicken with Broccoli', 'Amish White Bread', 'Parmesan Chicken Squares', 'Delicious Ham and Potato Soup', 'Tiramisu Layer Cake', 'Bacon Wrapped Chicken Breast', 'The Best Rolled Sugar Cookies', 'Bread Pudding II', 'Peanut Butter Cup Cookies', 'Big Soft Ginger Cookies', 'Chicken Cordon Bleu II', \"Spooky Witches' Fingers\", 'Good Old Fashioned Pancakes', 'Ninety Minute Cinnamon Rolls', 'Clone of a Cinnabon', \"Chantal's New York Cheesecake\", 'Easy Sugar Cookies', 'Carrot Cake III', \"World's Best Lasagna\", 'Black Magic Cake', 'Special Buttercream Frosting', 'Baked MAC and Cheese', 'Bomb Ass Potatoes', \"Rick's Special Buttercream Frosting\", 'Simple White Cake', 'Cream Cheese Frosting II', 'Sweet, Sticky and Spicy Chicken', 'Apple Pie by Grandma Ople', 'To Die For Blueberry Muffins', 'Downeast Maine Pumpkin Bread', \"Mom's Zucchini Bread\", 'Banana Banana Bread', 'Soft Oatmeal Cookies']\n"
        }
      ],
      "execution_count": 86,
      "metadata": {
        "jupyter": {
          "source_hidden": false,
          "outputs_hidden": false
        },
        "nteract": {
          "transient": {
            "deleting": false
          }
        },
        "gather": {
          "logged": 1706888983109
        }
      },
      "id": "26595312-7b40-4b41-b8dc-cfb81b17c49f"
    },
    {
      "cell_type": "code",
      "source": [
        "# Assuming df_train, df_test, and df_val are your DataFrames\n",
        "\n",
        "# Export df_train to CSV\n",
        "df_train.to_csv('df_train.csv', index=False)\n",
        "\n",
        "\n"
      ],
      "outputs": [],
      "execution_count": 41,
      "metadata": {
        "jupyter": {
          "source_hidden": false,
          "outputs_hidden": false
        },
        "nteract": {
          "transient": {
            "deleting": false
          }
        },
        "gather": {
          "logged": 1706892193394
        }
      },
      "id": "4c159014-e72e-464c-9eb5-cba0546f319a"
    },
    {
      "cell_type": "code",
      "source": [
        "# Export df_test to CSV\n",
        "df_test.to_csv('df_test.csv', index=False)\n",
        "\n",
        "# Export df_val to CSV\n",
        "df_val.to_csv('df_val.csv', index=False)"
      ],
      "outputs": [],
      "execution_count": 42,
      "metadata": {
        "jupyter": {
          "source_hidden": false,
          "outputs_hidden": false
        },
        "nteract": {
          "transient": {
            "deleting": false
          }
        },
        "gather": {
          "logged": 1706892198559
        }
      },
      "id": "0b11f929-d93c-42b3-a3a1-0c273229d8e6"
    },
    {
      "cell_type": "code",
      "source": [
        "import os\n",
        "\n",
        "# Get the current working directory\n",
        "current_directory = os.getcwd()"
      ],
      "outputs": [],
      "execution_count": 44,
      "metadata": {
        "jupyter": {
          "source_hidden": false,
          "outputs_hidden": false
        },
        "nteract": {
          "transient": {
            "deleting": false
          }
        },
        "gather": {
          "logged": 1706892321235
        }
      },
      "id": "4b4ce5ef-0fbd-499c-b68d-884450768755"
    },
    {
      "cell_type": "code",
      "source": [
        "# Construct the full path for saving CSV files\n",
        "csv_path = os.path.join(current_directory, 'df_train.csv')\n",
        "\n",
        "# Export df_train to CSV\n",
        "df_train.to_csv(csv_path, index=False)\n",
        "\n",
        "# Display the full path\n",
        "print(f\"CSV file saved at: {csv_path}\")"
      ],
      "outputs": [
        {
          "output_type": "stream",
          "name": "stdout",
          "text": "CSV file saved at: /mnt/batch/tasks/shared/LS_root/mounts/clusters/ykb65841/code/Users/ykb6584/df_train.csv\n"
        }
      ],
      "execution_count": 45,
      "metadata": {
        "jupyter": {
          "source_hidden": false,
          "outputs_hidden": false
        },
        "nteract": {
          "transient": {
            "deleting": false
          }
        },
        "gather": {
          "logged": 1706892343586
        }
      },
      "id": "b14a7a46-feab-4b71-a654-fb3659d71d31"
    },
    {
      "cell_type": "code",
      "source": [
        "df_train.head(50)"
      ],
      "outputs": [
        {
          "output_type": "execute_result",
          "execution_count": 43,
          "data": {
            "text/plain": "                                       food_title  \\\n224015              The Best Rolled Sugar Cookies   \n137326                        Marshmallow Fondant   \n7122                    Apple Pie by Grandma Ople   \n226242               To Die For Blueberry Muffins   \n39868               Chantal's New York Cheesecake   \n35195                                  Cake Balls   \n58097                         Clone of a Cinnabon   \n17105                         Banana Banana Bread   \n241540                       World's Best Lasagna   \n38177                             Carrot Cake III   \n11636   Award Winning Soft Chocolate Chip Cookies   \n27656                           Bomb Ass Potatoes   \n5304                            Amish White Bread   \n13480                Bacon Wrapped Chicken Breast   \n239489       White Chocolate Raspberry Cheesecake   \n159105                   Parmesan Chicken Squares   \n99256                 Good Old Fashioned Pancakes   \n81645                          Easy Sugar Cookies   \n22795                               Best Brownies   \n34885                         Cajun Chicken Pasta   \n73910               Delicious Ham and Potato Soup   \n46049                            Chicken Parmesan   \n162050                  Peanut Butter Cup Cookies   \n76319                Downeast Maine Pumpkin Bread   \n25061                            Black Magic Cake   \n181570        Rick's Special Buttercream Frosting   \n64224                    Cream Cheese Frosting II   \n204576               Special Buttercream Frosting   \n100210               Grandma's Lemon Meringue Pie   \n196942                          Simple White Cake   \n23934                     Big Soft Ginger Cookies   \n80490                          Easy OREO Truffles   \n201433                       Soft Oatmeal Cookies   \n226183                        Tiramisu Layer Cake   \n15525                        Baked MAC and Cheese   \n149828               Ninety Minute Cinnamon Rolls   \n29170                            Bread Pudding II   \n209214                    Spooky Witches' Fingers   \n78707                  Easy Chicken with Broccoli   \n144729                       Mom's Zucchini Bread   \n45127                      Chicken Cordon Bleu II   \n219271            Sweet, Sticky and Spicy Chicken   \n179627                        Red Velvet Cupcakes   \n30874                    Broiled Tilapia Parmesan   \n3516                                Alfredo Sauce   \n29498                          Breakfast In A Cup   \n6683                               Apple Crisp II   \n43902        Chewy Chocolate Chip Oatmeal Cookies   \n123656                           Key Lime Pie VII   \n34105                       Buttery Soft Pretzels   \n\n                                                images_id  image_count  \n224015  0037563ca4.jpg , 003b92c18f.jpg , 0068f4dd6a.j...         1647  \n137326  0008000c98.jpg , 001689aa9d.jpg , 001c9165c6.j...         1540  \n7122    001df0cb78.jpg , 0099f126e8.jpg , 00b685903b.j...         1325  \n226242  001ea74601.jpg , 0049a29b83.jpg , 0084dedc7c.j...          997  \n39868   000ebb143a.jpg , 00a4180adf.jpg , 01175d4ff8.j...          742  \n35195   0032312a00.jpg , 00d072475f.jpg , 011a8811a7.j...          717  \n58097   003fe92744.jpg , 0110bb56b8.jpg , 018d9a9340.j...          713  \n17105   00993016a6.jpg , 0812c3cbfa.jpg , 092726ae7e.j...          695  \n241540  405306641c.jpg,0015ad3344.jpg , 00216aad83.jpg...          651  \n38177   0001e7af21.jpg , 00289ba8b4.jpg , 003c0b9b7c.j...          606  \n11636   0024032df5.jpg , 009492f45d.jpg , 00a4b020ce.j...          590  \n27656   0016b98f43.jpg , 01078c3f8b.jpg , 014f77cc28.j...          570  \n5304    345ae16ea8.jpg , 9d0637013f.jpg,f4a9bc9304.jpg...          530  \n13480   00b3d67ff3.jpg , 00c526e691.jpg , 018eaa0c86.j...          515  \n239489  440a02e56d.jpg,01a7aa9b0c.jpg , 01e6253656.jpg...          504  \n159105  00bf341037.jpg , 00ef97468a.jpg , 011f1b7dc2.j...          503  \n99256   00dd266ff6.jpg , 0101a4bacc.jpg , 0167641768.j...          457  \n81645   9e953836fc.jpg , b99db2d854.jpg,00726a7456.jpg...          433  \n22795   13a7650862.jpg,0a36298ad8.jpg , 5bc68de3da.jpg...          428  \n34885   6339c886df.jpg,e7a1c649ef.jpg,12646ce9ce.jpg,0...          396  \n73910   000568f8b0.jpg , 023121c6f2.jpg , 03265658e6.j...          394  \n46049   470ccd86e6.jpg , 9a3178a5d1.jpg , b16c00025d.j...          392  \n162050  b6ce0cfb63.jpg,00063ce55c.jpg , 00a7bbb909.jpg...          388  \n76319   00379b85f6.jpg , 00cb410e1f.jpg , 037cb956cc.j...          379  \n25061   005437d4ee.jpg , 018cb21c4f.jpg , 026374f456.j...          379  \n181570  01fde66548.jpg , 031d3b74ff.jpg , 037bd42b7e.j...          375  \n64224   000e97e36c.jpg , 0090d0548f.jpg , 00f6d54852.j...          373  \n204576  00a06e31d1.jpg , 00b6a24a79.jpg , 00f3f9a73f.j...          364  \n100210  0060bc05c8.jpg , 012f49ed2f.jpg , 019c3742b4.j...          355  \n196942  001b90ae45.jpg , 00d83ec203.jpg , 01a9116213.j...          349  \n23934   0012107f11.jpg , 02b6b35ed0.jpg , 03050213c6.j...          349  \n80490   00d11cf480.jpg , 023d593516.jpg , 02a6a1b67e.j...          342  \n201433  08159f14fe.jpg , 6aae493f73.jpg , 6ef20b0d85.j...          336  \n226183  02cddf02c3.jpg , 2971e75f65.jpg , 46b685261a.j...          336  \n15525   0052bc2c7d.jpg , 015156ffc2.jpg , 025dec4ece.j...          334  \n149828  00bb7e0a45.jpg , 00d73144c5.jpg , 0227122a56.j...          334  \n29170   273d3bc3b8.jpg , 3c7bb34591.jpg , 4e410c9ca2.j...          331  \n209214  0005cb6420.jpg , 0008189863.jpg , 00ef05a8cb.j...          330  \n78707   015ab6caa6.jpg , 020f138280.jpg , 039cf38f42.j...          318  \n144729  00189c1263.jpg , 00a6603658.jpg , 01443f5ce4.j...          317  \n45127   0de07a2171.jpg , 3ae08fdd00.jpg , 4183712e62.j...          309  \n219271  0076fe1d3b.jpg , 00d045df6f.jpg , 01916ebc24.j...          307  \n179627  9df7422e6f.jpg , c55af6f4db.jpg , d32b3d3065.j...          307  \n30874   0127dba5a1.jpg , 0151fdb5ea.jpg , 01744851d4.j...          303  \n3516    a17ab05cc4.jpg,022ed1c6e8.jpg , 09d8b7849e.jpg...          300  \n29498   00e990ce0c.jpg , 00f2b7deea.jpg , 01b259c052.j...          297  \n6683    0061e97b06.jpg , 00cb3da7c4.jpg , 02bc5bfe29.j...          290  \n43902   601001949b.jpg , 768417d978.jpg , 7f95667aba.j...          285  \n123656  017027bcd8.jpg , 0481c712e5.jpg , 0513b0f5e4.j...          282  \n34105   e0c8bacf9d.jpg,008c05a2df.jpg , 017a8f7709.jpg...          281  ",
            "text/html": "<div>\n<style scoped>\n    .dataframe tbody tr th:only-of-type {\n        vertical-align: middle;\n    }\n\n    .dataframe tbody tr th {\n        vertical-align: top;\n    }\n\n    .dataframe thead th {\n        text-align: right;\n    }\n</style>\n<table border=\"1\" class=\"dataframe\">\n  <thead>\n    <tr style=\"text-align: right;\">\n      <th></th>\n      <th>food_title</th>\n      <th>images_id</th>\n      <th>image_count</th>\n    </tr>\n  </thead>\n  <tbody>\n    <tr>\n      <th>224015</th>\n      <td>The Best Rolled Sugar Cookies</td>\n      <td>0037563ca4.jpg , 003b92c18f.jpg , 0068f4dd6a.j...</td>\n      <td>1647</td>\n    </tr>\n    <tr>\n      <th>137326</th>\n      <td>Marshmallow Fondant</td>\n      <td>0008000c98.jpg , 001689aa9d.jpg , 001c9165c6.j...</td>\n      <td>1540</td>\n    </tr>\n    <tr>\n      <th>7122</th>\n      <td>Apple Pie by Grandma Ople</td>\n      <td>001df0cb78.jpg , 0099f126e8.jpg , 00b685903b.j...</td>\n      <td>1325</td>\n    </tr>\n    <tr>\n      <th>226242</th>\n      <td>To Die For Blueberry Muffins</td>\n      <td>001ea74601.jpg , 0049a29b83.jpg , 0084dedc7c.j...</td>\n      <td>997</td>\n    </tr>\n    <tr>\n      <th>39868</th>\n      <td>Chantal's New York Cheesecake</td>\n      <td>000ebb143a.jpg , 00a4180adf.jpg , 01175d4ff8.j...</td>\n      <td>742</td>\n    </tr>\n    <tr>\n      <th>35195</th>\n      <td>Cake Balls</td>\n      <td>0032312a00.jpg , 00d072475f.jpg , 011a8811a7.j...</td>\n      <td>717</td>\n    </tr>\n    <tr>\n      <th>58097</th>\n      <td>Clone of a Cinnabon</td>\n      <td>003fe92744.jpg , 0110bb56b8.jpg , 018d9a9340.j...</td>\n      <td>713</td>\n    </tr>\n    <tr>\n      <th>17105</th>\n      <td>Banana Banana Bread</td>\n      <td>00993016a6.jpg , 0812c3cbfa.jpg , 092726ae7e.j...</td>\n      <td>695</td>\n    </tr>\n    <tr>\n      <th>241540</th>\n      <td>World's Best Lasagna</td>\n      <td>405306641c.jpg,0015ad3344.jpg , 00216aad83.jpg...</td>\n      <td>651</td>\n    </tr>\n    <tr>\n      <th>38177</th>\n      <td>Carrot Cake III</td>\n      <td>0001e7af21.jpg , 00289ba8b4.jpg , 003c0b9b7c.j...</td>\n      <td>606</td>\n    </tr>\n    <tr>\n      <th>11636</th>\n      <td>Award Winning Soft Chocolate Chip Cookies</td>\n      <td>0024032df5.jpg , 009492f45d.jpg , 00a4b020ce.j...</td>\n      <td>590</td>\n    </tr>\n    <tr>\n      <th>27656</th>\n      <td>Bomb Ass Potatoes</td>\n      <td>0016b98f43.jpg , 01078c3f8b.jpg , 014f77cc28.j...</td>\n      <td>570</td>\n    </tr>\n    <tr>\n      <th>5304</th>\n      <td>Amish White Bread</td>\n      <td>345ae16ea8.jpg , 9d0637013f.jpg,f4a9bc9304.jpg...</td>\n      <td>530</td>\n    </tr>\n    <tr>\n      <th>13480</th>\n      <td>Bacon Wrapped Chicken Breast</td>\n      <td>00b3d67ff3.jpg , 00c526e691.jpg , 018eaa0c86.j...</td>\n      <td>515</td>\n    </tr>\n    <tr>\n      <th>239489</th>\n      <td>White Chocolate Raspberry Cheesecake</td>\n      <td>440a02e56d.jpg,01a7aa9b0c.jpg , 01e6253656.jpg...</td>\n      <td>504</td>\n    </tr>\n    <tr>\n      <th>159105</th>\n      <td>Parmesan Chicken Squares</td>\n      <td>00bf341037.jpg , 00ef97468a.jpg , 011f1b7dc2.j...</td>\n      <td>503</td>\n    </tr>\n    <tr>\n      <th>99256</th>\n      <td>Good Old Fashioned Pancakes</td>\n      <td>00dd266ff6.jpg , 0101a4bacc.jpg , 0167641768.j...</td>\n      <td>457</td>\n    </tr>\n    <tr>\n      <th>81645</th>\n      <td>Easy Sugar Cookies</td>\n      <td>9e953836fc.jpg , b99db2d854.jpg,00726a7456.jpg...</td>\n      <td>433</td>\n    </tr>\n    <tr>\n      <th>22795</th>\n      <td>Best Brownies</td>\n      <td>13a7650862.jpg,0a36298ad8.jpg , 5bc68de3da.jpg...</td>\n      <td>428</td>\n    </tr>\n    <tr>\n      <th>34885</th>\n      <td>Cajun Chicken Pasta</td>\n      <td>6339c886df.jpg,e7a1c649ef.jpg,12646ce9ce.jpg,0...</td>\n      <td>396</td>\n    </tr>\n    <tr>\n      <th>73910</th>\n      <td>Delicious Ham and Potato Soup</td>\n      <td>000568f8b0.jpg , 023121c6f2.jpg , 03265658e6.j...</td>\n      <td>394</td>\n    </tr>\n    <tr>\n      <th>46049</th>\n      <td>Chicken Parmesan</td>\n      <td>470ccd86e6.jpg , 9a3178a5d1.jpg , b16c00025d.j...</td>\n      <td>392</td>\n    </tr>\n    <tr>\n      <th>162050</th>\n      <td>Peanut Butter Cup Cookies</td>\n      <td>b6ce0cfb63.jpg,00063ce55c.jpg , 00a7bbb909.jpg...</td>\n      <td>388</td>\n    </tr>\n    <tr>\n      <th>76319</th>\n      <td>Downeast Maine Pumpkin Bread</td>\n      <td>00379b85f6.jpg , 00cb410e1f.jpg , 037cb956cc.j...</td>\n      <td>379</td>\n    </tr>\n    <tr>\n      <th>25061</th>\n      <td>Black Magic Cake</td>\n      <td>005437d4ee.jpg , 018cb21c4f.jpg , 026374f456.j...</td>\n      <td>379</td>\n    </tr>\n    <tr>\n      <th>181570</th>\n      <td>Rick's Special Buttercream Frosting</td>\n      <td>01fde66548.jpg , 031d3b74ff.jpg , 037bd42b7e.j...</td>\n      <td>375</td>\n    </tr>\n    <tr>\n      <th>64224</th>\n      <td>Cream Cheese Frosting II</td>\n      <td>000e97e36c.jpg , 0090d0548f.jpg , 00f6d54852.j...</td>\n      <td>373</td>\n    </tr>\n    <tr>\n      <th>204576</th>\n      <td>Special Buttercream Frosting</td>\n      <td>00a06e31d1.jpg , 00b6a24a79.jpg , 00f3f9a73f.j...</td>\n      <td>364</td>\n    </tr>\n    <tr>\n      <th>100210</th>\n      <td>Grandma's Lemon Meringue Pie</td>\n      <td>0060bc05c8.jpg , 012f49ed2f.jpg , 019c3742b4.j...</td>\n      <td>355</td>\n    </tr>\n    <tr>\n      <th>196942</th>\n      <td>Simple White Cake</td>\n      <td>001b90ae45.jpg , 00d83ec203.jpg , 01a9116213.j...</td>\n      <td>349</td>\n    </tr>\n    <tr>\n      <th>23934</th>\n      <td>Big Soft Ginger Cookies</td>\n      <td>0012107f11.jpg , 02b6b35ed0.jpg , 03050213c6.j...</td>\n      <td>349</td>\n    </tr>\n    <tr>\n      <th>80490</th>\n      <td>Easy OREO Truffles</td>\n      <td>00d11cf480.jpg , 023d593516.jpg , 02a6a1b67e.j...</td>\n      <td>342</td>\n    </tr>\n    <tr>\n      <th>201433</th>\n      <td>Soft Oatmeal Cookies</td>\n      <td>08159f14fe.jpg , 6aae493f73.jpg , 6ef20b0d85.j...</td>\n      <td>336</td>\n    </tr>\n    <tr>\n      <th>226183</th>\n      <td>Tiramisu Layer Cake</td>\n      <td>02cddf02c3.jpg , 2971e75f65.jpg , 46b685261a.j...</td>\n      <td>336</td>\n    </tr>\n    <tr>\n      <th>15525</th>\n      <td>Baked MAC and Cheese</td>\n      <td>0052bc2c7d.jpg , 015156ffc2.jpg , 025dec4ece.j...</td>\n      <td>334</td>\n    </tr>\n    <tr>\n      <th>149828</th>\n      <td>Ninety Minute Cinnamon Rolls</td>\n      <td>00bb7e0a45.jpg , 00d73144c5.jpg , 0227122a56.j...</td>\n      <td>334</td>\n    </tr>\n    <tr>\n      <th>29170</th>\n      <td>Bread Pudding II</td>\n      <td>273d3bc3b8.jpg , 3c7bb34591.jpg , 4e410c9ca2.j...</td>\n      <td>331</td>\n    </tr>\n    <tr>\n      <th>209214</th>\n      <td>Spooky Witches' Fingers</td>\n      <td>0005cb6420.jpg , 0008189863.jpg , 00ef05a8cb.j...</td>\n      <td>330</td>\n    </tr>\n    <tr>\n      <th>78707</th>\n      <td>Easy Chicken with Broccoli</td>\n      <td>015ab6caa6.jpg , 020f138280.jpg , 039cf38f42.j...</td>\n      <td>318</td>\n    </tr>\n    <tr>\n      <th>144729</th>\n      <td>Mom's Zucchini Bread</td>\n      <td>00189c1263.jpg , 00a6603658.jpg , 01443f5ce4.j...</td>\n      <td>317</td>\n    </tr>\n    <tr>\n      <th>45127</th>\n      <td>Chicken Cordon Bleu II</td>\n      <td>0de07a2171.jpg , 3ae08fdd00.jpg , 4183712e62.j...</td>\n      <td>309</td>\n    </tr>\n    <tr>\n      <th>219271</th>\n      <td>Sweet, Sticky and Spicy Chicken</td>\n      <td>0076fe1d3b.jpg , 00d045df6f.jpg , 01916ebc24.j...</td>\n      <td>307</td>\n    </tr>\n    <tr>\n      <th>179627</th>\n      <td>Red Velvet Cupcakes</td>\n      <td>9df7422e6f.jpg , c55af6f4db.jpg , d32b3d3065.j...</td>\n      <td>307</td>\n    </tr>\n    <tr>\n      <th>30874</th>\n      <td>Broiled Tilapia Parmesan</td>\n      <td>0127dba5a1.jpg , 0151fdb5ea.jpg , 01744851d4.j...</td>\n      <td>303</td>\n    </tr>\n    <tr>\n      <th>3516</th>\n      <td>Alfredo Sauce</td>\n      <td>a17ab05cc4.jpg,022ed1c6e8.jpg , 09d8b7849e.jpg...</td>\n      <td>300</td>\n    </tr>\n    <tr>\n      <th>29498</th>\n      <td>Breakfast In A Cup</td>\n      <td>00e990ce0c.jpg , 00f2b7deea.jpg , 01b259c052.j...</td>\n      <td>297</td>\n    </tr>\n    <tr>\n      <th>6683</th>\n      <td>Apple Crisp II</td>\n      <td>0061e97b06.jpg , 00cb3da7c4.jpg , 02bc5bfe29.j...</td>\n      <td>290</td>\n    </tr>\n    <tr>\n      <th>43902</th>\n      <td>Chewy Chocolate Chip Oatmeal Cookies</td>\n      <td>601001949b.jpg , 768417d978.jpg , 7f95667aba.j...</td>\n      <td>285</td>\n    </tr>\n    <tr>\n      <th>123656</th>\n      <td>Key Lime Pie VII</td>\n      <td>017027bcd8.jpg , 0481c712e5.jpg , 0513b0f5e4.j...</td>\n      <td>282</td>\n    </tr>\n    <tr>\n      <th>34105</th>\n      <td>Buttery Soft Pretzels</td>\n      <td>e0c8bacf9d.jpg,008c05a2df.jpg , 017a8f7709.jpg...</td>\n      <td>281</td>\n    </tr>\n  </tbody>\n</table>\n</div>"
          },
          "metadata": {}
        }
      ],
      "execution_count": 43,
      "metadata": {
        "jupyter": {
          "source_hidden": false,
          "outputs_hidden": false
        },
        "nteract": {
          "transient": {
            "deleting": false
          }
        },
        "gather": {
          "logged": 1706892270359
        }
      },
      "id": "d1ca9f91-5202-4751-94eb-8c570d40d946"
    },
    {
      "cell_type": "code",
      "source": [
        "# Function to clean the 'food_title' column\n",
        "def clean_food_title(title):\n",
        "    # Remove Roman numerals\n",
        "#     title_no_roman = re.sub(r'\\b[IVXLCDM]+\\b', '', title)\n",
        "    # Remove numbers, special characters, and apostrophes\n",
        "    cleaned_title = re.sub(r'[^A-Za-z\\s]', '', title)\n",
        "    # Convert to lowercase and replace spaces with underscores\n",
        "    cleaned_title = cleaned_title.lower().replace(' ', '_')\n",
        "    return cleaned_title\n",
        "# Apply the cleaning function to the 'food_title' column\n",
        "df_final['cleaned_food_title'] = df_final['food_title'].apply(clean_food_title)"
      ],
      "outputs": [],
      "execution_count": 57,
      "metadata": {},
      "id": "0d8ae7f5"
    },
    {
      "cell_type": "code",
      "source": [
        "df_final"
      ],
      "outputs": [
        {
          "output_type": "execute_result",
          "execution_count": 58,
          "data": {
            "text/html": "<div>\n<style scoped>\n    .dataframe tbody tr th:only-of-type {\n        vertical-align: middle;\n    }\n\n    .dataframe tbody tr th {\n        vertical-align: top;\n    }\n\n    .dataframe thead th {\n        text-align: right;\n    }\n</style>\n<table border=\"1\" class=\"dataframe\">\n  <thead>\n    <tr style=\"text-align: right;\">\n      <th></th>\n      <th>food_title</th>\n      <th>images_id</th>\n      <th>image_count</th>\n      <th>cleaned_food_title</th>\n    </tr>\n  </thead>\n  <tbody>\n    <tr>\n      <th>264</th>\n      <td>Cake Mix Cookies IV</td>\n      <td>0067511ba4.jpg , 03c878f8a1.jpg , 06b750cee6.j...</td>\n      <td>80</td>\n      <td>cake_mix_cookies_iv</td>\n    </tr>\n    <tr>\n      <th>1090</th>\n      <td>Mom's Favorite Baked Mac and Cheese</td>\n      <td>04b05ea9f7.jpg , 05342ba3e9.jpg , 0a8ddda53d.j...</td>\n      <td>55</td>\n      <td>moms_favorite_baked_mac_and_cheese</td>\n    </tr>\n    <tr>\n      <th>493</th>\n      <td>Cream Corn Like No Other</td>\n      <td>06bda5ecb5.jpg , 06f1654cee.jpg , 0a9e12889a.j...</td>\n      <td>42</td>\n      <td>cream_corn_like_no_other</td>\n    </tr>\n    <tr>\n      <th>92</th>\n      <td>BBQ CHEDDAR CHICKEN CASSEROLE OVER CORNBREAD</td>\n      <td>07c525509f.jpg , 11fc2c7691.jpg , 1990a513c7.j...</td>\n      <td>38</td>\n      <td>bbq_cheddar_chicken_casserole_over_cornbread</td>\n    </tr>\n    <tr>\n      <th>1579</th>\n      <td>Spring Lime Tea Cookies</td>\n      <td>018c9cec29.jpg , 07da83aa9a.jpg , 08b66069d0.j...</td>\n      <td>36</td>\n      <td>spring_lime_tea_cookies</td>\n    </tr>\n  </tbody>\n</table>\n</div>",
            "text/plain": "                                        food_title  \\\n264                            Cake Mix Cookies IV   \n1090           Mom's Favorite Baked Mac and Cheese   \n493                       Cream Corn Like No Other   \n92    BBQ CHEDDAR CHICKEN CASSEROLE OVER CORNBREAD   \n1579                       Spring Lime Tea Cookies   \n\n                                              images_id  image_count  \\\n264   0067511ba4.jpg , 03c878f8a1.jpg , 06b750cee6.j...           80   \n1090  04b05ea9f7.jpg , 05342ba3e9.jpg , 0a8ddda53d.j...           55   \n493   06bda5ecb5.jpg , 06f1654cee.jpg , 0a9e12889a.j...           42   \n92    07c525509f.jpg , 11fc2c7691.jpg , 1990a513c7.j...           38   \n1579  018c9cec29.jpg , 07da83aa9a.jpg , 08b66069d0.j...           36   \n\n                                cleaned_food_title  \n264                            cake_mix_cookies_iv  \n1090            moms_favorite_baked_mac_and_cheese  \n493                       cream_corn_like_no_other  \n92    bbq_cheddar_chicken_casserole_over_cornbread  \n1579                       spring_lime_tea_cookies  "
          },
          "metadata": {}
        }
      ],
      "execution_count": 58,
      "metadata": {},
      "id": "6d5bf1c0"
    },
    {
      "cell_type": "code",
      "source": [
        "# Path to the 'test' folder\n",
        "test_folder_path = 'test_dataset'\n",
        "original_path = 'E:/Masters/2024/498/Recipe1M/Images/test_images'\n",
        "# Create folders for each cleaned_food_title inside the 'test' folder\n",
        "\n",
        "for cleaned_title in df_final['cleaned_food_title']:\n",
        "    folder_path = os.path.join(test_folder_path, cleaned_title)\n",
        "    os.makedirs(folder_path, exist_ok=True)\n",
        "\n",
        "# Copy images into the corresponding folders\n",
        "for index, row in df_final.iterrows():\n",
        "    cleaned_title = row['cleaned_food_title']\n",
        "    folder_path = os.path.join(test_folder_path, cleaned_title)\n",
        "    \n",
        "    # Split the images_id and copy each image to the folder\n",
        "    for image_filename in row['images_id'].split(','):\n",
        "        image_filename = image_filename.strip()\n",
        "        src_path = os.path.join(original_path, image_filename)\n",
        "        dest_path = os.path.join(folder_path, image_filename)\n",
        "        shutil.copy(src_path, dest_path)\n",
        "\n",
        "print(\"Images copied to folders based on 'cleaned_food_title'\")"
      ],
      "outputs": [
        {
          "output_type": "stream",
          "name": "stdout",
          "text": "Images copied to folders based on 'cleaned_food_title'\n"
        }
      ],
      "execution_count": 63,
      "metadata": {},
      "id": "ec3ae951"
    },
    {
      "cell_type": "code",
      "source": [],
      "outputs": [],
      "execution_count": null,
      "metadata": {},
      "id": "34881f13"
    }
  ],
  "metadata": {
    "kernelspec": {
      "name": "python3",
      "language": "python",
      "display_name": "Python 3 (ipykernel)"
    },
    "language_info": {
      "name": "python",
      "version": "3.8.5",
      "mimetype": "text/x-python",
      "codemirror_mode": {
        "name": "ipython",
        "version": 3
      },
      "pygments_lexer": "ipython3",
      "nbconvert_exporter": "python",
      "file_extension": ".py"
    },
    "microsoft": {
      "ms_spell_check": {
        "ms_spell_check_language": "en"
      },
      "host": {
        "AzureML": {
          "notebookHasBeenCompleted": true
        }
      }
    },
    "kernel_info": {
      "name": "python3"
    },
    "nteract": {
      "version": "nteract-front-end@1.0.0"
    }
  },
  "nbformat": 4,
  "nbformat_minor": 5
}