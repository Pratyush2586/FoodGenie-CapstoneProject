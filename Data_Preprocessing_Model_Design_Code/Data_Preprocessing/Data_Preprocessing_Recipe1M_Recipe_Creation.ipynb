{
  "cells": [
    {
      "cell_type": "code",
      "source": [
        "import pandas as pd\n",
        "import numpy as np\n",
        "import re\n",
        "import os\n",
        "import shutil\n",
        "\n",
        "import warnings\n",
        "warnings.filterwarnings(\"ignore\")"
      ],
      "outputs": [],
      "execution_count": 2,
      "metadata": {
        "gather": {
          "logged": 1708195783961
        }
      },
      "id": "473865af"
    },
    {
      "cell_type": "code",
      "source": [
        "import os\n",
        "print(os.getcwd())\n"
      ],
      "outputs": [
        {
          "output_type": "stream",
          "name": "stdout",
          "text": "/mnt/batch/tasks/shared/LS_root/mounts/clusters/ykb65841/code/Users/ykb6584\n"
        }
      ],
      "execution_count": 3,
      "metadata": {
        "jupyter": {
          "source_hidden": false,
          "outputs_hidden": false
        },
        "nteract": {
          "transient": {
            "deleting": false
          }
        },
        "gather": {
          "logged": 1708195787105
        }
      },
      "id": "bf709be9-f033-45e3-b6f5-252ec3711472"
    },
    {
      "cell_type": "code",
      "source": [
        "data = pd.read_csv(\"/mnt/batch/tasks/shared/LS_root/mounts/clusters/ykb65841/code/Users/ykb6584/merged_layer1_and_layer2.csv\")"
      ],
      "outputs": [],
      "execution_count": 4,
      "metadata": {
        "gather": {
          "logged": 1708195805243
        }
      },
      "id": "7197215d"
    },
    {
      "cell_type": "code",
      "source": [
        "data.head()"
      ],
      "outputs": [],
      "execution_count": null,
      "metadata": {
        "gather": {
          "logged": 1708195821823
        }
      },
      "id": "02545d65"
    },
    {
      "cell_type": "code",
      "source": [
        "data.columns"
      ],
      "outputs": [
        {
          "output_type": "execute_result",
          "execution_count": 28,
          "data": {
            "text/plain": "Index(['ID', 'food_title', 'partition', 'recipe_url', 'ingredients',\n       'instructions'],\n      dtype='object')"
          },
          "metadata": {}
        }
      ],
      "execution_count": 28,
      "metadata": {
        "jupyter": {
          "source_hidden": false,
          "outputs_hidden": false
        },
        "nteract": {
          "transient": {
            "deleting": false
          }
        },
        "gather": {
          "logged": 1708197364782
        }
      },
      "id": "2282ed7c-7c34-4880-9621-db2a02d43bde"
    },
    {
      "cell_type": "code",
      "source": [
        "data.drop(['Unnamed: 0','images_id','images_url'],inplace=True,axis=1)"
      ],
      "outputs": [],
      "execution_count": 7,
      "metadata": {
        "jupyter": {
          "source_hidden": false,
          "outputs_hidden": false
        },
        "nteract": {
          "transient": {
            "deleting": false
          }
        },
        "gather": {
          "logged": 1708195830934
        }
      },
      "id": "21baa1bf-7c57-4b0d-839d-86ecaa302614"
    },
    {
      "cell_type": "code",
      "source": [
        "data.columns"
      ],
      "outputs": [
        {
          "output_type": "execute_result",
          "execution_count": 8,
          "data": {
            "text/plain": "Index(['ID', 'food_title', 'partition', 'recipe_url', 'ingredients',\n       'instructions'],\n      dtype='object')"
          },
          "metadata": {}
        }
      ],
      "execution_count": 8,
      "metadata": {
        "jupyter": {
          "source_hidden": false,
          "outputs_hidden": false
        },
        "nteract": {
          "transient": {
            "deleting": false
          }
        },
        "gather": {
          "logged": 1708195833911
        }
      },
      "id": "4d7d0c49-5c6a-493f-9e0c-10ea6cbbbecd"
    },
    {
      "cell_type": "markdown",
      "source": [],
      "metadata": {
        "nteract": {
          "transient": {
            "deleting": false
          }
        }
      },
      "id": "eb359e30-8e99-4993-90ff-6113edc3f3f9"
    },
    {
      "cell_type": "code",
      "source": [
        "data.head()"
      ],
      "outputs": [
        {
          "output_type": "execute_result",
          "execution_count": 9,
          "data": {
            "text/plain": "           ID                                         food_title partition  \\\n0  00003a70b1                          Crunchy Onion Potato Bake      test   \n1  000075604a                    Kombu Tea Grilled Chicken Thigh     train   \n2  00007bfd16                       Strawberry Rhubarb Dump Cake     train   \n3  000095fc1d                                    Yogurt Parfaits     train   \n4  0000b1e2b5  Fennel-Rubbed Pork Tenderloin with Roasted Fen...     train   \n\n                                          recipe_url  \\\n0  http://www.food.com/recipe/crunchy-onion-potat...   \n1  https://cookpad.com/us/recipes/150100-kombu-te...   \n2  http://www.food.com/recipe/strawberry-rhubarb-...   \n3  http://tastykitchen.com/recipes/breakfastbrunc...   \n4  http://www.epicurious.com/recipes/food/views/f...   \n\n                                         ingredients  \\\n0  2 12 cups milk /t 1 12 cups water /t 14 cup bu...   \n1  2 Chicken thighs /t 2 tsp Kombu tea /t 1 White...   \n2  6 -8 cups fresh rhubarb, or /t 6 -8 cups froze...   \n3  8 ounces, weight Light Fat Free Vanilla Yogurt...   \n4  1 teaspoon fennel seeds /t 1 pound pork tender...   \n\n                                        instructions  \n0  Preheat oven to 350 degrees Fahrenheit. /t Spr...  \n1  Pierce the skin of the chicken with a fork or ...  \n2  Put ingredients in a buttered 9 x 12 x 2-inch ...  \n3           Layer all ingredients in a serving dish.  \n4  Preheat oven to 350F with rack in middle. /t C...  ",
            "text/html": "<div>\n<style scoped>\n    .dataframe tbody tr th:only-of-type {\n        vertical-align: middle;\n    }\n\n    .dataframe tbody tr th {\n        vertical-align: top;\n    }\n\n    .dataframe thead th {\n        text-align: right;\n    }\n</style>\n<table border=\"1\" class=\"dataframe\">\n  <thead>\n    <tr style=\"text-align: right;\">\n      <th></th>\n      <th>ID</th>\n      <th>food_title</th>\n      <th>partition</th>\n      <th>recipe_url</th>\n      <th>ingredients</th>\n      <th>instructions</th>\n    </tr>\n  </thead>\n  <tbody>\n    <tr>\n      <th>0</th>\n      <td>00003a70b1</td>\n      <td>Crunchy Onion Potato Bake</td>\n      <td>test</td>\n      <td>http://www.food.com/recipe/crunchy-onion-potat...</td>\n      <td>2 12 cups milk /t 1 12 cups water /t 14 cup bu...</td>\n      <td>Preheat oven to 350 degrees Fahrenheit. /t Spr...</td>\n    </tr>\n    <tr>\n      <th>1</th>\n      <td>000075604a</td>\n      <td>Kombu Tea Grilled Chicken Thigh</td>\n      <td>train</td>\n      <td>https://cookpad.com/us/recipes/150100-kombu-te...</td>\n      <td>2 Chicken thighs /t 2 tsp Kombu tea /t 1 White...</td>\n      <td>Pierce the skin of the chicken with a fork or ...</td>\n    </tr>\n    <tr>\n      <th>2</th>\n      <td>00007bfd16</td>\n      <td>Strawberry Rhubarb Dump Cake</td>\n      <td>train</td>\n      <td>http://www.food.com/recipe/strawberry-rhubarb-...</td>\n      <td>6 -8 cups fresh rhubarb, or /t 6 -8 cups froze...</td>\n      <td>Put ingredients in a buttered 9 x 12 x 2-inch ...</td>\n    </tr>\n    <tr>\n      <th>3</th>\n      <td>000095fc1d</td>\n      <td>Yogurt Parfaits</td>\n      <td>train</td>\n      <td>http://tastykitchen.com/recipes/breakfastbrunc...</td>\n      <td>8 ounces, weight Light Fat Free Vanilla Yogurt...</td>\n      <td>Layer all ingredients in a serving dish.</td>\n    </tr>\n    <tr>\n      <th>4</th>\n      <td>0000b1e2b5</td>\n      <td>Fennel-Rubbed Pork Tenderloin with Roasted Fen...</td>\n      <td>train</td>\n      <td>http://www.epicurious.com/recipes/food/views/f...</td>\n      <td>1 teaspoon fennel seeds /t 1 pound pork tender...</td>\n      <td>Preheat oven to 350F with rack in middle. /t C...</td>\n    </tr>\n  </tbody>\n</table>\n</div>"
          },
          "metadata": {}
        }
      ],
      "execution_count": 9,
      "metadata": {
        "jupyter": {
          "source_hidden": false,
          "outputs_hidden": false
        },
        "nteract": {
          "transient": {
            "deleting": false
          }
        },
        "gather": {
          "logged": 1708195838174
        }
      },
      "id": "2a1e6339-f747-41ff-9377-2756a98006b6"
    },
    {
      "cell_type": "code",
      "source": [
        "data['partition'].value_counts()"
      ],
      "outputs": [
        {
          "output_type": "execute_result",
          "execution_count": 10,
          "data": {
            "text/plain": "partition\ntrain    281598\ntest      60740\nval       60422\nName: count, dtype: int64"
          },
          "metadata": {}
        }
      ],
      "execution_count": 10,
      "metadata": {
        "jupyter": {
          "source_hidden": false,
          "outputs_hidden": false
        },
        "nteract": {
          "transient": {
            "deleting": false
          }
        },
        "gather": {
          "logged": 1708195843883
        }
      },
      "id": "6afd2b6a-8dd7-422f-b2ce-4cd989911b2f"
    },
    {
      "cell_type": "code",
      "source": [],
      "outputs": [],
      "execution_count": null,
      "metadata": {
        "jupyter": {
          "source_hidden": false,
          "outputs_hidden": false
        },
        "nteract": {
          "transient": {
            "deleting": false
          }
        }
      },
      "id": "52e7a9c7-f8c6-4ba7-b91d-b2f20828a068"
    },
    {
      "cell_type": "code",
      "source": [
        "data_train=data.loc[data['partition']=='train']\n"
      ],
      "outputs": [],
      "execution_count": 11,
      "metadata": {
        "jupyter": {
          "source_hidden": false,
          "outputs_hidden": false
        },
        "nteract": {
          "transient": {
            "deleting": false
          }
        },
        "gather": {
          "logged": 1708195850096
        }
      },
      "id": "0af1fef6-7749-4c8d-b23a-b13d076ea899"
    },
    {
      "cell_type": "code",
      "source": [
        "data_train.reset_index(inplace=True,drop=True)\n",
        "data_train.shape"
      ],
      "outputs": [
        {
          "output_type": "execute_result",
          "execution_count": 12,
          "data": {
            "text/plain": "(281598, 6)"
          },
          "metadata": {}
        }
      ],
      "execution_count": 12,
      "metadata": {
        "jupyter": {
          "source_hidden": false,
          "outputs_hidden": false
        },
        "nteract": {
          "transient": {
            "deleting": false
          }
        },
        "gather": {
          "logged": 1708195853590
        }
      },
      "id": "380c6887-5e4c-4114-9a70-07e2fb5a8f5f"
    },
    {
      "cell_type": "markdown",
      "source": [],
      "metadata": {
        "nteract": {
          "transient": {
            "deleting": false
          }
        }
      },
      "id": "9296db79-076e-4934-9624-729cdd30b0a3"
    },
    {
      "cell_type": "code",
      "source": [
        "def duplicate_check(df):\n",
        "   # Check for duplicates in 'food_title' column\n",
        "    duplicates = df[df.duplicated('food_title')]\n",
        "    if duplicates.empty:\n",
        "        print(\"No duplicates found in the 'food_title' column.\")\n",
        "    else:\n",
        "        print(\"Duplicates found in the 'food_title' column:\")\n",
        "        print(duplicates) "
      ],
      "outputs": [],
      "execution_count": 13,
      "metadata": {
        "jupyter": {
          "source_hidden": false,
          "outputs_hidden": false
        },
        "nteract": {
          "transient": {
            "deleting": false
          }
        },
        "gather": {
          "logged": 1708195862071
        }
      },
      "id": "86e5457f-188d-4472-8e22-1371bbe8ecc9"
    },
    {
      "cell_type": "code",
      "source": [
        "duplicate_check(data_train)"
      ],
      "outputs": [
        {
          "output_type": "stream",
          "name": "stdout",
          "text": "Duplicates found in the 'food_title' column:\n                ID                     food_title partition  \\\n569     00815ae6b9                Stuffed peppers     train   \n982     00dc595d6f                 Zucchini Cakes     train   \n1075    00f3548694              Black Bean Hummus     train   \n1534    0152f86662      Mediterranean Pasta Salad     train   \n1650    016daca2b4            Buttermilk Pancakes     train   \n...            ...                            ...       ...   \n281566  fff5d58cfa  Almond Brown Sugar Pound Cake     train   \n281570  fff707d354         Orange Cranberry Bread     train   \n281577  fff9cafaa6             French Bread Rolls     train   \n281578  fffa1e5066            Ham and Potato Soup     train   \n281581  fffa86ca61         Chicken Soup with Rice     train   \n\n                                               recipe_url  \\\n569     https://cookpad.com/us/recipes/352907-stuffed-...   \n982      http://www.food.com/recipe/zucchini-cakes-419315   \n1075    http://www.food.com/recipe/black-bean-hummus-1...   \n1534    http://tastykitchen.com/recipes/salads/mediter...   \n1650    http://www.food.com/recipe/buttermilk-pancakes...   \n...                                                   ...   \n281566  http://tastykitchen.com/recipes/desserts/almon...   \n281570  http://tastykitchen.com/recipes/breads/orange-...   \n281577  http://tastykitchen.com/recipes/breads/french-...   \n281578  http://tastykitchen.com/recipes/soups/ham-and-...   \n281581  http://www.epicurious.com/recipes/food/views/c...   \n\n                                              ingredients  \\\n569     6 piece peppers (color is up to you, I use gre...   \n982     1 large zucchini /t 12 cup freshly grated parm...   \n1075    1 (15 ounce) can black beans, drained (reserve...   \n1534    1 pound Pasta (penne, Rotini, Etc.), Cooked An...   \n1650    12 egg /t 12 cup flour /t 12 cup buttermilk /t...   \n...                                                   ...   \n281566  1 stick Unsalted Butter, At Room Temperature /...   \n281570  2- 1/2 cups Flour /t 1 cup Sugar /t 2 teaspoon...   \n281577  1- 1/2 cup Warm Water /t 1 Tablespoon Active D...   \n281578  2 whole Large Russet Potatoes, Peeled And Cut ...   \n281581  1 (2-lb) rotisserie chicken /t 3 celery ribs /...   \n\n                                             instructions  \n569     Cut the top off of and hollow out the peppers ...  \n982     Grate the zucchini, place into paper towels an...  \n1075    Place beans, garlic, sea salt, cumin, tahini a...  \n1534    Cook the pasta according to package directions...  \n1650    Prepare for the lab barshchep. /t Using a fork...  \n...                                                   ...  \n281566  Preheat the oven to 350 degrees F. Line the bo...  \n281570  Preheat oven to 375 degrees. /t Grease a 9 x 5...  \n281577  1. /t In large bowl, stir together warm water,...  \n281578  Heat a Dutch oven over medium heat with 1 tabl...  \n281581  Remove meat from chicken, reserving skin and b...  \n\n[35588 rows x 6 columns]\n"
        }
      ],
      "execution_count": 14,
      "metadata": {
        "jupyter": {
          "source_hidden": false,
          "outputs_hidden": false
        },
        "nteract": {
          "transient": {
            "deleting": false
          }
        },
        "gather": {
          "logged": 1708195894866
        }
      },
      "id": "aac9dbc5-1330-4b86-94d4-98684a78f50a"
    },
    {
      "cell_type": "code",
      "source": [
        "data_train.shape"
      ],
      "outputs": [
        {
          "output_type": "execute_result",
          "execution_count": 15,
          "data": {
            "text/plain": "(281598, 6)"
          },
          "metadata": {}
        }
      ],
      "execution_count": 15,
      "metadata": {
        "jupyter": {
          "source_hidden": false,
          "outputs_hidden": false
        },
        "nteract": {
          "transient": {
            "deleting": false
          }
        },
        "gather": {
          "logged": 1708195913719
        }
      },
      "id": "c6096568-8c8d-4181-b71c-996d960ffbbb"
    },
    {
      "cell_type": "code",
      "source": [
        "data_train[data_train['food_title']=='Zucchini Cakes']"
      ],
      "outputs": [
        {
          "output_type": "execute_result",
          "execution_count": 15,
          "data": {
            "text/plain": "                ID      food_title partition  \\\n293     0040e8d42a  Zucchini Cakes     train   \n982     00dc595d6f  Zucchini Cakes     train   \n180206  a3cc2d76b8  Zucchini Cakes     train   \n279369  fde396628c  Zucchini Cakes     train   \n\n                                               recipe_url  \\\n293        http://allrecipes.com/recipe/zucchini-cakes-3/   \n982      http://www.food.com/recipe/zucchini-cakes-419315   \n180206         http://cooking.nytimes.com/recipes/1015157   \n279369  http://tastykitchen.com/recipes/appetizers-and...   \n\n                                              ingredients  \\\n293     3 cups coarsely shredded zucchini /t 1/2 teasp...   \n982     1 large zucchini /t 12 cup freshly grated parm...   \n180206  4 medium zucchini /t 1 teaspoon kosher salt /t...   \n279369  1 whole Shredded Zucchini /t 1 Tablespoon Minc...   \n\n                                             instructions  \n293     Place grated zucchini in a colander; sprinkle ...  \n982     Grate the zucchini, place into paper towels an...  \n180206  Trim the ends off the zucchini, then shred the...  \n279369  Wash and cut the ends off of one large zucchin...  ",
            "text/html": "<div>\n<style scoped>\n    .dataframe tbody tr th:only-of-type {\n        vertical-align: middle;\n    }\n\n    .dataframe tbody tr th {\n        vertical-align: top;\n    }\n\n    .dataframe thead th {\n        text-align: right;\n    }\n</style>\n<table border=\"1\" class=\"dataframe\">\n  <thead>\n    <tr style=\"text-align: right;\">\n      <th></th>\n      <th>ID</th>\n      <th>food_title</th>\n      <th>partition</th>\n      <th>recipe_url</th>\n      <th>ingredients</th>\n      <th>instructions</th>\n    </tr>\n  </thead>\n  <tbody>\n    <tr>\n      <th>293</th>\n      <td>0040e8d42a</td>\n      <td>Zucchini Cakes</td>\n      <td>train</td>\n      <td>http://allrecipes.com/recipe/zucchini-cakes-3/</td>\n      <td>3 cups coarsely shredded zucchini /t 1/2 teasp...</td>\n      <td>Place grated zucchini in a colander; sprinkle ...</td>\n    </tr>\n    <tr>\n      <th>982</th>\n      <td>00dc595d6f</td>\n      <td>Zucchini Cakes</td>\n      <td>train</td>\n      <td>http://www.food.com/recipe/zucchini-cakes-419315</td>\n      <td>1 large zucchini /t 12 cup freshly grated parm...</td>\n      <td>Grate the zucchini, place into paper towels an...</td>\n    </tr>\n    <tr>\n      <th>180206</th>\n      <td>a3cc2d76b8</td>\n      <td>Zucchini Cakes</td>\n      <td>train</td>\n      <td>http://cooking.nytimes.com/recipes/1015157</td>\n      <td>4 medium zucchini /t 1 teaspoon kosher salt /t...</td>\n      <td>Trim the ends off the zucchini, then shred the...</td>\n    </tr>\n    <tr>\n      <th>279369</th>\n      <td>fde396628c</td>\n      <td>Zucchini Cakes</td>\n      <td>train</td>\n      <td>http://tastykitchen.com/recipes/appetizers-and...</td>\n      <td>1 whole Shredded Zucchini /t 1 Tablespoon Minc...</td>\n      <td>Wash and cut the ends off of one large zucchin...</td>\n    </tr>\n  </tbody>\n</table>\n</div>"
          },
          "metadata": {}
        }
      ],
      "execution_count": 15,
      "metadata": {
        "jupyter": {
          "source_hidden": false,
          "outputs_hidden": false
        },
        "nteract": {
          "transient": {
            "deleting": false
          }
        },
        "gather": {
          "logged": 1708191107994
        }
      },
      "id": "f23cf497-8386-4f21-aa29-f05708657ea2"
    },
    {
      "cell_type": "code",
      "source": [
        "data_train['instructions'].loc[data_train['food_title']=='Zucchini Cakes']"
      ],
      "outputs": [
        {
          "output_type": "execute_result",
          "execution_count": 16,
          "data": {
            "text/plain": "293       Place grated zucchini in a colander; sprinkle ...\n982       Grate the zucchini, place into paper towels an...\n180206    Trim the ends off the zucchini, then shred the...\n279369    Wash and cut the ends off of one large zucchin...\nName: instructions, dtype: object"
          },
          "metadata": {}
        }
      ],
      "execution_count": 16,
      "metadata": {
        "jupyter": {
          "source_hidden": false,
          "outputs_hidden": false
        },
        "nteract": {
          "transient": {
            "deleting": false
          }
        },
        "gather": {
          "logged": 1708191234502
        }
      },
      "id": "2607224a-0dba-45fe-bf37-4901a33e40de"
    },
    {
      "cell_type": "code",
      "source": [
        "data_train['instructions'].iloc[293]"
      ],
      "outputs": [
        {
          "output_type": "execute_result",
          "execution_count": 17,
          "data": {
            "text/plain": "'Place grated zucchini in a colander; sprinkle with salt and let stand 30 minutes. /t Press with paper towels to remove as much liquid as possible; zucchini should be fairly dry and reduced to about 2 cups. /t Mix zucchini, bread crumbs, green onions, bell pepper, seafood seasoning, mustard, mayonnaise, and red pepper flakes in a large bowl. /t Form into 8 patties, 3 to 4 inches across. /t Heat oil and butter in a skillet over medium-high heat. /t Fry patties until golden brown, about 4 minutes per side. /t Drain on paper towels.'"
          },
          "metadata": {}
        }
      ],
      "execution_count": 17,
      "metadata": {
        "jupyter": {
          "source_hidden": false,
          "outputs_hidden": false
        },
        "nteract": {
          "transient": {
            "deleting": false
          }
        },
        "gather": {
          "logged": 1708191286386
        }
      },
      "id": "df6f56f5-a581-4968-8bdc-53304b4e18f0"
    },
    {
      "cell_type": "code",
      "source": [
        "data_train['instructions'].iloc[982]"
      ],
      "outputs": [
        {
          "output_type": "execute_result",
          "execution_count": 18,
          "data": {
            "text/plain": "'Grate the zucchini, place into paper towels and squeeze to release the excess water. /t Combine all ingredients, except olive oil, in a bowl and mix thoroughly. /t Using a heaping tablespoon form the mixture into 8 patties. /t Heat olive oil in a pan over medium heat. /t Once heated, add patties and cook until golden brown, about 3-4 minutes per side. /t Serve.'"
          },
          "metadata": {}
        }
      ],
      "execution_count": 18,
      "metadata": {
        "jupyter": {
          "source_hidden": false,
          "outputs_hidden": false
        },
        "nteract": {
          "transient": {
            "deleting": false
          }
        },
        "gather": {
          "logged": 1708191308142
        }
      },
      "id": "92a5b49c-aa81-44b6-bfba-bc74613afc04"
    },
    {
      "cell_type": "code",
      "source": [
        "def modify_merge(data):\n",
        "    data['images_id'] = data['images_id'].str.replace('/t', ',')\n",
        "    # Group by 'food_title' and aggregate 'images_id' by combining them\n",
        "    df_merged = data.groupby('food_title', as_index=False).agg({\n",
        "            'images_id': ','.join  # Combine 'images_id' using a comma\n",
        "                })\n",
        "    return df_merged        "
      ],
      "outputs": [],
      "execution_count": 20,
      "metadata": {
        "gather": {
          "logged": 1706892088437
        }
      },
      "id": "dc7ca5ea"
    },
    {
      "cell_type": "code",
      "source": [
        "df_train=modify_merge(data_train)\n",
        "\n"
      ],
      "outputs": [],
      "execution_count": 21,
      "metadata": {
        "jupyter": {
          "source_hidden": false,
          "outputs_hidden": false
        },
        "nteract": {
          "transient": {
            "deleting": false
          }
        },
        "gather": {
          "logged": 1706892100655
        }
      },
      "id": "9a13de98-5f62-4d4f-93b7-f6418c47f51b"
    },
    {
      "cell_type": "code",
      "source": [
        "df_train.head()"
      ],
      "outputs": [
        {
          "output_type": "execute_result",
          "execution_count": 26,
          "data": {
            "text/plain": "                                  food_title  \\\n0                                 \" \" Recipe   \n1  \" Add Anything\" French Rolls or Baguettes   \n2                \" Add in Anything\" Muffins!   \n3               \" All In\" Meatless Mincemeat   \n4                      \" Angel Lush Trifle \"   \n\n                                           images_id  \n0                                     02afdb4c71.jpg  \n1                                     ad700e97ba.jpg  \n2  35939afa42.jpg , 4f5bfd3cd4.jpg , 92abacbafe.j...  \n3                    0b26d6c143.jpg , d8ecad8bd4.jpg  \n4                                     2fc5601160.jpg  ",
            "text/html": "<div>\n<style scoped>\n    .dataframe tbody tr th:only-of-type {\n        vertical-align: middle;\n    }\n\n    .dataframe tbody tr th {\n        vertical-align: top;\n    }\n\n    .dataframe thead th {\n        text-align: right;\n    }\n</style>\n<table border=\"1\" class=\"dataframe\">\n  <thead>\n    <tr style=\"text-align: right;\">\n      <th></th>\n      <th>food_title</th>\n      <th>images_id</th>\n    </tr>\n  </thead>\n  <tbody>\n    <tr>\n      <th>0</th>\n      <td>\" \" Recipe</td>\n      <td>02afdb4c71.jpg</td>\n    </tr>\n    <tr>\n      <th>1</th>\n      <td>\" Add Anything\" French Rolls or Baguettes</td>\n      <td>ad700e97ba.jpg</td>\n    </tr>\n    <tr>\n      <th>2</th>\n      <td>\" Add in Anything\" Muffins!</td>\n      <td>35939afa42.jpg , 4f5bfd3cd4.jpg , 92abacbafe.j...</td>\n    </tr>\n    <tr>\n      <th>3</th>\n      <td>\" All In\" Meatless Mincemeat</td>\n      <td>0b26d6c143.jpg , d8ecad8bd4.jpg</td>\n    </tr>\n    <tr>\n      <th>4</th>\n      <td>\" Angel Lush Trifle \"</td>\n      <td>2fc5601160.jpg</td>\n    </tr>\n  </tbody>\n</table>\n</div>"
          },
          "metadata": {}
        }
      ],
      "execution_count": 26,
      "metadata": {
        "jupyter": {
          "source_hidden": false,
          "outputs_hidden": false
        },
        "nteract": {
          "transient": {
            "deleting": false
          }
        },
        "gather": {
          "logged": 1706892136913
        }
      },
      "id": "7b9ee652-9012-4e96-9ff2-9dc5a5aca9f1"
    },
    {
      "cell_type": "code",
      "source": [
        "list(df_train['images_id'].loc[df_train['food_title']=='Stuffed peppers'])"
      ],
      "outputs": [
        {
          "output_type": "execute_result",
          "execution_count": 30,
          "data": {
            "text/plain": "['33df1c1c41.jpg,9e29fd6934.jpg,8f1d47384d.jpg,1bd219d8b6.jpg , 1ce9bab996.jpg , 32673d5cd9.jpg , 37b69f6cd3.jpg , 4dcd659428.jpg , 74567732f1.jpg , 808b3cc29d.jpg , 848e3a0d59.jpg , 8d3cc60da7.jpg , 8f770a68ad.jpg , a368308daa.jpg , b2ebc3853d.jpg , db5546849f.jpg , de258b6ae5.jpg , e3085b560b.jpg , e8e7bbe1bd.jpg,7a228f830f.jpg,5d29031ccb.jpg,1ee4ee7199.jpg']"
          },
          "metadata": {}
        }
      ],
      "execution_count": 30,
      "metadata": {
        "gather": {
          "logged": 1706892149012
        }
      },
      "id": "9b3f32d7"
    },
    {
      "cell_type": "code",
      "source": [
        "df_train.reset_index(inplace=True,drop=True)\n",
        "df_test.reset_index(inplace=True,drop=True)\n",
        "df_val.reset_index(inplace=True,drop=True)\n",
        "df_train.shape,df_test.shape,df_val.shape"
      ],
      "outputs": [
        {
          "output_type": "execute_result",
          "execution_count": 31,
          "data": {
            "text/plain": "((246010, 2), (57560, 2), (57229, 2))"
          },
          "metadata": {}
        }
      ],
      "execution_count": 31,
      "metadata": {
        "jupyter": {
          "source_hidden": false,
          "outputs_hidden": false
        },
        "nteract": {
          "transient": {
            "deleting": false
          }
        },
        "gather": {
          "logged": 1706892154156
        }
      },
      "id": "f0d7521d-4c12-42ff-8952-41c5f364a712"
    },
    {
      "cell_type": "code",
      "source": [
        "data.loc[data['food_title']=='\" \" Recipe']"
      ],
      "outputs": [
        {
          "output_type": "execute_result",
          "execution_count": 32,
          "data": {
            "text/plain": "                ID  food_title partition       images_id\n193698  7b372faa16  \" \" Recipe     train  02afdb4c71.jpg",
            "text/html": "<div>\n<style scoped>\n    .dataframe tbody tr th:only-of-type {\n        vertical-align: middle;\n    }\n\n    .dataframe tbody tr th {\n        vertical-align: top;\n    }\n\n    .dataframe thead th {\n        text-align: right;\n    }\n</style>\n<table border=\"1\" class=\"dataframe\">\n  <thead>\n    <tr style=\"text-align: right;\">\n      <th></th>\n      <th>ID</th>\n      <th>food_title</th>\n      <th>partition</th>\n      <th>images_id</th>\n    </tr>\n  </thead>\n  <tbody>\n    <tr>\n      <th>193698</th>\n      <td>7b372faa16</td>\n      <td>\" \" Recipe</td>\n      <td>train</td>\n      <td>02afdb4c71.jpg</td>\n    </tr>\n  </tbody>\n</table>\n</div>"
          },
          "metadata": {}
        }
      ],
      "execution_count": 32,
      "metadata": {
        "jupyter": {
          "source_hidden": false,
          "outputs_hidden": false
        },
        "nteract": {
          "transient": {
            "deleting": false
          }
        },
        "gather": {
          "logged": 1706892157483
        }
      },
      "id": "e59cbac9-a783-4cbd-8001-478e0a8d832b"
    },
    {
      "cell_type": "code",
      "source": [
        "df_train.head()"
      ],
      "outputs": [
        {
          "output_type": "execute_result",
          "execution_count": 33,
          "data": {
            "text/plain": "                                  food_title  \\\n0                                 \" \" Recipe   \n1  \" Add Anything\" French Rolls or Baguettes   \n2                \" Add in Anything\" Muffins!   \n3               \" All In\" Meatless Mincemeat   \n4                      \" Angel Lush Trifle \"   \n\n                                           images_id  \n0                                     02afdb4c71.jpg  \n1                                     ad700e97ba.jpg  \n2  35939afa42.jpg , 4f5bfd3cd4.jpg , 92abacbafe.j...  \n3                    0b26d6c143.jpg , d8ecad8bd4.jpg  \n4                                     2fc5601160.jpg  ",
            "text/html": "<div>\n<style scoped>\n    .dataframe tbody tr th:only-of-type {\n        vertical-align: middle;\n    }\n\n    .dataframe tbody tr th {\n        vertical-align: top;\n    }\n\n    .dataframe thead th {\n        text-align: right;\n    }\n</style>\n<table border=\"1\" class=\"dataframe\">\n  <thead>\n    <tr style=\"text-align: right;\">\n      <th></th>\n      <th>food_title</th>\n      <th>images_id</th>\n    </tr>\n  </thead>\n  <tbody>\n    <tr>\n      <th>0</th>\n      <td>\" \" Recipe</td>\n      <td>02afdb4c71.jpg</td>\n    </tr>\n    <tr>\n      <th>1</th>\n      <td>\" Add Anything\" French Rolls or Baguettes</td>\n      <td>ad700e97ba.jpg</td>\n    </tr>\n    <tr>\n      <th>2</th>\n      <td>\" Add in Anything\" Muffins!</td>\n      <td>35939afa42.jpg , 4f5bfd3cd4.jpg , 92abacbafe.j...</td>\n    </tr>\n    <tr>\n      <th>3</th>\n      <td>\" All In\" Meatless Mincemeat</td>\n      <td>0b26d6c143.jpg , d8ecad8bd4.jpg</td>\n    </tr>\n    <tr>\n      <th>4</th>\n      <td>\" Angel Lush Trifle \"</td>\n      <td>2fc5601160.jpg</td>\n    </tr>\n  </tbody>\n</table>\n</div>"
          },
          "metadata": {}
        }
      ],
      "execution_count": 33,
      "metadata": {
        "gather": {
          "logged": 1706892160985
        }
      },
      "id": "fd6dee95"
    },
    {
      "cell_type": "code",
      "source": [
        "df_temp=df_train"
      ],
      "outputs": [],
      "execution_count": 67,
      "metadata": {
        "jupyter": {
          "source_hidden": false,
          "outputs_hidden": false
        },
        "nteract": {
          "transient": {
            "deleting": false
          }
        },
        "gather": {
          "logged": 1706888164411
        }
      },
      "id": "a415ece3-86ac-4e5a-a8a8-74331dfc71e4"
    },
    {
      "cell_type": "code",
      "source": [
        "def image_count(df_merged):\n",
        "    df_merged['image_count'] = df_merged['images_id'].apply(lambda x: len(x.split(',')) if pd.notna(x) else 0)\n",
        "    df_merged = df_merged.sort_values(by='image_count', ascending=False)\n",
        "    return df_merged"
      ],
      "outputs": [],
      "execution_count": 34,
      "metadata": {
        "jupyter": {
          "source_hidden": false,
          "outputs_hidden": false
        },
        "nteract": {
          "transient": {
            "deleting": false
          }
        },
        "gather": {
          "logged": 1706892166214
        }
      },
      "id": "ee92f400-19dd-4a6a-9117-5b6079881e88"
    },
    {
      "cell_type": "code",
      "source": [
        "df_train=image_count(df_train)\n",
        "df_test=image_count(df_test)\n",
        "df_val=image_count(df_val)"
      ],
      "outputs": [],
      "execution_count": 35,
      "metadata": {
        "jupyter": {
          "source_hidden": false,
          "outputs_hidden": false
        },
        "nteract": {
          "transient": {
            "deleting": false
          }
        },
        "gather": {
          "logged": 1706892168928
        }
      },
      "id": "8fa15fe6-cbc4-499a-a1e8-ecf7f05a8833"
    },
    {
      "cell_type": "code",
      "source": [
        "df_test.head()"
      ],
      "outputs": [
        {
          "output_type": "execute_result",
          "execution_count": 36,
          "data": {
            "text/plain": "                       food_title  \\\n4124         Banana Crumb Muffins   \n50248          Sugar Cookie Icing   \n11001          Chicken Pot Pie IX   \n21016             Fluffy Pancakes   \n34343  Mrs. Sigg's Snickerdoodles   \n\n                                               images_id  image_count  \n4124   00388793f8.jpg , 006c367195.jpg , 00ccb25e8b.j...         1035  \n50248  001a132a3f.jpg , 00308d461e.jpg , 0037c4535d.j...          966  \n11001  001defbf8b.jpg , 00305aa742.jpg , 007e8b9a7c.j...          800  \n21016  027d79604e.jpg , 0388ade68b.jpg , 13a63374cb.j...          702  \n34343  002e327a8b.jpg , 007a047685.jpg , 01bfdd510a.j...          386  ",
            "text/html": "<div>\n<style scoped>\n    .dataframe tbody tr th:only-of-type {\n        vertical-align: middle;\n    }\n\n    .dataframe tbody tr th {\n        vertical-align: top;\n    }\n\n    .dataframe thead th {\n        text-align: right;\n    }\n</style>\n<table border=\"1\" class=\"dataframe\">\n  <thead>\n    <tr style=\"text-align: right;\">\n      <th></th>\n      <th>food_title</th>\n      <th>images_id</th>\n      <th>image_count</th>\n    </tr>\n  </thead>\n  <tbody>\n    <tr>\n      <th>4124</th>\n      <td>Banana Crumb Muffins</td>\n      <td>00388793f8.jpg , 006c367195.jpg , 00ccb25e8b.j...</td>\n      <td>1035</td>\n    </tr>\n    <tr>\n      <th>50248</th>\n      <td>Sugar Cookie Icing</td>\n      <td>001a132a3f.jpg , 00308d461e.jpg , 0037c4535d.j...</td>\n      <td>966</td>\n    </tr>\n    <tr>\n      <th>11001</th>\n      <td>Chicken Pot Pie IX</td>\n      <td>001defbf8b.jpg , 00305aa742.jpg , 007e8b9a7c.j...</td>\n      <td>800</td>\n    </tr>\n    <tr>\n      <th>21016</th>\n      <td>Fluffy Pancakes</td>\n      <td>027d79604e.jpg , 0388ade68b.jpg , 13a63374cb.j...</td>\n      <td>702</td>\n    </tr>\n    <tr>\n      <th>34343</th>\n      <td>Mrs. Sigg's Snickerdoodles</td>\n      <td>002e327a8b.jpg , 007a047685.jpg , 01bfdd510a.j...</td>\n      <td>386</td>\n    </tr>\n  </tbody>\n</table>\n</div>"
          },
          "metadata": {}
        }
      ],
      "execution_count": 36,
      "metadata": {
        "jupyter": {
          "source_hidden": false,
          "outputs_hidden": false
        },
        "nteract": {
          "transient": {
            "deleting": false
          }
        },
        "gather": {
          "logged": 1706892171516
        }
      },
      "id": "4f0596aa-b8b4-4a0d-ac84-32c5c033cf5c"
    },
    {
      "cell_type": "code",
      "source": [
        "df_train.head()"
      ],
      "outputs": [
        {
          "output_type": "execute_result",
          "execution_count": 37,
          "data": {
            "text/plain": "                           food_title  \\\n224015  The Best Rolled Sugar Cookies   \n137326            Marshmallow Fondant   \n7122        Apple Pie by Grandma Ople   \n226242   To Die For Blueberry Muffins   \n39868   Chantal's New York Cheesecake   \n\n                                                images_id  image_count  \n224015  0037563ca4.jpg , 003b92c18f.jpg , 0068f4dd6a.j...         1647  \n137326  0008000c98.jpg , 001689aa9d.jpg , 001c9165c6.j...         1540  \n7122    001df0cb78.jpg , 0099f126e8.jpg , 00b685903b.j...         1325  \n226242  001ea74601.jpg , 0049a29b83.jpg , 0084dedc7c.j...          997  \n39868   000ebb143a.jpg , 00a4180adf.jpg , 01175d4ff8.j...          742  ",
            "text/html": "<div>\n<style scoped>\n    .dataframe tbody tr th:only-of-type {\n        vertical-align: middle;\n    }\n\n    .dataframe tbody tr th {\n        vertical-align: top;\n    }\n\n    .dataframe thead th {\n        text-align: right;\n    }\n</style>\n<table border=\"1\" class=\"dataframe\">\n  <thead>\n    <tr style=\"text-align: right;\">\n      <th></th>\n      <th>food_title</th>\n      <th>images_id</th>\n      <th>image_count</th>\n    </tr>\n  </thead>\n  <tbody>\n    <tr>\n      <th>224015</th>\n      <td>The Best Rolled Sugar Cookies</td>\n      <td>0037563ca4.jpg , 003b92c18f.jpg , 0068f4dd6a.j...</td>\n      <td>1647</td>\n    </tr>\n    <tr>\n      <th>137326</th>\n      <td>Marshmallow Fondant</td>\n      <td>0008000c98.jpg , 001689aa9d.jpg , 001c9165c6.j...</td>\n      <td>1540</td>\n    </tr>\n    <tr>\n      <th>7122</th>\n      <td>Apple Pie by Grandma Ople</td>\n      <td>001df0cb78.jpg , 0099f126e8.jpg , 00b685903b.j...</td>\n      <td>1325</td>\n    </tr>\n    <tr>\n      <th>226242</th>\n      <td>To Die For Blueberry Muffins</td>\n      <td>001ea74601.jpg , 0049a29b83.jpg , 0084dedc7c.j...</td>\n      <td>997</td>\n    </tr>\n    <tr>\n      <th>39868</th>\n      <td>Chantal's New York Cheesecake</td>\n      <td>000ebb143a.jpg , 00a4180adf.jpg , 01175d4ff8.j...</td>\n      <td>742</td>\n    </tr>\n  </tbody>\n</table>\n</div>"
          },
          "metadata": {}
        }
      ],
      "execution_count": 37,
      "metadata": {
        "jupyter": {
          "source_hidden": false,
          "outputs_hidden": false
        },
        "nteract": {
          "transient": {
            "deleting": false
          }
        },
        "gather": {
          "logged": 1706892174301
        }
      },
      "id": "d1872cbf-9064-4564-8171-4fb6be36881b"
    },
    {
      "cell_type": "code",
      "source": [
        "df_val.head()"
      ],
      "outputs": [
        {
          "output_type": "execute_result",
          "execution_count": 38,
          "data": {
            "text/plain": "                                       food_title  \\\n5344                  Best Chocolate Chip Cookies   \n5321   Best Big, Fat, Chewy Chocolate Chip Cookie   \n53135                     Too Much Chocolate Cake   \n7827                            Buttercream Icing   \n43283                  Rolled Buttercream Fondant   \n\n                                               images_id  image_count  \n5344   00011ef4c3.jpg , 0021833df3.jpg , 00baed5d92.j...          991  \n5321   0000d643c9.jpg , 00253e2e7b.jpg , 002958c0e0.j...          921  \n53135  00117647ef.jpg , 00547ec935.jpg , 014382d3bb.j...          742  \n7827   005645da6f.jpg , 00893578e7.jpg , 0127631bb2.j...          533  \n43283  000b5bafbd.jpg , 0031302660.jpg , 00c7984387.j...          435  ",
            "text/html": "<div>\n<style scoped>\n    .dataframe tbody tr th:only-of-type {\n        vertical-align: middle;\n    }\n\n    .dataframe tbody tr th {\n        vertical-align: top;\n    }\n\n    .dataframe thead th {\n        text-align: right;\n    }\n</style>\n<table border=\"1\" class=\"dataframe\">\n  <thead>\n    <tr style=\"text-align: right;\">\n      <th></th>\n      <th>food_title</th>\n      <th>images_id</th>\n      <th>image_count</th>\n    </tr>\n  </thead>\n  <tbody>\n    <tr>\n      <th>5344</th>\n      <td>Best Chocolate Chip Cookies</td>\n      <td>00011ef4c3.jpg , 0021833df3.jpg , 00baed5d92.j...</td>\n      <td>991</td>\n    </tr>\n    <tr>\n      <th>5321</th>\n      <td>Best Big, Fat, Chewy Chocolate Chip Cookie</td>\n      <td>0000d643c9.jpg , 00253e2e7b.jpg , 002958c0e0.j...</td>\n      <td>921</td>\n    </tr>\n    <tr>\n      <th>53135</th>\n      <td>Too Much Chocolate Cake</td>\n      <td>00117647ef.jpg , 00547ec935.jpg , 014382d3bb.j...</td>\n      <td>742</td>\n    </tr>\n    <tr>\n      <th>7827</th>\n      <td>Buttercream Icing</td>\n      <td>005645da6f.jpg , 00893578e7.jpg , 0127631bb2.j...</td>\n      <td>533</td>\n    </tr>\n    <tr>\n      <th>43283</th>\n      <td>Rolled Buttercream Fondant</td>\n      <td>000b5bafbd.jpg , 0031302660.jpg , 00c7984387.j...</td>\n      <td>435</td>\n    </tr>\n  </tbody>\n</table>\n</div>"
          },
          "metadata": {}
        }
      ],
      "execution_count": 38,
      "metadata": {
        "jupyter": {
          "source_hidden": false,
          "outputs_hidden": false
        },
        "nteract": {
          "transient": {
            "deleting": false
          }
        },
        "gather": {
          "logged": 1706892177107
        }
      },
      "id": "3e12a4fd-472a-493c-b03d-40d6ca88111d"
    },
    {
      "cell_type": "code",
      "source": [
        "len(df_train[df_train.image_count>=300])"
      ],
      "outputs": [
        {
          "output_type": "execute_result",
          "execution_count": 39,
          "data": {
            "text/plain": "45"
          },
          "metadata": {}
        }
      ],
      "execution_count": 39,
      "metadata": {
        "jupyter": {
          "source_hidden": false,
          "outputs_hidden": false
        },
        "nteract": {
          "transient": {
            "deleting": false
          }
        },
        "gather": {
          "logged": 1706892179902
        }
      },
      "id": "79e1731c-4920-48c3-a009-60b418ca80fb"
    },
    {
      "cell_type": "code",
      "source": [
        "df_train[df_train.image_count>=300]"
      ],
      "outputs": [],
      "execution_count": null,
      "metadata": {
        "jupyter": {
          "source_hidden": false,
          "outputs_hidden": false
        },
        "nteract": {
          "transient": {
            "deleting": false
          }
        }
      },
      "id": "43242589-9808-479a-9b7c-baeb58c4a20d"
    },
    {
      "cell_type": "code",
      "source": [
        "# Assuming df_train is your DataFrame\n",
        "filtered_df = df_train[df_train['image_count'] >= 300]\n",
        "\n",
        "# Extract food_title values from the filtered DataFrame and store in a list\n",
        "food_title_list = filtered_df['food_title'].tolist()\n",
        "\n",
        "# Print or use the food_title_list as needed\n",
        "print(food_title_list)\n"
      ],
      "outputs": [
        {
          "output_type": "stream",
          "name": "stdout",
          "text": "['The Best Rolled Sugar Cookies', 'Marshmallow Fondant', 'Apple Pie by Grandma Ople', 'To Die For Blueberry Muffins', \"Chantal's New York Cheesecake\", 'Cake Balls', 'Clone of a Cinnabon', 'Banana Banana Bread', \"World's Best Lasagna\", 'Carrot Cake III', 'Award Winning Soft Chocolate Chip Cookies', 'Bomb Ass Potatoes', 'Amish White Bread', 'Bacon Wrapped Chicken Breast', 'White Chocolate Raspberry Cheesecake', 'Parmesan Chicken Squares', 'Good Old Fashioned Pancakes', 'Easy Sugar Cookies', 'Best Brownies', 'Cajun Chicken Pasta', 'Delicious Ham and Potato Soup', 'Chicken Parmesan', 'Peanut Butter Cup Cookies', 'Downeast Maine Pumpkin Bread', 'Black Magic Cake', \"Rick's Special Buttercream Frosting\", 'Cream Cheese Frosting II', 'Special Buttercream Frosting', \"Grandma's Lemon Meringue Pie\", 'Simple White Cake', 'Big Soft Ginger Cookies', 'Easy OREO Truffles', 'Soft Oatmeal Cookies', 'Tiramisu Layer Cake', 'Baked MAC and Cheese', 'Ninety Minute Cinnamon Rolls', 'Bread Pudding II', \"Spooky Witches' Fingers\", 'Easy Chicken with Broccoli', \"Mom's Zucchini Bread\", 'Chicken Cordon Bleu II', 'Sweet, Sticky and Spicy Chicken', 'Red Velvet Cupcakes', 'Broiled Tilapia Parmesan', 'Alfredo Sauce']\n"
        }
      ],
      "execution_count": 40,
      "metadata": {
        "jupyter": {
          "source_hidden": false,
          "outputs_hidden": false
        },
        "nteract": {
          "transient": {
            "deleting": false
          }
        },
        "gather": {
          "logged": 1706892185906
        }
      },
      "id": "919a010d-5759-4a41-bdd1-9b15259ad3c5"
    },
    {
      "cell_type": "code",
      "source": [
        "# Assuming food_title_list is the list obtained from df_train\n",
        "# Assuming df_val and df_test are your other DataFrames\n",
        "\n",
        "# Check if the values in food_title_list exist in df_val\n",
        "#matching_val = df_val[df_val['food_title'].isin(food_title_list)]\n",
        "\n",
        "# Check if the values in food_title_list exist in df_test\n",
        "#matching_test = df_test[df_test['food_title'].isin(food_title_list)]\n",
        "\n",
        "# Print or use the matching DataFrames as needed\n",
        "#print(\"Matching values in df_val:\")\n",
        "#print(matching_val)\n",
        "\n",
        "#print(\"\\nMatching values in df_test:\")\n",
        "#print(matching_test)\n"
      ],
      "outputs": [],
      "execution_count": 87,
      "metadata": {
        "jupyter": {
          "source_hidden": false,
          "outputs_hidden": false
        },
        "nteract": {
          "transient": {
            "deleting": false
          }
        },
        "gather": {
          "logged": 1706889044858
        }
      },
      "id": "7414d108-7fbc-4a61-8a11-a9885824f982"
    },
    {
      "cell_type": "code",
      "source": [
        "recipes = [\n",
        "    \"The Best Rolled Sugar Cookies\",\n",
        "    \"Marshmallow Fondant\",\n",
        "    \"Apple Pie by Grandma Ople\",\n",
        "    \"To Die For Blueberry Muffins\",\n",
        "    \"Chantal's New York Cheesecake\",\n",
        "    \"Cake Balls\",\n",
        "    \"Clone of a Cinnabon\",\n",
        "    \"Banana Banana Bread\",\n",
        "    \"World's Best Lasagna\",\n",
        "    \"Carrot Cake III\",\n",
        "    \"Award Winning Soft Chocolate Chip Cookies\",\n",
        "    \"Bomb Ass Potatoes\",\n",
        "    \"Amish White Bread\",\n",
        "    \"Bacon Wrapped Chicken Breast\",\n",
        "    \"White Chocolate Raspberry Cheesecake\",\n",
        "    \"Parmesan Chicken Squares\",\n",
        "    \"Good Old Fashioned Pancakes\",\n",
        "    \"Easy Sugar Cookies\",\n",
        "    \"Best Brownies\",\n",
        "    \"Cajun Chicken Pasta\",\n",
        "    \"Delicious Ham and Potato Soup\",\n",
        "    \"Chicken Parmesan\",\n",
        "    \"Peanut Butter Cup Cookies\",\n",
        "    \"Downeast Maine Pumpkin Bread\",\n",
        "    \"Black Magic Cake\",\n",
        "    \"Rick's Special Buttercream Frosting\",\n",
        "    \"Cream Cheese Frosting II\",\n",
        "    \"Special Buttercream Frosting\",\n",
        "    \"Grandma's Lemon Meringue Pie\",\n",
        "    \"Simple White Cake\",\n",
        "    \"Big Soft Ginger Cookies\",\n",
        "    \"Easy OREO Truffles\",\n",
        "    \"Soft Oatmeal Cookies\",\n",
        "    \"Tiramisu Layer Cake\",\n",
        "    \"Baked MAC and Cheese\",\n",
        "    \"Ninety Minute Cinnamon Rolls\",\n",
        "    \"Bread Pudding II\",\n",
        "    \"Spooky Witches' Fingers\",\n",
        "    \"Easy Chicken with Broccoli\",\n",
        "    \"Mom's Zucchini Bread\",\n",
        "    \"Chicken Cordon Bleu II\",\n",
        "    \"Sweet, Sticky and Spicy Chicken\",\n",
        "    \"Red Velvet Cupcakes\",\n",
        "    \"Broiled Tilapia Parmesan\",\n",
        "    \"Alfredo Sauce\"\n",
        "]"
      ],
      "outputs": [],
      "execution_count": 16,
      "metadata": {
        "jupyter": {
          "source_hidden": false,
          "outputs_hidden": false
        },
        "nteract": {
          "transient": {
            "deleting": false
          }
        },
        "gather": {
          "logged": 1708196063998
        }
      },
      "id": "faf2b297-5b8b-48bf-96ee-e1eab17aaa32"
    },
    {
      "cell_type": "code",
      "source": [
        "# Filter the DataFrame based on the recipes\n",
        "filtered_df = data_train[data_train['food_title'].isin(recipes)]\n",
        "\n",
        "print(filtered_df)"
      ],
      "outputs": [
        {
          "output_type": "stream",
          "name": "stdout",
          "text": "                ID                     food_title partition  \\\n283     003f5c1abe         Chicken Cordon Bleu II     train   \n413     005d660e01            Red Velvet Cupcakes     train   \n3124    02cf02ed70            Banana Banana Bread     train   \n4144    03b1a2a0dc                  Alfredo Sauce     train   \n4162    03b668bbd5              Amish White Bread     train   \n...            ...                            ...       ...   \n268543  f40c5d4388  Delicious Ham and Potato Soup     train   \n268560  f41097bf07   Grandma's Lemon Meringue Pie     train   \n270809  f61b117c67            Cajun Chicken Pasta     train   \n271970  f72160a06c            Red Velvet Cupcakes     train   \n275410  fa5759141e               Chicken Parmesan     train   \n\n                                               recipe_url  \\\n283     http://www.food.com/recipe/chicken-cordon-bleu...   \n413     http://www.food.com/recipe/red-velvet-cupcakes...   \n3124    http://www.food.com/recipe/banana-banana-bread...   \n4144       http://www.food.com/recipe/alfredo-sauce-64196   \n4162    http://www.food.com/recipe/amish-white-bread-8...   \n...                                                   ...   \n268543  http://www.food.com/recipe/delicious-ham-and-p...   \n268560  http://allrecipes.com/recipe/grandmas-lemon-me...   \n270809  http://tastykitchen.com/recipes/main-courses/c...   \n271970  http://allrecipes.com/recipe/red-velvet-cupcak...   \n275410  http://www.food.com/recipe/chicken-parmesan-18...   \n\n                                              ingredients  \\\n283     2 boneless skinless chicken breast halves /t 4...   \n413     2 12 cups cake flour, sifted (not self- rising...   \n3124    2 cups all-purpose flour /t 1 teaspoon baking ...   \n4144    12 cup butter /t 8 ounces cream cheese /t 8 ou...   \n4162    2 cups warm water /t 23 cup white sugar /t 1 1...   \n...                                                   ...   \n268543  3 12 cups peeled and diced potatoes /t 13 cup ...   \n268560  1 cup white sugar /t 2 tablespoons all-purpose...   \n270809  1/2 boxes Spaghetti (1 Pound Box) /t 2 Tablesp...   \n271970  2 1/2 cups flour /t 1/2 cup unsweetened cocoa ...   \n275410  4 boneless skinless chicken breasts (about 1-1...   \n\n                                             instructions  \n283     Place chicken breasts between 2 pieces of plas...  \n413     Preheat oven to 350 degrees. /t Line standard ...  \n3124    Preheat oven to 350. /t Lightly grease 9 x 5 l...  \n4144    Melt butter in sauce pan. /t Add cream cheese ...  \n4162    In a large bowl, dissolve the sugar in warm wa...  \n...                                                   ...  \n268543  1. /t Combine the potatoes, celery, onion, ham...  \n268560  Preheat oven to 350 degrees F (175 degrees C)....  \n270809  1. /t Put some water in a medium pot for the p...  \n271970  Preheat oven to 350 degrees F. Mix flour, coco...  \n275410  Preheat the oven to 450 degrees F. /t Get the ...  \n\n[151 rows x 6 columns]\n"
        }
      ],
      "execution_count": 17,
      "metadata": {
        "jupyter": {
          "source_hidden": false,
          "outputs_hidden": false
        },
        "nteract": {
          "transient": {
            "deleting": false
          }
        },
        "gather": {
          "logged": 1708196068922
        }
      },
      "id": "897f745a-4984-4f67-b81e-f84750833b1f"
    },
    {
      "cell_type": "code",
      "source": [
        "filtered_df.shape"
      ],
      "outputs": [
        {
          "output_type": "execute_result",
          "execution_count": 18,
          "data": {
            "text/plain": "(151, 6)"
          },
          "metadata": {}
        }
      ],
      "execution_count": 18,
      "metadata": {
        "jupyter": {
          "source_hidden": false,
          "outputs_hidden": false
        },
        "nteract": {
          "transient": {
            "deleting": false
          }
        },
        "gather": {
          "logged": 1708196084349
        }
      },
      "id": "1403cec3-55e2-4476-834c-02e4251301af"
    },
    {
      "cell_type": "code",
      "source": [
        "filtered_df['instructions'].loc[filtered_df['food_title']=='The Best Rolled Sugar Cookies']"
      ],
      "outputs": [
        {
          "output_type": "execute_result",
          "execution_count": 20,
          "data": {
            "text/plain": "117851    In a large bowl, cream together butter and sug...\n205737    Mix Flour, salt, and baking powder in separate...\nName: instructions, dtype: object"
          },
          "metadata": {}
        }
      ],
      "execution_count": 20,
      "metadata": {
        "jupyter": {
          "source_hidden": false,
          "outputs_hidden": false
        },
        "nteract": {
          "transient": {
            "deleting": false
          }
        },
        "gather": {
          "logged": 1708196207032
        }
      },
      "id": "107b8890-48cb-4d31-a1a1-995130080a34"
    },
    {
      "cell_type": "code",
      "source": [
        "# Identify duplicated rows based on 'food_titles'\n",
        "duplicated_rows = filtered_df[filtered_df.duplicated('food_title', keep=False)]\n",
        "\n",
        "# Print the duplicated rows\n",
        "print(duplicated_rows)\n"
      ],
      "outputs": [
        {
          "output_type": "stream",
          "name": "stdout",
          "text": "                ID                     food_title partition  \\\n283     003f5c1abe         Chicken Cordon Bleu II     train   \n413     005d660e01            Red Velvet Cupcakes     train   \n3124    02cf02ed70            Banana Banana Bread     train   \n4144    03b1a2a0dc                  Alfredo Sauce     train   \n4162    03b668bbd5              Amish White Bread     train   \n...            ...                            ...       ...   \n267020  f2a43dcc7b    Good Old Fashioned Pancakes     train   \n268543  f40c5d4388  Delicious Ham and Potato Soup     train   \n270809  f61b117c67            Cajun Chicken Pasta     train   \n271970  f72160a06c            Red Velvet Cupcakes     train   \n275410  fa5759141e               Chicken Parmesan     train   \n\n                                               recipe_url  \\\n283     http://www.food.com/recipe/chicken-cordon-bleu...   \n413     http://www.food.com/recipe/red-velvet-cupcakes...   \n3124    http://www.food.com/recipe/banana-banana-bread...   \n4144       http://www.food.com/recipe/alfredo-sauce-64196   \n4162    http://www.food.com/recipe/amish-white-bread-8...   \n...                                                   ...   \n267020  http://www.food.com/recipe/good-old-fashioned-...   \n268543  http://www.food.com/recipe/delicious-ham-and-p...   \n270809  http://tastykitchen.com/recipes/main-courses/c...   \n271970  http://allrecipes.com/recipe/red-velvet-cupcak...   \n275410  http://www.food.com/recipe/chicken-parmesan-18...   \n\n                                              ingredients  \\\n283     2 boneless skinless chicken breast halves /t 4...   \n413     2 12 cups cake flour, sifted (not self- rising...   \n3124    2 cups all-purpose flour /t 1 teaspoon baking ...   \n4144    12 cup butter /t 8 ounces cream cheese /t 8 ou...   \n4162    2 cups warm water /t 23 cup white sugar /t 1 1...   \n...                                                   ...   \n267020  1 12 cups all-purpose flour /t 3 12 teaspoons ...   \n268543  3 12 cups peeled and diced potatoes /t 13 cup ...   \n270809  1/2 boxes Spaghetti (1 Pound Box) /t 2 Tablesp...   \n271970  2 1/2 cups flour /t 1/2 cup unsweetened cocoa ...   \n275410  4 boneless skinless chicken breasts (about 1-1...   \n\n                                             instructions  \n283     Place chicken breasts between 2 pieces of plas...  \n413     Preheat oven to 350 degrees. /t Line standard ...  \n3124    Preheat oven to 350. /t Lightly grease 9 x 5 l...  \n4144    Melt butter in sauce pan. /t Add cream cheese ...  \n4162    In a large bowl, dissolve the sugar in warm wa...  \n...                                                   ...  \n267020  In a large bowl, sift together the flour, baki...  \n268543  1. /t Combine the potatoes, celery, onion, ham...  \n270809  1. /t Put some water in a medium pot for the p...  \n271970  Preheat oven to 350 degrees F. Mix flour, coco...  \n275410  Preheat the oven to 450 degrees F. /t Get the ...  \n\n[132 rows x 6 columns]\n"
        }
      ],
      "execution_count": 21,
      "metadata": {
        "jupyter": {
          "source_hidden": false,
          "outputs_hidden": false
        },
        "nteract": {
          "transient": {
            "deleting": false
          }
        },
        "gather": {
          "logged": 1708196290138
        }
      },
      "id": "b9aaf4f5-628a-44d0-9d2a-a9b926f8c9f6"
    },
    {
      "cell_type": "code",
      "source": [
        "df=filtered_df"
      ],
      "outputs": [],
      "execution_count": 23,
      "metadata": {
        "jupyter": {
          "source_hidden": false,
          "outputs_hidden": false
        },
        "nteract": {
          "transient": {
            "deleting": false
          }
        },
        "gather": {
          "logged": 1708196385856
        }
      },
      "id": "fc67be8b-e3b6-4d16-8e41-199ceb01487e"
    },
    {
      "cell_type": "code",
      "source": [
        "# Filter the original DataFrame based on 'food_title' values in duplicated_rows\n",
        "filtered_df1 = df[df['food_title'].isin(duplicated_rows['food_title'])]\n",
        "\n",
        "# Sort both DataFrames by 'food_title' for easier comparison\n",
        "filtered_df1.sort_values(by='food_title', inplace=True)\n",
        "duplicated_rows.sort_values(by='food_title', inplace=True)\n",
        "\n",
        "# Print both DataFrames for comparison\n",
        "print(\"Filtered DataFrame based on duplicated food_titles:\")\n",
        "print(filtered_df1)\n",
        "print(\"\\nDuplicated rows based on 'food_title' column:\")\n",
        "print(duplicated_rows)\n"
      ],
      "outputs": [
        {
          "output_type": "stream",
          "name": "stdout",
          "text": "Filtered DataFrame based on duplicated food_titles:\n                ID                            food_title partition  \\\n190592  ad23aeecec                         Alfredo Sauce     train   \n69570   3f5f231ecf                         Alfredo Sauce     train   \n4144    03b1a2a0dc                         Alfredo Sauce     train   \n200254  b5fe5ce04c                         Alfredo Sauce     train   \n149354  87dc2bb739                         Alfredo Sauce     train   \n...            ...                                   ...       ...   \n26211   17b99396ed  White Chocolate Raspberry Cheesecake     train   \n265503  f150245fa4  White Chocolate Raspberry Cheesecake     train   \n116927  6a56b51b4b                  World's Best Lasagna     train   \n260550  ece313e00e                  World's Best Lasagna     train   \n191059  ad8b146869                  World's Best Lasagna     train   \n\n                                               recipe_url  \\\n190592    http://www.food.com/recipe/alfredo-sauce-115662   \n69570       http://allrecipes.com/recipe/alfredo-sauce-2/   \n4144       http://www.food.com/recipe/alfredo-sauce-64196   \n200254    http://www.food.com/recipe/alfredo-sauce-163837   \n149354  https://cookpad.com/us/recipes/344708-alfredo-...   \n...                                                   ...   \n26211   http://tastykitchen.com/recipes/desserts/white...   \n265503  http://allrecipes.com/recipe/white-chocolate-r...   \n116927  http://www.food.com/recipe/worlds-best-lasagna...   \n260550  http://www.food.com/recipe/worlds-best-lasagna...   \n191059  http://allrecipes.com/recipe/worlds-best-lasagna/   \n\n                                              ingredients  \\\n190592  1 pint whipping cream /t 14 cup butter /t minc...   \n69570   1/4 cup butter /t 1 cup heavy cream /t 1 clove...   \n4144    12 cup butter /t 8 ounces cream cheese /t 8 ou...   \n200254  3 tablespoons butter /t 3 -4 garlic cloves, mi...   \n149354  1 stick butter /t 1 cup heavy cream /t 1 salt ...   \n...                                                   ...   \n26211   8 ounces, weight Cream Cheese, Fat Free, Room ...   \n265503  1 cup chocolate cookie crumbs /t 3 tablespoons...   \n116927  1 lb sweet Italian sausage /t 34 lb lean groun...   \n260550  10 -12 uncooked lasagna noodles /t 1 lb ground...   \n191059  1 pound sweet Italian sausage /t 3/4 pound lea...   \n\n                                             instructions  \n190592  Mix all together. /t Heat for 3 mins in microw...  \n69570   Melt butter in a medium saucepan over medium l...  \n4144    Melt butter in sauce pan. /t Add cream cheese ...  \n200254  In a bowl microwave butter and garlic on h igh...  \n149354  In sauce pan or skillet, warm the butter and c...  \n...                                                   ...  \n26211   Preheat oven to 275 degrees F. /t Line a stand...  \n265503  In a medium bowl, mix together cookie crumbs, ...  \n116927  In a Dutch oven, cook sausage, ground beef, on...  \n260550  Preheat oven to 350 degrees F. /t Combine beef...  \n191059  In a Dutch oven, cook sausage, ground beef, on...  \n\n[132 rows x 6 columns]\n\nDuplicated rows based on 'food_title' column:\n                ID                            food_title partition  \\\n190592  ad23aeecec                         Alfredo Sauce     train   \n69570   3f5f231ecf                         Alfredo Sauce     train   \n4144    03b1a2a0dc                         Alfredo Sauce     train   \n200254  b5fe5ce04c                         Alfredo Sauce     train   \n149354  87dc2bb739                         Alfredo Sauce     train   \n...            ...                                   ...       ...   \n26211   17b99396ed  White Chocolate Raspberry Cheesecake     train   \n265503  f150245fa4  White Chocolate Raspberry Cheesecake     train   \n116927  6a56b51b4b                  World's Best Lasagna     train   \n260550  ece313e00e                  World's Best Lasagna     train   \n191059  ad8b146869                  World's Best Lasagna     train   \n\n                                               recipe_url  \\\n190592    http://www.food.com/recipe/alfredo-sauce-115662   \n69570       http://allrecipes.com/recipe/alfredo-sauce-2/   \n4144       http://www.food.com/recipe/alfredo-sauce-64196   \n200254    http://www.food.com/recipe/alfredo-sauce-163837   \n149354  https://cookpad.com/us/recipes/344708-alfredo-...   \n...                                                   ...   \n26211   http://tastykitchen.com/recipes/desserts/white...   \n265503  http://allrecipes.com/recipe/white-chocolate-r...   \n116927  http://www.food.com/recipe/worlds-best-lasagna...   \n260550  http://www.food.com/recipe/worlds-best-lasagna...   \n191059  http://allrecipes.com/recipe/worlds-best-lasagna/   \n\n                                              ingredients  \\\n190592  1 pint whipping cream /t 14 cup butter /t minc...   \n69570   1/4 cup butter /t 1 cup heavy cream /t 1 clove...   \n4144    12 cup butter /t 8 ounces cream cheese /t 8 ou...   \n200254  3 tablespoons butter /t 3 -4 garlic cloves, mi...   \n149354  1 stick butter /t 1 cup heavy cream /t 1 salt ...   \n...                                                   ...   \n26211   8 ounces, weight Cream Cheese, Fat Free, Room ...   \n265503  1 cup chocolate cookie crumbs /t 3 tablespoons...   \n116927  1 lb sweet Italian sausage /t 34 lb lean groun...   \n260550  10 -12 uncooked lasagna noodles /t 1 lb ground...   \n191059  1 pound sweet Italian sausage /t 3/4 pound lea...   \n\n                                             instructions  \n190592  Mix all together. /t Heat for 3 mins in microw...  \n69570   Melt butter in a medium saucepan over medium l...  \n4144    Melt butter in sauce pan. /t Add cream cheese ...  \n200254  In a bowl microwave butter and garlic on h igh...  \n149354  In sauce pan or skillet, warm the butter and c...  \n...                                                   ...  \n26211   Preheat oven to 275 degrees F. /t Line a stand...  \n265503  In a medium bowl, mix together cookie crumbs, ...  \n116927  In a Dutch oven, cook sausage, ground beef, on...  \n260550  Preheat oven to 350 degrees F. /t Combine beef...  \n191059  In a Dutch oven, cook sausage, ground beef, on...  \n\n[132 rows x 6 columns]\n"
        }
      ],
      "execution_count": 24,
      "metadata": {
        "jupyter": {
          "source_hidden": false,
          "outputs_hidden": false
        },
        "nteract": {
          "transient": {
            "deleting": false
          }
        },
        "gather": {
          "logged": 1708196401714
        }
      },
      "id": "7e028174-a27a-4f34-a2a7-ce3f815db916"
    },
    {
      "cell_type": "code",
      "source": [
        "# Remove duplicated rows based on 'food_title' column\n",
        "unique_df = df.drop_duplicates(subset='food_title', keep='first')\n",
        "\n",
        "# Print the unique DataFrame\n",
        "print(unique_df)\n"
      ],
      "outputs": [
        {
          "output_type": "stream",
          "name": "stdout",
          "text": "                ID                                 food_title partition  \\\n283     003f5c1abe                     Chicken Cordon Bleu II     train   \n413     005d660e01                        Red Velvet Cupcakes     train   \n3124    02cf02ed70                        Banana Banana Bread     train   \n4144    03b1a2a0dc                              Alfredo Sauce     train   \n4162    03b668bbd5                          Amish White Bread     train   \n8852    0801f0a665                           Bread Pudding II     train   \n10751   09b9f76e66                  Peanut Butter Cup Cookies     train   \n11005   09f915621b                   Broiled Tilapia Parmesan     train   \n15735   0e46b84a82                          Simple White Cake     train   \n17772   10161f93c9                           Chicken Parmesan     train   \n19733   11dd5cb8ad               To Die For Blueberry Muffins     train   \n26211   17b99396ed       White Chocolate Raspberry Cheesecake     train   \n27711   190b0bf77e                Good Old Fashioned Pancakes     train   \n33597   1e5ce452a2                        Marshmallow Fondant     train   \n37867   22493bd476              Chantal's New York Cheesecake     train   \n42577   2694996b12                        Cajun Chicken Pasta     train   \n44458   28584cfe30                                 Cake Balls     train   \n46256   29f548ac08               Downeast Maine Pumpkin Bread     train   \n47593   2b3fc94329                         Easy OREO Truffles     train   \n58512   35490d8d22               Ninety Minute Cinnamon Rolls     train   \n60367   36fee2a14b                        Clone of a Cinnabon     train   \n68837   3eb6f5b898                            Carrot Cake III     train   \n81809   4a6af9e6d1               Bacon Wrapped Chicken Breast     train   \n85964   4e363c50ec                       Soft Oatmeal Cookies     train   \n94073   5573a2b0d1            Sweet, Sticky and Spicy Chicken     train   \n96912   5809e8b1af                       Mom's Zucchini Bread     train   \n108442  62a7cb12c2                       Baked MAC and Cheese     train   \n109645  63c4c3d755                    Big Soft Ginger Cookies     train   \n115749  694b2eb143                 Easy Chicken with Broccoli     train   \n115763  694f0c8695                              Best Brownies     train   \n116927  6a56b51b4b                       World's Best Lasagna     train   \n117851  6b3b2a34a1              The Best Rolled Sugar Cookies     train   \n125751  725992725c        Rick's Special Buttercream Frosting     train   \n127726  741ec9f709                   Parmesan Chicken Squares     train   \n130040  763c10e294  Award Winning Soft Chocolate Chip Cookies     train   \n140940  8031a5284f                          Bomb Ass Potatoes     train   \n146291  85054eb50d              Delicious Ham and Potato Soup     train   \n151866  8a260f2fcc               Special Buttercream Frosting     train   \n172363  9cabac8225                         Easy Sugar Cookies     train   \n172456  9cc494d4b3                    Spooky Witches' Fingers     train   \n180741  a444a573b1                           Black Magic Cake     train   \n195384  b18238bfcc                   Cream Cheese Frosting II     train   \n221099  c8cfd3be0b                        Tiramisu Layer Cake     train   \n250893  e418e92d38                  Apple Pie by Grandma Ople     train   \n268560  f41097bf07               Grandma's Lemon Meringue Pie     train   \n\n                                               recipe_url  \\\n283     http://www.food.com/recipe/chicken-cordon-bleu...   \n413     http://www.food.com/recipe/red-velvet-cupcakes...   \n3124    http://www.food.com/recipe/banana-banana-bread...   \n4144       http://www.food.com/recipe/alfredo-sauce-64196   \n4162    http://www.food.com/recipe/amish-white-bread-8...   \n8852     http://allrecipes.com/recipe/bread-pudding-ii-2/   \n10751   http://tastykitchen.com/recipes/desserts/peanu...   \n11005   http://allrecipes.com/recipe/broiled-tilapia-p...   \n15735     http://allrecipes.com/recipe/simple-white-cake/   \n17772   http://www.food.com/recipe/chicken-parmesan-20...   \n19733   http://allrecipes.com/recipe/to-die-for-bluebe...   \n26211   http://tastykitchen.com/recipes/desserts/white...   \n27711   http://allrecipes.com/recipe/good-old-fashione...   \n33597   http://allrecipes.com/recipe/marshmallow-fondant/   \n37867   http://allrecipes.com/recipe/chantals-new-york...   \n42577   http://tastykitchen.com/recipes/main-courses/c...   \n44458            http://allrecipes.com/recipe/cake-balls/   \n46256   http://allrecipes.com/recipe/downeast-maine-pu...   \n47593    http://allrecipes.com/recipe/easy-oreo-truffles/   \n58512   http://allrecipes.com/recipe/ninety-minute-cin...   \n60367   http://allrecipes.com/recipe/clone-of-a-cinnabon/   \n68837       http://allrecipes.com/recipe/carrot-cake-iii/   \n81809   https://cookpad.com/us/recipes/330994-bacon-wr...   \n85964   https://cookpad.com/us/recipes/330356-soft-oat...   \n94073   http://allrecipes.com/recipe/sweet-sticky-and-...   \n96912   http://allrecipes.com/recipe/moms-zucchini-bread/   \n108442  https://cookpad.com/us/recipes/330578-baked-ma...   \n109645  http://allrecipes.com/recipe/big-soft-ginger-c...   \n115749  https://cookpad.com/us/recipes/338239-easy-chi...   \n115763  http://tastykitchen.com/recipes/desserts/best-...   \n116927  http://www.food.com/recipe/worlds-best-lasagna...   \n117851  http://allrecipes.com/recipe/the-best-rolled-s...   \n125751  http://allrecipes.com/recipe/ricks-special-but...   \n127726  https://cookpad.com/us/recipes/333769-parmesan...   \n130040  http://allrecipes.com/recipe/award-winning-sof...   \n140940  https://cookpad.com/us/recipes/331806-bomb-ass...   \n146291  http://allrecipes.com/recipe/delicious-ham-and...   \n151866  http://allrecipes.com/recipe/special-buttercre...   \n172363  https://cookpad.com/us/recipes/331015-easy-sug...   \n172456  http://allrecipes.com/recipe/spooky-witches-fi...   \n180741     http://allrecipes.com/recipe/black-magic-cake/   \n195384  http://allrecipes.com/recipe/cream-cheese-fros...   \n221099  http://www.food.com/recipe/tiramisu-layer-cake...   \n250893  http://allrecipes.com/recipe/apple-pie-by-gran...   \n268560  http://allrecipes.com/recipe/grandmas-lemon-me...   \n\n                                              ingredients  \\\n283     2 boneless skinless chicken breast halves /t 4...   \n413     2 12 cups cake flour, sifted (not self- rising...   \n3124    2 cups all-purpose flour /t 1 teaspoon baking ...   \n4144    12 cup butter /t 8 ounces cream cheese /t 8 ou...   \n4162    2 cups warm water /t 23 cup white sugar /t 1 1...   \n8852    2 tablespoons butter, softened /t 2 1/2 cups c...   \n10751   1 cup Packed Brown Sugar /t 1/2 cups Butter, S...   \n11005   1/2 cup Parmesan cheese /t 1/4 cup butter, sof...   \n15735   1 cup white sugar /t 1/2 cup butter /t 2 eggs ...   \n17772   4 boneless skinless chicken breasts /t 2 eggs,...   \n19733   1 1/2 cups all-purpose flour /t 3/4 cup white ...   \n26211   8 ounces, weight Cream Cheese, Fat Free, Room ...   \n27711   1 1/2 cups all-purpose flour /t 3 1/2 teaspoon...   \n33597   1/4 cup butter /t 1 (16 ounce) package miniatu...   \n37867   15 graham crackers, crushed /t 2 tablespoons b...   \n42577   1 box Penne Pasta /t 2 pieces Chicken Breast, ...   \n44458   1 (18.25 ounce) package chocolate cake mix /t ...   \n46256   1 (15 ounce) can pumpkin puree /t 4 eggs /t 1 ...   \n47593   1 (16 ounce) package OREO Chocolate Sandwich C...   \n58512   3/4 cup milk /t 1/4 cup margarine, softened /t...   \n60367   1 cup warm milk (110 degrees F/45 degrees C) /...   \n68837   4 eggs /t 1 1/4 cups vegetable oil /t 2 cups w...   \n81809   2 lb Chicken breasts /t 12 Strips of Bacon /t ...   \n85964   1 cup butter, softened /t 1 cup white sugar /t...   \n94073   1 tablespoon brown sugar /t 2 tablespoons hone...   \n96912   3 cups all-purpose flour /t 1 teaspoon salt /t...   \n108442  16 oz elbow macaroni /t 2 cup cheddar cheese /...   \n109645  2 1/4 cups all-purpose flour /t 2 teaspoons gr...   \n115749  1 1/2 boneless, skinless chicken breasts, cut ...   \n115763  4 ounces, weight Unsweetened Chocolate /t 2 st...   \n116927  1 lb sweet Italian sausage /t 34 lb lean groun...   \n117851  1 1/2 cups butter, softened /t 2 cups white su...   \n125751  2 cups shortening /t 8 cups confectioners' sug...   \n127726  2 cup cooked chicken (diced) /t 3 oz soft crea...   \n130040  4 1/2 cups all-purpose flour /t 2 teaspoons ba...   \n140940  4 large potatoes /t 3 cup shredded cheddar che...   \n146291  3 1/2 cups peeled and diced potatoes /t 1/3 cu...   \n151866  2 cups shortening /t 8 cups confectioners' sug...   \n172363  1 tsp baking soda /t 1/2 tsp baking powder /t ...   \n172456  1 cup butter, softened /t 1 cup confectioners'...   \n180741  1 3/4 cups all-purpose flour /t 2 cups white s...   \n195384  2 (8 ounce) packages cream cheese, softened /t...   \n221099  1 (18 1/4 ounce) package white cake mix /t 3 e...   \n250893  1 recipe pastry for a 9 inch double crust pie ...   \n268560  1 cup white sugar /t 2 tablespoons all-purpose...   \n\n                                             instructions  \n283     Place chicken breasts between 2 pieces of plas...  \n413     Preheat oven to 350 degrees. /t Line standard ...  \n3124    Preheat oven to 350. /t Lightly grease 9 x 5 l...  \n4144    Melt butter in sauce pan. /t Add cream cheese ...  \n4162    In a large bowl, dissolve the sugar in warm wa...  \n8852    Preheat oven to 300 degrees F (150 degrees C)....  \n10751   In a large bowl, use an electric mixer on medi...  \n11005   Preheat your oven's broiler. /t Grease a broil...  \n15735   Preheat oven to 350 degrees F (175 degrees C)....  \n17772   Preheat oven to 400 degrees. /t With a mallet ...  \n19733   Preheat oven to 400 degrees F (200 degrees C)....  \n26211   Preheat oven to 275 degrees F. /t Line a stand...  \n27711   In a large bowl, sift together the flour, baki...  \n33597   Place the butter in a shallow bowl, and set as...  \n37867   Preheat oven to 350 degrees F (175 degrees C)....  \n42577   Cook pasta until al dente. /t Drain. /t Place ...  \n44458   Prepare the cake mix according to package dire...  \n46256   Preheat oven to 350 degrees F (175 degrees C)....  \n47593   Crush 9 of the cookies to fine crumbs in food ...  \n58512   Heat the milk in a small saucepan until it bub...  \n60367   Place ingredients in the pan of the bread mach...  \n68837   Preheat oven to 350 degrees F (175 degrees C)....  \n81809   Preheat oven to 375F. /t Cut and trim chicken ...  \n85964   In a medium bowl, cream together butter, white...  \n94073   Mix together brown sugar, honey, soy sauce, gi...  \n96912   Grease and flour two 8 x 4 inch pans. /t Prehe...  \n108442  cook elbows according to direction. /t melt bu...  \n109645  Preheat oven to 350 degrees F (175 degrees C)....  \n115749  Whisk together the marinade ingredients (bakin...  \n115763  Grease and flour a 13 x 9 pan. /t Heat oven to...  \n116927  In a Dutch oven, cook sausage, ground beef, on...  \n117851  In a large bowl, cream together butter and sug...  \n125751  In a mixing bowl, cream shortening until fluff...  \n127726  Preheat oven to 350 degrees F /t Blend cream c...  \n130040  Preheat oven to 350 degrees F (175 degrees C)....  \n140940  Preheat oven to 425F. /t That's right, this ai...  \n146291  Combine the potatoes, celery, onion, ham and w...  \n151866  Cream shortening until fluffy. /t Add confecti...  \n172363  preheat oven to 375. /t Stir together flour, b...  \n172456  Combine the butter, sugar, egg, almond extract...  \n180741  Preheat oven to 350 degrees F (175 degrees C)....  \n195384  In a medium bowl, cream together the cream che...  \n221099  Preheat oven to 350F Grease and flour 3 (9-inc...  \n250893  Preheat oven to 425 degrees F (220 degrees C)....  \n268560  Preheat oven to 350 degrees F (175 degrees C)....  \n"
        }
      ],
      "execution_count": 25,
      "metadata": {
        "jupyter": {
          "source_hidden": false,
          "outputs_hidden": false
        },
        "nteract": {
          "transient": {
            "deleting": false
          }
        },
        "gather": {
          "logged": 1708196470491
        }
      },
      "id": "2f65f07d-d674-46e6-bb36-dc41006c36d2"
    },
    {
      "cell_type": "code",
      "source": [
        "# Print the unique DataFrame\n",
        "unique_df.shape"
      ],
      "outputs": [
        {
          "output_type": "execute_result",
          "execution_count": 26,
          "data": {
            "text/plain": "(45, 6)"
          },
          "metadata": {}
        }
      ],
      "execution_count": 26,
      "metadata": {
        "jupyter": {
          "source_hidden": false,
          "outputs_hidden": false
        },
        "nteract": {
          "transient": {
            "deleting": false
          }
        },
        "gather": {
          "logged": 1708196483590
        }
      },
      "id": "34f5ba73-693a-4d98-9564-f3f6f17794fa"
    },
    {
      "cell_type": "code",
      "source": [
        "filtered_df['food_title'].value_counts()"
      ],
      "outputs": [
        {
          "output_type": "execute_result",
          "execution_count": 26,
          "data": {
            "text/plain": "food_title\nChicken Parmesan                             22\nRed Velvet Cupcakes                          17\nPeanut Butter Cup Cookies                    12\nAlfredo Sauce                                12\nCajun Chicken Pasta                           9\nCake Balls                                    5\nAmish White Bread                             5\nMarshmallow Fondant                           4\nSoft Oatmeal Cookies                          4\nBread Pudding II                              3\nSimple White Cake                             3\nWorld's Best Lasagna                          3\nBest Brownies                                 3\nDelicious Ham and Potato Soup                 3\nTiramisu Layer Cake                           3\nBanana Banana Bread                           3\nDowneast Maine Pumpkin Bread                  3\nThe Best Rolled Sugar Cookies                 2\nEasy Sugar Cookies                            2\nChicken Cordon Bleu II                        2\nNinety Minute Cinnamon Rolls                  2\nEasy OREO Truffles                            2\nParmesan Chicken Squares                      2\nGood Old Fashioned Pancakes                   2\nWhite Chocolate Raspberry Cheesecake          2\nBroiled Tilapia Parmesan                      2\nCream Cheese Frosting II                      1\nBlack Magic Cake                              1\nSpooky Witches' Fingers                       1\nSpecial Buttercream Frosting                  1\nBomb Ass Potatoes                             1\nApple Pie by Grandma Ople                     1\nAward Winning Soft Chocolate Chip Cookies     1\nBacon Wrapped Chicken Breast                  1\nRick's Special Buttercream Frosting           1\nEasy Chicken with Broccoli                    1\nBig Soft Ginger Cookies                       1\nBaked MAC and Cheese                          1\nMom's Zucchini Bread                          1\nSweet, Sticky and Spicy Chicken               1\nCarrot Cake III                               1\nClone of a Cinnabon                           1\nChantal's New York Cheesecake                 1\nTo Die For Blueberry Muffins                  1\nGrandma's Lemon Meringue Pie                  1\nName: count, dtype: int64"
          },
          "metadata": {}
        }
      ],
      "execution_count": 26,
      "metadata": {
        "jupyter": {
          "source_hidden": false,
          "outputs_hidden": false
        },
        "nteract": {
          "transient": {
            "deleting": false
          }
        },
        "gather": {
          "logged": 1708192254506
        }
      },
      "id": "dd8ed655-e3d4-414b-96ee-26816cbd3f3e"
    },
    {
      "cell_type": "code",
      "source": [
        "len(filtered_df)"
      ],
      "outputs": [],
      "execution_count": null,
      "metadata": {
        "jupyter": {
          "source_hidden": false,
          "outputs_hidden": false
        },
        "nteract": {
          "transient": {
            "deleting": false
          }
        }
      },
      "id": "14c2ce9e-bb09-472d-a677-072ed7e004d9"
    },
    {
      "cell_type": "code",
      "source": [
        "filtered_df.columns"
      ],
      "outputs": [
        {
          "output_type": "execute_result",
          "execution_count": 32,
          "data": {
            "text/plain": "Index(['ID', 'food_title', 'partition', 'recipe_url', 'ingredients',\n       'instructions'],\n      dtype='object')"
          },
          "metadata": {}
        }
      ],
      "execution_count": 32,
      "metadata": {
        "jupyter": {
          "source_hidden": false,
          "outputs_hidden": false
        },
        "nteract": {
          "transient": {
            "deleting": false
          }
        },
        "gather": {
          "logged": 1708193143630
        }
      },
      "id": "73d0c06a-f96f-477a-b497-2cdb70bba5a4"
    },
    {
      "cell_type": "code",
      "source": [
        "# Select the instruction with maximum length for each food title\n",
        "final_df=pd.DataFrame(filtered_df.groupby(['ID', 'food_title', 'recipe_url','ingredients'])['instructions'].max())\n",
        "\n",
        "\n",
        "\n"
      ],
      "outputs": [],
      "execution_count": 42,
      "metadata": {
        "jupyter": {
          "source_hidden": false,
          "outputs_hidden": false
        },
        "nteract": {
          "transient": {
            "deleting": false
          }
        },
        "gather": {
          "logged": 1708193756912
        }
      },
      "id": "7468e62f-b276-46a5-8d1a-929ea2aaf029"
    },
    {
      "cell_type": "code",
      "source": [
        "# Convert DataFrame to records with fixed indentation\n",
        "records = final_df.to_records(index=False)\n",
        "\n",
        "# Convert records back to DataFrame\n",
        "final_df_fixed = pd.DataFrame(records)\n",
        "\n",
        "\n",
        "final_df_fixed.head()"
      ],
      "outputs": [
        {
          "output_type": "execute_result",
          "execution_count": 45,
          "data": {
            "text/plain": "                                        instructions\n0  Place chicken breasts between 2 pieces of plas...\n1  Preheat oven to 350 degrees. /t Line standard ...\n2  Preheat oven to 350. /t Lightly grease 9 x 5 l...\n3  Melt butter in sauce pan. /t Add cream cheese ...\n4  In a large bowl, dissolve the sugar in warm wa...",
            "text/html": "<div>\n<style scoped>\n    .dataframe tbody tr th:only-of-type {\n        vertical-align: middle;\n    }\n\n    .dataframe tbody tr th {\n        vertical-align: top;\n    }\n\n    .dataframe thead th {\n        text-align: right;\n    }\n</style>\n<table border=\"1\" class=\"dataframe\">\n  <thead>\n    <tr style=\"text-align: right;\">\n      <th></th>\n      <th>instructions</th>\n    </tr>\n  </thead>\n  <tbody>\n    <tr>\n      <th>0</th>\n      <td>Place chicken breasts between 2 pieces of plas...</td>\n    </tr>\n    <tr>\n      <th>1</th>\n      <td>Preheat oven to 350 degrees. /t Line standard ...</td>\n    </tr>\n    <tr>\n      <th>2</th>\n      <td>Preheat oven to 350. /t Lightly grease 9 x 5 l...</td>\n    </tr>\n    <tr>\n      <th>3</th>\n      <td>Melt butter in sauce pan. /t Add cream cheese ...</td>\n    </tr>\n    <tr>\n      <th>4</th>\n      <td>In a large bowl, dissolve the sugar in warm wa...</td>\n    </tr>\n  </tbody>\n</table>\n</div>"
          },
          "metadata": {}
        }
      ],
      "execution_count": 45,
      "metadata": {
        "jupyter": {
          "source_hidden": false,
          "outputs_hidden": false
        },
        "nteract": {
          "transient": {
            "deleting": false
          }
        },
        "gather": {
          "logged": 1708193843611
        }
      },
      "id": "fea469d0-ae28-4b2a-b2a9-710647c6d532"
    },
    {
      "cell_type": "code",
      "source": [
        "final_df.reset_index(inplace=True)"
      ],
      "outputs": [],
      "execution_count": 49,
      "metadata": {
        "jupyter": {
          "source_hidden": false,
          "outputs_hidden": false
        },
        "nteract": {
          "transient": {
            "deleting": false
          }
        },
        "gather": {
          "logged": 1708193988208
        }
      },
      "id": "37104d21-2f0d-4a44-acb3-fbecedeb7875"
    },
    {
      "cell_type": "code",
      "source": [
        "final_df.head()"
      ],
      "outputs": [
        {
          "output_type": "execute_result",
          "execution_count": 50,
          "data": {
            "text/plain": "           ID              food_title  \\\n0  003f5c1abe  Chicken Cordon Bleu II   \n1  005d660e01     Red Velvet Cupcakes   \n2  02cf02ed70     Banana Banana Bread   \n3  03b1a2a0dc           Alfredo Sauce   \n4  03b668bbd5       Amish White Bread   \n\n                                          recipe_url  \\\n0  http://www.food.com/recipe/chicken-cordon-bleu...   \n1  http://www.food.com/recipe/red-velvet-cupcakes...   \n2  http://www.food.com/recipe/banana-banana-bread...   \n3     http://www.food.com/recipe/alfredo-sauce-64196   \n4  http://www.food.com/recipe/amish-white-bread-8...   \n\n                                         ingredients  \\\n0  2 boneless skinless chicken breast halves /t 4...   \n1  2 12 cups cake flour, sifted (not self- rising...   \n2  2 cups all-purpose flour /t 1 teaspoon baking ...   \n3  12 cup butter /t 8 ounces cream cheese /t 8 ou...   \n4  2 cups warm water /t 23 cup white sugar /t 1 1...   \n\n                                        instructions  \n0  Place chicken breasts between 2 pieces of plas...  \n1  Preheat oven to 350 degrees. /t Line standard ...  \n2  Preheat oven to 350. /t Lightly grease 9 x 5 l...  \n3  Melt butter in sauce pan. /t Add cream cheese ...  \n4  In a large bowl, dissolve the sugar in warm wa...  ",
            "text/html": "<div>\n<style scoped>\n    .dataframe tbody tr th:only-of-type {\n        vertical-align: middle;\n    }\n\n    .dataframe tbody tr th {\n        vertical-align: top;\n    }\n\n    .dataframe thead th {\n        text-align: right;\n    }\n</style>\n<table border=\"1\" class=\"dataframe\">\n  <thead>\n    <tr style=\"text-align: right;\">\n      <th></th>\n      <th>ID</th>\n      <th>food_title</th>\n      <th>recipe_url</th>\n      <th>ingredients</th>\n      <th>instructions</th>\n    </tr>\n  </thead>\n  <tbody>\n    <tr>\n      <th>0</th>\n      <td>003f5c1abe</td>\n      <td>Chicken Cordon Bleu II</td>\n      <td>http://www.food.com/recipe/chicken-cordon-bleu...</td>\n      <td>2 boneless skinless chicken breast halves /t 4...</td>\n      <td>Place chicken breasts between 2 pieces of plas...</td>\n    </tr>\n    <tr>\n      <th>1</th>\n      <td>005d660e01</td>\n      <td>Red Velvet Cupcakes</td>\n      <td>http://www.food.com/recipe/red-velvet-cupcakes...</td>\n      <td>2 12 cups cake flour, sifted (not self- rising...</td>\n      <td>Preheat oven to 350 degrees. /t Line standard ...</td>\n    </tr>\n    <tr>\n      <th>2</th>\n      <td>02cf02ed70</td>\n      <td>Banana Banana Bread</td>\n      <td>http://www.food.com/recipe/banana-banana-bread...</td>\n      <td>2 cups all-purpose flour /t 1 teaspoon baking ...</td>\n      <td>Preheat oven to 350. /t Lightly grease 9 x 5 l...</td>\n    </tr>\n    <tr>\n      <th>3</th>\n      <td>03b1a2a0dc</td>\n      <td>Alfredo Sauce</td>\n      <td>http://www.food.com/recipe/alfredo-sauce-64196</td>\n      <td>12 cup butter /t 8 ounces cream cheese /t 8 ou...</td>\n      <td>Melt butter in sauce pan. /t Add cream cheese ...</td>\n    </tr>\n    <tr>\n      <th>4</th>\n      <td>03b668bbd5</td>\n      <td>Amish White Bread</td>\n      <td>http://www.food.com/recipe/amish-white-bread-8...</td>\n      <td>2 cups warm water /t 23 cup white sugar /t 1 1...</td>\n      <td>In a large bowl, dissolve the sugar in warm wa...</td>\n    </tr>\n  </tbody>\n</table>\n</div>"
          },
          "metadata": {}
        }
      ],
      "execution_count": 50,
      "metadata": {
        "jupyter": {
          "source_hidden": false,
          "outputs_hidden": false
        },
        "nteract": {
          "transient": {
            "deleting": false
          }
        },
        "gather": {
          "logged": 1708193991121
        }
      },
      "id": "be7f5667-f92f-46e4-908f-ce04f903a65e"
    },
    {
      "cell_type": "code",
      "source": [
        "# Replace '/t' with tab spaces in the 'ingredients' column\n",
        "final_df['ingredients'] = final_df['ingredients'].str.replace('\\t', '/t')\n",
        "\n",
        "# Print the formatted DataFrame\n",
        "final_df.head()\n"
      ],
      "outputs": [
        {
          "output_type": "execute_result",
          "execution_count": 52,
          "data": {
            "text/plain": "           ID              food_title  \\\n0  003f5c1abe  Chicken Cordon Bleu II   \n1  005d660e01     Red Velvet Cupcakes   \n2  02cf02ed70     Banana Banana Bread   \n3  03b1a2a0dc           Alfredo Sauce   \n4  03b668bbd5       Amish White Bread   \n\n                                          recipe_url  \\\n0  http://www.food.com/recipe/chicken-cordon-bleu...   \n1  http://www.food.com/recipe/red-velvet-cupcakes...   \n2  http://www.food.com/recipe/banana-banana-bread...   \n3     http://www.food.com/recipe/alfredo-sauce-64196   \n4  http://www.food.com/recipe/amish-white-bread-8...   \n\n                                         ingredients  \\\n0  2 boneless skinless chicken breast halves /t 4...   \n1  2 12 cups cake flour, sifted (not self- rising...   \n2  2 cups all-purpose flour /t 1 teaspoon baking ...   \n3  12 cup butter /t 8 ounces cream cheese /t 8 ou...   \n4  2 cups warm water /t 23 cup white sugar /t 1 1...   \n\n                                        instructions  \n0  Place chicken breasts between 2 pieces of plas...  \n1  Preheat oven to 350 degrees. /t Line standard ...  \n2  Preheat oven to 350. /t Lightly grease 9 x 5 l...  \n3  Melt butter in sauce pan. /t Add cream cheese ...  \n4  In a large bowl, dissolve the sugar in warm wa...  ",
            "text/html": "<div>\n<style scoped>\n    .dataframe tbody tr th:only-of-type {\n        vertical-align: middle;\n    }\n\n    .dataframe tbody tr th {\n        vertical-align: top;\n    }\n\n    .dataframe thead th {\n        text-align: right;\n    }\n</style>\n<table border=\"1\" class=\"dataframe\">\n  <thead>\n    <tr style=\"text-align: right;\">\n      <th></th>\n      <th>ID</th>\n      <th>food_title</th>\n      <th>recipe_url</th>\n      <th>ingredients</th>\n      <th>instructions</th>\n    </tr>\n  </thead>\n  <tbody>\n    <tr>\n      <th>0</th>\n      <td>003f5c1abe</td>\n      <td>Chicken Cordon Bleu II</td>\n      <td>http://www.food.com/recipe/chicken-cordon-bleu...</td>\n      <td>2 boneless skinless chicken breast halves /t 4...</td>\n      <td>Place chicken breasts between 2 pieces of plas...</td>\n    </tr>\n    <tr>\n      <th>1</th>\n      <td>005d660e01</td>\n      <td>Red Velvet Cupcakes</td>\n      <td>http://www.food.com/recipe/red-velvet-cupcakes...</td>\n      <td>2 12 cups cake flour, sifted (not self- rising...</td>\n      <td>Preheat oven to 350 degrees. /t Line standard ...</td>\n    </tr>\n    <tr>\n      <th>2</th>\n      <td>02cf02ed70</td>\n      <td>Banana Banana Bread</td>\n      <td>http://www.food.com/recipe/banana-banana-bread...</td>\n      <td>2 cups all-purpose flour /t 1 teaspoon baking ...</td>\n      <td>Preheat oven to 350. /t Lightly grease 9 x 5 l...</td>\n    </tr>\n    <tr>\n      <th>3</th>\n      <td>03b1a2a0dc</td>\n      <td>Alfredo Sauce</td>\n      <td>http://www.food.com/recipe/alfredo-sauce-64196</td>\n      <td>12 cup butter /t 8 ounces cream cheese /t 8 ou...</td>\n      <td>Melt butter in sauce pan. /t Add cream cheese ...</td>\n    </tr>\n    <tr>\n      <th>4</th>\n      <td>03b668bbd5</td>\n      <td>Amish White Bread</td>\n      <td>http://www.food.com/recipe/amish-white-bread-8...</td>\n      <td>2 cups warm water /t 23 cup white sugar /t 1 1...</td>\n      <td>In a large bowl, dissolve the sugar in warm wa...</td>\n    </tr>\n  </tbody>\n</table>\n</div>"
          },
          "metadata": {}
        }
      ],
      "execution_count": 52,
      "metadata": {
        "jupyter": {
          "source_hidden": false,
          "outputs_hidden": false
        },
        "nteract": {
          "transient": {
            "deleting": false
          }
        },
        "gather": {
          "logged": 1708194168851
        }
      },
      "id": "f06eed60-098b-4fd3-bb3e-031a8d8d6a75"
    },
    {
      "cell_type": "code",
      "source": [
        "\n",
        "# Select the instruction with maximum length for each food title\n",
        "max_length_instructions = filtered_df.groupby('food_title')['instructions'].max()\n",
        "\n",
        "\n",
        "max_length_instructions"
      ],
      "outputs": [
        {
          "output_type": "execute_result",
          "execution_count": 31,
          "data": {
            "text/plain": "food_title\nAlfredo Sauce                                place stove on medium heat and add a tablespoo...\nAmish White Bread                            In a large bowl, dissolve the sugar in warm wa...\nApple Pie by Grandma Ople                    Preheat oven to 425 degrees F (220 degrees C)....\nAward Winning Soft Chocolate Chip Cookies    Preheat oven to 350 degrees F (175 degrees C)....\nBacon Wrapped Chicken Breast                 Preheat oven to 375F. /t Cut and trim chicken ...\nBaked MAC and Cheese                         cook elbows according to direction. /t melt bu...\nBanana Banana Bread                          Preheat oven to 350. /t Lightly grease 9 x 5 l...\nBest Brownies                                Preheat oven to 350 degrees F (175 degrees C)....\nBig Soft Ginger Cookies                      Preheat oven to 350 degrees F (175 degrees C)....\nBlack Magic Cake                             Preheat oven to 350 degrees F (175 degrees C)....\nBomb Ass Potatoes                            Preheat oven to 425F. /t That's right, this ai...\nBread Pudding II                             Preheat oven to 350 degrees F (175 degrees C)....\nBroiled Tilapia Parmesan                     Preheat your oven's broiler. /t Grease a broil...\nCajun Chicken Pasta                          Toss chicken in Cajun seasoning. /t Oil pan an...\nCake Balls                                   Prepare the cake mix according to package dire...\nCarrot Cake III                              Preheat oven to 350 degrees F (175 degrees C)....\nChantal's New York Cheesecake                Preheat oven to 350 degrees F (175 degrees C)....\nChicken Cordon Bleu II                       Pound chicken breasts if they are too thick. /...\nChicken Parmesan                             Whisk together egg, milk, salt and pepper in a...\nClone of a Cinnabon                          Place ingredients in the pan of the bread mach...\nCream Cheese Frosting II                     In a medium bowl, cream together the cream che...\nDelicious Ham and Potato Soup                Combine the potatoes, celery, onion, ham and w...\nDowneast Maine Pumpkin Bread                 Preheat oven to 350F (180C) F (175 degrees C)....\nEasy Chicken with Broccoli                   Whisk together the marinade ingredients (bakin...\nEasy OREO Truffles                           Reserve 1/4 cup cookie crumbs. /t Mix cream ch...\nEasy Sugar Cookies                           preheat oven to 375. /t Stir together flour, b...\nGood Old Fashioned Pancakes                  In a large bowl, sift together the flour, baki...\nGrandma's Lemon Meringue Pie                 Preheat oven to 350 degrees F (175 degrees C)....\nMarshmallow Fondant                          Place the marshmallows in a large microwave-sa...\nMom's Zucchini Bread                         Grease and flour two 8 x 4 inch pans. /t Prehe...\nNinety Minute Cinnamon Rolls                 Heat the milk in a small saucepan until it bub...\nParmesan Chicken Squares                     Preheat oven to 350F. /t Blend cream cheese an...\nPeanut Butter Cup Cookies                    Preheat oven to 375 degrees. /t In small bowl,...\nRed Velvet Cupcakes                          preheat oven to 350F /t mix flour, cocoa, baki...\nRick's Special Buttercream Frosting          In a mixing bowl, cream shortening until fluff...\nSimple White Cake                            Preheat oven to 350F (175C). /t Grease and flo...\nSoft Oatmeal Cookies                         Preheat the oven to 350F Lightly grease ( or l...\nSpecial Buttercream Frosting                 Cream shortening until fluffy. /t Add confecti...\nSpooky Witches' Fingers                      Combine the butter, sugar, egg, almond extract...\nSweet, Sticky and Spicy Chicken              Mix together brown sugar, honey, soy sauce, gi...\nThe Best Rolled Sugar Cookies                Mix Flour, salt, and baking powder in separate...\nTiramisu Layer Cake                          Preheat oven to 350F Grease and flour 3 (9-inc...\nTo Die For Blueberry Muffins                 Preheat oven to 400 degrees F (200 degrees C)....\nWhite Chocolate Raspberry Cheesecake         Preheat oven to 275 degrees F. /t Line a stand...\nWorld's Best Lasagna                         Preheat oven to 350 degrees F. /t Combine beef...\nName: instructions, dtype: object"
          },
          "metadata": {}
        }
      ],
      "execution_count": 31,
      "metadata": {
        "jupyter": {
          "source_hidden": false,
          "outputs_hidden": false
        },
        "nteract": {
          "transient": {
            "deleting": false
          }
        },
        "gather": {
          "logged": 1708193021179
        }
      },
      "id": "1def3131-7175-45e0-a69e-9500e5f3dc1d"
    },
    {
      "cell_type": "code",
      "source": [],
      "outputs": [],
      "execution_count": null,
      "metadata": {
        "jupyter": {
          "source_hidden": false,
          "outputs_hidden": false
        },
        "nteract": {
          "transient": {
            "deleting": false
          }
        }
      },
      "id": "a6e4bb10-f23f-40ad-8d5f-3a3d17655adc"
    },
    {
      "cell_type": "code",
      "source": [
        "len(max_length_instructions)"
      ],
      "outputs": [
        {
          "output_type": "execute_result",
          "execution_count": 29,
          "data": {
            "text/plain": "26"
          },
          "metadata": {}
        }
      ],
      "execution_count": 29,
      "metadata": {
        "jupyter": {
          "source_hidden": false,
          "outputs_hidden": false
        },
        "nteract": {
          "transient": {
            "deleting": false
          }
        },
        "gather": {
          "logged": 1708192919091
        }
      },
      "id": "f91d63ed-36a6-4970-9383-36c20ceb62a0"
    },
    {
      "cell_type": "code",
      "source": [
        "import pandas as pd\n",
        "\n",
        "df=filtered_df\n",
        "# Assuming your DataFrame is named 'df'\n",
        "\n",
        "# Identify food_titles with duplicate instructions\n",
        "duplicated_titles = df[df.duplicated(subset='instructions', keep=False)]['food_title'].unique()\n",
        "\n",
        "\n",
        "duplicated_titles"
      ],
      "outputs": [
        {
          "output_type": "execute_result",
          "execution_count": 25,
          "data": {
            "text/plain": "array(['Broiled Tilapia Parmesan', 'Simple White Cake', 'Cake Balls',\n       \"World's Best Lasagna\", 'Delicious Ham and Potato Soup',\n       'Chicken Parmesan'], dtype=object)"
          },
          "metadata": {}
        }
      ],
      "execution_count": 25,
      "metadata": {
        "jupyter": {
          "source_hidden": false,
          "outputs_hidden": false
        },
        "nteract": {
          "transient": {
            "deleting": false
          }
        },
        "gather": {
          "logged": 1708192206778
        }
      },
      "id": "f22e456a-3a83-4ff4-aca1-fe9fdebd9a69"
    },
    {
      "cell_type": "code",
      "source": [
        "# Print the formatted DataFrame\n",
        "# Export df_train to CSV\n",
        "final_df.to_csv('final_df.csv', index=False)\n"
      ],
      "outputs": [],
      "execution_count": 55,
      "metadata": {
        "jupyter": {
          "source_hidden": false,
          "outputs_hidden": false
        },
        "nteract": {
          "transient": {
            "deleting": false
          }
        },
        "gather": {
          "logged": 1708194281001
        }
      },
      "id": "e7820bae-349f-4a51-a4ac-440f2621c07e"
    },
    {
      "cell_type": "code",
      "source": [
        "unique_df.shape\n"
      ],
      "outputs": [
        {
          "output_type": "execute_result",
          "execution_count": 30,
          "data": {
            "text/plain": "(45, 6)"
          },
          "metadata": {}
        }
      ],
      "execution_count": 30,
      "metadata": {
        "jupyter": {
          "source_hidden": false,
          "outputs_hidden": false
        },
        "nteract": {
          "transient": {
            "deleting": false
          }
        },
        "gather": {
          "logged": 1708197394218
        }
      },
      "id": "8696ee81-cbbe-4a04-8d2a-f6ce32db83eb"
    },
    {
      "cell_type": "code",
      "source": [
        "df=unique_df"
      ],
      "outputs": [],
      "execution_count": 31,
      "metadata": {
        "jupyter": {
          "source_hidden": false,
          "outputs_hidden": false
        },
        "nteract": {
          "transient": {
            "deleting": false
          }
        },
        "gather": {
          "logged": 1708197422371
        }
      },
      "id": "bd8a2f90-fbec-464d-99d2-53d459ff98d7"
    },
    {
      "cell_type": "code",
      "source": [
        "# Apply cleaning operation to the 'ingredients' column\n",
        "df['ingredients_cleaned'] = df['ingredients'].str.replace('/t', ' ')\n",
        "\n",
        "# Save the original DataFrame as a cleaned one\n",
        "df_cleaned = df.copy()\n",
        "\n",
        "# Print the cleaned DataFrame\n",
        "print(df_cleaned)\n",
        "\n",
        "# Save the cleaned DataFrame to a new file\n",
        "df_cleaned.to_csv('cleaned_recipe_dishclass.csv', index=False)\n"
      ],
      "outputs": [
        {
          "output_type": "stream",
          "name": "stdout",
          "text": "                ID                                 food_title partition  \\\n283     003f5c1abe                     Chicken Cordon Bleu II     train   \n413     005d660e01                        Red Velvet Cupcakes     train   \n3124    02cf02ed70                        Banana Banana Bread     train   \n4144    03b1a2a0dc                              Alfredo Sauce     train   \n4162    03b668bbd5                          Amish White Bread     train   \n8852    0801f0a665                           Bread Pudding II     train   \n10751   09b9f76e66                  Peanut Butter Cup Cookies     train   \n11005   09f915621b                   Broiled Tilapia Parmesan     train   \n15735   0e46b84a82                          Simple White Cake     train   \n17772   10161f93c9                           Chicken Parmesan     train   \n19733   11dd5cb8ad               To Die For Blueberry Muffins     train   \n26211   17b99396ed       White Chocolate Raspberry Cheesecake     train   \n27711   190b0bf77e                Good Old Fashioned Pancakes     train   \n33597   1e5ce452a2                        Marshmallow Fondant     train   \n37867   22493bd476              Chantal's New York Cheesecake     train   \n42577   2694996b12                        Cajun Chicken Pasta     train   \n44458   28584cfe30                                 Cake Balls     train   \n46256   29f548ac08               Downeast Maine Pumpkin Bread     train   \n47593   2b3fc94329                         Easy OREO Truffles     train   \n58512   35490d8d22               Ninety Minute Cinnamon Rolls     train   \n60367   36fee2a14b                        Clone of a Cinnabon     train   \n68837   3eb6f5b898                            Carrot Cake III     train   \n81809   4a6af9e6d1               Bacon Wrapped Chicken Breast     train   \n85964   4e363c50ec                       Soft Oatmeal Cookies     train   \n94073   5573a2b0d1            Sweet, Sticky and Spicy Chicken     train   \n96912   5809e8b1af                       Mom's Zucchini Bread     train   \n108442  62a7cb12c2                       Baked MAC and Cheese     train   \n109645  63c4c3d755                    Big Soft Ginger Cookies     train   \n115749  694b2eb143                 Easy Chicken with Broccoli     train   \n115763  694f0c8695                              Best Brownies     train   \n116927  6a56b51b4b                       World's Best Lasagna     train   \n117851  6b3b2a34a1              The Best Rolled Sugar Cookies     train   \n125751  725992725c        Rick's Special Buttercream Frosting     train   \n127726  741ec9f709                   Parmesan Chicken Squares     train   \n130040  763c10e294  Award Winning Soft Chocolate Chip Cookies     train   \n140940  8031a5284f                          Bomb Ass Potatoes     train   \n146291  85054eb50d              Delicious Ham and Potato Soup     train   \n151866  8a260f2fcc               Special Buttercream Frosting     train   \n172363  9cabac8225                         Easy Sugar Cookies     train   \n172456  9cc494d4b3                    Spooky Witches' Fingers     train   \n180741  a444a573b1                           Black Magic Cake     train   \n195384  b18238bfcc                   Cream Cheese Frosting II     train   \n221099  c8cfd3be0b                        Tiramisu Layer Cake     train   \n250893  e418e92d38                  Apple Pie by Grandma Ople     train   \n268560  f41097bf07               Grandma's Lemon Meringue Pie     train   \n\n                                               recipe_url  \\\n283     http://www.food.com/recipe/chicken-cordon-bleu...   \n413     http://www.food.com/recipe/red-velvet-cupcakes...   \n3124    http://www.food.com/recipe/banana-banana-bread...   \n4144       http://www.food.com/recipe/alfredo-sauce-64196   \n4162    http://www.food.com/recipe/amish-white-bread-8...   \n8852     http://allrecipes.com/recipe/bread-pudding-ii-2/   \n10751   http://tastykitchen.com/recipes/desserts/peanu...   \n11005   http://allrecipes.com/recipe/broiled-tilapia-p...   \n15735     http://allrecipes.com/recipe/simple-white-cake/   \n17772   http://www.food.com/recipe/chicken-parmesan-20...   \n19733   http://allrecipes.com/recipe/to-die-for-bluebe...   \n26211   http://tastykitchen.com/recipes/desserts/white...   \n27711   http://allrecipes.com/recipe/good-old-fashione...   \n33597   http://allrecipes.com/recipe/marshmallow-fondant/   \n37867   http://allrecipes.com/recipe/chantals-new-york...   \n42577   http://tastykitchen.com/recipes/main-courses/c...   \n44458            http://allrecipes.com/recipe/cake-balls/   \n46256   http://allrecipes.com/recipe/downeast-maine-pu...   \n47593    http://allrecipes.com/recipe/easy-oreo-truffles/   \n58512   http://allrecipes.com/recipe/ninety-minute-cin...   \n60367   http://allrecipes.com/recipe/clone-of-a-cinnabon/   \n68837       http://allrecipes.com/recipe/carrot-cake-iii/   \n81809   https://cookpad.com/us/recipes/330994-bacon-wr...   \n85964   https://cookpad.com/us/recipes/330356-soft-oat...   \n94073   http://allrecipes.com/recipe/sweet-sticky-and-...   \n96912   http://allrecipes.com/recipe/moms-zucchini-bread/   \n108442  https://cookpad.com/us/recipes/330578-baked-ma...   \n109645  http://allrecipes.com/recipe/big-soft-ginger-c...   \n115749  https://cookpad.com/us/recipes/338239-easy-chi...   \n115763  http://tastykitchen.com/recipes/desserts/best-...   \n116927  http://www.food.com/recipe/worlds-best-lasagna...   \n117851  http://allrecipes.com/recipe/the-best-rolled-s...   \n125751  http://allrecipes.com/recipe/ricks-special-but...   \n127726  https://cookpad.com/us/recipes/333769-parmesan...   \n130040  http://allrecipes.com/recipe/award-winning-sof...   \n140940  https://cookpad.com/us/recipes/331806-bomb-ass...   \n146291  http://allrecipes.com/recipe/delicious-ham-and...   \n151866  http://allrecipes.com/recipe/special-buttercre...   \n172363  https://cookpad.com/us/recipes/331015-easy-sug...   \n172456  http://allrecipes.com/recipe/spooky-witches-fi...   \n180741     http://allrecipes.com/recipe/black-magic-cake/   \n195384  http://allrecipes.com/recipe/cream-cheese-fros...   \n221099  http://www.food.com/recipe/tiramisu-layer-cake...   \n250893  http://allrecipes.com/recipe/apple-pie-by-gran...   \n268560  http://allrecipes.com/recipe/grandmas-lemon-me...   \n\n                                              ingredients  \\\n283     2 boneless skinless chicken breast halves /t 4...   \n413     2 12 cups cake flour, sifted (not self- rising...   \n3124    2 cups all-purpose flour /t 1 teaspoon baking ...   \n4144    12 cup butter /t 8 ounces cream cheese /t 8 ou...   \n4162    2 cups warm water /t 23 cup white sugar /t 1 1...   \n8852    2 tablespoons butter, softened /t 2 1/2 cups c...   \n10751   1 cup Packed Brown Sugar /t 1/2 cups Butter, S...   \n11005   1/2 cup Parmesan cheese /t 1/4 cup butter, sof...   \n15735   1 cup white sugar /t 1/2 cup butter /t 2 eggs ...   \n17772   4 boneless skinless chicken breasts /t 2 eggs,...   \n19733   1 1/2 cups all-purpose flour /t 3/4 cup white ...   \n26211   8 ounces, weight Cream Cheese, Fat Free, Room ...   \n27711   1 1/2 cups all-purpose flour /t 3 1/2 teaspoon...   \n33597   1/4 cup butter /t 1 (16 ounce) package miniatu...   \n37867   15 graham crackers, crushed /t 2 tablespoons b...   \n42577   1 box Penne Pasta /t 2 pieces Chicken Breast, ...   \n44458   1 (18.25 ounce) package chocolate cake mix /t ...   \n46256   1 (15 ounce) can pumpkin puree /t 4 eggs /t 1 ...   \n47593   1 (16 ounce) package OREO Chocolate Sandwich C...   \n58512   3/4 cup milk /t 1/4 cup margarine, softened /t...   \n60367   1 cup warm milk (110 degrees F/45 degrees C) /...   \n68837   4 eggs /t 1 1/4 cups vegetable oil /t 2 cups w...   \n81809   2 lb Chicken breasts /t 12 Strips of Bacon /t ...   \n85964   1 cup butter, softened /t 1 cup white sugar /t...   \n94073   1 tablespoon brown sugar /t 2 tablespoons hone...   \n96912   3 cups all-purpose flour /t 1 teaspoon salt /t...   \n108442  16 oz elbow macaroni /t 2 cup cheddar cheese /...   \n109645  2 1/4 cups all-purpose flour /t 2 teaspoons gr...   \n115749  1 1/2 boneless, skinless chicken breasts, cut ...   \n115763  4 ounces, weight Unsweetened Chocolate /t 2 st...   \n116927  1 lb sweet Italian sausage /t 34 lb lean groun...   \n117851  1 1/2 cups butter, softened /t 2 cups white su...   \n125751  2 cups shortening /t 8 cups confectioners' sug...   \n127726  2 cup cooked chicken (diced) /t 3 oz soft crea...   \n130040  4 1/2 cups all-purpose flour /t 2 teaspoons ba...   \n140940  4 large potatoes /t 3 cup shredded cheddar che...   \n146291  3 1/2 cups peeled and diced potatoes /t 1/3 cu...   \n151866  2 cups shortening /t 8 cups confectioners' sug...   \n172363  1 tsp baking soda /t 1/2 tsp baking powder /t ...   \n172456  1 cup butter, softened /t 1 cup confectioners'...   \n180741  1 3/4 cups all-purpose flour /t 2 cups white s...   \n195384  2 (8 ounce) packages cream cheese, softened /t...   \n221099  1 (18 1/4 ounce) package white cake mix /t 3 e...   \n250893  1 recipe pastry for a 9 inch double crust pie ...   \n268560  1 cup white sugar /t 2 tablespoons all-purpose...   \n\n                                             instructions  \\\n283     Place chicken breasts between 2 pieces of plas...   \n413     Preheat oven to 350 degrees. /t Line standard ...   \n3124    Preheat oven to 350. /t Lightly grease 9 x 5 l...   \n4144    Melt butter in sauce pan. /t Add cream cheese ...   \n4162    In a large bowl, dissolve the sugar in warm wa...   \n8852    Preheat oven to 300 degrees F (150 degrees C)....   \n10751   In a large bowl, use an electric mixer on medi...   \n11005   Preheat your oven's broiler. /t Grease a broil...   \n15735   Preheat oven to 350 degrees F (175 degrees C)....   \n17772   Preheat oven to 400 degrees. /t With a mallet ...   \n19733   Preheat oven to 400 degrees F (200 degrees C)....   \n26211   Preheat oven to 275 degrees F. /t Line a stand...   \n27711   In a large bowl, sift together the flour, baki...   \n33597   Place the butter in a shallow bowl, and set as...   \n37867   Preheat oven to 350 degrees F (175 degrees C)....   \n42577   Cook pasta until al dente. /t Drain. /t Place ...   \n44458   Prepare the cake mix according to package dire...   \n46256   Preheat oven to 350 degrees F (175 degrees C)....   \n47593   Crush 9 of the cookies to fine crumbs in food ...   \n58512   Heat the milk in a small saucepan until it bub...   \n60367   Place ingredients in the pan of the bread mach...   \n68837   Preheat oven to 350 degrees F (175 degrees C)....   \n81809   Preheat oven to 375F. /t Cut and trim chicken ...   \n85964   In a medium bowl, cream together butter, white...   \n94073   Mix together brown sugar, honey, soy sauce, gi...   \n96912   Grease and flour two 8 x 4 inch pans. /t Prehe...   \n108442  cook elbows according to direction. /t melt bu...   \n109645  Preheat oven to 350 degrees F (175 degrees C)....   \n115749  Whisk together the marinade ingredients (bakin...   \n115763  Grease and flour a 13 x 9 pan. /t Heat oven to...   \n116927  In a Dutch oven, cook sausage, ground beef, on...   \n117851  In a large bowl, cream together butter and sug...   \n125751  In a mixing bowl, cream shortening until fluff...   \n127726  Preheat oven to 350 degrees F /t Blend cream c...   \n130040  Preheat oven to 350 degrees F (175 degrees C)....   \n140940  Preheat oven to 425F. /t That's right, this ai...   \n146291  Combine the potatoes, celery, onion, ham and w...   \n151866  Cream shortening until fluffy. /t Add confecti...   \n172363  preheat oven to 375. /t Stir together flour, b...   \n172456  Combine the butter, sugar, egg, almond extract...   \n180741  Preheat oven to 350 degrees F (175 degrees C)....   \n195384  In a medium bowl, cream together the cream che...   \n221099  Preheat oven to 350F Grease and flour 3 (9-inc...   \n250893  Preheat oven to 425 degrees F (220 degrees C)....   \n268560  Preheat oven to 350 degrees F (175 degrees C)....   \n\n                                      ingredients_cleaned  \n283     2 boneless skinless chicken breast halves   4 ...  \n413     2 12 cups cake flour, sifted (not self- rising...  \n3124    2 cups all-purpose flour   1 teaspoon baking s...  \n4144    12 cup butter   8 ounces cream cheese   8 ounc...  \n4162    2 cups warm water   23 cup white sugar   1 12 ...  \n8852    2 tablespoons butter, softened   2 1/2 cups cu...  \n10751   1 cup Packed Brown Sugar   1/2 cups Butter, So...  \n11005   1/2 cup Parmesan cheese   1/4 cup butter, soft...  \n15735   1 cup white sugar   1/2 cup butter   2 eggs   ...  \n17772   4 boneless skinless chicken breasts   2 eggs, ...  \n19733   1 1/2 cups all-purpose flour   3/4 cup white s...  \n26211   8 ounces, weight Cream Cheese, Fat Free, Room ...  \n27711   1 1/2 cups all-purpose flour   3 1/2 teaspoons...  \n33597   1/4 cup butter   1 (16 ounce) package miniatur...  \n37867   15 graham crackers, crushed   2 tablespoons bu...  \n42577   1 box Penne Pasta   2 pieces Chicken Breast, B...  \n44458   1 (18.25 ounce) package chocolate cake mix   1...  \n46256   1 (15 ounce) can pumpkin puree   4 eggs   1 cu...  \n47593   1 (16 ounce) package OREO Chocolate Sandwich C...  \n58512   3/4 cup milk   1/4 cup margarine, softened   3...  \n60367   1 cup warm milk (110 degrees F/45 degrees C)  ...  \n68837   4 eggs   1 1/4 cups vegetable oil   2 cups whi...  \n81809   2 lb Chicken breasts   12 Strips of Bacon   1 ...  \n85964   1 cup butter, softened   1 cup white sugar   1...  \n94073   1 tablespoon brown sugar   2 tablespoons honey...  \n96912   3 cups all-purpose flour   1 teaspoon salt   1...  \n108442  16 oz elbow macaroni   2 cup cheddar cheese   ...  \n109645  2 1/4 cups all-purpose flour   2 teaspoons gro...  \n115749  1 1/2 boneless, skinless chicken breasts, cut ...  \n115763  4 ounces, weight Unsweetened Chocolate   2 sti...  \n116927  1 lb sweet Italian sausage   34 lb lean ground...  \n117851  1 1/2 cups butter, softened   2 cups white sug...  \n125751  2 cups shortening   8 cups confectioners' suga...  \n127726  2 cup cooked chicken (diced)   3 oz soft cream...  \n130040  4 1/2 cups all-purpose flour   2 teaspoons bak...  \n140940  4 large potatoes   3 cup shredded cheddar chee...  \n146291  3 1/2 cups peeled and diced potatoes   1/3 cup...  \n151866  2 cups shortening   8 cups confectioners' suga...  \n172363  1 tsp baking soda   1/2 tsp baking powder   1 ...  \n172456  1 cup butter, softened   1 cup confectioners' ...  \n180741  1 3/4 cups all-purpose flour   2 cups white su...  \n195384  2 (8 ounce) packages cream cheese, softened   ...  \n221099  1 (18 1/4 ounce) package white cake mix   3 eg...  \n250893  1 recipe pastry for a 9 inch double crust pie ...  \n268560  1 cup white sugar   2 tablespoons all-purpose ...  \n"
        }
      ],
      "execution_count": 32,
      "metadata": {
        "jupyter": {
          "source_hidden": false,
          "outputs_hidden": false
        },
        "nteract": {
          "transient": {
            "deleting": false
          }
        },
        "gather": {
          "logged": 1708197446923
        }
      },
      "id": "e1bb129b-2860-4553-b036-36679a97a1c1"
    },
    {
      "cell_type": "code",
      "source": [
        "unique_df.to_csv('unique_recipe.csv', index=False)"
      ],
      "outputs": [],
      "execution_count": 27,
      "metadata": {
        "jupyter": {
          "source_hidden": false,
          "outputs_hidden": false
        },
        "nteract": {
          "transient": {
            "deleting": false
          }
        },
        "gather": {
          "logged": 1708196524213
        }
      },
      "id": "f3be3129-5620-4673-9cd9-a457de7298ec"
    },
    {
      "cell_type": "code",
      "source": [],
      "outputs": [],
      "execution_count": null,
      "metadata": {
        "jupyter": {
          "source_hidden": false,
          "outputs_hidden": false
        },
        "nteract": {
          "transient": {
            "deleting": false
          }
        }
      },
      "id": "d645a030-5d87-4d80-ae60-9d0913ae5c95"
    },
    {
      "cell_type": "code",
      "source": [
        "pip install openpyxl\n"
      ],
      "outputs": [
        {
          "output_type": "stream",
          "name": "stdout",
          "text": "Collecting openpyxl\n  Downloading openpyxl-3.1.2-py2.py3-none-any.whl (249 kB)\n\u001b[2K     \u001b[90m━━━━━━━━━━━━━━━━━━━━━━━━━━━━━━━━━━━━━━━\u001b[0m \u001b[32m250.0/250.0 kB\u001b[0m \u001b[31m8.7 MB/s\u001b[0m eta \u001b[36m0:00:00\u001b[0m\n\u001b[?25hCollecting et-xmlfile\n  Downloading et_xmlfile-1.1.0-py3-none-any.whl (4.7 kB)\nInstalling collected packages: et-xmlfile, openpyxl\nSuccessfully installed et-xmlfile-1.1.0 openpyxl-3.1.2\nNote: you may need to restart the kernel to use updated packages.\n"
        }
      ],
      "execution_count": 34,
      "metadata": {
        "jupyter": {
          "source_hidden": false,
          "outputs_hidden": false
        },
        "nteract": {
          "transient": {
            "deleting": false
          }
        },
        "gather": {
          "logged": 1708197589300
        }
      },
      "id": "123d04be-d458-4116-abc2-cdacd5658f1e"
    },
    {
      "cell_type": "code",
      "source": [
        "import pandas as pd\n",
        "\n",
        "# Read the Excel file\n",
        "file_path = 'recipes_with_nutritional_info.xlsx'  # Update with the path to your .xlsx file\n",
        "dfN = pd.read_excel(file_path)\n",
        "\n",
        "# Display the first few rows of the DataFrame\n",
        "print(dfN.head())"
      ],
      "outputs": [
        {
          "output_type": "stream",
          "name": "stdout",
          "text": "                                  fsa_lights_per100g          id  \\\n0  {'fat': 'green', 'salt': 'green', 'saturates':...  000095fc1d   \n1  {'fat': 'red', 'salt': 'orange', 'saturates': ...  00051d5b9d   \n2  {'fat': 'orange', 'salt': 'orange', 'saturates...  00059b093b   \n3  {'fat': 'orange', 'salt': 'orange', 'saturates...  0005fc89f7   \n4  {'fat': 'orange', 'salt': 'green', 'saturates'...  0006ca31f4   \n\n                                         ingredients  \\\n0  [{'text': 'yogurt, greek, plain, nonfat'}, {'t...   \n1  [{'text': 'sugars, granulated'}, {'text': 'oil...   \n2  [{'text': 'chicken, broilers or fryers, wing, ...   \n3  [{'text': 'crustaceans, shrimp, raw (not previ...   \n4  [{'text': 'cocoa, dry powder, unsweetened'}, {...   \n\n                                        instructions  \\\n0  [{'text': 'Layer all ingredients in a serving ...   \n1  [{'text': 'Cream sugar and butter together til...   \n2  [{'text': 'Preheat oven to 400 degrees F.'}, {...   \n3  [{'text': 'In a large bowl, toss the shrimp, g...   \n4  [{'text': 'Measure out the cocoa powder into a...   \n\n                                 nutr_per_ingredient  \\\n0  [{'fat': 0.8845044000000001, 'nrg': 133.80964,...   \n1  [{'fat': 0.0, 'nrg': 384.0, 'pro': 0.0, 'sat':...   \n2  [{'fat': 174.859716, 'nrg': 2599.0821599999995...   \n3  [{'fat': 4.6266384, 'nrg': 771.1064, 'pro': 18...   \n4  [{'fat': 141.35999999999999, 'nrg': 2352.0, 'p...   \n\n                                 nutr_values_per100g partition  \\\n0  {'energy': 81.12946131894766, 'fat': 2.1401392...     train   \n1  {'energy': 477.09640393594606, 'fat': 23.41248...       val   \n2  {'energy': 208.05898280960727, 'fat': 14.29704...     train   \n3  {'energy': 194.7525956849092, 'fat': 15.980767...     train   \n4  {'energy': 303.43539955190437, 'fat': 5.094846...     train   \n\n                                            quantity  \\\n0    [{'text': '8'}, {'text': '1'}, {'text': '1/4'}]   \n1  [{'text': '1/2'}, {'text': '3/4'}, {'text': '1...   \n2  [{'text': '3'}, {'text': '1'}, {'text': '1/2'}...   \n3  [{'text': '2'}, {'text': '3/4'}, {'text': '1 1...   \n4    [{'text': '12'}, {'text': '12'}, {'text': '1'}]   \n\n                                             title  \\\n0                                  Yogurt Parfaits   \n1  Salt Free, Low Cholesterol Sugar Cookies Recipe   \n2                     Honey Sriracha Chicken Wings   \n3                           Shrimp and Caper Salad   \n4         Natural Peanut Butter Chocolate Bon Bons   \n\n                                                unit  \\\n0  [{'text': 'ounce'}, {'text': 'cup'}, {'text': ...   \n1  [{'text': 'cup'}, {'text': 'cup'}, {'text': 'c...   \n2  [{'text': 'pound'}, {'text': 'teaspoon'}, {'te...   \n3  [{'text': 'pound'}, {'text': 'cup'}, {'text': ...   \n4  [{'text': 'cup'}, {'text': 'cup'}, {'text': 'c...   \n\n                                                 url  \\\n0  http://tastykitchen.com/recipes/breakfastbrunc...   \n1  http://cookeatshare.com/recipes/salt-free-low-...   \n2  http://tastykitchen.com/recipes/main-courses/h...   \n3  http://allrecipes.com/recipe/shrimp-and-caper-...   \n4  http://www.food.com/recipe/natural-peanut-butt...   \n\n                                     weight_per_ingr  \n0                             [226.796, 152.0, 30.5]  \n1  [100.80000000000001, 168.0, 21.25, 5.166666666...  \n2  [1360.7759999999998, 6.0, 1.15, 13.5, 42.59999...  \n3  [907.184, 75.0, 151.5, 25.799999999999997, 134...  \n4                            [1032.0, 4068.0, 256.0]  \n"
        }
      ],
      "execution_count": 35,
      "metadata": {
        "gather": {
          "logged": 1708197607877
        }
      },
      "id": "34881f13"
    },
    {
      "cell_type": "code",
      "source": [
        "import pandas as pd\n",
        "\n",
        "# Your DataFrame dfN and the recipes list\n",
        "# Assuming dfN has a column named 'title' containing the titles\n",
        "\n",
        "recipes = [\n",
        "    \"The Best Rolled Sugar Cookies\",\n",
        "    \"Marshmallow Fondant\",\n",
        "    \"Apple Pie by Grandma Ople\",\n",
        "    \"To Die For Blueberry Muffins\",\n",
        "    \"Chantal's New York Cheesecake\",\n",
        "    \"Cake Balls\",\n",
        "    \"Clone of a Cinnabon\",\n",
        "    \"Banana Banana Bread\",\n",
        "    \"World's Best Lasagna\",\n",
        "    \"Carrot Cake III\",\n",
        "    \"Award Winning Soft Chocolate Chip Cookies\",\n",
        "    \"Bomb Ass Potatoes\",\n",
        "    \"Amish White Bread\",\n",
        "    \"Bacon Wrapped Chicken Breast\",\n",
        "    \"White Chocolate Raspberry Cheesecake\",\n",
        "    \"Parmesan Chicken Squares\",\n",
        "    \"Good Old Fashioned Pancakes\",\n",
        "    \"Easy Sugar Cookies\",\n",
        "    \"Best Brownies\",\n",
        "    \"Cajun Chicken Pasta\",\n",
        "    \"Delicious Ham and Potato Soup\",\n",
        "    \"Chicken Parmesan\",\n",
        "    \"Peanut Butter Cup Cookies\",\n",
        "    \"Downeast Maine Pumpkin Bread\",\n",
        "    \"Black Magic Cake\",\n",
        "    \"Rick's Special Buttercream Frosting\",\n",
        "    \"Cream Cheese Frosting II\",\n",
        "    \"Special Buttercream Frosting\",\n",
        "    \"Grandma's Lemon Meringue Pie\",\n",
        "    \"Simple White Cake\",\n",
        "    \"Big Soft Ginger Cookies\",\n",
        "    \"Easy OREO Truffles\",\n",
        "    \"Soft Oatmeal Cookies\",\n",
        "    \"Tiramisu Layer Cake\",\n",
        "    \"Baked MAC and Cheese\",\n",
        "    \"Ninety Minute Cinnamon Rolls\",\n",
        "    \"Bread Pudding II\",\n",
        "    \"Spooky Witches' Fingers\",\n",
        "    \"Easy Chicken with Broccoli\",\n",
        "    \"Mom's Zucchini Bread\",\n",
        "    \"Chicken Cordon Bleu II\",\n",
        "    \"Sweet, Sticky and Spicy Chicken\",\n",
        "    \"Red Velvet Cupcakes\",\n",
        "    \"Broiled Tilapia Parmesan\",\n",
        "    \"Alfredo Sauce\"\n",
        "]\n",
        "\n",
        "# Filter rows in dfN based on titles in recipes\n",
        "filtered_dfN = dfN[dfN['title'].isin(recipes)]\n",
        "\n",
        "# Print the filtered DataFrame\n",
        "print(filtered_dfN)\n"
      ],
      "outputs": [
        {
          "output_type": "stream",
          "name": "stdout",
          "text": "                                      fsa_lights_per100g          id  \\\n773    {'fat': 'red', 'salt': 'green', 'saturates': '...  03b668bbd5   \n3281   {'fat': 'red', 'salt': 'green', 'saturates': '...  106a10b68b   \n5564   {'fat': 'green', 'salt': 'green', 'saturates':...  1b3da561f7   \n10994  {'fat': 'red', 'salt': 'red', 'saturates': 're...  36c0ef24f9   \n11659  {'fat': 'red', 'salt': 'red', 'saturates': 're...  3a13814d1b   \n24554  {'fat': 'red', 'salt': 'red', 'saturates': 're...  7b6ef1510a   \n31467  {'fat': 'red', 'salt': 'red', 'saturates': 're...  9d0c3c84f8   \n36229  {'fat': 'orange', 'salt': 'orange', 'saturates...  b4ed7b51ef   \n37783  {'fat': 'red', 'salt': 'red', 'saturates': 're...  bcbdcbd52f   \n38276  {'fat': 'orange', 'salt': 'orange', 'saturates...  bf5cd6735d   \n39402  {'fat': 'red', 'salt': 'green', 'saturates': '...  c5009e3aaa   \n41533  {'fat': 'orange', 'salt': 'red', 'saturates': ...  cf90fdf8c7   \n43680  {'fat': 'orange', 'salt': 'orange', 'saturates...  da2b5183f5   \n\n                                             ingredients  \\\n773    [{'text': 'water, bottled, generic'}, {'text':...   \n3281   [{'text': 'cheese, parmesan, hard'}, {'text': ...   \n5564   [{'text': 'candies, marshmallows'}, {'text': '...   \n10994  [{'text': 'cream, fluid, heavy whipping'}, {'t...   \n11659  [{'text': 'butter, without salt'}, {'text': 'c...   \n24554  [{'text': 'butter, without salt'}, {'text': 'y...   \n31467  [{'text': 'butter, without salt'}, {'text': 'm...   \n36229  [{'text': 'water, bottled, generic'}, {'text':...   \n37783  [{'text': 'cream, whipped, cream topping, pres...   \n38276  [{'text': 'butter, without salt'}, {'text': 'c...   \n39402  [{'text': 'butter, without salt'}, {'text': 'c...   \n41533  [{'text': 'egg substitute, powder'}, {'text': ...   \n43680  [{'text': 'water, bottled, generic'}, {'text':...   \n\n                                            instructions  \\\n773    [{'text': 'In a large bowl, dissolve the sugar...   \n3281   [{'text': 'In a pot on very low heat, cream so...   \n5564   [{'text': 'Dump marshmallows into a large micr...   \n10994  [{'text': 'Place the cream and butter in a sau...   \n11659  [{'text': 'In a medium to large sized saucepan...   \n24554  [{'text': 'Melt butter in medium sized saucepa...   \n31467  [{'text': 'Melt butter in heavy sauce pan.'}, ...   \n36229  [{'text': 'Dissolve sugar in warm water'}, {'t...   \n37783  [{'text': 'In a saucepan combine butter, cream...   \n38276  [{'text': 'Melt butter in a medium sauce pan o...   \n39402  [{'text': 'In a medium skillet over medium hea...   \n41533  [{'text': 'Preheat oven to 425 degrees.'}, {'t...   \n43680  [{'text': 'In a large bowl, dissolve the sugar...   \n\n                                     nutr_per_ingredient  \\\n773    [{'fat': 0.0, 'nrg': 0.0, 'pro': 0.0, 'sat': 0...   \n3281   [{'fat': 38.403732958343504, 'nrg': 577.499743...   \n5564   [{'fat': 0.907184, 'nrg': 1442.42256, 'pro': 8...   \n10994  [{'fat': 43.3, 'nrg': 408.0, 'pro': 3.41, 'sat...   \n11659  [{'fat': 46.08, 'nrg': 408.0, 'pro': 0.48, 'sa...   \n24554  [{'fat': 2211.84, 'nrg': 19584.0, 'pro': 23.04...   \n31467  [{'fat': 45.9885589, 'nrg': 406.53182999999996...   \n36229  [{'fat': 0.0, 'nrg': 0.0, 'pro': 0.0, 'sat': 0...   \n37783  [{'fat': 53.32, 'nrg': 616.0, 'pro': 7.68, 'sa...   \n38276  [{'fat': 92.16, 'nrg': 816.0, 'pro': 0.96, 'sa...   \n39402  [{'fat': 2580.48, 'nrg': 22848.0, 'pro': 26.88...   \n41533  [{'fat': 154.70000000000002, 'nrg': 5283.6, 'p...   \n43680  [{'fat': 0.0, 'nrg': 0.0, 'pro': 0.0, 'sat': 0...   \n\n                                     nutr_values_per100g partition  \\\n773    {'energy': 527.0665894872765, 'fat': 33.828728...     train   \n3281   {'energy': 664.4489284661856, 'fat': 73.587386...     train   \n5564   {'energy': 339.4871481095019, 'fat': 0.0619502...     train   \n10994  {'energy': 358.2280179287853, 'fat': 30.451777...     train   \n11659  {'energy': 378.13119848837067, 'fat': 28.09113...       val   \n24554  {'energy': 463.56993742154214, 'fat': 41.16031...     train   \n31467  {'energy': 343.9421689005008, 'fat': 23.202845...     train   \n36229  {'energy': 265.8173395102581, 'fat': 4.5645268...     train   \n37783  {'energy': 403.81027506278195, 'fat': 29.97963...     train   \n38276  {'energy': 258.46846886462293, 'fat': 19.18734...     train   \n39402  {'energy': 678.858216111301, 'fat': 75.7474956...       val   \n41533  {'energy': 341.6687550678973, 'fat': 16.610427...     train   \n43680  {'energy': 265.8173395102581, 'fat': 4.5645268...     train   \n\n                                                quantity                title  \\\n773    [{'text': '2'}, {'text': '23'}, {'text': '1 1/...    Amish White Bread   \n3281      [{'text': '1'}, {'text': '12'}, {'text': '8'}]        Alfredo Sauce   \n5564   [{'text': '1'}, {'text': '2 to 5'}, {'text': '...  Marshmallow Fondant   \n10994  [{'text': '1'}, {'text': '4'}, {'text': '1'}, ...        Alfredo Sauce   \n11659     [{'text': '4'}, {'text': '1'}, {'text': '25'}]        Alfredo Sauce   \n24554  [{'text': '12'}, {'text': '1'}, {'text': '2'},...        Alfredo Sauce   \n31467  [{'text': '2'}, {'text': '2'}, {'text': '1'}, ...        Alfredo Sauce   \n36229  [{'text': '2'}, {'text': '2/3'}, {'text': '1 1...    Amish White Bread   \n37783  [{'text': '4'}, {'text': '1'}, {'text': '14'},...        Alfredo Sauce   \n38276  [{'text': '1/2'}, {'text': '8'}, {'text': '2'}...        Alfredo Sauce   \n39402  [{'text': '14'}, {'text': '2'}, {'text': '1'},...        Alfredo Sauce   \n41533  [{'text': '14'}, {'text': '1'}, {'text': '14'}...     Chicken Parmesan   \n43680  [{'text': '2'}, {'text': '2/3'}, {'text': '1 1...    Amish White Bread   \n\n                                                    unit  \\\n773    [{'text': 'cup'}, {'text': 'cup'}, {'text': 't...   \n3281   [{'text': 'cup'}, {'text': 'cup'}, {'text': 'o...   \n5564   [{'text': 'pound'}, {'text': 'tablespoon'}, {'...   \n10994  [{'text': 'cup'}, {'text': 'tablespoon'}, {'te...   \n11659  [{'text': 'tablespoon'}, {'text': 'quart'}, {'...   \n24554  [{'text': 'cup'}, {'text': 'cup'}, {'text': 't...   \n31467  [{'text': 'ounce'}, {'text': 'ounce'}, {'text'...   \n36229  [{'text': 'cup'}, {'text': 'cup'}, {'text': 't...   \n37783  [{'text': 'cup'}, {'text': 'cup'}, {'text': 'c...   \n38276  [{'text': 'cup'}, {'text': 'ounce'}, {'text': ...   \n39402  [{'text': 'cup'}, {'text': 'cup'}, {'text': 'c...   \n41533  [{'text': 'cup'}, {'text': 'cup'}, {'text': 'c...   \n43680  [{'text': 'cup'}, {'text': 'cup'}, {'text': 't...   \n\n                                                     url  \\\n773    http://www.food.com/recipe/amish-white-bread-8...   \n3281     http://www.food.com/recipe/alfredo-sauce-220705   \n5564              http://www.foodgeeks.com/recipes/21842   \n10994    http://www.food.com/recipe/alfredo-sauce-505886   \n11659    http://www.food.com/recipe/alfredo-sauce-446787   \n24554    http://www.food.com/recipe/alfredo-sauce-482870   \n31467    http://www.food.com/recipe/alfredo-sauce-100299   \n36229  https://cookpad.com/us/recipes/338500-amish-wh...   \n37783    http://www.food.com/recipe/alfredo-sauce-335389   \n38276  http://tastykitchen.com/recipes/main-courses/a...   \n39402    http://www.food.com/recipe/alfredo-sauce-308695   \n41533  http://www.food.com/recipe/chicken-parmesan-45...   \n43680    http://allrecipes.com/recipe/amish-white-bread/   \n\n                                         weight_per_ingr  \n773            [473.6, 4636.8, 18.0, 9.0, 3024.0, 822.0]  \n3281   [148.70618401163085, 2726.3999999999996, 226.796]  \n5564              [453.592, 103.60000000000001, 907.184]  \n10994  [120.0, 56.8, 148.70618401163085, 4.9666666666...  \n11659                            [56.8, 240.0, 708.7375]  \n24554  [2726.3999999999996, 245.0, 6.2, 488.0, 5056.0...  \n31467  [56.699, 56.699, 120.0, 1784.4742081395702, 18...  \n36229             [473.6, 134.4, 18.0, 9.0, 54.0, 822.0]  \n37783  [240.0, 227.2, 2081.886576162832, 223.05927601...  \n38276  [113.6, 226.796, 6.2, 488.0, 170.0969999999999...  \n39402  [3180.7999999999997, 240.0, 148.70618401163085...  \n41533  [1190.0, 136.0, 2081.886576162832, 28.8, 37.2,...  \n43680             [473.6, 134.4, 18.0, 9.0, 54.0, 822.0]  \n"
        }
      ],
      "execution_count": 36,
      "metadata": {
        "jupyter": {
          "source_hidden": false,
          "outputs_hidden": false
        },
        "nteract": {
          "transient": {
            "deleting": false
          }
        },
        "gather": {
          "logged": 1708197709613
        }
      },
      "id": "c0f8198b-7406-4892-94ab-9dac83141813"
    },
    {
      "cell_type": "code",
      "source": [
        "filtered_dfN.shape"
      ],
      "outputs": [
        {
          "output_type": "execute_result",
          "execution_count": 37,
          "data": {
            "text/plain": "(13, 12)"
          },
          "metadata": {}
        }
      ],
      "execution_count": 37,
      "metadata": {
        "jupyter": {
          "source_hidden": false,
          "outputs_hidden": false
        },
        "nteract": {
          "transient": {
            "deleting": false
          }
        },
        "gather": {
          "logged": 1708197722619
        }
      },
      "id": "f55f8a93-8244-492c-b6c8-d15101364751"
    },
    {
      "cell_type": "code",
      "source": [
        "# Assuming df is your DataFrame\n",
        "filtered_dfN.rename(columns={'id': 'ID'}, inplace=True)\n"
      ],
      "outputs": [],
      "execution_count": 42,
      "metadata": {
        "jupyter": {
          "source_hidden": false,
          "outputs_hidden": false
        },
        "nteract": {
          "transient": {
            "deleting": false
          }
        },
        "gather": {
          "logged": 1708198628566
        }
      },
      "id": "e457e9ea-d29e-4dfc-aa1b-c3c4b913c884"
    },
    {
      "cell_type": "code",
      "source": [
        "# Print the filtered DataFrame\n",
        "filtered_dfN.head()"
      ],
      "outputs": [
        {
          "output_type": "execute_result",
          "execution_count": 43,
          "data": {
            "text/plain": "                                      fsa_lights_per100g          ID  \\\n773    {'fat': 'red', 'salt': 'green', 'saturates': '...  03b668bbd5   \n3281   {'fat': 'red', 'salt': 'green', 'saturates': '...  106a10b68b   \n5564   {'fat': 'green', 'salt': 'green', 'saturates':...  1b3da561f7   \n10994  {'fat': 'red', 'salt': 'red', 'saturates': 're...  36c0ef24f9   \n11659  {'fat': 'red', 'salt': 'red', 'saturates': 're...  3a13814d1b   \n\n                                             ingredients  \\\n773    [{'text': 'water, bottled, generic'}, {'text':...   \n3281   [{'text': 'cheese, parmesan, hard'}, {'text': ...   \n5564   [{'text': 'candies, marshmallows'}, {'text': '...   \n10994  [{'text': 'cream, fluid, heavy whipping'}, {'t...   \n11659  [{'text': 'butter, without salt'}, {'text': 'c...   \n\n                                            instructions  \\\n773    [{'text': 'In a large bowl, dissolve the sugar...   \n3281   [{'text': 'In a pot on very low heat, cream so...   \n5564   [{'text': 'Dump marshmallows into a large micr...   \n10994  [{'text': 'Place the cream and butter in a sau...   \n11659  [{'text': 'In a medium to large sized saucepan...   \n\n                                     nutr_per_ingredient  \\\n773    [{'fat': 0.0, 'nrg': 0.0, 'pro': 0.0, 'sat': 0...   \n3281   [{'fat': 38.403732958343504, 'nrg': 577.499743...   \n5564   [{'fat': 0.907184, 'nrg': 1442.42256, 'pro': 8...   \n10994  [{'fat': 43.3, 'nrg': 408.0, 'pro': 3.41, 'sat...   \n11659  [{'fat': 46.08, 'nrg': 408.0, 'pro': 0.48, 'sa...   \n\n                                     nutr_values_per100g partition  \\\n773    {'energy': 527.0665894872765, 'fat': 33.828728...     train   \n3281   {'energy': 664.4489284661856, 'fat': 73.587386...     train   \n5564   {'energy': 339.4871481095019, 'fat': 0.0619502...     train   \n10994  {'energy': 358.2280179287853, 'fat': 30.451777...     train   \n11659  {'energy': 378.13119848837067, 'fat': 28.09113...       val   \n\n                                                quantity                title  \\\n773    [{'text': '2'}, {'text': '23'}, {'text': '1 1/...    Amish White Bread   \n3281      [{'text': '1'}, {'text': '12'}, {'text': '8'}]        Alfredo Sauce   \n5564   [{'text': '1'}, {'text': '2 to 5'}, {'text': '...  Marshmallow Fondant   \n10994  [{'text': '1'}, {'text': '4'}, {'text': '1'}, ...        Alfredo Sauce   \n11659     [{'text': '4'}, {'text': '1'}, {'text': '25'}]        Alfredo Sauce   \n\n                                                    unit  \\\n773    [{'text': 'cup'}, {'text': 'cup'}, {'text': 't...   \n3281   [{'text': 'cup'}, {'text': 'cup'}, {'text': 'o...   \n5564   [{'text': 'pound'}, {'text': 'tablespoon'}, {'...   \n10994  [{'text': 'cup'}, {'text': 'tablespoon'}, {'te...   \n11659  [{'text': 'tablespoon'}, {'text': 'quart'}, {'...   \n\n                                                     url  \\\n773    http://www.food.com/recipe/amish-white-bread-8...   \n3281     http://www.food.com/recipe/alfredo-sauce-220705   \n5564              http://www.foodgeeks.com/recipes/21842   \n10994    http://www.food.com/recipe/alfredo-sauce-505886   \n11659    http://www.food.com/recipe/alfredo-sauce-446787   \n\n                                         weight_per_ingr  \n773            [473.6, 4636.8, 18.0, 9.0, 3024.0, 822.0]  \n3281   [148.70618401163085, 2726.3999999999996, 226.796]  \n5564              [453.592, 103.60000000000001, 907.184]  \n10994  [120.0, 56.8, 148.70618401163085, 4.9666666666...  \n11659                            [56.8, 240.0, 708.7375]  ",
            "text/html": "<div>\n<style scoped>\n    .dataframe tbody tr th:only-of-type {\n        vertical-align: middle;\n    }\n\n    .dataframe tbody tr th {\n        vertical-align: top;\n    }\n\n    .dataframe thead th {\n        text-align: right;\n    }\n</style>\n<table border=\"1\" class=\"dataframe\">\n  <thead>\n    <tr style=\"text-align: right;\">\n      <th></th>\n      <th>fsa_lights_per100g</th>\n      <th>ID</th>\n      <th>ingredients</th>\n      <th>instructions</th>\n      <th>nutr_per_ingredient</th>\n      <th>nutr_values_per100g</th>\n      <th>partition</th>\n      <th>quantity</th>\n      <th>title</th>\n      <th>unit</th>\n      <th>url</th>\n      <th>weight_per_ingr</th>\n    </tr>\n  </thead>\n  <tbody>\n    <tr>\n      <th>773</th>\n      <td>{'fat': 'red', 'salt': 'green', 'saturates': '...</td>\n      <td>03b668bbd5</td>\n      <td>[{'text': 'water, bottled, generic'}, {'text':...</td>\n      <td>[{'text': 'In a large bowl, dissolve the sugar...</td>\n      <td>[{'fat': 0.0, 'nrg': 0.0, 'pro': 0.0, 'sat': 0...</td>\n      <td>{'energy': 527.0665894872765, 'fat': 33.828728...</td>\n      <td>train</td>\n      <td>[{'text': '2'}, {'text': '23'}, {'text': '1 1/...</td>\n      <td>Amish White Bread</td>\n      <td>[{'text': 'cup'}, {'text': 'cup'}, {'text': 't...</td>\n      <td>http://www.food.com/recipe/amish-white-bread-8...</td>\n      <td>[473.6, 4636.8, 18.0, 9.0, 3024.0, 822.0]</td>\n    </tr>\n    <tr>\n      <th>3281</th>\n      <td>{'fat': 'red', 'salt': 'green', 'saturates': '...</td>\n      <td>106a10b68b</td>\n      <td>[{'text': 'cheese, parmesan, hard'}, {'text': ...</td>\n      <td>[{'text': 'In a pot on very low heat, cream so...</td>\n      <td>[{'fat': 38.403732958343504, 'nrg': 577.499743...</td>\n      <td>{'energy': 664.4489284661856, 'fat': 73.587386...</td>\n      <td>train</td>\n      <td>[{'text': '1'}, {'text': '12'}, {'text': '8'}]</td>\n      <td>Alfredo Sauce</td>\n      <td>[{'text': 'cup'}, {'text': 'cup'}, {'text': 'o...</td>\n      <td>http://www.food.com/recipe/alfredo-sauce-220705</td>\n      <td>[148.70618401163085, 2726.3999999999996, 226.796]</td>\n    </tr>\n    <tr>\n      <th>5564</th>\n      <td>{'fat': 'green', 'salt': 'green', 'saturates':...</td>\n      <td>1b3da561f7</td>\n      <td>[{'text': 'candies, marshmallows'}, {'text': '...</td>\n      <td>[{'text': 'Dump marshmallows into a large micr...</td>\n      <td>[{'fat': 0.907184, 'nrg': 1442.42256, 'pro': 8...</td>\n      <td>{'energy': 339.4871481095019, 'fat': 0.0619502...</td>\n      <td>train</td>\n      <td>[{'text': '1'}, {'text': '2 to 5'}, {'text': '...</td>\n      <td>Marshmallow Fondant</td>\n      <td>[{'text': 'pound'}, {'text': 'tablespoon'}, {'...</td>\n      <td>http://www.foodgeeks.com/recipes/21842</td>\n      <td>[453.592, 103.60000000000001, 907.184]</td>\n    </tr>\n    <tr>\n      <th>10994</th>\n      <td>{'fat': 'red', 'salt': 'red', 'saturates': 're...</td>\n      <td>36c0ef24f9</td>\n      <td>[{'text': 'cream, fluid, heavy whipping'}, {'t...</td>\n      <td>[{'text': 'Place the cream and butter in a sau...</td>\n      <td>[{'fat': 43.3, 'nrg': 408.0, 'pro': 3.41, 'sat...</td>\n      <td>{'energy': 358.2280179287853, 'fat': 30.451777...</td>\n      <td>train</td>\n      <td>[{'text': '1'}, {'text': '4'}, {'text': '1'}, ...</td>\n      <td>Alfredo Sauce</td>\n      <td>[{'text': 'cup'}, {'text': 'tablespoon'}, {'te...</td>\n      <td>http://www.food.com/recipe/alfredo-sauce-505886</td>\n      <td>[120.0, 56.8, 148.70618401163085, 4.9666666666...</td>\n    </tr>\n    <tr>\n      <th>11659</th>\n      <td>{'fat': 'red', 'salt': 'red', 'saturates': 're...</td>\n      <td>3a13814d1b</td>\n      <td>[{'text': 'butter, without salt'}, {'text': 'c...</td>\n      <td>[{'text': 'In a medium to large sized saucepan...</td>\n      <td>[{'fat': 46.08, 'nrg': 408.0, 'pro': 0.48, 'sa...</td>\n      <td>{'energy': 378.13119848837067, 'fat': 28.09113...</td>\n      <td>val</td>\n      <td>[{'text': '4'}, {'text': '1'}, {'text': '25'}]</td>\n      <td>Alfredo Sauce</td>\n      <td>[{'text': 'tablespoon'}, {'text': 'quart'}, {'...</td>\n      <td>http://www.food.com/recipe/alfredo-sauce-446787</td>\n      <td>[56.8, 240.0, 708.7375]</td>\n    </tr>\n  </tbody>\n</table>\n</div>"
          },
          "metadata": {}
        }
      ],
      "execution_count": 43,
      "metadata": {
        "jupyter": {
          "source_hidden": false,
          "outputs_hidden": false
        },
        "nteract": {
          "transient": {
            "deleting": false
          }
        },
        "gather": {
          "logged": 1708198630549
        }
      },
      "id": "af32888c-1eb4-4bb0-964e-b189dbdfd6e0"
    },
    {
      "cell_type": "code",
      "source": [
        "unique_df.reset_index(inplace=True)\n"
      ],
      "outputs": [],
      "execution_count": 40,
      "metadata": {
        "jupyter": {
          "source_hidden": false,
          "outputs_hidden": false
        },
        "nteract": {
          "transient": {
            "deleting": false
          }
        },
        "gather": {
          "logged": 1708198574659
        }
      },
      "id": "01231e35-e814-47ab-b1b4-a022b886681e"
    },
    {
      "cell_type": "code",
      "source": [
        "unique_df.columns"
      ],
      "outputs": [
        {
          "output_type": "execute_result",
          "execution_count": 50,
          "data": {
            "text/plain": "Index(['index', 'ID', 'food_title', 'partition', 'recipe_url', 'ingredients',\n       'instructions', 'ingredients_cleaned'],\n      dtype='object')"
          },
          "metadata": {}
        }
      ],
      "execution_count": 50,
      "metadata": {
        "jupyter": {
          "source_hidden": false,
          "outputs_hidden": false
        },
        "nteract": {
          "transient": {
            "deleting": false
          }
        },
        "gather": {
          "logged": 1708199170147
        }
      },
      "id": "28e3bbc3-bd88-47cf-a3f3-57d08369bce0"
    },
    {
      "cell_type": "code",
      "source": [
        "filtered_dfN.columns"
      ],
      "outputs": [
        {
          "output_type": "execute_result",
          "execution_count": 51,
          "data": {
            "text/plain": "Index(['fsa_lights_per100g', 'ID', 'ingredients', 'instructions',\n       'nutr_per_ingredient', 'nutr_values_per100g', 'partition', 'quantity',\n       'title', 'unit', 'url', 'weight_per_ingr'],\n      dtype='object')"
          },
          "metadata": {}
        }
      ],
      "execution_count": 51,
      "metadata": {
        "jupyter": {
          "source_hidden": false,
          "outputs_hidden": false
        },
        "nteract": {
          "transient": {
            "deleting": false
          }
        },
        "gather": {
          "logged": 1708199182589
        }
      },
      "id": "e6438266-c1d3-4064-b460-be8cad0ca82f"
    },
    {
      "cell_type": "code",
      "source": [
        "merged_df.shape"
      ],
      "outputs": [
        {
          "output_type": "execute_result",
          "execution_count": 48,
          "data": {
            "text/plain": "(45, 19)"
          },
          "metadata": {}
        }
      ],
      "execution_count": 48,
      "metadata": {
        "jupyter": {
          "source_hidden": false,
          "outputs_hidden": false
        },
        "nteract": {
          "transient": {
            "deleting": false
          }
        },
        "gather": {
          "logged": 1708198939387
        }
      },
      "id": "c417b20d-939e-4c69-93d5-3ed4d70d6153"
    },
    {
      "cell_type": "code",
      "source": [
        "# Merge unique_df with filtered_dfN based on the 'ID' column\n",
        "merged_df = unique_df.merge(filtered_dfN, on='ID', how='left', suffixes=('_unique', '_filtered'))\n"
      ],
      "outputs": [],
      "execution_count": 47,
      "metadata": {
        "jupyter": {
          "source_hidden": false,
          "outputs_hidden": false
        },
        "nteract": {
          "transient": {
            "deleting": false
          }
        },
        "gather": {
          "logged": 1708198936340
        }
      },
      "id": "5b6c558b-a3e5-40ca-ae4c-2c1153519396"
    },
    {
      "cell_type": "code",
      "source": [
        "merged_df.head()"
      ],
      "outputs": [
        {
          "output_type": "execute_result",
          "execution_count": 49,
          "data": {
            "text/plain": "   index          ID              food_title partition_unique  \\\n0    283  003f5c1abe  Chicken Cordon Bleu II            train   \n1    413  005d660e01     Red Velvet Cupcakes            train   \n2   3124  02cf02ed70     Banana Banana Bread            train   \n3   4144  03b1a2a0dc           Alfredo Sauce            train   \n4   4162  03b668bbd5       Amish White Bread            train   \n\n                                          recipe_url  \\\n0  http://www.food.com/recipe/chicken-cordon-bleu...   \n1  http://www.food.com/recipe/red-velvet-cupcakes...   \n2  http://www.food.com/recipe/banana-banana-bread...   \n3     http://www.food.com/recipe/alfredo-sauce-64196   \n4  http://www.food.com/recipe/amish-white-bread-8...   \n\n                                  ingredients_unique  \\\n0  2 boneless skinless chicken breast halves /t 4...   \n1  2 12 cups cake flour, sifted (not self- rising...   \n2  2 cups all-purpose flour /t 1 teaspoon baking ...   \n3  12 cup butter /t 8 ounces cream cheese /t 8 ou...   \n4  2 cups warm water /t 23 cup white sugar /t 1 1...   \n\n                                 instructions_unique  \\\n0  Place chicken breasts between 2 pieces of plas...   \n1  Preheat oven to 350 degrees. /t Line standard ...   \n2  Preheat oven to 350. /t Lightly grease 9 x 5 l...   \n3  Melt butter in sauce pan. /t Add cream cheese ...   \n4  In a large bowl, dissolve the sugar in warm wa...   \n\n                                 ingredients_cleaned  \\\n0  2 boneless skinless chicken breast halves   4 ...   \n1  2 12 cups cake flour, sifted (not self- rising...   \n2  2 cups all-purpose flour   1 teaspoon baking s...   \n3  12 cup butter   8 ounces cream cheese   8 ounc...   \n4  2 cups warm water   23 cup white sugar   1 12 ...   \n\n                                  fsa_lights_per100g  \\\n0                                                NaN   \n1                                                NaN   \n2                                                NaN   \n3                                                NaN   \n4  {'fat': 'red', 'salt': 'green', 'saturates': '...   \n\n                                ingredients_filtered  \\\n0                                                NaN   \n1                                                NaN   \n2                                                NaN   \n3                                                NaN   \n4  [{'text': 'water, bottled, generic'}, {'text':...   \n\n                               instructions_filtered  \\\n0                                                NaN   \n1                                                NaN   \n2                                                NaN   \n3                                                NaN   \n4  [{'text': 'In a large bowl, dissolve the sugar...   \n\n                                 nutr_per_ingredient  \\\n0                                                NaN   \n1                                                NaN   \n2                                                NaN   \n3                                                NaN   \n4  [{'fat': 0.0, 'nrg': 0.0, 'pro': 0.0, 'sat': 0...   \n\n                                 nutr_values_per100g partition_filtered  \\\n0                                                NaN                NaN   \n1                                                NaN                NaN   \n2                                                NaN                NaN   \n3                                                NaN                NaN   \n4  {'energy': 527.0665894872765, 'fat': 33.828728...              train   \n\n                                            quantity              title  \\\n0                                                NaN                NaN   \n1                                                NaN                NaN   \n2                                                NaN                NaN   \n3                                                NaN                NaN   \n4  [{'text': '2'}, {'text': '23'}, {'text': '1 1/...  Amish White Bread   \n\n                                                unit  \\\n0                                                NaN   \n1                                                NaN   \n2                                                NaN   \n3                                                NaN   \n4  [{'text': 'cup'}, {'text': 'cup'}, {'text': 't...   \n\n                                                 url  \\\n0                                                NaN   \n1                                                NaN   \n2                                                NaN   \n3                                                NaN   \n4  http://www.food.com/recipe/amish-white-bread-8...   \n\n                             weight_per_ingr  \n0                                        NaN  \n1                                        NaN  \n2                                        NaN  \n3                                        NaN  \n4  [473.6, 4636.8, 18.0, 9.0, 3024.0, 822.0]  ",
            "text/html": "<div>\n<style scoped>\n    .dataframe tbody tr th:only-of-type {\n        vertical-align: middle;\n    }\n\n    .dataframe tbody tr th {\n        vertical-align: top;\n    }\n\n    .dataframe thead th {\n        text-align: right;\n    }\n</style>\n<table border=\"1\" class=\"dataframe\">\n  <thead>\n    <tr style=\"text-align: right;\">\n      <th></th>\n      <th>index</th>\n      <th>ID</th>\n      <th>food_title</th>\n      <th>partition_unique</th>\n      <th>recipe_url</th>\n      <th>ingredients_unique</th>\n      <th>instructions_unique</th>\n      <th>ingredients_cleaned</th>\n      <th>fsa_lights_per100g</th>\n      <th>ingredients_filtered</th>\n      <th>instructions_filtered</th>\n      <th>nutr_per_ingredient</th>\n      <th>nutr_values_per100g</th>\n      <th>partition_filtered</th>\n      <th>quantity</th>\n      <th>title</th>\n      <th>unit</th>\n      <th>url</th>\n      <th>weight_per_ingr</th>\n    </tr>\n  </thead>\n  <tbody>\n    <tr>\n      <th>0</th>\n      <td>283</td>\n      <td>003f5c1abe</td>\n      <td>Chicken Cordon Bleu II</td>\n      <td>train</td>\n      <td>http://www.food.com/recipe/chicken-cordon-bleu...</td>\n      <td>2 boneless skinless chicken breast halves /t 4...</td>\n      <td>Place chicken breasts between 2 pieces of plas...</td>\n      <td>2 boneless skinless chicken breast halves   4 ...</td>\n      <td>NaN</td>\n      <td>NaN</td>\n      <td>NaN</td>\n      <td>NaN</td>\n      <td>NaN</td>\n      <td>NaN</td>\n      <td>NaN</td>\n      <td>NaN</td>\n      <td>NaN</td>\n      <td>NaN</td>\n      <td>NaN</td>\n    </tr>\n    <tr>\n      <th>1</th>\n      <td>413</td>\n      <td>005d660e01</td>\n      <td>Red Velvet Cupcakes</td>\n      <td>train</td>\n      <td>http://www.food.com/recipe/red-velvet-cupcakes...</td>\n      <td>2 12 cups cake flour, sifted (not self- rising...</td>\n      <td>Preheat oven to 350 degrees. /t Line standard ...</td>\n      <td>2 12 cups cake flour, sifted (not self- rising...</td>\n      <td>NaN</td>\n      <td>NaN</td>\n      <td>NaN</td>\n      <td>NaN</td>\n      <td>NaN</td>\n      <td>NaN</td>\n      <td>NaN</td>\n      <td>NaN</td>\n      <td>NaN</td>\n      <td>NaN</td>\n      <td>NaN</td>\n    </tr>\n    <tr>\n      <th>2</th>\n      <td>3124</td>\n      <td>02cf02ed70</td>\n      <td>Banana Banana Bread</td>\n      <td>train</td>\n      <td>http://www.food.com/recipe/banana-banana-bread...</td>\n      <td>2 cups all-purpose flour /t 1 teaspoon baking ...</td>\n      <td>Preheat oven to 350. /t Lightly grease 9 x 5 l...</td>\n      <td>2 cups all-purpose flour   1 teaspoon baking s...</td>\n      <td>NaN</td>\n      <td>NaN</td>\n      <td>NaN</td>\n      <td>NaN</td>\n      <td>NaN</td>\n      <td>NaN</td>\n      <td>NaN</td>\n      <td>NaN</td>\n      <td>NaN</td>\n      <td>NaN</td>\n      <td>NaN</td>\n    </tr>\n    <tr>\n      <th>3</th>\n      <td>4144</td>\n      <td>03b1a2a0dc</td>\n      <td>Alfredo Sauce</td>\n      <td>train</td>\n      <td>http://www.food.com/recipe/alfredo-sauce-64196</td>\n      <td>12 cup butter /t 8 ounces cream cheese /t 8 ou...</td>\n      <td>Melt butter in sauce pan. /t Add cream cheese ...</td>\n      <td>12 cup butter   8 ounces cream cheese   8 ounc...</td>\n      <td>NaN</td>\n      <td>NaN</td>\n      <td>NaN</td>\n      <td>NaN</td>\n      <td>NaN</td>\n      <td>NaN</td>\n      <td>NaN</td>\n      <td>NaN</td>\n      <td>NaN</td>\n      <td>NaN</td>\n      <td>NaN</td>\n    </tr>\n    <tr>\n      <th>4</th>\n      <td>4162</td>\n      <td>03b668bbd5</td>\n      <td>Amish White Bread</td>\n      <td>train</td>\n      <td>http://www.food.com/recipe/amish-white-bread-8...</td>\n      <td>2 cups warm water /t 23 cup white sugar /t 1 1...</td>\n      <td>In a large bowl, dissolve the sugar in warm wa...</td>\n      <td>2 cups warm water   23 cup white sugar   1 12 ...</td>\n      <td>{'fat': 'red', 'salt': 'green', 'saturates': '...</td>\n      <td>[{'text': 'water, bottled, generic'}, {'text':...</td>\n      <td>[{'text': 'In a large bowl, dissolve the sugar...</td>\n      <td>[{'fat': 0.0, 'nrg': 0.0, 'pro': 0.0, 'sat': 0...</td>\n      <td>{'energy': 527.0665894872765, 'fat': 33.828728...</td>\n      <td>train</td>\n      <td>[{'text': '2'}, {'text': '23'}, {'text': '1 1/...</td>\n      <td>Amish White Bread</td>\n      <td>[{'text': 'cup'}, {'text': 'cup'}, {'text': 't...</td>\n      <td>http://www.food.com/recipe/amish-white-bread-8...</td>\n      <td>[473.6, 4636.8, 18.0, 9.0, 3024.0, 822.0]</td>\n    </tr>\n  </tbody>\n</table>\n</div>"
          },
          "metadata": {}
        }
      ],
      "execution_count": 49,
      "metadata": {
        "jupyter": {
          "source_hidden": false,
          "outputs_hidden": false
        },
        "nteract": {
          "transient": {
            "deleting": false
          }
        },
        "gather": {
          "logged": 1708198958074
        }
      },
      "id": "bc773280-6cc5-408a-b168-4f7b95434344"
    },
    {
      "cell_type": "code",
      "source": [
        "selected_columns = ['ID', 'food_title', 'recipe_url', \n",
        "                    'ingredients_unique', 'instructions_unique', \n",
        "                    'nutr_per_ingredient', 'nutr_values_per100g', 'weight_per_ingr']\n",
        "\n",
        "selected_df = merged_df.loc[:, selected_columns]\n"
      ],
      "outputs": [],
      "execution_count": 55,
      "metadata": {
        "jupyter": {
          "source_hidden": false,
          "outputs_hidden": false
        },
        "nteract": {
          "transient": {
            "deleting": false
          }
        },
        "gather": {
          "logged": 1708200380185
        }
      },
      "id": "52d2d1d6-c4d0-4bdd-8d4f-6af2957f34cf"
    },
    {
      "cell_type": "code",
      "source": [
        "selected_df.head()"
      ],
      "outputs": [
        {
          "output_type": "execute_result",
          "execution_count": 56,
          "data": {
            "text/plain": "           ID              food_title  \\\n0  003f5c1abe  Chicken Cordon Bleu II   \n1  005d660e01     Red Velvet Cupcakes   \n2  02cf02ed70     Banana Banana Bread   \n3  03b1a2a0dc           Alfredo Sauce   \n4  03b668bbd5       Amish White Bread   \n\n                                          recipe_url  \\\n0  http://www.food.com/recipe/chicken-cordon-bleu...   \n1  http://www.food.com/recipe/red-velvet-cupcakes...   \n2  http://www.food.com/recipe/banana-banana-bread...   \n3     http://www.food.com/recipe/alfredo-sauce-64196   \n4  http://www.food.com/recipe/amish-white-bread-8...   \n\n                                  ingredients_unique  \\\n0  2 boneless skinless chicken breast halves /t 4...   \n1  2 12 cups cake flour, sifted (not self- rising...   \n2  2 cups all-purpose flour /t 1 teaspoon baking ...   \n3  12 cup butter /t 8 ounces cream cheese /t 8 ou...   \n4  2 cups warm water /t 23 cup white sugar /t 1 1...   \n\n                                 instructions_unique  \\\n0  Place chicken breasts between 2 pieces of plas...   \n1  Preheat oven to 350 degrees. /t Line standard ...   \n2  Preheat oven to 350. /t Lightly grease 9 x 5 l...   \n3  Melt butter in sauce pan. /t Add cream cheese ...   \n4  In a large bowl, dissolve the sugar in warm wa...   \n\n                                 nutr_per_ingredient  \\\n0                                                NaN   \n1                                                NaN   \n2                                                NaN   \n3                                                NaN   \n4  [{'fat': 0.0, 'nrg': 0.0, 'pro': 0.0, 'sat': 0...   \n\n                                 nutr_values_per100g  \\\n0                                                NaN   \n1                                                NaN   \n2                                                NaN   \n3                                                NaN   \n4  {'energy': 527.0665894872765, 'fat': 33.828728...   \n\n                             weight_per_ingr  \n0                                        NaN  \n1                                        NaN  \n2                                        NaN  \n3                                        NaN  \n4  [473.6, 4636.8, 18.0, 9.0, 3024.0, 822.0]  ",
            "text/html": "<div>\n<style scoped>\n    .dataframe tbody tr th:only-of-type {\n        vertical-align: middle;\n    }\n\n    .dataframe tbody tr th {\n        vertical-align: top;\n    }\n\n    .dataframe thead th {\n        text-align: right;\n    }\n</style>\n<table border=\"1\" class=\"dataframe\">\n  <thead>\n    <tr style=\"text-align: right;\">\n      <th></th>\n      <th>ID</th>\n      <th>food_title</th>\n      <th>recipe_url</th>\n      <th>ingredients_unique</th>\n      <th>instructions_unique</th>\n      <th>nutr_per_ingredient</th>\n      <th>nutr_values_per100g</th>\n      <th>weight_per_ingr</th>\n    </tr>\n  </thead>\n  <tbody>\n    <tr>\n      <th>0</th>\n      <td>003f5c1abe</td>\n      <td>Chicken Cordon Bleu II</td>\n      <td>http://www.food.com/recipe/chicken-cordon-bleu...</td>\n      <td>2 boneless skinless chicken breast halves /t 4...</td>\n      <td>Place chicken breasts between 2 pieces of plas...</td>\n      <td>NaN</td>\n      <td>NaN</td>\n      <td>NaN</td>\n    </tr>\n    <tr>\n      <th>1</th>\n      <td>005d660e01</td>\n      <td>Red Velvet Cupcakes</td>\n      <td>http://www.food.com/recipe/red-velvet-cupcakes...</td>\n      <td>2 12 cups cake flour, sifted (not self- rising...</td>\n      <td>Preheat oven to 350 degrees. /t Line standard ...</td>\n      <td>NaN</td>\n      <td>NaN</td>\n      <td>NaN</td>\n    </tr>\n    <tr>\n      <th>2</th>\n      <td>02cf02ed70</td>\n      <td>Banana Banana Bread</td>\n      <td>http://www.food.com/recipe/banana-banana-bread...</td>\n      <td>2 cups all-purpose flour /t 1 teaspoon baking ...</td>\n      <td>Preheat oven to 350. /t Lightly grease 9 x 5 l...</td>\n      <td>NaN</td>\n      <td>NaN</td>\n      <td>NaN</td>\n    </tr>\n    <tr>\n      <th>3</th>\n      <td>03b1a2a0dc</td>\n      <td>Alfredo Sauce</td>\n      <td>http://www.food.com/recipe/alfredo-sauce-64196</td>\n      <td>12 cup butter /t 8 ounces cream cheese /t 8 ou...</td>\n      <td>Melt butter in sauce pan. /t Add cream cheese ...</td>\n      <td>NaN</td>\n      <td>NaN</td>\n      <td>NaN</td>\n    </tr>\n    <tr>\n      <th>4</th>\n      <td>03b668bbd5</td>\n      <td>Amish White Bread</td>\n      <td>http://www.food.com/recipe/amish-white-bread-8...</td>\n      <td>2 cups warm water /t 23 cup white sugar /t 1 1...</td>\n      <td>In a large bowl, dissolve the sugar in warm wa...</td>\n      <td>[{'fat': 0.0, 'nrg': 0.0, 'pro': 0.0, 'sat': 0...</td>\n      <td>{'energy': 527.0665894872765, 'fat': 33.828728...</td>\n      <td>[473.6, 4636.8, 18.0, 9.0, 3024.0, 822.0]</td>\n    </tr>\n  </tbody>\n</table>\n</div>"
          },
          "metadata": {}
        }
      ],
      "execution_count": 56,
      "metadata": {
        "jupyter": {
          "source_hidden": false,
          "outputs_hidden": false
        },
        "nteract": {
          "transient": {
            "deleting": false
          }
        },
        "gather": {
          "logged": 1708200386470
        }
      },
      "id": "8298e5d3-c657-4c51-9859-b50f8984b59a"
    },
    {
      "cell_type": "code",
      "source": [],
      "outputs": [],
      "execution_count": null,
      "metadata": {
        "jupyter": {
          "source_hidden": false,
          "outputs_hidden": false
        },
        "nteract": {
          "transient": {
            "deleting": false
          }
        }
      },
      "id": "42626008-e822-4885-a799-409ec86c2fb0"
    },
    {
      "cell_type": "code",
      "source": [
        "selected_df.to_csv('recipe_with_nutrients.csv', index=False)"
      ],
      "outputs": [],
      "execution_count": 57,
      "metadata": {
        "jupyter": {
          "source_hidden": false,
          "outputs_hidden": false
        },
        "nteract": {
          "transient": {
            "deleting": false
          }
        },
        "gather": {
          "logged": 1708200393500
        }
      },
      "id": "434d0c1f-f68a-4625-9bd3-d01e9d3598f2"
    }
  ],
  "metadata": {
    "kernelspec": {
      "name": "python3",
      "language": "python",
      "display_name": "Python 3 (ipykernel)"
    },
    "language_info": {
      "name": "python",
      "version": "3.8.5",
      "mimetype": "text/x-python",
      "codemirror_mode": {
        "name": "ipython",
        "version": 3
      },
      "pygments_lexer": "ipython3",
      "nbconvert_exporter": "python",
      "file_extension": ".py"
    },
    "microsoft": {
      "ms_spell_check": {
        "ms_spell_check_language": "en"
      },
      "host": {
        "AzureML": {
          "notebookHasBeenCompleted": true
        }
      }
    },
    "kernel_info": {
      "name": "python3"
    },
    "nteract": {
      "version": "nteract-front-end@1.0.0"
    }
  },
  "nbformat": 4,
  "nbformat_minor": 5
}