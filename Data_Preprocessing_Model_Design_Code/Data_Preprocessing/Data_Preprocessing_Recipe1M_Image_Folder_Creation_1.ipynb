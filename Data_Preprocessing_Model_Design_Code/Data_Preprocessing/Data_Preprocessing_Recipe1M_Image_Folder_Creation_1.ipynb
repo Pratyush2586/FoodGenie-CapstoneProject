{
 "cells": [
  {
   "cell_type": "code",
   "execution_count": 1,
   "id": "473865af",
   "metadata": {
    "gather": {
     "logged": 1706885321704
    }
   },
   "outputs": [],
   "source": [
    "import pandas as pd\n",
    "import numpy as np\n",
    "import re\n",
    "import os\n",
    "import shutil\n",
    "\n",
    "import warnings\n",
    "warnings.filterwarnings(\"ignore\")"
   ]
  },
  {
   "cell_type": "code",
   "execution_count": 95,
   "id": "bf709be9-f033-45e3-b6f5-252ec3711472",
   "metadata": {
    "gather": {
     "logged": 1706885647533
    },
    "jupyter": {
     "outputs_hidden": false,
     "source_hidden": false
    },
    "nteract": {
     "transient": {
      "deleting": false
     }
    }
   },
   "outputs": [],
   "source": [
    "# import os\n",
    "# print(os.getcwd())"
   ]
  },
  {
   "cell_type": "code",
   "execution_count": 2,
   "id": "7197215d",
   "metadata": {
    "gather": {
     "logged": 1706885680110
    }
   },
   "outputs": [],
   "source": [
    "data = pd.read_csv(\"merged_layer1_and_layer2.csv\")"
   ]
  },
  {
   "cell_type": "code",
   "execution_count": 3,
   "id": "02545d65",
   "metadata": {
    "gather": {
     "logged": 1706885685380
    }
   },
   "outputs": [
    {
     "data": {
      "text/html": [
       "<div>\n",
       "<style scoped>\n",
       "    .dataframe tbody tr th:only-of-type {\n",
       "        vertical-align: middle;\n",
       "    }\n",
       "\n",
       "    .dataframe tbody tr th {\n",
       "        vertical-align: top;\n",
       "    }\n",
       "\n",
       "    .dataframe thead th {\n",
       "        text-align: right;\n",
       "    }\n",
       "</style>\n",
       "<table border=\"1\" class=\"dataframe\">\n",
       "  <thead>\n",
       "    <tr style=\"text-align: right;\">\n",
       "      <th></th>\n",
       "      <th>Unnamed: 0</th>\n",
       "      <th>ID</th>\n",
       "      <th>food_title</th>\n",
       "      <th>partition</th>\n",
       "      <th>recipe_url</th>\n",
       "      <th>ingredients</th>\n",
       "      <th>instructions</th>\n",
       "      <th>images_id</th>\n",
       "      <th>images_url</th>\n",
       "    </tr>\n",
       "  </thead>\n",
       "  <tbody>\n",
       "    <tr>\n",
       "      <th>0</th>\n",
       "      <td>0</td>\n",
       "      <td>00003a70b1</td>\n",
       "      <td>Crunchy Onion Potato Bake</td>\n",
       "      <td>test</td>\n",
       "      <td>http://www.food.com/recipe/crunchy-onion-potat...</td>\n",
       "      <td>2 12 cups milk /t 1 12 cups water /t 14 cup bu...</td>\n",
       "      <td>Preheat oven to 350 degrees Fahrenheit. /t Spr...</td>\n",
       "      <td>3e233001e2.jpg /t 7f749987f9.jpg /t aaf6b2dcd3...</td>\n",
       "      <td>http://img.sndimg.com/food/image/upload/w_512,...</td>\n",
       "    </tr>\n",
       "    <tr>\n",
       "      <th>1</th>\n",
       "      <td>1</td>\n",
       "      <td>000075604a</td>\n",
       "      <td>Kombu Tea Grilled Chicken Thigh</td>\n",
       "      <td>train</td>\n",
       "      <td>https://cookpad.com/us/recipes/150100-kombu-te...</td>\n",
       "      <td>2 Chicken thighs /t 2 tsp Kombu tea /t 1 White...</td>\n",
       "      <td>Pierce the skin of the chicken with a fork or ...</td>\n",
       "      <td>6bdca6e490.jpg</td>\n",
       "      <td>https://img-global.cpcdn.com/001_recipes/58069...</td>\n",
       "    </tr>\n",
       "    <tr>\n",
       "      <th>2</th>\n",
       "      <td>2</td>\n",
       "      <td>00007bfd16</td>\n",
       "      <td>Strawberry Rhubarb Dump Cake</td>\n",
       "      <td>train</td>\n",
       "      <td>http://www.food.com/recipe/strawberry-rhubarb-...</td>\n",
       "      <td>6 -8 cups fresh rhubarb, or /t 6 -8 cups froze...</td>\n",
       "      <td>Put ingredients in a buttered 9 x 12 x 2-inch ...</td>\n",
       "      <td>6409eab844.jpg /t f7cb3de295.jpg</td>\n",
       "      <td>http://img.sndimg.com/food/image/upload/w_512,...</td>\n",
       "    </tr>\n",
       "    <tr>\n",
       "      <th>3</th>\n",
       "      <td>3</td>\n",
       "      <td>000095fc1d</td>\n",
       "      <td>Yogurt Parfaits</td>\n",
       "      <td>train</td>\n",
       "      <td>http://tastykitchen.com/recipes/breakfastbrunc...</td>\n",
       "      <td>8 ounces, weight Light Fat Free Vanilla Yogurt...</td>\n",
       "      <td>Layer all ingredients in a serving dish.</td>\n",
       "      <td>a1374cdd98.jpg</td>\n",
       "      <td>http://tastykitchen.com/recipes/wp-content/upl...</td>\n",
       "    </tr>\n",
       "    <tr>\n",
       "      <th>4</th>\n",
       "      <td>4</td>\n",
       "      <td>0000b1e2b5</td>\n",
       "      <td>Fennel-Rubbed Pork Tenderloin with Roasted Fen...</td>\n",
       "      <td>train</td>\n",
       "      <td>http://www.epicurious.com/recipes/food/views/f...</td>\n",
       "      <td>1 teaspoon fennel seeds /t 1 pound pork tender...</td>\n",
       "      <td>Preheat oven to 350F with rack in middle. /t C...</td>\n",
       "      <td>cb1a684683.jpg</td>\n",
       "      <td>http://assets.epicurious.com/photos/5609a4d662...</td>\n",
       "    </tr>\n",
       "  </tbody>\n",
       "</table>\n",
       "</div>"
      ],
      "text/plain": [
       "   Unnamed: 0          ID                                         food_title  \\\n",
       "0           0  00003a70b1                          Crunchy Onion Potato Bake   \n",
       "1           1  000075604a                    Kombu Tea Grilled Chicken Thigh   \n",
       "2           2  00007bfd16                       Strawberry Rhubarb Dump Cake   \n",
       "3           3  000095fc1d                                    Yogurt Parfaits   \n",
       "4           4  0000b1e2b5  Fennel-Rubbed Pork Tenderloin with Roasted Fen...   \n",
       "\n",
       "  partition                                         recipe_url  \\\n",
       "0      test  http://www.food.com/recipe/crunchy-onion-potat...   \n",
       "1     train  https://cookpad.com/us/recipes/150100-kombu-te...   \n",
       "2     train  http://www.food.com/recipe/strawberry-rhubarb-...   \n",
       "3     train  http://tastykitchen.com/recipes/breakfastbrunc...   \n",
       "4     train  http://www.epicurious.com/recipes/food/views/f...   \n",
       "\n",
       "                                         ingredients  \\\n",
       "0  2 12 cups milk /t 1 12 cups water /t 14 cup bu...   \n",
       "1  2 Chicken thighs /t 2 tsp Kombu tea /t 1 White...   \n",
       "2  6 -8 cups fresh rhubarb, or /t 6 -8 cups froze...   \n",
       "3  8 ounces, weight Light Fat Free Vanilla Yogurt...   \n",
       "4  1 teaspoon fennel seeds /t 1 pound pork tender...   \n",
       "\n",
       "                                        instructions  \\\n",
       "0  Preheat oven to 350 degrees Fahrenheit. /t Spr...   \n",
       "1  Pierce the skin of the chicken with a fork or ...   \n",
       "2  Put ingredients in a buttered 9 x 12 x 2-inch ...   \n",
       "3           Layer all ingredients in a serving dish.   \n",
       "4  Preheat oven to 350F with rack in middle. /t C...   \n",
       "\n",
       "                                           images_id  \\\n",
       "0  3e233001e2.jpg /t 7f749987f9.jpg /t aaf6b2dcd3...   \n",
       "1                                     6bdca6e490.jpg   \n",
       "2                   6409eab844.jpg /t f7cb3de295.jpg   \n",
       "3                                     a1374cdd98.jpg   \n",
       "4                                     cb1a684683.jpg   \n",
       "\n",
       "                                          images_url  \n",
       "0  http://img.sndimg.com/food/image/upload/w_512,...  \n",
       "1  https://img-global.cpcdn.com/001_recipes/58069...  \n",
       "2  http://img.sndimg.com/food/image/upload/w_512,...  \n",
       "3  http://tastykitchen.com/recipes/wp-content/upl...  \n",
       "4  http://assets.epicurious.com/photos/5609a4d662...  "
      ]
     },
     "execution_count": 3,
     "metadata": {},
     "output_type": "execute_result"
    }
   ],
   "source": [
    "data.head()"
   ]
  },
  {
   "cell_type": "code",
   "execution_count": 4,
   "id": "2282ed7c-7c34-4880-9621-db2a02d43bde",
   "metadata": {
    "gather": {
     "logged": 1706885767097
    },
    "jupyter": {
     "outputs_hidden": false,
     "source_hidden": false
    },
    "nteract": {
     "transient": {
      "deleting": false
     }
    }
   },
   "outputs": [
    {
     "data": {
      "text/plain": [
       "Index(['Unnamed: 0', 'ID', 'food_title', 'partition', 'recipe_url',\n",
       "       'ingredients', 'instructions', 'images_id', 'images_url'],\n",
       "      dtype='object')"
      ]
     },
     "execution_count": 4,
     "metadata": {},
     "output_type": "execute_result"
    }
   ],
   "source": [
    "data.columns"
   ]
  },
  {
   "cell_type": "code",
   "execution_count": 5,
   "id": "21baa1bf-7c57-4b0d-839d-86ecaa302614",
   "metadata": {
    "gather": {
     "logged": 1706886019898
    },
    "jupyter": {
     "outputs_hidden": false,
     "source_hidden": false
    },
    "nteract": {
     "transient": {
      "deleting": false
     }
    }
   },
   "outputs": [],
   "source": [
    "data.drop(['Unnamed: 0', 'recipe_url','ingredients', 'instructions', 'images_url'],inplace=True,axis=1)"
   ]
  },
  {
   "cell_type": "code",
   "execution_count": 6,
   "id": "4d7d0c49-5c6a-493f-9e0c-10ea6cbbbecd",
   "metadata": {
    "gather": {
     "logged": 1706886034173
    },
    "jupyter": {
     "outputs_hidden": false,
     "source_hidden": false
    },
    "nteract": {
     "transient": {
      "deleting": false
     }
    }
   },
   "outputs": [
    {
     "data": {
      "text/plain": [
       "Index(['ID', 'food_title', 'partition', 'images_id'], dtype='object')"
      ]
     },
     "execution_count": 6,
     "metadata": {},
     "output_type": "execute_result"
    }
   ],
   "source": [
    "data.columns"
   ]
  },
  {
   "cell_type": "code",
   "execution_count": 7,
   "id": "2a1e6339-f747-41ff-9377-2756a98006b6",
   "metadata": {
    "gather": {
     "logged": 1706886044355
    },
    "jupyter": {
     "outputs_hidden": false,
     "source_hidden": false
    },
    "nteract": {
     "transient": {
      "deleting": false
     }
    }
   },
   "outputs": [
    {
     "data": {
      "text/html": [
       "<div>\n",
       "<style scoped>\n",
       "    .dataframe tbody tr th:only-of-type {\n",
       "        vertical-align: middle;\n",
       "    }\n",
       "\n",
       "    .dataframe tbody tr th {\n",
       "        vertical-align: top;\n",
       "    }\n",
       "\n",
       "    .dataframe thead th {\n",
       "        text-align: right;\n",
       "    }\n",
       "</style>\n",
       "<table border=\"1\" class=\"dataframe\">\n",
       "  <thead>\n",
       "    <tr style=\"text-align: right;\">\n",
       "      <th></th>\n",
       "      <th>ID</th>\n",
       "      <th>food_title</th>\n",
       "      <th>partition</th>\n",
       "      <th>images_id</th>\n",
       "    </tr>\n",
       "  </thead>\n",
       "  <tbody>\n",
       "    <tr>\n",
       "      <th>0</th>\n",
       "      <td>00003a70b1</td>\n",
       "      <td>Crunchy Onion Potato Bake</td>\n",
       "      <td>test</td>\n",
       "      <td>3e233001e2.jpg /t 7f749987f9.jpg /t aaf6b2dcd3...</td>\n",
       "    </tr>\n",
       "    <tr>\n",
       "      <th>1</th>\n",
       "      <td>000075604a</td>\n",
       "      <td>Kombu Tea Grilled Chicken Thigh</td>\n",
       "      <td>train</td>\n",
       "      <td>6bdca6e490.jpg</td>\n",
       "    </tr>\n",
       "    <tr>\n",
       "      <th>2</th>\n",
       "      <td>00007bfd16</td>\n",
       "      <td>Strawberry Rhubarb Dump Cake</td>\n",
       "      <td>train</td>\n",
       "      <td>6409eab844.jpg /t f7cb3de295.jpg</td>\n",
       "    </tr>\n",
       "    <tr>\n",
       "      <th>3</th>\n",
       "      <td>000095fc1d</td>\n",
       "      <td>Yogurt Parfaits</td>\n",
       "      <td>train</td>\n",
       "      <td>a1374cdd98.jpg</td>\n",
       "    </tr>\n",
       "    <tr>\n",
       "      <th>4</th>\n",
       "      <td>0000b1e2b5</td>\n",
       "      <td>Fennel-Rubbed Pork Tenderloin with Roasted Fen...</td>\n",
       "      <td>train</td>\n",
       "      <td>cb1a684683.jpg</td>\n",
       "    </tr>\n",
       "    <tr>\n",
       "      <th>5</th>\n",
       "      <td>0000c79afb</td>\n",
       "      <td>Pink Sangria</td>\n",
       "      <td>train</td>\n",
       "      <td>2f4b4c4452.jpg</td>\n",
       "    </tr>\n",
       "    <tr>\n",
       "      <th>6</th>\n",
       "      <td>00010379bf</td>\n",
       "      <td>Brown Sugar 'Karintou' Snacks</td>\n",
       "      <td>train</td>\n",
       "      <td>f480145da5.jpg</td>\n",
       "    </tr>\n",
       "    <tr>\n",
       "      <th>7</th>\n",
       "      <td>00010c7867</td>\n",
       "      <td>Grandmommy's Mexicali Meatloaf</td>\n",
       "      <td>train</td>\n",
       "      <td>3b99e69c3c.jpg /t 5ab32d58e0.jpg</td>\n",
       "    </tr>\n",
       "    <tr>\n",
       "      <th>8</th>\n",
       "      <td>00010d44c7</td>\n",
       "      <td>Broccoli Rice Bake</td>\n",
       "      <td>train</td>\n",
       "      <td>9f497dcfa5.jpg</td>\n",
       "    </tr>\n",
       "    <tr>\n",
       "      <th>9</th>\n",
       "      <td>00013266c9</td>\n",
       "      <td>Tinklee's Vanilla Crack</td>\n",
       "      <td>train</td>\n",
       "      <td>4636c7f576.jpg</td>\n",
       "    </tr>\n",
       "    <tr>\n",
       "      <th>10</th>\n",
       "      <td>00016355e6</td>\n",
       "      <td>Banana Cream Pie Smoothie</td>\n",
       "      <td>train</td>\n",
       "      <td>fbb388415c.jpg</td>\n",
       "    </tr>\n",
       "    <tr>\n",
       "      <th>11</th>\n",
       "      <td>00018371f2</td>\n",
       "      <td>Cooked Raspberry Jelly - CERTO Crystals</td>\n",
       "      <td>train</td>\n",
       "      <td>4247c11be3.jpg</td>\n",
       "    </tr>\n",
       "    <tr>\n",
       "      <th>12</th>\n",
       "      <td>000238353f</td>\n",
       "      <td>Sausage and marmalade plait recipe</td>\n",
       "      <td>train</td>\n",
       "      <td>13e1cc10b7.jpg</td>\n",
       "    </tr>\n",
       "    <tr>\n",
       "      <th>13</th>\n",
       "      <td>00029f71f7</td>\n",
       "      <td>Apple Carrot Bones (dog treat)</td>\n",
       "      <td>val</td>\n",
       "      <td>665bbeafc7.jpg /t 87aea5035b.jpg</td>\n",
       "    </tr>\n",
       "    <tr>\n",
       "      <th>14</th>\n",
       "      <td>0002a82634</td>\n",
       "      <td>Popcorn Trail Mix</td>\n",
       "      <td>train</td>\n",
       "      <td>6f50459f10.jpg</td>\n",
       "    </tr>\n",
       "    <tr>\n",
       "      <th>15</th>\n",
       "      <td>000320b7ce</td>\n",
       "      <td>Tropical Banana Muffins</td>\n",
       "      <td>train</td>\n",
       "      <td>9c5d5f3e9c.jpg</td>\n",
       "    </tr>\n",
       "    <tr>\n",
       "      <th>16</th>\n",
       "      <td>00033f624d</td>\n",
       "      <td>Amy's Cheesey , Bacon savory bites .</td>\n",
       "      <td>train</td>\n",
       "      <td>ccfd7a7e7e.jpg</td>\n",
       "    </tr>\n",
       "    <tr>\n",
       "      <th>17</th>\n",
       "      <td>00034ad6cc</td>\n",
       "      <td>Best Ever Fettuccine Alfredo</td>\n",
       "      <td>train</td>\n",
       "      <td>044b215842.jpg /t 0498c67485.jpg /t dea08eb2a0...</td>\n",
       "    </tr>\n",
       "    <tr>\n",
       "      <th>18</th>\n",
       "      <td>00034cf3f3</td>\n",
       "      <td>Meringue Topping... You Don't Weep, It Doesn't...</td>\n",
       "      <td>train</td>\n",
       "      <td>82e0b9e192.jpg /t 8628106245.jpg</td>\n",
       "    </tr>\n",
       "    <tr>\n",
       "      <th>19</th>\n",
       "      <td>0003d5b120</td>\n",
       "      <td>Balsamic Chicken Pasta with Fresh Cheese</td>\n",
       "      <td>train</td>\n",
       "      <td>6196a11a54.jpg</td>\n",
       "    </tr>\n",
       "  </tbody>\n",
       "</table>\n",
       "</div>"
      ],
      "text/plain": [
       "            ID                                         food_title partition  \\\n",
       "0   00003a70b1                          Crunchy Onion Potato Bake      test   \n",
       "1   000075604a                    Kombu Tea Grilled Chicken Thigh     train   \n",
       "2   00007bfd16                       Strawberry Rhubarb Dump Cake     train   \n",
       "3   000095fc1d                                    Yogurt Parfaits     train   \n",
       "4   0000b1e2b5  Fennel-Rubbed Pork Tenderloin with Roasted Fen...     train   \n",
       "5   0000c79afb                                       Pink Sangria     train   \n",
       "6   00010379bf                      Brown Sugar 'Karintou' Snacks     train   \n",
       "7   00010c7867                     Grandmommy's Mexicali Meatloaf     train   \n",
       "8   00010d44c7                                 Broccoli Rice Bake     train   \n",
       "9   00013266c9                            Tinklee's Vanilla Crack     train   \n",
       "10  00016355e6                          Banana Cream Pie Smoothie     train   \n",
       "11  00018371f2            Cooked Raspberry Jelly - CERTO Crystals     train   \n",
       "12  000238353f                 Sausage and marmalade plait recipe     train   \n",
       "13  00029f71f7                     Apple Carrot Bones (dog treat)       val   \n",
       "14  0002a82634                                  Popcorn Trail Mix     train   \n",
       "15  000320b7ce                            Tropical Banana Muffins     train   \n",
       "16  00033f624d               Amy's Cheesey , Bacon savory bites .     train   \n",
       "17  00034ad6cc                       Best Ever Fettuccine Alfredo     train   \n",
       "18  00034cf3f3  Meringue Topping... You Don't Weep, It Doesn't...     train   \n",
       "19  0003d5b120           Balsamic Chicken Pasta with Fresh Cheese     train   \n",
       "\n",
       "                                            images_id  \n",
       "0   3e233001e2.jpg /t 7f749987f9.jpg /t aaf6b2dcd3...  \n",
       "1                                      6bdca6e490.jpg  \n",
       "2                    6409eab844.jpg /t f7cb3de295.jpg  \n",
       "3                                      a1374cdd98.jpg  \n",
       "4                                      cb1a684683.jpg  \n",
       "5                                      2f4b4c4452.jpg  \n",
       "6                                      f480145da5.jpg  \n",
       "7                    3b99e69c3c.jpg /t 5ab32d58e0.jpg  \n",
       "8                                      9f497dcfa5.jpg  \n",
       "9                                      4636c7f576.jpg  \n",
       "10                                     fbb388415c.jpg  \n",
       "11                                     4247c11be3.jpg  \n",
       "12                                     13e1cc10b7.jpg  \n",
       "13                   665bbeafc7.jpg /t 87aea5035b.jpg  \n",
       "14                                     6f50459f10.jpg  \n",
       "15                                     9c5d5f3e9c.jpg  \n",
       "16                                     ccfd7a7e7e.jpg  \n",
       "17  044b215842.jpg /t 0498c67485.jpg /t dea08eb2a0...  \n",
       "18                   82e0b9e192.jpg /t 8628106245.jpg  \n",
       "19                                     6196a11a54.jpg  "
      ]
     },
     "execution_count": 7,
     "metadata": {},
     "output_type": "execute_result"
    }
   ],
   "source": [
    "data.head(20)"
   ]
  },
  {
   "cell_type": "code",
   "execution_count": 8,
   "id": "6afd2b6a-8dd7-422f-b2ce-4cd989911b2f",
   "metadata": {
    "gather": {
     "logged": 1706886181167
    },
    "jupyter": {
     "outputs_hidden": false,
     "source_hidden": false
    },
    "nteract": {
     "transient": {
      "deleting": false
     }
    }
   },
   "outputs": [
    {
     "data": {
      "text/plain": [
       "train    281598\n",
       "test      60740\n",
       "val       60422\n",
       "Name: partition, dtype: int64"
      ]
     },
     "execution_count": 8,
     "metadata": {},
     "output_type": "execute_result"
    }
   ],
   "source": [
    "data['partition'].value_counts()"
   ]
  },
  {
   "cell_type": "code",
   "execution_count": 9,
   "id": "0af1fef6-7749-4c8d-b23a-b13d076ea899",
   "metadata": {
    "gather": {
     "logged": 1706886204893
    },
    "jupyter": {
     "outputs_hidden": false,
     "source_hidden": false
    },
    "nteract": {
     "transient": {
      "deleting": false
     }
    }
   },
   "outputs": [],
   "source": [
    "data_train=data.loc[data['partition']=='train']\n",
    "data_test=data.loc[data['partition']=='test']\n",
    "data_val=data.loc[data['partition']=='val']"
   ]
  },
  {
   "cell_type": "code",
   "execution_count": 10,
   "id": "380c6887-5e4c-4114-9a70-07e2fb5a8f5f",
   "metadata": {
    "gather": {
     "logged": 1706886298478
    },
    "jupyter": {
     "outputs_hidden": false,
     "source_hidden": false
    },
    "nteract": {
     "transient": {
      "deleting": false
     }
    }
   },
   "outputs": [
    {
     "data": {
      "text/plain": [
       "((281598, 4), (60740, 4), (60422, 4))"
      ]
     },
     "execution_count": 10,
     "metadata": {},
     "output_type": "execute_result"
    }
   ],
   "source": [
    "data_train.reset_index(inplace=True,drop=True)\n",
    "data_test.reset_index(inplace=True,drop=True)\n",
    "data_val.reset_index(inplace=True,drop=True)\n",
    "data_train.shape,data_test.shape,data_val.shape"
   ]
  },
  {
   "cell_type": "code",
   "execution_count": null,
   "id": "b8b5191e-9547-4bbd-b36a-6cfe7d2227ef",
   "metadata": {
    "jupyter": {
     "outputs_hidden": false,
     "source_hidden": false
    },
    "nteract": {
     "transient": {
      "deleting": false
     }
    }
   },
   "outputs": [],
   "source": []
  },
  {
   "cell_type": "code",
   "execution_count": 11,
   "id": "86e5457f-188d-4472-8e22-1371bbe8ecc9",
   "metadata": {
    "gather": {
     "logged": 1706886539852
    },
    "jupyter": {
     "outputs_hidden": false,
     "source_hidden": false
    },
    "nteract": {
     "transient": {
      "deleting": false
     }
    }
   },
   "outputs": [],
   "source": [
    "def duplicate_check(df):\n",
    "   # Check for duplicates in 'food_title' column\n",
    "    duplicates = df[df.duplicated('food_title')]\n",
    "    if duplicates.empty:\n",
    "        print(\"No duplicates found in the 'food_title' column.\")\n",
    "    else:\n",
    "        print(\"Duplicates found in the 'food_title' column:\")\n",
    "        print(duplicates) "
   ]
  },
  {
   "cell_type": "code",
   "execution_count": 12,
   "id": "aac9dbc5-1330-4b86-94d4-98684a78f50a",
   "metadata": {
    "gather": {
     "logged": 1706886560111
    },
    "jupyter": {
     "outputs_hidden": false,
     "source_hidden": false
    },
    "nteract": {
     "transient": {
      "deleting": false
     }
    }
   },
   "outputs": [
    {
     "name": "stdout",
     "output_type": "stream",
     "text": [
      "Duplicates found in the 'food_title' column:\n",
      "                ID                     food_title partition  \\\n",
      "569     00815ae6b9                Stuffed peppers     train   \n",
      "982     00dc595d6f                 Zucchini Cakes     train   \n",
      "1075    00f3548694              Black Bean Hummus     train   \n",
      "1534    0152f86662      Mediterranean Pasta Salad     train   \n",
      "1650    016daca2b4            Buttermilk Pancakes     train   \n",
      "...            ...                            ...       ...   \n",
      "281566  fff5d58cfa  Almond Brown Sugar Pound Cake     train   \n",
      "281570  fff707d354         Orange Cranberry Bread     train   \n",
      "281577  fff9cafaa6             French Bread Rolls     train   \n",
      "281578  fffa1e5066            Ham and Potato Soup     train   \n",
      "281581  fffa86ca61         Chicken Soup with Rice     train   \n",
      "\n",
      "                               images_id  \n",
      "569                       9e29fd6934.jpg  \n",
      "982     8197c9c375.jpg /t 85973e5ad5.jpg  \n",
      "1075                      1abb4e83d0.jpg  \n",
      "1534                      bf175369c2.jpg  \n",
      "1650    00683e7e66.jpg /t acbfa9dffa.jpg  \n",
      "...                                  ...  \n",
      "281566                    be066c3c53.jpg  \n",
      "281570                    885fc26418.jpg  \n",
      "281577                    4e79db9632.jpg  \n",
      "281578                    4179262497.jpg  \n",
      "281581                    deb8205e6e.jpg  \n",
      "\n",
      "[35588 rows x 4 columns]\n"
     ]
    }
   ],
   "source": [
    "duplicate_check(data_train)"
   ]
  },
  {
   "cell_type": "code",
   "execution_count": 13,
   "id": "ee916db4-b781-463e-8188-5e7571ab5cfa",
   "metadata": {
    "gather": {
     "logged": 1706886691742
    },
    "jupyter": {
     "outputs_hidden": false,
     "source_hidden": false
    },
    "nteract": {
     "transient": {
      "deleting": false
     }
    }
   },
   "outputs": [
    {
     "data": {
      "text/html": [
       "<div>\n",
       "<style scoped>\n",
       "    .dataframe tbody tr th:only-of-type {\n",
       "        vertical-align: middle;\n",
       "    }\n",
       "\n",
       "    .dataframe tbody tr th {\n",
       "        vertical-align: top;\n",
       "    }\n",
       "\n",
       "    .dataframe thead th {\n",
       "        text-align: right;\n",
       "    }\n",
       "</style>\n",
       "<table border=\"1\" class=\"dataframe\">\n",
       "  <thead>\n",
       "    <tr style=\"text-align: right;\">\n",
       "      <th></th>\n",
       "      <th>ID</th>\n",
       "      <th>food_title</th>\n",
       "      <th>partition</th>\n",
       "      <th>images_id</th>\n",
       "    </tr>\n",
       "  </thead>\n",
       "  <tbody>\n",
       "    <tr>\n",
       "      <th>43</th>\n",
       "      <td>000a1936a3</td>\n",
       "      <td>Stuffed peppers</td>\n",
       "      <td>train</td>\n",
       "      <td>33df1c1c41.jpg</td>\n",
       "    </tr>\n",
       "    <tr>\n",
       "      <th>569</th>\n",
       "      <td>00815ae6b9</td>\n",
       "      <td>Stuffed peppers</td>\n",
       "      <td>train</td>\n",
       "      <td>9e29fd6934.jpg</td>\n",
       "    </tr>\n",
       "    <tr>\n",
       "      <th>99285</th>\n",
       "      <td>5a2cbb545a</td>\n",
       "      <td>Stuffed peppers</td>\n",
       "      <td>train</td>\n",
       "      <td>8f1d47384d.jpg</td>\n",
       "    </tr>\n",
       "    <tr>\n",
       "      <th>101387</th>\n",
       "      <td>5c18551c19</td>\n",
       "      <td>Stuffed peppers</td>\n",
       "      <td>train</td>\n",
       "      <td>1bd219d8b6.jpg /t 1ce9bab996.jpg /t 32673d5cd9...</td>\n",
       "    </tr>\n",
       "    <tr>\n",
       "      <th>139728</th>\n",
       "      <td>7f1231a49d</td>\n",
       "      <td>Stuffed peppers</td>\n",
       "      <td>train</td>\n",
       "      <td>7a228f830f.jpg</td>\n",
       "    </tr>\n",
       "    <tr>\n",
       "      <th>242096</th>\n",
       "      <td>dc3646e49f</td>\n",
       "      <td>Stuffed peppers</td>\n",
       "      <td>train</td>\n",
       "      <td>5d29031ccb.jpg</td>\n",
       "    </tr>\n",
       "    <tr>\n",
       "      <th>261694</th>\n",
       "      <td>edee8da6de</td>\n",
       "      <td>Stuffed peppers</td>\n",
       "      <td>train</td>\n",
       "      <td>1ee4ee7199.jpg</td>\n",
       "    </tr>\n",
       "  </tbody>\n",
       "</table>\n",
       "</div>"
      ],
      "text/plain": [
       "                ID       food_title partition  \\\n",
       "43      000a1936a3  Stuffed peppers     train   \n",
       "569     00815ae6b9  Stuffed peppers     train   \n",
       "99285   5a2cbb545a  Stuffed peppers     train   \n",
       "101387  5c18551c19  Stuffed peppers     train   \n",
       "139728  7f1231a49d  Stuffed peppers     train   \n",
       "242096  dc3646e49f  Stuffed peppers     train   \n",
       "261694  edee8da6de  Stuffed peppers     train   \n",
       "\n",
       "                                                images_id  \n",
       "43                                         33df1c1c41.jpg  \n",
       "569                                        9e29fd6934.jpg  \n",
       "99285                                      8f1d47384d.jpg  \n",
       "101387  1bd219d8b6.jpg /t 1ce9bab996.jpg /t 32673d5cd9...  \n",
       "139728                                     7a228f830f.jpg  \n",
       "242096                                     5d29031ccb.jpg  \n",
       "261694                                     1ee4ee7199.jpg  "
      ]
     },
     "execution_count": 13,
     "metadata": {},
     "output_type": "execute_result"
    }
   ],
   "source": [
    "data_train.loc[data_train['food_title']=='Stuffed peppers']"
   ]
  },
  {
   "cell_type": "code",
   "execution_count": 14,
   "id": "968a5c46-372c-49f1-8018-194d9b5bac54",
   "metadata": {
    "gather": {
     "logged": 1706886728778
    },
    "jupyter": {
     "outputs_hidden": false,
     "source_hidden": false
    },
    "nteract": {
     "transient": {
      "deleting": false
     }
    }
   },
   "outputs": [
    {
     "name": "stdout",
     "output_type": "stream",
     "text": [
      "Duplicates found in the 'food_title' column:\n",
      "               ID                    food_title partition  \\\n",
      "1463   067675d511                   Gingersnaps      test   \n",
      "1601   07099dbc63            Pumpkin Eggnog Pie      test   \n",
      "1890   082fbc270b               Apple Pie Bread      test   \n",
      "1901   08374ae972                 Apple Crumble      test   \n",
      "2436   0a54af44bb  Grilled Greek Chicken Kabobs      test   \n",
      "...           ...                           ...       ...   \n",
      "60704  ffd2a773c0       Mashed Potato Casserole      test   \n",
      "60707  ffd473d498              Mini Me Sandwich      test   \n",
      "60713  ffd773c753               Fluffy Pancakes      test   \n",
      "60728  ffefc5b152  Irish Cream Chocolate Mousse      test   \n",
      "60736  fffb4f3e7b             Easy Olive Spread      test   \n",
      "\n",
      "                                               images_id  \n",
      "1463                    48fd91ab55.jpg /t 9fd9d5d40d.jpg  \n",
      "1601   4227324fed.jpg /t 904b8dc2da.jpg /t 9bd77a6adb...  \n",
      "1890   49a653c81b.jpg /t 578c7cec48.jpg /t a73be8c851...  \n",
      "1901                                      72ad980b84.jpg  \n",
      "2436                                      2a9b11e70c.jpg  \n",
      "...                                                  ...  \n",
      "60704                                     265bb910fa.jpg  \n",
      "60707                                     9e2c29b55e.jpg  \n",
      "60713  054dc4bece.jpg /t 1530ea5606.jpg /t e506581b06...  \n",
      "60728                                     d3f5f2c14c.jpg  \n",
      "60736                                     dd7cdc4b69.jpg  \n",
      "\n",
      "[3180 rows x 4 columns]\n"
     ]
    }
   ],
   "source": [
    "duplicate_check(data_test)\n"
   ]
  },
  {
   "cell_type": "code",
   "execution_count": 15,
   "id": "dc67cf80-4b9c-4872-97a5-2cf9e85edb3f",
   "metadata": {
    "gather": {
     "logged": 1706886743535
    },
    "jupyter": {
     "outputs_hidden": false,
     "source_hidden": false
    },
    "nteract": {
     "transient": {
      "deleting": false
     }
    }
   },
   "outputs": [
    {
     "name": "stdout",
     "output_type": "stream",
     "text": [
      "Duplicates found in the 'food_title' column:\n",
      "               ID                food_title partition  \\\n",
      "1003   04369b228b         Blueberry Muffins       val   \n",
      "1165   04d7578e1a           Pumpkin Muffins       val   \n",
      "1278   0551fb7116         Blueberry Muffins       val   \n",
      "1477   061d0f46bb              Deviled Eggs       val   \n",
      "1551   0670e601f2              Deviled Eggs       val   \n",
      "...           ...                       ...       ...   \n",
      "60366  ffc6393b53              Brownie Pops       val   \n",
      "60377  ffcdf346f2      Homemade Pizza Dough       val   \n",
      "60389  ffdd35030d      Healthy Banana Bread       val   \n",
      "60390  ffe025dded  Bread and Butter Pudding       val   \n",
      "60412  fff9833954     Blackened Green Beans       val   \n",
      "\n",
      "                                               images_id  \n",
      "1003   94fe501aed.jpg /t c29dd203f4.jpg /t d0c5643e18...  \n",
      "1165                                      310cb1edc5.jpg  \n",
      "1278                                      db897f0617.jpg  \n",
      "1477                    54394002c0.jpg /t 65caa5760c.jpg  \n",
      "1551   6412b08b24.jpg /t 64a1a842d6.jpg /t 703b44f40b...  \n",
      "...                                                  ...  \n",
      "60366                                     1488173b79.jpg  \n",
      "60377                                     59c33cb875.jpg  \n",
      "60389                                     90048aaacc.jpg  \n",
      "60390                                     7110565e70.jpg  \n",
      "60412                                     9ec9d30e6f.jpg  \n",
      "\n",
      "[3193 rows x 4 columns]\n"
     ]
    }
   ],
   "source": [
    "duplicate_check(data_val)"
   ]
  },
  {
   "cell_type": "code",
   "execution_count": 16,
   "id": "85f36be9",
   "metadata": {
    "gather": {
     "logged": 1706886885303
    }
   },
   "outputs": [
    {
     "data": {
      "text/html": [
       "<div>\n",
       "<style scoped>\n",
       "    .dataframe tbody tr th:only-of-type {\n",
       "        vertical-align: middle;\n",
       "    }\n",
       "\n",
       "    .dataframe tbody tr th {\n",
       "        vertical-align: top;\n",
       "    }\n",
       "\n",
       "    .dataframe thead th {\n",
       "        text-align: right;\n",
       "    }\n",
       "</style>\n",
       "<table border=\"1\" class=\"dataframe\">\n",
       "  <thead>\n",
       "    <tr style=\"text-align: right;\">\n",
       "      <th></th>\n",
       "      <th>ID</th>\n",
       "      <th>food_title</th>\n",
       "      <th>partition</th>\n",
       "      <th>images_id</th>\n",
       "    </tr>\n",
       "  </thead>\n",
       "  <tbody>\n",
       "    <tr>\n",
       "      <th>24341</th>\n",
       "      <td>66c072d3e8</td>\n",
       "      <td>Homemade Pizza Dough</td>\n",
       "      <td>val</td>\n",
       "      <td>a21d9cff4c.jpg</td>\n",
       "    </tr>\n",
       "    <tr>\n",
       "      <th>60377</th>\n",
       "      <td>ffcdf346f2</td>\n",
       "      <td>Homemade Pizza Dough</td>\n",
       "      <td>val</td>\n",
       "      <td>59c33cb875.jpg</td>\n",
       "    </tr>\n",
       "  </tbody>\n",
       "</table>\n",
       "</div>"
      ],
      "text/plain": [
       "               ID            food_title partition       images_id\n",
       "24341  66c072d3e8  Homemade Pizza Dough       val  a21d9cff4c.jpg\n",
       "60377  ffcdf346f2  Homemade Pizza Dough       val  59c33cb875.jpg"
      ]
     },
     "execution_count": 16,
     "metadata": {},
     "output_type": "execute_result"
    }
   ],
   "source": [
    "data_val[data_val['food_title']=='Homemade Pizza Dough']"
   ]
  },
  {
   "cell_type": "code",
   "execution_count": 17,
   "id": "a6769ad7",
   "metadata": {},
   "outputs": [],
   "source": [
    "# List of columns to drop\n",
    "#columns_to_drop = ['ID', 'partition']\n",
    "\n",
    "# Drop specified columns\n",
    "#data_test = data_test.drop(columns=columns_to_drop)"
   ]
  },
  {
   "cell_type": "code",
   "execution_count": 18,
   "id": "dc7ca5ea",
   "metadata": {
    "gather": {
     "logged": 1706887190596
    }
   },
   "outputs": [],
   "source": [
    "def modify_merge(data):\n",
    "    data['images_id'] = data['images_id'].str.replace('/t', ',')\n",
    "    # Group by 'food_title' and aggregate 'images_id' by combining them\n",
    "    df_merged = data.groupby('food_title', as_index=False).agg({\n",
    "            'images_id': ','.join  # Combine 'images_id' using a comma\n",
    "                })\n",
    "    return df_merged        "
   ]
  },
  {
   "cell_type": "code",
   "execution_count": 19,
   "id": "9a13de98-5f62-4d4f-93b7-f6418c47f51b",
   "metadata": {
    "gather": {
     "logged": 1706887970849
    },
    "jupyter": {
     "outputs_hidden": false,
     "source_hidden": false
    },
    "nteract": {
     "transient": {
      "deleting": false
     }
    }
   },
   "outputs": [],
   "source": [
    "df_train=modify_merge(data_train)\n",
    "df_test=modify_merge(data_test)\n",
    "df_val=modify_merge(data_val)\n"
   ]
  },
  {
   "cell_type": "code",
   "execution_count": 20,
   "id": "ee9c5561-229a-4b2c-8ac4-2b1aceedb399",
   "metadata": {
    "gather": {
     "logged": 1706887975211
    },
    "jupyter": {
     "outputs_hidden": false,
     "source_hidden": false
    },
    "nteract": {
     "transient": {
      "deleting": false
     }
    }
   },
   "outputs": [
    {
     "name": "stdout",
     "output_type": "stream",
     "text": [
      "No duplicates found in the 'food_title' column.\n"
     ]
    }
   ],
   "source": [
    "duplicate_check(df_val)"
   ]
  },
  {
   "cell_type": "code",
   "execution_count": 21,
   "id": "864ce6c4-c3c7-48cc-9800-e00faef59e14",
   "metadata": {
    "gather": {
     "logged": 1706887979884
    },
    "jupyter": {
     "outputs_hidden": false,
     "source_hidden": false
    },
    "nteract": {
     "transient": {
      "deleting": false
     }
    }
   },
   "outputs": [
    {
     "name": "stdout",
     "output_type": "stream",
     "text": [
      "No duplicates found in the 'food_title' column.\n"
     ]
    }
   ],
   "source": [
    "duplicate_check(df_train)"
   ]
  },
  {
   "cell_type": "code",
   "execution_count": 22,
   "id": "c5497a03-5bf4-4147-a181-b04da0033138",
   "metadata": {
    "gather": {
     "logged": 1706887983169
    },
    "jupyter": {
     "outputs_hidden": false,
     "source_hidden": false
    },
    "nteract": {
     "transient": {
      "deleting": false
     }
    }
   },
   "outputs": [
    {
     "name": "stdout",
     "output_type": "stream",
     "text": [
      "No duplicates found in the 'food_title' column.\n"
     ]
    }
   ],
   "source": [
    "duplicate_check(df_test)"
   ]
  },
  {
   "cell_type": "code",
   "execution_count": 23,
   "id": "7b9ee652-9012-4e96-9ff2-9dc5a5aca9f1",
   "metadata": {
    "gather": {
     "logged": 1706887997235
    },
    "jupyter": {
     "outputs_hidden": false,
     "source_hidden": false
    },
    "nteract": {
     "transient": {
      "deleting": false
     }
    }
   },
   "outputs": [
    {
     "data": {
      "text/html": [
       "<div>\n",
       "<style scoped>\n",
       "    .dataframe tbody tr th:only-of-type {\n",
       "        vertical-align: middle;\n",
       "    }\n",
       "\n",
       "    .dataframe tbody tr th {\n",
       "        vertical-align: top;\n",
       "    }\n",
       "\n",
       "    .dataframe thead th {\n",
       "        text-align: right;\n",
       "    }\n",
       "</style>\n",
       "<table border=\"1\" class=\"dataframe\">\n",
       "  <thead>\n",
       "    <tr style=\"text-align: right;\">\n",
       "      <th></th>\n",
       "      <th>food_title</th>\n",
       "      <th>images_id</th>\n",
       "    </tr>\n",
       "  </thead>\n",
       "  <tbody>\n",
       "    <tr>\n",
       "      <th>0</th>\n",
       "      <td>\" \" Recipe</td>\n",
       "      <td>02afdb4c71.jpg</td>\n",
       "    </tr>\n",
       "    <tr>\n",
       "      <th>1</th>\n",
       "      <td>\" Add Anything\" French Rolls or Baguettes</td>\n",
       "      <td>ad700e97ba.jpg</td>\n",
       "    </tr>\n",
       "    <tr>\n",
       "      <th>2</th>\n",
       "      <td>\" Add in Anything\" Muffins!</td>\n",
       "      <td>35939afa42.jpg , 4f5bfd3cd4.jpg , 92abacbafe.j...</td>\n",
       "    </tr>\n",
       "    <tr>\n",
       "      <th>3</th>\n",
       "      <td>\" All In\" Meatless Mincemeat</td>\n",
       "      <td>0b26d6c143.jpg , d8ecad8bd4.jpg</td>\n",
       "    </tr>\n",
       "    <tr>\n",
       "      <th>4</th>\n",
       "      <td>\" Angel Lush Trifle \"</td>\n",
       "      <td>2fc5601160.jpg</td>\n",
       "    </tr>\n",
       "  </tbody>\n",
       "</table>\n",
       "</div>"
      ],
      "text/plain": [
       "                                  food_title  \\\n",
       "0                                 \" \" Recipe   \n",
       "1  \" Add Anything\" French Rolls or Baguettes   \n",
       "2                \" Add in Anything\" Muffins!   \n",
       "3               \" All In\" Meatless Mincemeat   \n",
       "4                      \" Angel Lush Trifle \"   \n",
       "\n",
       "                                           images_id  \n",
       "0                                     02afdb4c71.jpg  \n",
       "1                                     ad700e97ba.jpg  \n",
       "2  35939afa42.jpg , 4f5bfd3cd4.jpg , 92abacbafe.j...  \n",
       "3                    0b26d6c143.jpg , d8ecad8bd4.jpg  \n",
       "4                                     2fc5601160.jpg  "
      ]
     },
     "execution_count": 23,
     "metadata": {},
     "output_type": "execute_result"
    }
   ],
   "source": [
    "df_train.head()"
   ]
  },
  {
   "cell_type": "code",
   "execution_count": 24,
   "id": "b1b0f72e",
   "metadata": {
    "gather": {
     "logged": 1706888001292
    }
   },
   "outputs": [
    {
     "data": {
      "text/html": [
       "<div>\n",
       "<style scoped>\n",
       "    .dataframe tbody tr th:only-of-type {\n",
       "        vertical-align: middle;\n",
       "    }\n",
       "\n",
       "    .dataframe tbody tr th {\n",
       "        vertical-align: top;\n",
       "    }\n",
       "\n",
       "    .dataframe thead th {\n",
       "        text-align: right;\n",
       "    }\n",
       "</style>\n",
       "<table border=\"1\" class=\"dataframe\">\n",
       "  <thead>\n",
       "    <tr style=\"text-align: right;\">\n",
       "      <th></th>\n",
       "      <th>food_title</th>\n",
       "      <th>images_id</th>\n",
       "    </tr>\n",
       "  </thead>\n",
       "  <tbody>\n",
       "    <tr>\n",
       "      <th>0</th>\n",
       "      <td>\" Ant\" Kelly's London Broil Marinade</td>\n",
       "      <td>09b510fc07.jpg , 1714261c9a.jpg , 6a57558123.j...</td>\n",
       "    </tr>\n",
       "    <tr>\n",
       "      <th>1</th>\n",
       "      <td>\" Atkins Friendly\" Cheesecake</td>\n",
       "      <td>e07ce12b97.jpg</td>\n",
       "    </tr>\n",
       "    <tr>\n",
       "      <th>2</th>\n",
       "      <td>\" Better Than Cinnabon\" Cinnamon Rolls</td>\n",
       "      <td>496bc7a5c6.jpg</td>\n",
       "    </tr>\n",
       "    <tr>\n",
       "      <th>3</th>\n",
       "      <td>\" Blueberry Muffins \" ( made with splenda )</td>\n",
       "      <td>38f4d0a545.jpg , bcefc7a187.jpg , e73e35bf0d.jpg</td>\n",
       "    </tr>\n",
       "    <tr>\n",
       "      <th>4</th>\n",
       "      <td>\" CANDY APPLE JELLY \"</td>\n",
       "      <td>2a3003c985.jpg</td>\n",
       "    </tr>\n",
       "  </tbody>\n",
       "</table>\n",
       "</div>"
      ],
      "text/plain": [
       "                                    food_title  \\\n",
       "0         \" Ant\" Kelly's London Broil Marinade   \n",
       "1                \" Atkins Friendly\" Cheesecake   \n",
       "2       \" Better Than Cinnabon\" Cinnamon Rolls   \n",
       "3  \" Blueberry Muffins \" ( made with splenda )   \n",
       "4                        \" CANDY APPLE JELLY \"   \n",
       "\n",
       "                                           images_id  \n",
       "0  09b510fc07.jpg , 1714261c9a.jpg , 6a57558123.j...  \n",
       "1                                     e07ce12b97.jpg  \n",
       "2                                     496bc7a5c6.jpg  \n",
       "3   38f4d0a545.jpg , bcefc7a187.jpg , e73e35bf0d.jpg  \n",
       "4                                     2a3003c985.jpg  "
      ]
     },
     "execution_count": 24,
     "metadata": {},
     "output_type": "execute_result"
    }
   ],
   "source": [
    "df_test.head()"
   ]
  },
  {
   "cell_type": "code",
   "execution_count": 25,
   "id": "5cb3c191-3112-4d0a-a541-106a6541906a",
   "metadata": {
    "gather": {
     "logged": 1706888006142
    },
    "jupyter": {
     "outputs_hidden": false,
     "source_hidden": false
    },
    "nteract": {
     "transient": {
      "deleting": false
     }
    }
   },
   "outputs": [
    {
     "data": {
      "text/html": [
       "<div>\n",
       "<style scoped>\n",
       "    .dataframe tbody tr th:only-of-type {\n",
       "        vertical-align: middle;\n",
       "    }\n",
       "\n",
       "    .dataframe tbody tr th {\n",
       "        vertical-align: top;\n",
       "    }\n",
       "\n",
       "    .dataframe thead th {\n",
       "        text-align: right;\n",
       "    }\n",
       "</style>\n",
       "<table border=\"1\" class=\"dataframe\">\n",
       "  <thead>\n",
       "    <tr style=\"text-align: right;\">\n",
       "      <th></th>\n",
       "      <th>food_title</th>\n",
       "      <th>images_id</th>\n",
       "    </tr>\n",
       "  </thead>\n",
       "  <tbody>\n",
       "    <tr>\n",
       "      <th>26556</th>\n",
       "      <td>Homemade Pizza Dough</td>\n",
       "      <td>a21d9cff4c.jpg,59c33cb875.jpg</td>\n",
       "    </tr>\n",
       "  </tbody>\n",
       "</table>\n",
       "</div>"
      ],
      "text/plain": [
       "                 food_title                      images_id\n",
       "26556  Homemade Pizza Dough  a21d9cff4c.jpg,59c33cb875.jpg"
      ]
     },
     "execution_count": 25,
     "metadata": {},
     "output_type": "execute_result"
    }
   ],
   "source": [
    "df_val[df_val['food_title']=='Homemade Pizza Dough']"
   ]
  },
  {
   "cell_type": "code",
   "execution_count": 26,
   "id": "7831b79f-7b14-4123-b69c-06efffead6ac",
   "metadata": {
    "gather": {
     "logged": 1706887421674
    },
    "jupyter": {
     "outputs_hidden": false,
     "source_hidden": false
    },
    "nteract": {
     "transient": {
      "deleting": false
     }
    }
   },
   "outputs": [
    {
     "data": {
      "text/html": [
       "<div>\n",
       "<style scoped>\n",
       "    .dataframe tbody tr th:only-of-type {\n",
       "        vertical-align: middle;\n",
       "    }\n",
       "\n",
       "    .dataframe tbody tr th {\n",
       "        vertical-align: top;\n",
       "    }\n",
       "\n",
       "    .dataframe thead th {\n",
       "        text-align: right;\n",
       "    }\n",
       "</style>\n",
       "<table border=\"1\" class=\"dataframe\">\n",
       "  <thead>\n",
       "    <tr style=\"text-align: right;\">\n",
       "      <th></th>\n",
       "      <th>food_title</th>\n",
       "      <th>images_id</th>\n",
       "    </tr>\n",
       "  </thead>\n",
       "  <tbody>\n",
       "    <tr>\n",
       "      <th>214251</th>\n",
       "      <td>Stuffed peppers</td>\n",
       "      <td>33df1c1c41.jpg,9e29fd6934.jpg,8f1d47384d.jpg,1...</td>\n",
       "    </tr>\n",
       "  </tbody>\n",
       "</table>\n",
       "</div>"
      ],
      "text/plain": [
       "             food_title                                          images_id\n",
       "214251  Stuffed peppers  33df1c1c41.jpg,9e29fd6934.jpg,8f1d47384d.jpg,1..."
      ]
     },
     "execution_count": 26,
     "metadata": {},
     "output_type": "execute_result"
    }
   ],
   "source": [
    "df_train.loc[df_train['food_title']=='Stuffed peppers']"
   ]
  },
  {
   "cell_type": "code",
   "execution_count": 27,
   "id": "9b3f32d7",
   "metadata": {
    "gather": {
     "logged": 1706887466734
    }
   },
   "outputs": [
    {
     "data": {
      "text/plain": [
       "['33df1c1c41.jpg,9e29fd6934.jpg,8f1d47384d.jpg,1bd219d8b6.jpg , 1ce9bab996.jpg , 32673d5cd9.jpg , 37b69f6cd3.jpg , 4dcd659428.jpg , 74567732f1.jpg , 808b3cc29d.jpg , 848e3a0d59.jpg , 8d3cc60da7.jpg , 8f770a68ad.jpg , a368308daa.jpg , b2ebc3853d.jpg , db5546849f.jpg , de258b6ae5.jpg , e3085b560b.jpg , e8e7bbe1bd.jpg,7a228f830f.jpg,5d29031ccb.jpg,1ee4ee7199.jpg']"
      ]
     },
     "execution_count": 27,
     "metadata": {},
     "output_type": "execute_result"
    }
   ],
   "source": [
    "list(df_train['images_id'].loc[df_train['food_title']=='Stuffed peppers'])"
   ]
  },
  {
   "cell_type": "code",
   "execution_count": 28,
   "id": "f0d7521d-4c12-42ff-8952-41c5f364a712",
   "metadata": {
    "gather": {
     "logged": 1706888013903
    },
    "jupyter": {
     "outputs_hidden": false,
     "source_hidden": false
    },
    "nteract": {
     "transient": {
      "deleting": false
     }
    }
   },
   "outputs": [
    {
     "data": {
      "text/plain": [
       "((246010, 2), (57560, 2), (57229, 2))"
      ]
     },
     "execution_count": 28,
     "metadata": {},
     "output_type": "execute_result"
    }
   ],
   "source": [
    "df_train.reset_index(inplace=True,drop=True)\n",
    "df_test.reset_index(inplace=True,drop=True)\n",
    "df_val.reset_index(inplace=True,drop=True)\n",
    "df_train.shape,df_test.shape,df_val.shape"
   ]
  },
  {
   "cell_type": "code",
   "execution_count": 29,
   "id": "e59cbac9-a783-4cbd-8001-478e0a8d832b",
   "metadata": {
    "gather": {
     "logged": 1706887766244
    },
    "jupyter": {
     "outputs_hidden": false,
     "source_hidden": false
    },
    "nteract": {
     "transient": {
      "deleting": false
     }
    }
   },
   "outputs": [
    {
     "data": {
      "text/html": [
       "<div>\n",
       "<style scoped>\n",
       "    .dataframe tbody tr th:only-of-type {\n",
       "        vertical-align: middle;\n",
       "    }\n",
       "\n",
       "    .dataframe tbody tr th {\n",
       "        vertical-align: top;\n",
       "    }\n",
       "\n",
       "    .dataframe thead th {\n",
       "        text-align: right;\n",
       "    }\n",
       "</style>\n",
       "<table border=\"1\" class=\"dataframe\">\n",
       "  <thead>\n",
       "    <tr style=\"text-align: right;\">\n",
       "      <th></th>\n",
       "      <th>ID</th>\n",
       "      <th>food_title</th>\n",
       "      <th>partition</th>\n",
       "      <th>images_id</th>\n",
       "    </tr>\n",
       "  </thead>\n",
       "  <tbody>\n",
       "    <tr>\n",
       "      <th>193698</th>\n",
       "      <td>7b372faa16</td>\n",
       "      <td>\" \" Recipe</td>\n",
       "      <td>train</td>\n",
       "      <td>02afdb4c71.jpg</td>\n",
       "    </tr>\n",
       "  </tbody>\n",
       "</table>\n",
       "</div>"
      ],
      "text/plain": [
       "                ID  food_title partition       images_id\n",
       "193698  7b372faa16  \" \" Recipe     train  02afdb4c71.jpg"
      ]
     },
     "execution_count": 29,
     "metadata": {},
     "output_type": "execute_result"
    }
   ],
   "source": [
    "data.loc[data['food_title']=='\" \" Recipe']"
   ]
  },
  {
   "cell_type": "code",
   "execution_count": 30,
   "id": "fd6dee95",
   "metadata": {
    "gather": {
     "logged": 1706888020689
    }
   },
   "outputs": [
    {
     "data": {
      "text/html": [
       "<div>\n",
       "<style scoped>\n",
       "    .dataframe tbody tr th:only-of-type {\n",
       "        vertical-align: middle;\n",
       "    }\n",
       "\n",
       "    .dataframe tbody tr th {\n",
       "        vertical-align: top;\n",
       "    }\n",
       "\n",
       "    .dataframe thead th {\n",
       "        text-align: right;\n",
       "    }\n",
       "</style>\n",
       "<table border=\"1\" class=\"dataframe\">\n",
       "  <thead>\n",
       "    <tr style=\"text-align: right;\">\n",
       "      <th></th>\n",
       "      <th>food_title</th>\n",
       "      <th>images_id</th>\n",
       "    </tr>\n",
       "  </thead>\n",
       "  <tbody>\n",
       "    <tr>\n",
       "      <th>0</th>\n",
       "      <td>\" \" Recipe</td>\n",
       "      <td>02afdb4c71.jpg</td>\n",
       "    </tr>\n",
       "    <tr>\n",
       "      <th>1</th>\n",
       "      <td>\" Add Anything\" French Rolls or Baguettes</td>\n",
       "      <td>ad700e97ba.jpg</td>\n",
       "    </tr>\n",
       "    <tr>\n",
       "      <th>2</th>\n",
       "      <td>\" Add in Anything\" Muffins!</td>\n",
       "      <td>35939afa42.jpg , 4f5bfd3cd4.jpg , 92abacbafe.j...</td>\n",
       "    </tr>\n",
       "    <tr>\n",
       "      <th>3</th>\n",
       "      <td>\" All In\" Meatless Mincemeat</td>\n",
       "      <td>0b26d6c143.jpg , d8ecad8bd4.jpg</td>\n",
       "    </tr>\n",
       "    <tr>\n",
       "      <th>4</th>\n",
       "      <td>\" Angel Lush Trifle \"</td>\n",
       "      <td>2fc5601160.jpg</td>\n",
       "    </tr>\n",
       "  </tbody>\n",
       "</table>\n",
       "</div>"
      ],
      "text/plain": [
       "                                  food_title  \\\n",
       "0                                 \" \" Recipe   \n",
       "1  \" Add Anything\" French Rolls or Baguettes   \n",
       "2                \" Add in Anything\" Muffins!   \n",
       "3               \" All In\" Meatless Mincemeat   \n",
       "4                      \" Angel Lush Trifle \"   \n",
       "\n",
       "                                           images_id  \n",
       "0                                     02afdb4c71.jpg  \n",
       "1                                     ad700e97ba.jpg  \n",
       "2  35939afa42.jpg , 4f5bfd3cd4.jpg , 92abacbafe.j...  \n",
       "3                    0b26d6c143.jpg , d8ecad8bd4.jpg  \n",
       "4                                     2fc5601160.jpg  "
      ]
     },
     "execution_count": 30,
     "metadata": {},
     "output_type": "execute_result"
    }
   ],
   "source": [
    "df_train.head()"
   ]
  },
  {
   "cell_type": "code",
   "execution_count": 31,
   "id": "a415ece3-86ac-4e5a-a8a8-74331dfc71e4",
   "metadata": {
    "gather": {
     "logged": 1706888164411
    },
    "jupyter": {
     "outputs_hidden": false,
     "source_hidden": false
    },
    "nteract": {
     "transient": {
      "deleting": false
     }
    }
   },
   "outputs": [],
   "source": [
    "# df_temp=df_train"
   ]
  },
  {
   "cell_type": "code",
   "execution_count": 32,
   "id": "ee92f400-19dd-4a6a-9117-5b6079881e88",
   "metadata": {
    "gather": {
     "logged": 1706888170405
    },
    "jupyter": {
     "outputs_hidden": false,
     "source_hidden": false
    },
    "nteract": {
     "transient": {
      "deleting": false
     }
    }
   },
   "outputs": [],
   "source": [
    "def image_count(df_merged):\n",
    "    df_merged['image_count'] = df_merged['images_id'].apply(lambda x: len(x.split(',')) if pd.notna(x) else 0)\n",
    "    df_merged = df_merged.sort_values(by='image_count', ascending=False)\n",
    "    return df_merged"
   ]
  },
  {
   "cell_type": "code",
   "execution_count": 33,
   "id": "8fa15fe6-cbc4-499a-a1e8-ecf7f05a8833",
   "metadata": {
    "gather": {
     "logged": 1706888212175
    },
    "jupyter": {
     "outputs_hidden": false,
     "source_hidden": false
    },
    "nteract": {
     "transient": {
      "deleting": false
     }
    }
   },
   "outputs": [],
   "source": [
    "df_train=image_count(df_train)\n",
    "df_test=image_count(df_test)\n",
    "df_val=image_count(df_val)"
   ]
  },
  {
   "cell_type": "code",
   "execution_count": 34,
   "id": "4f0596aa-b8b4-4a0d-ac84-32c5c033cf5c",
   "metadata": {
    "gather": {
     "logged": 1706888220893
    },
    "jupyter": {
     "outputs_hidden": false,
     "source_hidden": false
    },
    "nteract": {
     "transient": {
      "deleting": false
     }
    }
   },
   "outputs": [
    {
     "data": {
      "text/html": [
       "<div>\n",
       "<style scoped>\n",
       "    .dataframe tbody tr th:only-of-type {\n",
       "        vertical-align: middle;\n",
       "    }\n",
       "\n",
       "    .dataframe tbody tr th {\n",
       "        vertical-align: top;\n",
       "    }\n",
       "\n",
       "    .dataframe thead th {\n",
       "        text-align: right;\n",
       "    }\n",
       "</style>\n",
       "<table border=\"1\" class=\"dataframe\">\n",
       "  <thead>\n",
       "    <tr style=\"text-align: right;\">\n",
       "      <th></th>\n",
       "      <th>food_title</th>\n",
       "      <th>images_id</th>\n",
       "      <th>image_count</th>\n",
       "    </tr>\n",
       "  </thead>\n",
       "  <tbody>\n",
       "    <tr>\n",
       "      <th>4124</th>\n",
       "      <td>Banana Crumb Muffins</td>\n",
       "      <td>00388793f8.jpg , 006c367195.jpg , 00ccb25e8b.j...</td>\n",
       "      <td>1035</td>\n",
       "    </tr>\n",
       "    <tr>\n",
       "      <th>50248</th>\n",
       "      <td>Sugar Cookie Icing</td>\n",
       "      <td>001a132a3f.jpg , 00308d461e.jpg , 0037c4535d.j...</td>\n",
       "      <td>966</td>\n",
       "    </tr>\n",
       "    <tr>\n",
       "      <th>11001</th>\n",
       "      <td>Chicken Pot Pie IX</td>\n",
       "      <td>001defbf8b.jpg , 00305aa742.jpg , 007e8b9a7c.j...</td>\n",
       "      <td>800</td>\n",
       "    </tr>\n",
       "    <tr>\n",
       "      <th>21016</th>\n",
       "      <td>Fluffy Pancakes</td>\n",
       "      <td>027d79604e.jpg , 0388ade68b.jpg , 13a63374cb.j...</td>\n",
       "      <td>702</td>\n",
       "    </tr>\n",
       "    <tr>\n",
       "      <th>34343</th>\n",
       "      <td>Mrs. Sigg's Snickerdoodles</td>\n",
       "      <td>002e327a8b.jpg , 007a047685.jpg , 01bfdd510a.j...</td>\n",
       "      <td>386</td>\n",
       "    </tr>\n",
       "  </tbody>\n",
       "</table>\n",
       "</div>"
      ],
      "text/plain": [
       "                       food_title  \\\n",
       "4124         Banana Crumb Muffins   \n",
       "50248          Sugar Cookie Icing   \n",
       "11001          Chicken Pot Pie IX   \n",
       "21016             Fluffy Pancakes   \n",
       "34343  Mrs. Sigg's Snickerdoodles   \n",
       "\n",
       "                                               images_id  image_count  \n",
       "4124   00388793f8.jpg , 006c367195.jpg , 00ccb25e8b.j...         1035  \n",
       "50248  001a132a3f.jpg , 00308d461e.jpg , 0037c4535d.j...          966  \n",
       "11001  001defbf8b.jpg , 00305aa742.jpg , 007e8b9a7c.j...          800  \n",
       "21016  027d79604e.jpg , 0388ade68b.jpg , 13a63374cb.j...          702  \n",
       "34343  002e327a8b.jpg , 007a047685.jpg , 01bfdd510a.j...          386  "
      ]
     },
     "execution_count": 34,
     "metadata": {},
     "output_type": "execute_result"
    }
   ],
   "source": [
    "df_test.head()"
   ]
  },
  {
   "cell_type": "code",
   "execution_count": 35,
   "id": "d1872cbf-9064-4564-8171-4fb6be36881b",
   "metadata": {
    "gather": {
     "logged": 1706888234924
    },
    "jupyter": {
     "outputs_hidden": false,
     "source_hidden": false
    },
    "nteract": {
     "transient": {
      "deleting": false
     }
    }
   },
   "outputs": [
    {
     "data": {
      "text/html": [
       "<div>\n",
       "<style scoped>\n",
       "    .dataframe tbody tr th:only-of-type {\n",
       "        vertical-align: middle;\n",
       "    }\n",
       "\n",
       "    .dataframe tbody tr th {\n",
       "        vertical-align: top;\n",
       "    }\n",
       "\n",
       "    .dataframe thead th {\n",
       "        text-align: right;\n",
       "    }\n",
       "</style>\n",
       "<table border=\"1\" class=\"dataframe\">\n",
       "  <thead>\n",
       "    <tr style=\"text-align: right;\">\n",
       "      <th></th>\n",
       "      <th>food_title</th>\n",
       "      <th>images_id</th>\n",
       "      <th>image_count</th>\n",
       "    </tr>\n",
       "  </thead>\n",
       "  <tbody>\n",
       "    <tr>\n",
       "      <th>224015</th>\n",
       "      <td>The Best Rolled Sugar Cookies</td>\n",
       "      <td>0037563ca4.jpg , 003b92c18f.jpg , 0068f4dd6a.j...</td>\n",
       "      <td>1647</td>\n",
       "    </tr>\n",
       "    <tr>\n",
       "      <th>137326</th>\n",
       "      <td>Marshmallow Fondant</td>\n",
       "      <td>0008000c98.jpg , 001689aa9d.jpg , 001c9165c6.j...</td>\n",
       "      <td>1540</td>\n",
       "    </tr>\n",
       "    <tr>\n",
       "      <th>7122</th>\n",
       "      <td>Apple Pie by Grandma Ople</td>\n",
       "      <td>001df0cb78.jpg , 0099f126e8.jpg , 00b685903b.j...</td>\n",
       "      <td>1325</td>\n",
       "    </tr>\n",
       "    <tr>\n",
       "      <th>226242</th>\n",
       "      <td>To Die For Blueberry Muffins</td>\n",
       "      <td>001ea74601.jpg , 0049a29b83.jpg , 0084dedc7c.j...</td>\n",
       "      <td>997</td>\n",
       "    </tr>\n",
       "    <tr>\n",
       "      <th>39868</th>\n",
       "      <td>Chantal's New York Cheesecake</td>\n",
       "      <td>000ebb143a.jpg , 00a4180adf.jpg , 01175d4ff8.j...</td>\n",
       "      <td>742</td>\n",
       "    </tr>\n",
       "  </tbody>\n",
       "</table>\n",
       "</div>"
      ],
      "text/plain": [
       "                           food_title  \\\n",
       "224015  The Best Rolled Sugar Cookies   \n",
       "137326            Marshmallow Fondant   \n",
       "7122        Apple Pie by Grandma Ople   \n",
       "226242   To Die For Blueberry Muffins   \n",
       "39868   Chantal's New York Cheesecake   \n",
       "\n",
       "                                                images_id  image_count  \n",
       "224015  0037563ca4.jpg , 003b92c18f.jpg , 0068f4dd6a.j...         1647  \n",
       "137326  0008000c98.jpg , 001689aa9d.jpg , 001c9165c6.j...         1540  \n",
       "7122    001df0cb78.jpg , 0099f126e8.jpg , 00b685903b.j...         1325  \n",
       "226242  001ea74601.jpg , 0049a29b83.jpg , 0084dedc7c.j...          997  \n",
       "39868   000ebb143a.jpg , 00a4180adf.jpg , 01175d4ff8.j...          742  "
      ]
     },
     "execution_count": 35,
     "metadata": {},
     "output_type": "execute_result"
    }
   ],
   "source": [
    "df_train.head()"
   ]
  },
  {
   "cell_type": "code",
   "execution_count": 36,
   "id": "ad15d5c6",
   "metadata": {},
   "outputs": [],
   "source": [
    "import seaborn as sns\n",
    "import matplotlib.pyplot as plt"
   ]
  },
  {
   "cell_type": "code",
   "execution_count": 37,
   "id": "741b1472",
   "metadata": {},
   "outputs": [
    {
     "data": {
      "image/png": "[encoded data removed]",
      "text/plain": [
       "<Figure size 2000x1000 with 1 Axes>"
      ]
     },
     "metadata": {},
     "output_type": "display_data"
    }
   ],
   "source": [
    "# Select the top 10 Food Titles\n",
    "df_top10 = df_train.head(10)\n",
    "\n",
    "# Set seaborn style and context\n",
    "sns.set_context(\"poster\")\n",
    "sns.set_style(\"darkgrid\")\n",
    "\n",
    "# Create the plot\n",
    "plt.figure(figsize=(20, 10))\n",
    "plt.xticks(rotation=45, horizontalalignment='right', fontsize='small')\n",
    "\n",
    "ax = sns.barplot(x=\"food_title\", y=\"image_count\", data=df_top10, palette='rainbow')\n",
    "\n",
    "# Annotate the bars with image_count values\n",
    "for p in ax.patches:\n",
    "    ax.annotate(str(p.get_height()), (p.get_x() + p.get_width() / 2., p.get_height()),\n",
    "                ha='center', va='center', xytext=(0, 10), textcoords='offset points')\n",
    "\n",
    "plt.xlabel('Food Title')\n",
    "plt.ylabel('Number of Images')\n",
    "plt.title('Top 10 Food Recipes based on Image Count')\n",
    "plt.show()"
   ]
  },
  {
   "cell_type": "code",
   "execution_count": 38,
   "id": "3e12a4fd-472a-493c-b03d-40d6ca88111d",
   "metadata": {
    "gather": {
     "logged": 1706888266829
    },
    "jupyter": {
     "outputs_hidden": false,
     "source_hidden": false
    },
    "nteract": {
     "transient": {
      "deleting": false
     }
    }
   },
   "outputs": [
    {
     "data": {
      "text/html": [
       "<div>\n",
       "<style scoped>\n",
       "    .dataframe tbody tr th:only-of-type {\n",
       "        vertical-align: middle;\n",
       "    }\n",
       "\n",
       "    .dataframe tbody tr th {\n",
       "        vertical-align: top;\n",
       "    }\n",
       "\n",
       "    .dataframe thead th {\n",
       "        text-align: right;\n",
       "    }\n",
       "</style>\n",
       "<table border=\"1\" class=\"dataframe\">\n",
       "  <thead>\n",
       "    <tr style=\"text-align: right;\">\n",
       "      <th></th>\n",
       "      <th>food_title</th>\n",
       "      <th>images_id</th>\n",
       "      <th>image_count</th>\n",
       "    </tr>\n",
       "  </thead>\n",
       "  <tbody>\n",
       "    <tr>\n",
       "      <th>5344</th>\n",
       "      <td>Best Chocolate Chip Cookies</td>\n",
       "      <td>00011ef4c3.jpg , 0021833df3.jpg , 00baed5d92.j...</td>\n",
       "      <td>991</td>\n",
       "    </tr>\n",
       "    <tr>\n",
       "      <th>5321</th>\n",
       "      <td>Best Big, Fat, Chewy Chocolate Chip Cookie</td>\n",
       "      <td>0000d643c9.jpg , 00253e2e7b.jpg , 002958c0e0.j...</td>\n",
       "      <td>921</td>\n",
       "    </tr>\n",
       "    <tr>\n",
       "      <th>53135</th>\n",
       "      <td>Too Much Chocolate Cake</td>\n",
       "      <td>00117647ef.jpg , 00547ec935.jpg , 014382d3bb.j...</td>\n",
       "      <td>742</td>\n",
       "    </tr>\n",
       "    <tr>\n",
       "      <th>7827</th>\n",
       "      <td>Buttercream Icing</td>\n",
       "      <td>005645da6f.jpg , 00893578e7.jpg , 0127631bb2.j...</td>\n",
       "      <td>533</td>\n",
       "    </tr>\n",
       "    <tr>\n",
       "      <th>43283</th>\n",
       "      <td>Rolled Buttercream Fondant</td>\n",
       "      <td>000b5bafbd.jpg , 0031302660.jpg , 00c7984387.j...</td>\n",
       "      <td>435</td>\n",
       "    </tr>\n",
       "  </tbody>\n",
       "</table>\n",
       "</div>"
      ],
      "text/plain": [
       "                                       food_title  \\\n",
       "5344                  Best Chocolate Chip Cookies   \n",
       "5321   Best Big, Fat, Chewy Chocolate Chip Cookie   \n",
       "53135                     Too Much Chocolate Cake   \n",
       "7827                            Buttercream Icing   \n",
       "43283                  Rolled Buttercream Fondant   \n",
       "\n",
       "                                               images_id  image_count  \n",
       "5344   00011ef4c3.jpg , 0021833df3.jpg , 00baed5d92.j...          991  \n",
       "5321   0000d643c9.jpg , 00253e2e7b.jpg , 002958c0e0.j...          921  \n",
       "53135  00117647ef.jpg , 00547ec935.jpg , 014382d3bb.j...          742  \n",
       "7827   005645da6f.jpg , 00893578e7.jpg , 0127631bb2.j...          533  \n",
       "43283  000b5bafbd.jpg , 0031302660.jpg , 00c7984387.j...          435  "
      ]
     },
     "execution_count": 38,
     "metadata": {},
     "output_type": "execute_result"
    }
   ],
   "source": [
    "df_val.head()"
   ]
  },
  {
   "cell_type": "code",
   "execution_count": 39,
   "id": "79e1731c-4920-48c3-a009-60b418ca80fb",
   "metadata": {
    "gather": {
     "logged": 1706888609541
    },
    "jupyter": {
     "outputs_hidden": false,
     "source_hidden": false
    },
    "nteract": {
     "transient": {
      "deleting": false
     }
    }
   },
   "outputs": [
    {
     "data": {
      "text/plain": [
       "45"
      ]
     },
     "execution_count": 39,
     "metadata": {},
     "output_type": "execute_result"
    }
   ],
   "source": [
    "len(df_train[df_train.image_count>=300])"
   ]
  },
  {
   "cell_type": "code",
   "execution_count": 40,
   "id": "43242589-9808-479a-9b7c-baeb58c4a20d",
   "metadata": {
    "jupyter": {
     "outputs_hidden": false,
     "source_hidden": false
    },
    "nteract": {
     "transient": {
      "deleting": false
     }
    }
   },
   "outputs": [],
   "source": [
    "# df_train[df_train.image_count>=250]"
   ]
  },
  {
   "cell_type": "code",
   "execution_count": 41,
   "id": "919a010d-5759-4a41-bdd1-9b15259ad3c5",
   "metadata": {
    "gather": {
     "logged": 1706888860168
    },
    "jupyter": {
     "outputs_hidden": false,
     "source_hidden": false
    },
    "nteract": {
     "transient": {
      "deleting": false
     }
    }
   },
   "outputs": [
    {
     "name": "stdout",
     "output_type": "stream",
     "text": [
      "['The Best Rolled Sugar Cookies', 'Marshmallow Fondant', 'Apple Pie by Grandma Ople', 'To Die For Blueberry Muffins', \"Chantal's New York Cheesecake\", 'Cake Balls', 'Clone of a Cinnabon', 'Banana Banana Bread', \"World's Best Lasagna\", 'Carrot Cake III', 'Award Winning Soft Chocolate Chip Cookies', 'Bomb Ass Potatoes', 'Amish White Bread', 'Bacon Wrapped Chicken Breast', 'White Chocolate Raspberry Cheesecake', 'Parmesan Chicken Squares', 'Good Old Fashioned Pancakes', 'Easy Sugar Cookies', 'Best Brownies', 'Cajun Chicken Pasta', 'Delicious Ham and Potato Soup', 'Chicken Parmesan', 'Peanut Butter Cup Cookies', 'Downeast Maine Pumpkin Bread', 'Black Magic Cake', \"Rick's Special Buttercream Frosting\", 'Cream Cheese Frosting II', 'Special Buttercream Frosting', \"Grandma's Lemon Meringue Pie\", 'Simple White Cake', 'Big Soft Ginger Cookies', 'Easy OREO Truffles', 'Soft Oatmeal Cookies', 'Tiramisu Layer Cake', 'Baked MAC and Cheese', 'Ninety Minute Cinnamon Rolls', 'Bread Pudding II', \"Spooky Witches' Fingers\", 'Easy Chicken with Broccoli', \"Mom's Zucchini Bread\", 'Chicken Cordon Bleu II', 'Sweet, Sticky and Spicy Chicken', 'Red Velvet Cupcakes', 'Broiled Tilapia Parmesan', 'Alfredo Sauce']\n"
     ]
    }
   ],
   "source": [
    "# Assuming df_train is your DataFrame\n",
    "filtered_df = df_train[df_train['image_count'] >= 300]\n",
    "\n",
    "# Extract food_title values from the filtered DataFrame and store in a list\n",
    "food_title_list = filtered_df['food_title'].tolist()\n",
    "\n",
    "# Print or use the food_title_list as needed\n",
    "print(food_title_list)"
   ]
  },
  {
   "cell_type": "code",
   "execution_count": 137,
   "id": "7414d108-7fbc-4a61-8a11-a9885824f982",
   "metadata": {
    "gather": {
     "logged": 1706889044858
    },
    "jupyter": {
     "outputs_hidden": false,
     "source_hidden": false
    },
    "nteract": {
     "transient": {
      "deleting": false
     }
    }
   },
   "outputs": [],
   "source": [
    "# Assuming food_title_list is the list obtained from df_train\n",
    "# Assuming df_val and df_test are your other DataFrames\n",
    "\n",
    "# Check if the values in food_title_list exist in df_val\n",
    "#matching_val = df_val[df_val['food_title'].isin(food_title_list)]\n",
    "\n",
    "# Check if the values in food_title_list exist in df_test\n",
    "#matching_test = df_test[df_test['food_title'].isin(food_title_list)]\n",
    "\n",
    "# Print or use the matching DataFrames as needed\n",
    "#print(\"Matching values in df_val:\")\n",
    "#print(matching_val)\n",
    "\n",
    "#print(\"\\nMatching values in df_test:\")\n",
    "#print(matching_test)\n"
   ]
  },
  {
   "cell_type": "code",
   "execution_count": 42,
   "id": "26595312-7b40-4b41-b8dc-cfb81b17c49f",
   "metadata": {
    "gather": {
     "logged": 1706888983109
    },
    "jupyter": {
     "outputs_hidden": false,
     "source_hidden": false
    },
    "nteract": {
     "transient": {
      "deleting": false
     }
    }
   },
   "outputs": [
    {
     "name": "stdout",
     "output_type": "stream",
     "text": [
      "Matching values in df_val:\n",
      "['Red Velvet Cupcakes', 'Marshmallow Fondant', 'Easy Sugar Cookies', 'Cajun Chicken Pasta', 'Chicken Parmesan', 'White Chocolate Raspberry Cheesecake', \"World's Best Lasagna\", 'The Best Rolled Sugar Cookies', 'Alfredo Sauce', 'Apple Pie by Grandma Ople', 'Black Magic Cake', \"Mom's Zucchini Bread\", 'Award Winning Soft Chocolate Chip Cookies', 'Peanut Butter Cup Cookies', 'Soft Oatmeal Cookies', 'Easy OREO Truffles']\n",
      "Matching values in df_val::16\n",
      "\n",
      "Non-matching values in df_val:\n",
      "[\"Rick's Special Buttercream Frosting\", 'Delicious Ham and Potato Soup', 'Cake Balls', 'Chicken Cordon Bleu II', 'Bread Pudding II', 'Baked MAC and Cheese', 'Sweet, Sticky and Spicy Chicken', 'Bomb Ass Potatoes', 'Bacon Wrapped Chicken Breast', 'Good Old Fashioned Pancakes', 'Carrot Cake III', 'Cream Cheese Frosting II', 'Clone of a Cinnabon', 'Downeast Maine Pumpkin Bread', 'Amish White Bread', 'Simple White Cake', 'Best Brownies', 'Tiramisu Layer Cake', 'Broiled Tilapia Parmesan', 'Special Buttercream Frosting', 'Parmesan Chicken Squares', \"Spooky Witches' Fingers\", 'Banana Banana Bread', 'Ninety Minute Cinnamon Rolls', 'Big Soft Ginger Cookies', \"Grandma's Lemon Meringue Pie\", \"Chantal's New York Cheesecake\", 'Easy Chicken with Broccoli', 'To Die For Blueberry Muffins']\n",
      "Non Matching values in df_val::16\n",
      "\n",
      "Matching values in df_test:\n",
      "['Cajun Chicken Pasta', 'Marshmallow Fondant', 'Chicken Parmesan', 'Red Velvet Cupcakes', \"Grandma's Lemon Meringue Pie\", 'Broiled Tilapia Parmesan', 'White Chocolate Raspberry Cheesecake', 'Best Brownies', 'Award Winning Soft Chocolate Chip Cookies', 'Alfredo Sauce', 'Cake Balls', 'Easy OREO Truffles']\n",
      "Matching values in df_test::12\n",
      "\n",
      "Non-matching values in df_test:\n",
      "[\"Rick's Special Buttercream Frosting\", 'Apple Pie by Grandma Ople', 'Peanut Butter Cup Cookies', 'Delicious Ham and Potato Soup', 'Chicken Cordon Bleu II', 'Bread Pudding II', 'The Best Rolled Sugar Cookies', \"Mom's Zucchini Bread\", 'Baked MAC and Cheese', 'Sweet, Sticky and Spicy Chicken', 'Bomb Ass Potatoes', 'Bacon Wrapped Chicken Breast', \"World's Best Lasagna\", 'Good Old Fashioned Pancakes', 'Carrot Cake III', 'Cream Cheese Frosting II', 'Clone of a Cinnabon', 'Downeast Maine Pumpkin Bread', 'Amish White Bread', 'Simple White Cake', 'Tiramisu Layer Cake', 'Special Buttercream Frosting', 'Parmesan Chicken Squares', \"Spooky Witches' Fingers\", 'Banana Banana Bread', 'Soft Oatmeal Cookies', 'Ninety Minute Cinnamon Rolls', 'Black Magic Cake', 'Easy Sugar Cookies', 'Big Soft Ginger Cookies', \"Chantal's New York Cheesecake\", 'Easy Chicken with Broccoli', 'To Die For Blueberry Muffins']\n",
      "Non-matching values in df_test::33\n"
     ]
    }
   ],
   "source": [
    "# Assuming food_title_list is the list obtained from df_train\n",
    "# Assuming df_val and df_test are your other DataFrames\n",
    "\n",
    "# Check if the values in food_title_list exist in df_val\n",
    "matching_val = df_val[df_val['food_title'].isin(food_title_list)]['food_title'].tolist()\n",
    "\n",
    "# Check if the values in food_title_list exist in df_test\n",
    "matching_test = df_test[df_test['food_title'].isin(food_title_list)]['food_title'].tolist()\n",
    "\n",
    "# Print matching and non-matching food_title values\n",
    "print(\"Matching values in df_val:\")\n",
    "print(matching_val)\n",
    "\n",
    "print(f\"Matching values in df_val::{len(matching_val)}\")\n",
    "\n",
    "\n",
    "\n",
    "non_matching_val = list(set(food_title_list) - set(matching_val))\n",
    "print(\"\\nNon-matching values in df_val:\")\n",
    "print(non_matching_val)\n",
    "print(f\"Non Matching values in df_val::{len(matching_val)}\")\n",
    "\n",
    "\n",
    "print(\"\\nMatching values in df_test:\")\n",
    "print(matching_test)\n",
    "print(f\"Matching values in df_test::{len(matching_test)}\")\n",
    "\n",
    "\n",
    "non_matching_test = list(set(food_title_list) - set(matching_test))\n",
    "print(\"\\nNon-matching values in df_test:\")\n",
    "print(non_matching_test)\n",
    "\n",
    "print(f\"Non-matching values in df_test::{len(non_matching_test)}\")"
   ]
  },
  {
   "cell_type": "code",
   "execution_count": 43,
   "id": "4c159014-e72e-464c-9eb5-cba0546f319a",
   "metadata": {
    "jupyter": {
     "outputs_hidden": false,
     "source_hidden": false
    },
    "nteract": {
     "transient": {
      "deleting": false
     }
    }
   },
   "outputs": [
    {
     "data": {
      "text/plain": [
       "246010"
      ]
     },
     "execution_count": 43,
     "metadata": {},
     "output_type": "execute_result"
    }
   ],
   "source": [
    "df_train['food_title'].nunique()"
   ]
  },
  {
   "cell_type": "code",
   "execution_count": 44,
   "id": "0b11f929-d93c-42b3-a3a1-0c273229d8e6",
   "metadata": {
    "jupyter": {
     "outputs_hidden": false,
     "source_hidden": false
    },
    "nteract": {
     "transient": {
      "deleting": false
     }
    }
   },
   "outputs": [
    {
     "data": {
      "text/plain": [
       "57560"
      ]
     },
     "execution_count": 44,
     "metadata": {},
     "output_type": "execute_result"
    }
   ],
   "source": [
    "df_test['food_title'].nunique()"
   ]
  },
  {
   "cell_type": "code",
   "execution_count": 45,
   "id": "0e12a5d9",
   "metadata": {},
   "outputs": [
    {
     "data": {
      "text/plain": [
       "57229"
      ]
     },
     "execution_count": 45,
     "metadata": {},
     "output_type": "execute_result"
    }
   ],
   "source": [
    "df_val['food_title'].nunique()"
   ]
  },
  {
   "cell_type": "code",
   "execution_count": 46,
   "id": "d1ca9f91-5202-4751-94eb-8c570d40d946",
   "metadata": {
    "gather": {
     "logged": 1706888562545
    },
    "jupyter": {
     "outputs_hidden": false,
     "source_hidden": false
    },
    "nteract": {
     "transient": {
      "deleting": false
     }
    }
   },
   "outputs": [
    {
     "data": {
      "text/html": [
       "<div>\n",
       "<style scoped>\n",
       "    .dataframe tbody tr th:only-of-type {\n",
       "        vertical-align: middle;\n",
       "    }\n",
       "\n",
       "    .dataframe tbody tr th {\n",
       "        vertical-align: top;\n",
       "    }\n",
       "\n",
       "    .dataframe thead th {\n",
       "        text-align: right;\n",
       "    }\n",
       "</style>\n",
       "<table border=\"1\" class=\"dataframe\">\n",
       "  <thead>\n",
       "    <tr style=\"text-align: right;\">\n",
       "      <th></th>\n",
       "      <th>food_title</th>\n",
       "      <th>images_id</th>\n",
       "      <th>image_count</th>\n",
       "    </tr>\n",
       "  </thead>\n",
       "  <tbody>\n",
       "    <tr>\n",
       "      <th>224015</th>\n",
       "      <td>The Best Rolled Sugar Cookies</td>\n",
       "      <td>0037563ca4.jpg , 003b92c18f.jpg , 0068f4dd6a.j...</td>\n",
       "      <td>1647</td>\n",
       "    </tr>\n",
       "    <tr>\n",
       "      <th>137326</th>\n",
       "      <td>Marshmallow Fondant</td>\n",
       "      <td>0008000c98.jpg , 001689aa9d.jpg , 001c9165c6.j...</td>\n",
       "      <td>1540</td>\n",
       "    </tr>\n",
       "    <tr>\n",
       "      <th>7122</th>\n",
       "      <td>Apple Pie by Grandma Ople</td>\n",
       "      <td>001df0cb78.jpg , 0099f126e8.jpg , 00b685903b.j...</td>\n",
       "      <td>1325</td>\n",
       "    </tr>\n",
       "    <tr>\n",
       "      <th>226242</th>\n",
       "      <td>To Die For Blueberry Muffins</td>\n",
       "      <td>001ea74601.jpg , 0049a29b83.jpg , 0084dedc7c.j...</td>\n",
       "      <td>997</td>\n",
       "    </tr>\n",
       "    <tr>\n",
       "      <th>39868</th>\n",
       "      <td>Chantal's New York Cheesecake</td>\n",
       "      <td>000ebb143a.jpg , 00a4180adf.jpg , 01175d4ff8.j...</td>\n",
       "      <td>742</td>\n",
       "    </tr>\n",
       "    <tr>\n",
       "      <th>35195</th>\n",
       "      <td>Cake Balls</td>\n",
       "      <td>0032312a00.jpg , 00d072475f.jpg , 011a8811a7.j...</td>\n",
       "      <td>717</td>\n",
       "    </tr>\n",
       "    <tr>\n",
       "      <th>58097</th>\n",
       "      <td>Clone of a Cinnabon</td>\n",
       "      <td>003fe92744.jpg , 0110bb56b8.jpg , 018d9a9340.j...</td>\n",
       "      <td>713</td>\n",
       "    </tr>\n",
       "    <tr>\n",
       "      <th>17105</th>\n",
       "      <td>Banana Banana Bread</td>\n",
       "      <td>00993016a6.jpg , 0812c3cbfa.jpg , 092726ae7e.j...</td>\n",
       "      <td>695</td>\n",
       "    </tr>\n",
       "    <tr>\n",
       "      <th>241540</th>\n",
       "      <td>World's Best Lasagna</td>\n",
       "      <td>405306641c.jpg,0015ad3344.jpg , 00216aad83.jpg...</td>\n",
       "      <td>651</td>\n",
       "    </tr>\n",
       "    <tr>\n",
       "      <th>38177</th>\n",
       "      <td>Carrot Cake III</td>\n",
       "      <td>0001e7af21.jpg , 00289ba8b4.jpg , 003c0b9b7c.j...</td>\n",
       "      <td>606</td>\n",
       "    </tr>\n",
       "    <tr>\n",
       "      <th>11636</th>\n",
       "      <td>Award Winning Soft Chocolate Chip Cookies</td>\n",
       "      <td>0024032df5.jpg , 009492f45d.jpg , 00a4b020ce.j...</td>\n",
       "      <td>590</td>\n",
       "    </tr>\n",
       "    <tr>\n",
       "      <th>27656</th>\n",
       "      <td>Bomb Ass Potatoes</td>\n",
       "      <td>0016b98f43.jpg , 01078c3f8b.jpg , 014f77cc28.j...</td>\n",
       "      <td>570</td>\n",
       "    </tr>\n",
       "    <tr>\n",
       "      <th>5304</th>\n",
       "      <td>Amish White Bread</td>\n",
       "      <td>345ae16ea8.jpg , 9d0637013f.jpg,f4a9bc9304.jpg...</td>\n",
       "      <td>530</td>\n",
       "    </tr>\n",
       "    <tr>\n",
       "      <th>13480</th>\n",
       "      <td>Bacon Wrapped Chicken Breast</td>\n",
       "      <td>00b3d67ff3.jpg , 00c526e691.jpg , 018eaa0c86.j...</td>\n",
       "      <td>515</td>\n",
       "    </tr>\n",
       "    <tr>\n",
       "      <th>239489</th>\n",
       "      <td>White Chocolate Raspberry Cheesecake</td>\n",
       "      <td>440a02e56d.jpg,01a7aa9b0c.jpg , 01e6253656.jpg...</td>\n",
       "      <td>504</td>\n",
       "    </tr>\n",
       "    <tr>\n",
       "      <th>159105</th>\n",
       "      <td>Parmesan Chicken Squares</td>\n",
       "      <td>00bf341037.jpg , 00ef97468a.jpg , 011f1b7dc2.j...</td>\n",
       "      <td>503</td>\n",
       "    </tr>\n",
       "    <tr>\n",
       "      <th>99256</th>\n",
       "      <td>Good Old Fashioned Pancakes</td>\n",
       "      <td>00dd266ff6.jpg , 0101a4bacc.jpg , 0167641768.j...</td>\n",
       "      <td>457</td>\n",
       "    </tr>\n",
       "    <tr>\n",
       "      <th>81645</th>\n",
       "      <td>Easy Sugar Cookies</td>\n",
       "      <td>9e953836fc.jpg , b99db2d854.jpg,00726a7456.jpg...</td>\n",
       "      <td>433</td>\n",
       "    </tr>\n",
       "    <tr>\n",
       "      <th>22795</th>\n",
       "      <td>Best Brownies</td>\n",
       "      <td>13a7650862.jpg,0a36298ad8.jpg , 5bc68de3da.jpg...</td>\n",
       "      <td>428</td>\n",
       "    </tr>\n",
       "    <tr>\n",
       "      <th>34885</th>\n",
       "      <td>Cajun Chicken Pasta</td>\n",
       "      <td>6339c886df.jpg,e7a1c649ef.jpg,12646ce9ce.jpg,0...</td>\n",
       "      <td>396</td>\n",
       "    </tr>\n",
       "    <tr>\n",
       "      <th>73910</th>\n",
       "      <td>Delicious Ham and Potato Soup</td>\n",
       "      <td>000568f8b0.jpg , 023121c6f2.jpg , 03265658e6.j...</td>\n",
       "      <td>394</td>\n",
       "    </tr>\n",
       "    <tr>\n",
       "      <th>46049</th>\n",
       "      <td>Chicken Parmesan</td>\n",
       "      <td>470ccd86e6.jpg , 9a3178a5d1.jpg , b16c00025d.j...</td>\n",
       "      <td>392</td>\n",
       "    </tr>\n",
       "    <tr>\n",
       "      <th>162050</th>\n",
       "      <td>Peanut Butter Cup Cookies</td>\n",
       "      <td>b6ce0cfb63.jpg,00063ce55c.jpg , 00a7bbb909.jpg...</td>\n",
       "      <td>388</td>\n",
       "    </tr>\n",
       "    <tr>\n",
       "      <th>76319</th>\n",
       "      <td>Downeast Maine Pumpkin Bread</td>\n",
       "      <td>00379b85f6.jpg , 00cb410e1f.jpg , 037cb956cc.j...</td>\n",
       "      <td>379</td>\n",
       "    </tr>\n",
       "    <tr>\n",
       "      <th>25061</th>\n",
       "      <td>Black Magic Cake</td>\n",
       "      <td>005437d4ee.jpg , 018cb21c4f.jpg , 026374f456.j...</td>\n",
       "      <td>379</td>\n",
       "    </tr>\n",
       "    <tr>\n",
       "      <th>181570</th>\n",
       "      <td>Rick's Special Buttercream Frosting</td>\n",
       "      <td>01fde66548.jpg , 031d3b74ff.jpg , 037bd42b7e.j...</td>\n",
       "      <td>375</td>\n",
       "    </tr>\n",
       "    <tr>\n",
       "      <th>64224</th>\n",
       "      <td>Cream Cheese Frosting II</td>\n",
       "      <td>000e97e36c.jpg , 0090d0548f.jpg , 00f6d54852.j...</td>\n",
       "      <td>373</td>\n",
       "    </tr>\n",
       "    <tr>\n",
       "      <th>204576</th>\n",
       "      <td>Special Buttercream Frosting</td>\n",
       "      <td>00a06e31d1.jpg , 00b6a24a79.jpg , 00f3f9a73f.j...</td>\n",
       "      <td>364</td>\n",
       "    </tr>\n",
       "    <tr>\n",
       "      <th>100210</th>\n",
       "      <td>Grandma's Lemon Meringue Pie</td>\n",
       "      <td>0060bc05c8.jpg , 012f49ed2f.jpg , 019c3742b4.j...</td>\n",
       "      <td>355</td>\n",
       "    </tr>\n",
       "    <tr>\n",
       "      <th>196942</th>\n",
       "      <td>Simple White Cake</td>\n",
       "      <td>001b90ae45.jpg , 00d83ec203.jpg , 01a9116213.j...</td>\n",
       "      <td>349</td>\n",
       "    </tr>\n",
       "    <tr>\n",
       "      <th>23934</th>\n",
       "      <td>Big Soft Ginger Cookies</td>\n",
       "      <td>0012107f11.jpg , 02b6b35ed0.jpg , 03050213c6.j...</td>\n",
       "      <td>349</td>\n",
       "    </tr>\n",
       "    <tr>\n",
       "      <th>80490</th>\n",
       "      <td>Easy OREO Truffles</td>\n",
       "      <td>00d11cf480.jpg , 023d593516.jpg , 02a6a1b67e.j...</td>\n",
       "      <td>342</td>\n",
       "    </tr>\n",
       "    <tr>\n",
       "      <th>201433</th>\n",
       "      <td>Soft Oatmeal Cookies</td>\n",
       "      <td>08159f14fe.jpg , 6aae493f73.jpg , 6ef20b0d85.j...</td>\n",
       "      <td>336</td>\n",
       "    </tr>\n",
       "    <tr>\n",
       "      <th>226183</th>\n",
       "      <td>Tiramisu Layer Cake</td>\n",
       "      <td>02cddf02c3.jpg , 2971e75f65.jpg , 46b685261a.j...</td>\n",
       "      <td>336</td>\n",
       "    </tr>\n",
       "    <tr>\n",
       "      <th>15525</th>\n",
       "      <td>Baked MAC and Cheese</td>\n",
       "      <td>0052bc2c7d.jpg , 015156ffc2.jpg , 025dec4ece.j...</td>\n",
       "      <td>334</td>\n",
       "    </tr>\n",
       "    <tr>\n",
       "      <th>149828</th>\n",
       "      <td>Ninety Minute Cinnamon Rolls</td>\n",
       "      <td>00bb7e0a45.jpg , 00d73144c5.jpg , 0227122a56.j...</td>\n",
       "      <td>334</td>\n",
       "    </tr>\n",
       "    <tr>\n",
       "      <th>29170</th>\n",
       "      <td>Bread Pudding II</td>\n",
       "      <td>273d3bc3b8.jpg , 3c7bb34591.jpg , 4e410c9ca2.j...</td>\n",
       "      <td>331</td>\n",
       "    </tr>\n",
       "    <tr>\n",
       "      <th>209214</th>\n",
       "      <td>Spooky Witches' Fingers</td>\n",
       "      <td>0005cb6420.jpg , 0008189863.jpg , 00ef05a8cb.j...</td>\n",
       "      <td>330</td>\n",
       "    </tr>\n",
       "    <tr>\n",
       "      <th>78707</th>\n",
       "      <td>Easy Chicken with Broccoli</td>\n",
       "      <td>015ab6caa6.jpg , 020f138280.jpg , 039cf38f42.j...</td>\n",
       "      <td>318</td>\n",
       "    </tr>\n",
       "    <tr>\n",
       "      <th>144729</th>\n",
       "      <td>Mom's Zucchini Bread</td>\n",
       "      <td>00189c1263.jpg , 00a6603658.jpg , 01443f5ce4.j...</td>\n",
       "      <td>317</td>\n",
       "    </tr>\n",
       "    <tr>\n",
       "      <th>45127</th>\n",
       "      <td>Chicken Cordon Bleu II</td>\n",
       "      <td>0de07a2171.jpg , 3ae08fdd00.jpg , 4183712e62.j...</td>\n",
       "      <td>309</td>\n",
       "    </tr>\n",
       "    <tr>\n",
       "      <th>219271</th>\n",
       "      <td>Sweet, Sticky and Spicy Chicken</td>\n",
       "      <td>0076fe1d3b.jpg , 00d045df6f.jpg , 01916ebc24.j...</td>\n",
       "      <td>307</td>\n",
       "    </tr>\n",
       "    <tr>\n",
       "      <th>179627</th>\n",
       "      <td>Red Velvet Cupcakes</td>\n",
       "      <td>9df7422e6f.jpg , c55af6f4db.jpg , d32b3d3065.j...</td>\n",
       "      <td>307</td>\n",
       "    </tr>\n",
       "    <tr>\n",
       "      <th>30874</th>\n",
       "      <td>Broiled Tilapia Parmesan</td>\n",
       "      <td>0127dba5a1.jpg , 0151fdb5ea.jpg , 01744851d4.j...</td>\n",
       "      <td>303</td>\n",
       "    </tr>\n",
       "    <tr>\n",
       "      <th>3516</th>\n",
       "      <td>Alfredo Sauce</td>\n",
       "      <td>a17ab05cc4.jpg,022ed1c6e8.jpg , 09d8b7849e.jpg...</td>\n",
       "      <td>300</td>\n",
       "    </tr>\n",
       "    <tr>\n",
       "      <th>29498</th>\n",
       "      <td>Breakfast In A Cup</td>\n",
       "      <td>00e990ce0c.jpg , 00f2b7deea.jpg , 01b259c052.j...</td>\n",
       "      <td>297</td>\n",
       "    </tr>\n",
       "    <tr>\n",
       "      <th>6683</th>\n",
       "      <td>Apple Crisp II</td>\n",
       "      <td>0061e97b06.jpg , 00cb3da7c4.jpg , 02bc5bfe29.j...</td>\n",
       "      <td>290</td>\n",
       "    </tr>\n",
       "    <tr>\n",
       "      <th>43902</th>\n",
       "      <td>Chewy Chocolate Chip Oatmeal Cookies</td>\n",
       "      <td>601001949b.jpg , 768417d978.jpg , 7f95667aba.j...</td>\n",
       "      <td>285</td>\n",
       "    </tr>\n",
       "    <tr>\n",
       "      <th>123656</th>\n",
       "      <td>Key Lime Pie VII</td>\n",
       "      <td>017027bcd8.jpg , 0481c712e5.jpg , 0513b0f5e4.j...</td>\n",
       "      <td>282</td>\n",
       "    </tr>\n",
       "    <tr>\n",
       "      <th>34105</th>\n",
       "      <td>Buttery Soft Pretzels</td>\n",
       "      <td>e0c8bacf9d.jpg,008c05a2df.jpg , 017a8f7709.jpg...</td>\n",
       "      <td>281</td>\n",
       "    </tr>\n",
       "  </tbody>\n",
       "</table>\n",
       "</div>"
      ],
      "text/plain": [
       "                                       food_title  \\\n",
       "224015              The Best Rolled Sugar Cookies   \n",
       "137326                        Marshmallow Fondant   \n",
       "7122                    Apple Pie by Grandma Ople   \n",
       "226242               To Die For Blueberry Muffins   \n",
       "39868               Chantal's New York Cheesecake   \n",
       "35195                                  Cake Balls   \n",
       "58097                         Clone of a Cinnabon   \n",
       "17105                         Banana Banana Bread   \n",
       "241540                       World's Best Lasagna   \n",
       "38177                             Carrot Cake III   \n",
       "11636   Award Winning Soft Chocolate Chip Cookies   \n",
       "27656                           Bomb Ass Potatoes   \n",
       "5304                            Amish White Bread   \n",
       "13480                Bacon Wrapped Chicken Breast   \n",
       "239489       White Chocolate Raspberry Cheesecake   \n",
       "159105                   Parmesan Chicken Squares   \n",
       "99256                 Good Old Fashioned Pancakes   \n",
       "81645                          Easy Sugar Cookies   \n",
       "22795                               Best Brownies   \n",
       "34885                         Cajun Chicken Pasta   \n",
       "73910               Delicious Ham and Potato Soup   \n",
       "46049                            Chicken Parmesan   \n",
       "162050                  Peanut Butter Cup Cookies   \n",
       "76319                Downeast Maine Pumpkin Bread   \n",
       "25061                            Black Magic Cake   \n",
       "181570        Rick's Special Buttercream Frosting   \n",
       "64224                    Cream Cheese Frosting II   \n",
       "204576               Special Buttercream Frosting   \n",
       "100210               Grandma's Lemon Meringue Pie   \n",
       "196942                          Simple White Cake   \n",
       "23934                     Big Soft Ginger Cookies   \n",
       "80490                          Easy OREO Truffles   \n",
       "201433                       Soft Oatmeal Cookies   \n",
       "226183                        Tiramisu Layer Cake   \n",
       "15525                        Baked MAC and Cheese   \n",
       "149828               Ninety Minute Cinnamon Rolls   \n",
       "29170                            Bread Pudding II   \n",
       "209214                    Spooky Witches' Fingers   \n",
       "78707                  Easy Chicken with Broccoli   \n",
       "144729                       Mom's Zucchini Bread   \n",
       "45127                      Chicken Cordon Bleu II   \n",
       "219271            Sweet, Sticky and Spicy Chicken   \n",
       "179627                        Red Velvet Cupcakes   \n",
       "30874                    Broiled Tilapia Parmesan   \n",
       "3516                                Alfredo Sauce   \n",
       "29498                          Breakfast In A Cup   \n",
       "6683                               Apple Crisp II   \n",
       "43902        Chewy Chocolate Chip Oatmeal Cookies   \n",
       "123656                           Key Lime Pie VII   \n",
       "34105                       Buttery Soft Pretzels   \n",
       "\n",
       "                                                images_id  image_count  \n",
       "224015  0037563ca4.jpg , 003b92c18f.jpg , 0068f4dd6a.j...         1647  \n",
       "137326  0008000c98.jpg , 001689aa9d.jpg , 001c9165c6.j...         1540  \n",
       "7122    001df0cb78.jpg , 0099f126e8.jpg , 00b685903b.j...         1325  \n",
       "226242  001ea74601.jpg , 0049a29b83.jpg , 0084dedc7c.j...          997  \n",
       "39868   000ebb143a.jpg , 00a4180adf.jpg , 01175d4ff8.j...          742  \n",
       "35195   0032312a00.jpg , 00d072475f.jpg , 011a8811a7.j...          717  \n",
       "58097   003fe92744.jpg , 0110bb56b8.jpg , 018d9a9340.j...          713  \n",
       "17105   00993016a6.jpg , 0812c3cbfa.jpg , 092726ae7e.j...          695  \n",
       "241540  405306641c.jpg,0015ad3344.jpg , 00216aad83.jpg...          651  \n",
       "38177   0001e7af21.jpg , 00289ba8b4.jpg , 003c0b9b7c.j...          606  \n",
       "11636   0024032df5.jpg , 009492f45d.jpg , 00a4b020ce.j...          590  \n",
       "27656   0016b98f43.jpg , 01078c3f8b.jpg , 014f77cc28.j...          570  \n",
       "5304    345ae16ea8.jpg , 9d0637013f.jpg,f4a9bc9304.jpg...          530  \n",
       "13480   00b3d67ff3.jpg , 00c526e691.jpg , 018eaa0c86.j...          515  \n",
       "239489  440a02e56d.jpg,01a7aa9b0c.jpg , 01e6253656.jpg...          504  \n",
       "159105  00bf341037.jpg , 00ef97468a.jpg , 011f1b7dc2.j...          503  \n",
       "99256   00dd266ff6.jpg , 0101a4bacc.jpg , 0167641768.j...          457  \n",
       "81645   9e953836fc.jpg , b99db2d854.jpg,00726a7456.jpg...          433  \n",
       "22795   13a7650862.jpg,0a36298ad8.jpg , 5bc68de3da.jpg...          428  \n",
       "34885   6339c886df.jpg,e7a1c649ef.jpg,12646ce9ce.jpg,0...          396  \n",
       "73910   000568f8b0.jpg , 023121c6f2.jpg , 03265658e6.j...          394  \n",
       "46049   470ccd86e6.jpg , 9a3178a5d1.jpg , b16c00025d.j...          392  \n",
       "162050  b6ce0cfb63.jpg,00063ce55c.jpg , 00a7bbb909.jpg...          388  \n",
       "76319   00379b85f6.jpg , 00cb410e1f.jpg , 037cb956cc.j...          379  \n",
       "25061   005437d4ee.jpg , 018cb21c4f.jpg , 026374f456.j...          379  \n",
       "181570  01fde66548.jpg , 031d3b74ff.jpg , 037bd42b7e.j...          375  \n",
       "64224   000e97e36c.jpg , 0090d0548f.jpg , 00f6d54852.j...          373  \n",
       "204576  00a06e31d1.jpg , 00b6a24a79.jpg , 00f3f9a73f.j...          364  \n",
       "100210  0060bc05c8.jpg , 012f49ed2f.jpg , 019c3742b4.j...          355  \n",
       "196942  001b90ae45.jpg , 00d83ec203.jpg , 01a9116213.j...          349  \n",
       "23934   0012107f11.jpg , 02b6b35ed0.jpg , 03050213c6.j...          349  \n",
       "80490   00d11cf480.jpg , 023d593516.jpg , 02a6a1b67e.j...          342  \n",
       "201433  08159f14fe.jpg , 6aae493f73.jpg , 6ef20b0d85.j...          336  \n",
       "226183  02cddf02c3.jpg , 2971e75f65.jpg , 46b685261a.j...          336  \n",
       "15525   0052bc2c7d.jpg , 015156ffc2.jpg , 025dec4ece.j...          334  \n",
       "149828  00bb7e0a45.jpg , 00d73144c5.jpg , 0227122a56.j...          334  \n",
       "29170   273d3bc3b8.jpg , 3c7bb34591.jpg , 4e410c9ca2.j...          331  \n",
       "209214  0005cb6420.jpg , 0008189863.jpg , 00ef05a8cb.j...          330  \n",
       "78707   015ab6caa6.jpg , 020f138280.jpg , 039cf38f42.j...          318  \n",
       "144729  00189c1263.jpg , 00a6603658.jpg , 01443f5ce4.j...          317  \n",
       "45127   0de07a2171.jpg , 3ae08fdd00.jpg , 4183712e62.j...          309  \n",
       "219271  0076fe1d3b.jpg , 00d045df6f.jpg , 01916ebc24.j...          307  \n",
       "179627  9df7422e6f.jpg , c55af6f4db.jpg , d32b3d3065.j...          307  \n",
       "30874   0127dba5a1.jpg , 0151fdb5ea.jpg , 01744851d4.j...          303  \n",
       "3516    a17ab05cc4.jpg,022ed1c6e8.jpg , 09d8b7849e.jpg...          300  \n",
       "29498   00e990ce0c.jpg , 00f2b7deea.jpg , 01b259c052.j...          297  \n",
       "6683    0061e97b06.jpg , 00cb3da7c4.jpg , 02bc5bfe29.j...          290  \n",
       "43902   601001949b.jpg , 768417d978.jpg , 7f95667aba.j...          285  \n",
       "123656  017027bcd8.jpg , 0481c712e5.jpg , 0513b0f5e4.j...          282  \n",
       "34105   e0c8bacf9d.jpg,008c05a2df.jpg , 017a8f7709.jpg...          281  "
      ]
     },
     "execution_count": 46,
     "metadata": {},
     "output_type": "execute_result"
    }
   ],
   "source": [
    "df_train.head(50)"
   ]
  },
  {
   "cell_type": "code",
   "execution_count": 48,
   "id": "e42f4810",
   "metadata": {},
   "outputs": [
    {
     "data": {
      "text/plain": [
       "['The Best Rolled Sugar Cookies',\n",
       " 'Marshmallow Fondant',\n",
       " 'Apple Pie by Grandma Ople',\n",
       " 'To Die For Blueberry Muffins',\n",
       " \"Chantal's New York Cheesecake\",\n",
       " 'Cake Balls',\n",
       " 'Clone of a Cinnabon',\n",
       " 'Banana Banana Bread',\n",
       " \"World's Best Lasagna\",\n",
       " 'Carrot Cake III',\n",
       " 'Award Winning Soft Chocolate Chip Cookies',\n",
       " 'Bomb Ass Potatoes',\n",
       " 'Amish White Bread',\n",
       " 'Bacon Wrapped Chicken Breast',\n",
       " 'White Chocolate Raspberry Cheesecake',\n",
       " 'Parmesan Chicken Squares',\n",
       " 'Good Old Fashioned Pancakes',\n",
       " 'Easy Sugar Cookies',\n",
       " 'Best Brownies',\n",
       " 'Cajun Chicken Pasta',\n",
       " 'Delicious Ham and Potato Soup',\n",
       " 'Chicken Parmesan',\n",
       " 'Peanut Butter Cup Cookies',\n",
       " 'Downeast Maine Pumpkin Bread',\n",
       " 'Black Magic Cake',\n",
       " \"Rick's Special Buttercream Frosting\",\n",
       " 'Cream Cheese Frosting II',\n",
       " 'Special Buttercream Frosting',\n",
       " \"Grandma's Lemon Meringue Pie\",\n",
       " 'Simple White Cake',\n",
       " 'Big Soft Ginger Cookies',\n",
       " 'Easy OREO Truffles',\n",
       " 'Soft Oatmeal Cookies',\n",
       " 'Tiramisu Layer Cake',\n",
       " 'Baked MAC and Cheese',\n",
       " 'Ninety Minute Cinnamon Rolls',\n",
       " 'Bread Pudding II',\n",
       " \"Spooky Witches' Fingers\",\n",
       " 'Easy Chicken with Broccoli',\n",
       " \"Mom's Zucchini Bread\",\n",
       " 'Chicken Cordon Bleu II',\n",
       " 'Sweet, Sticky and Spicy Chicken',\n",
       " 'Red Velvet Cupcakes',\n",
       " 'Broiled Tilapia Parmesan',\n",
       " 'Alfredo Sauce']"
      ]
     },
     "execution_count": 48,
     "metadata": {},
     "output_type": "execute_result"
    }
   ],
   "source": [
    "food_title_list"
   ]
  },
  {
   "cell_type": "code",
   "execution_count": 49,
   "id": "9e82137f",
   "metadata": {},
   "outputs": [],
   "source": [
    "df_filter = df_train[df_train['food_title'].isin(food_title_list)]"
   ]
  },
  {
   "cell_type": "code",
   "execution_count": 50,
   "id": "a265a23c",
   "metadata": {},
   "outputs": [
    {
     "data": {
      "text/plain": [
       "45"
      ]
     },
     "execution_count": 50,
     "metadata": {},
     "output_type": "execute_result"
    }
   ],
   "source": [
    "df_filter['food_title'].nunique()"
   ]
  },
  {
   "cell_type": "code",
   "execution_count": 51,
   "id": "0d8ae7f5",
   "metadata": {},
   "outputs": [],
   "source": [
    "# # Function to clean the 'food_title' column\n",
    "# def clean_food_title(title):\n",
    "#     # Remove Roman numerals\n",
    "# #     title_no_roman = re.sub(r'\\b[IVXLCDM]+\\b', '', title)\n",
    "#     # Remove numbers, special characters, and apostrophes\n",
    "#     cleaned_title = re.sub(r'[^A-Za-z\\s]', '', title)\n",
    "#     # Convert to lowercase and replace spaces with underscores\n",
    "#     cleaned_title = cleaned_title.lower().replace(' ', '_')\n",
    "#     return cleaned_title\n",
    "# # Apply the cleaning function to the 'food_title' column\n",
    "# df_final['cleaned_food_title'] = df_final['food_title'].apply(clean_food_title)"
   ]
  },
  {
   "cell_type": "code",
   "execution_count": 56,
   "id": "6d5bf1c0",
   "metadata": {},
   "outputs": [],
   "source": [
    "df_filter.reset_index(inplace=True,drop=True)"
   ]
  },
  {
   "cell_type": "code",
   "execution_count": 57,
   "id": "47a456cc",
   "metadata": {},
   "outputs": [
    {
     "data": {
      "text/html": [
       "<div>\n",
       "<style scoped>\n",
       "    .dataframe tbody tr th:only-of-type {\n",
       "        vertical-align: middle;\n",
       "    }\n",
       "\n",
       "    .dataframe tbody tr th {\n",
       "        vertical-align: top;\n",
       "    }\n",
       "\n",
       "    .dataframe thead th {\n",
       "        text-align: right;\n",
       "    }\n",
       "</style>\n",
       "<table border=\"1\" class=\"dataframe\">\n",
       "  <thead>\n",
       "    <tr style=\"text-align: right;\">\n",
       "      <th></th>\n",
       "      <th>food_title</th>\n",
       "      <th>images_id</th>\n",
       "      <th>image_count</th>\n",
       "    </tr>\n",
       "  </thead>\n",
       "  <tbody>\n",
       "    <tr>\n",
       "      <th>0</th>\n",
       "      <td>The Best Rolled Sugar Cookies</td>\n",
       "      <td>0037563ca4.jpg , 003b92c18f.jpg , 0068f4dd6a.j...</td>\n",
       "      <td>1647</td>\n",
       "    </tr>\n",
       "    <tr>\n",
       "      <th>1</th>\n",
       "      <td>Marshmallow Fondant</td>\n",
       "      <td>0008000c98.jpg , 001689aa9d.jpg , 001c9165c6.j...</td>\n",
       "      <td>1540</td>\n",
       "    </tr>\n",
       "    <tr>\n",
       "      <th>2</th>\n",
       "      <td>Apple Pie by Grandma Ople</td>\n",
       "      <td>001df0cb78.jpg , 0099f126e8.jpg , 00b685903b.j...</td>\n",
       "      <td>1325</td>\n",
       "    </tr>\n",
       "    <tr>\n",
       "      <th>3</th>\n",
       "      <td>To Die For Blueberry Muffins</td>\n",
       "      <td>001ea74601.jpg , 0049a29b83.jpg , 0084dedc7c.j...</td>\n",
       "      <td>997</td>\n",
       "    </tr>\n",
       "    <tr>\n",
       "      <th>4</th>\n",
       "      <td>Chantal's New York Cheesecake</td>\n",
       "      <td>000ebb143a.jpg , 00a4180adf.jpg , 01175d4ff8.j...</td>\n",
       "      <td>742</td>\n",
       "    </tr>\n",
       "  </tbody>\n",
       "</table>\n",
       "</div>"
      ],
      "text/plain": [
       "                      food_title  \\\n",
       "0  The Best Rolled Sugar Cookies   \n",
       "1            Marshmallow Fondant   \n",
       "2      Apple Pie by Grandma Ople   \n",
       "3   To Die For Blueberry Muffins   \n",
       "4  Chantal's New York Cheesecake   \n",
       "\n",
       "                                           images_id  image_count  \n",
       "0  0037563ca4.jpg , 003b92c18f.jpg , 0068f4dd6a.j...         1647  \n",
       "1  0008000c98.jpg , 001689aa9d.jpg , 001c9165c6.j...         1540  \n",
       "2  001df0cb78.jpg , 0099f126e8.jpg , 00b685903b.j...         1325  \n",
       "3  001ea74601.jpg , 0049a29b83.jpg , 0084dedc7c.j...          997  \n",
       "4  000ebb143a.jpg , 00a4180adf.jpg , 01175d4ff8.j...          742  "
      ]
     },
     "execution_count": 57,
     "metadata": {},
     "output_type": "execute_result"
    }
   ],
   "source": [
    "df_filter.head()"
   ]
  },
  {
   "cell_type": "code",
   "execution_count": 62,
   "id": "ec3ae951",
   "metadata": {},
   "outputs": [],
   "source": [
    "# import os\n",
    "# import shutil\n",
    "\n",
    "# def create_class_folder(df, folder_path_img, original_path):\n",
    "    \n",
    "#     for cleaned_title in df['food_title']:\n",
    "#         folder_path = os.path.join(folder_path_img, cleaned_title)\n",
    "#         os.makedirs(folder_path, exist_ok=True)\n",
    "\n",
    "#     # Copy images into the corresponding folders\n",
    "#     for index, row in df.iterrows():\n",
    "#         cleaned_title = row['food_title']\n",
    "#         folder_path = os.path.join(folder_path_img, cleaned_title)\n",
    "\n",
    "#         # Split the images_id and copy each image to the folder\n",
    "#         for image_filename in row['images_id'].split(','):\n",
    "#             image_filename = image_filename.strip()\n",
    "#             src_path = os.path.join(original_path, image_filename)\n",
    "#             dest_path = os.path.join(folder_path, image_filename)\n",
    "\n",
    "#             # Check if the file already exists at the destination\n",
    "#             if not os.path.exists(dest_path):\n",
    "#                 try:\n",
    "#                     shutil.copy(src_path, dest_path)\n",
    "#                     print(f\"Image '{image_filename}' copied to '{cleaned_title}' folder.\")\n",
    "#                 except Exception as e:\n",
    "#                     print(f\"Error copying image '{image_filename}': {e}\")\n",
    "#             else:\n",
    "#                 print(f\"Image '{image_filename}' already exists in '{cleaned_title}' folder.\")\n",
    "\n",
    "#     print(\"Images copied to folders based on 'food_title'\")\n"
   ]
  },
  {
   "cell_type": "code",
   "execution_count": 60,
   "id": "34881f13",
   "metadata": {},
   "outputs": [],
   "source": [
    "def create_class_folder(df,folder_path_img,original_path):\n",
    "    \n",
    "    for cleaned_title in df['food_title']:\n",
    "        folder_path = os.path.join(folder_path_img, cleaned_title)\n",
    "        os.makedirs(folder_path, exist_ok=True)\n",
    "\n",
    "    # Copy images into the corresponding folders\n",
    "    for index, row in df.iterrows():\n",
    "        cleaned_title = row['food_title']\n",
    "        folder_path = os.path.join(folder_path_img, cleaned_title)\n",
    "\n",
    "        # Split the images_id and copy each image to the folder\n",
    "        for image_filename in row['images_id'].split(','):\n",
    "            image_filename = image_filename.strip()\n",
    "            src_path = os.path.join(original_path, image_filename)\n",
    "            dest_path = os.path.join(folder_path, image_filename)\n",
    "            shutil.copy(src_path, dest_path)\n",
    "\n",
    "    print(\"Images copied to folders based on 'food_title'\")"
   ]
  },
  {
   "cell_type": "code",
   "execution_count": 61,
   "id": "42919a43",
   "metadata": {},
   "outputs": [
    {
     "name": "stdout",
     "output_type": "stream",
     "text": [
      "Images copied to folders based on 'food_title'\n"
     ]
    }
   ],
   "source": [
    "# Path to the 'test' folder\n",
    "folder_path_img = 'train_dataset'\n",
    "original_path = 'E:/Masters/2024/498/Recipe1M/Images/train_images'\n",
    "\n",
    "\n",
    "create_class_folder(df_filter,folder_path_img,original_path)"
   ]
  },
  {
   "cell_type": "code",
   "execution_count": 73,
   "id": "4e53c2fa",
   "metadata": {},
   "outputs": [
    {
     "name": "stdout",
     "output_type": "stream",
     "text": [
      "Class 'Alfredo Sauce' has 300\n",
      "Class 'Amish White Bread' has 530\n",
      "Class 'Apple Pie by Grandma Ople' has 1325\n",
      "Class 'Award Winning Soft Chocolate Chip Cookies' has 590\n",
      "Class 'Bacon Wrapped Chicken Breast' has 515\n",
      "Class 'Baked MAC and Cheese' has 334\n",
      "Class 'Banana Banana Bread' has 695\n",
      "Class 'Best Brownies' has 428\n",
      "Class 'Big Soft Ginger Cookies' has 349\n",
      "Class 'Black Magic Cake' has 379\n",
      "Class 'Bomb Ass Potatoes' has 570\n",
      "Class 'Bread Pudding II' has 331\n",
      "Class 'Broiled Tilapia Parmesan' has 303\n",
      "Class 'Cajun Chicken Pasta' has 396\n",
      "Class 'Cake Balls' has 717\n",
      "Class 'Carrot Cake III' has 606\n",
      "Class 'Chantal's New York Cheesecake' has 742\n",
      "Class 'Chicken Cordon Bleu II' has 309\n",
      "Class 'Chicken Parmesan' has 392\n",
      "Class 'Clone of a Cinnabon' has 713\n",
      "Class 'Cream Cheese Frosting II' has 373\n",
      "Class 'Delicious Ham and Potato Soup' has 394\n",
      "Class 'Downeast Maine Pumpkin Bread' has 379\n",
      "Class 'Easy Chicken with Broccoli' has 318\n",
      "Class 'Easy OREO Truffles' has 342\n",
      "Class 'Easy Sugar Cookies' has 433\n",
      "Class 'Good Old Fashioned Pancakes' has 457\n",
      "Class 'Grandma's Lemon Meringue Pie' has 355\n",
      "Class 'Marshmallow Fondant' has 1540\n",
      "Class 'Mom's Zucchini Bread' has 317\n",
      "Class 'Ninety Minute Cinnamon Rolls' has 334\n",
      "Class 'Parmesan Chicken Squares' has 503\n",
      "Class 'Peanut Butter Cup Cookies' has 388\n",
      "Class 'Red Velvet Cupcakes' has 307\n",
      "Class 'Rick's Special Buttercream Frosting' has 375\n",
      "Class 'Simple White Cake' has 349\n",
      "Class 'Soft Oatmeal Cookies' has 336\n",
      "Class 'Special Buttercream Frosting' has 364\n",
      "Class 'Spooky Witches' Fingers' has 330\n",
      "Class 'Sweet, Sticky and Spicy Chicken' has 307\n",
      "Class 'The Best Rolled Sugar Cookies' has 1647\n",
      "Class 'Tiramisu Layer Cake' has 336\n",
      "Class 'To Die For Blueberry Muffins' has 997\n",
      "Class 'White Chocolate Raspberry Cheesecake' has 504\n",
      "Class 'World's Best Lasagna' has 651\n"
     ]
    }
   ],
   "source": [
    "import os\n",
    "\n",
    "original_path = 'train_dataset'\n",
    "\n",
    "# Get a list of all subdirectories (class folders) in the original_path\n",
    "class_folders = [folder for folder in os.listdir(original_path) if os.path.isdir(os.path.join(original_path, folder))]\n",
    "\n",
    "if not class_folders:\n",
    "    print(f\"No subdirectories (class folders) found in the specified path: {original_path}\")\n",
    "else:\n",
    "    # Iterate through each class folder and count the number of images\n",
    "    for folder in class_folders:\n",
    "        folder_path = os.path.join(original_path, folder)\n",
    "        images = [file for file in os.listdir(folder_path) if os.path.isfile(os.path.join(folder_path, file))]\n",
    "        num_images = len(images)\n",
    "        print(f\"Class '{folder}' has {num_images}\")\n"
   ]
  },
  {
   "cell_type": "code",
   "execution_count": null,
   "id": "ce9caba3",
   "metadata": {},
   "outputs": [],
   "source": []
  },
  {
   "cell_type": "code",
   "execution_count": null,
   "id": "d09bb2ce",
   "metadata": {},
   "outputs": [],
   "source": []
  },
  {
   "cell_type": "code",
   "execution_count": null,
   "id": "34d8562f",
   "metadata": {},
   "outputs": [],
   "source": []
  }
 ],
 "metadata": {
  "kernel_info": {
   "name": "python3"
  },
  "kernelspec": {
   "display_name": "Python 3 (ipykernel)",
   "language": "python",
   "name": "python3"
  },
  "language_info": {
   "codemirror_mode": {
    "name": "ipython",
    "version": 3
   },
   "file_extension": ".py",
   "mimetype": "text/x-python",
   "name": "python",
   "nbconvert_exporter": "python",
   "pygments_lexer": "ipython3",
   "version": "3.11.4"
  },
  "microsoft": {
   "ms_spell_check": {
    "ms_spell_check_language": "en"
   }
  },
  "nteract": {
   "version": "nteract-front-end@1.0.0"
  }
 },
 "nbformat": 4,
 "nbformat_minor": 5
}
