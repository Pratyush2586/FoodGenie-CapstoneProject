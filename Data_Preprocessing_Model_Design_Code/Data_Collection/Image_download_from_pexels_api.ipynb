{
 "cells": [
  {
   "cell_type": "code",
   "execution_count": 5,
   "id": "8190ad8f",
   "metadata": {},
   "outputs": [
    {
     "name": "stdout",
     "output_type": "stream",
     "text": [
      "Downloading butter images...\n"
     ]
    },
    {
     "name": "stderr",
     "output_type": "stream",
     "text": [
      "100%|███████████████████████████████████████████| 50/50 [01:08<00:00,  1.38s/it]\n"
     ]
    },
    {
     "name": "stdout",
     "output_type": "stream",
     "text": [
      "\n",
      "Downloading olive oil images...\n"
     ]
    },
    {
     "name": "stderr",
     "output_type": "stream",
     "text": [
      "100%|███████████████████████████████████████████| 50/50 [01:22<00:00,  1.66s/it]"
     ]
    },
    {
     "name": "stdout",
     "output_type": "stream",
     "text": [
      "\n",
      "Download complete!\n"
     ]
    },
    {
     "name": "stderr",
     "output_type": "stream",
     "text": [
      "\n"
     ]
    }
   ],
   "source": [
    "import os\n",
    "import requests\n",
    "import shutil\n",
    "from tqdm import tqdm\n",
    "\n",
    "def download_images(api_key, query, folder_path, num_images):\n",
    "    # Create folder if it doesn't exist\n",
    "    download_folder = os.path.expanduser(\"~/Downloads\")\n",
    "    if not os.path.exists(download_folder):\n",
    "        os.makedirs(download_folder)\n",
    "\n",
    "    folder_path = os.path.join(download_folder, folder_path)\n",
    "    if not os.path.exists(folder_path):\n",
    "        os.makedirs(folder_path)\n",
    "\n",
    "    # API endpoint for searching images\n",
    "    url = f\"https://api.pexels.com/v1/search?query={query}&per_page={num_images}\"\n",
    "\n",
    "    # Request headers with API key\n",
    "    headers = {\n",
    "        'Authorization': api_key\n",
    "    }\n",
    "\n",
    "    # Send request to Pexels API\n",
    "    response = requests.get(url, headers=headers)\n",
    "\n",
    "    # Check if request was successful\n",
    "    if response.status_code == 200:\n",
    "        data = response.json()\n",
    "        photos = data['photos']\n",
    "\n",
    "        # Download each image\n",
    "        with tqdm(total=num_images) as pbar:\n",
    "            for idx, photo in enumerate(photos):\n",
    "                img_url = photo['src']['original']\n",
    "                img_path = os.path.join(folder_path, f\"{query}_{idx}.jpg\")\n",
    "                response = requests.get(img_url, stream=True)\n",
    "\n",
    "                # Save image to file\n",
    "                with open(img_path, 'wb') as out_file:\n",
    "                    shutil.copyfileobj(response.raw, out_file)\n",
    "                \n",
    "                pbar.update(1)\n",
    "                if idx+1 >= num_images:\n",
    "                    break\n",
    "\n",
    "    else:\n",
    "        print(\"Failed to fetch images\")\n",
    "\n",
    "# Define API key (replace 'YOUR_API_KEY' with your actual API key)\n",
    "api_key = 'ofXPgZdqieOKsvgujXFAZuYXEQVjzsMLWSDS76SXK5cQwemVkj10Yo1P'\n",
    "\n",
    "# Define parameters\n",
    "num_images = 50\n",
    "butter_folder = 'butter_images'\n",
    "olive_oil_folder = 'olive_oil_images'\n",
    "query_butter = 'butter'\n",
    "query_olive_oil = 'olive oil'\n",
    "\n",
    "# Download butter images\n",
    "print(\"Downloading butter images...\")\n",
    "download_images(api_key, query_butter, butter_folder, num_images)\n",
    "\n",
    "# Download olive oil images\n",
    "print(\"\\nDownloading olive oil images...\")\n",
    "download_images(api_key, query_olive_oil, olive_oil_folder, num_images)\n",
    "\n",
    "print(\"\\nDownload complete!\")\n"
   ]
  }
 ],
 "metadata": {
  "kernelspec": {
   "display_name": "Python 3 (ipykernel)",
   "language": "python",
   "name": "python3"
  },
  "language_info": {
   "codemirror_mode": {
    "name": "ipython",
    "version": 3
   },
   "file_extension": ".py",
   "mimetype": "text/x-python",
   "name": "python",
   "nbconvert_exporter": "python",
   "pygments_lexer": "ipython3",
   "version": "3.10.9"
  }
 },
 "nbformat": 4,
 "nbformat_minor": 5
}
